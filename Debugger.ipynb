{
  "nbformat": 4,
  "nbformat_minor": 0,
  "metadata": {
    "colab": {
      "provenance": [],
      "toc_visible": true,
      "authorship_tag": "ABX9TyNpkf8vi+AyZWm3WfnUaxYs",
      "include_colab_link": true
    },
    "kernelspec": {
      "name": "python3",
      "display_name": "Python 3"
    }
  },
  "cells": [
    {
      "cell_type": "markdown",
      "metadata": {
        "id": "view-in-github",
        "colab_type": "text"
      },
      "source": [
        "<a href=\"https://colab.research.google.com/github/repomacti/Curso_Macti/blob/zeus/Debugger.ipynb\" target=\"_parent\"><img src=\"https://colab.research.google.com/assets/colab-badge.svg\" alt=\"Open In Colab\"/></a>"
      ]
    },
    {
      "cell_type": "markdown",
      "metadata": {
        "id": "4hZLrKGISFdt"
      },
      "source": [
        "# Debugger\n",
        "**Autor:** Miguel Angel Pérez León\n",
        "\n",
        "Licencia <a href=\"https://creativecommons.org/licenses/by-nc-nd/4.0?ref=chooser-v1\">Attribution-NonCommercial-NoDerivatives 4.0 International</a>"
      ]
    },
    {
      "cell_type": "markdown",
      "metadata": {
        "id": "MvR-pOHCSXLg"
      },
      "source": [
        "# Introducción\n",
        "\n",
        "Un debugger es una herramienta que nos permite ejecutar un programa paso a paso, deteniendo la ejecución en puntos específicos para poder inspeccionar el estado del programa en ese momento. Esto nos permite entender qué está pasando con nuestro programa y encontrar errores.\n",
        "\n",
        "La gran mayoría de editores de código cuentan con este tipo de herramientas, el detalle es que para poder usarlas, es necesario instalar el editor, sin embargo *JupyterLab* ya cuenta con un *debugger* y basta con tener cuenta en MACTI, para poder usarlo.\n",
        "\n",
        "Muchas personas afirman que el término *bug* fue creado por Grace Hopper, una famosa desarrolladora de la marina estadounidense que creó el lenguaje de programación conocido como Flow-Matic. Aunque este lenguaje no ha sido muy utilizado, sirvió como base para COBOL.\n",
        "\n",
        "Esta versión de la historia cuenta que Grace estaba intentando encontrar el problema en su computador, hasta que descubrió que era causado por un insecto muerto. Sería entonces este el origen del término *bug*, que en inglés, significa insecto."
      ]
    },
    {
      "cell_type": "markdown",
      "metadata": {
        "id": "YXDk2MHbUjKK"
      },
      "source": [
        "## ¿Por qué usar un debugger?\n",
        "\n",
        "\n",
        "Es más rápido que usar `print()`: Si queremos saber el valor de una variable en un punto específico del programa, podemos usar un *debugger* para detener la ejecución en ese punto y ver el valor de la variable en ese momento. Esto es mucho más rápido que agregar un print y volver a ejecutar el programa."
      ]
    },
    {
      "cell_type": "markdown",
      "metadata": {
        "id": "rX6FUbd-3xoR"
      },
      "source": [
        "# ¿Cómo usar el *debugger* en *JupyterLab*?\n",
        "\n",
        "Lo primero que necesitamos es una celda de código en las que tengamos al menos un par de lineas de código y en las que sospechemos que hay un error (*bug*), por ejemplo."
      ]
    },
    {
      "cell_type": "code",
      "source": [
        "lista=[1,2,3,4,5]\n",
        "\n",
        "for i in range(len(lista)):\n",
        "  print(lista[i+1])"
      ],
      "metadata": {
        "colab": {
          "base_uri": "https://localhost:8080/",
          "height": 294
        },
        "id": "_p5vOXM7PwvD",
        "outputId": "29c62be7-5b2a-4b19-ceda-45a4bc870828"
      },
      "execution_count": 1,
      "outputs": [
        {
          "output_type": "stream",
          "name": "stdout",
          "text": [
            "2\n",
            "3\n",
            "4\n",
            "5\n"
          ]
        },
        {
          "output_type": "error",
          "ename": "IndexError",
          "evalue": "list index out of range",
          "traceback": [
            "\u001b[0;31m---------------------------------------------------------------------------\u001b[0m",
            "\u001b[0;31mIndexError\u001b[0m                                Traceback (most recent call last)",
            "\u001b[0;32m<ipython-input-1-c67193b2b48a>\u001b[0m in \u001b[0;36m<cell line: 3>\u001b[0;34m()\u001b[0m\n\u001b[1;32m      2\u001b[0m \u001b[0;34m\u001b[0m\u001b[0m\n\u001b[1;32m      3\u001b[0m \u001b[0;32mfor\u001b[0m \u001b[0mi\u001b[0m \u001b[0;32min\u001b[0m \u001b[0mrange\u001b[0m\u001b[0;34m(\u001b[0m\u001b[0mlen\u001b[0m\u001b[0;34m(\u001b[0m\u001b[0mlista\u001b[0m\u001b[0;34m)\u001b[0m\u001b[0;34m)\u001b[0m\u001b[0;34m:\u001b[0m\u001b[0;34m\u001b[0m\u001b[0;34m\u001b[0m\u001b[0m\n\u001b[0;32m----> 4\u001b[0;31m   \u001b[0mprint\u001b[0m\u001b[0;34m(\u001b[0m\u001b[0mlista\u001b[0m\u001b[0;34m[\u001b[0m\u001b[0mi\u001b[0m\u001b[0;34m+\u001b[0m\u001b[0;36m1\u001b[0m\u001b[0;34m]\u001b[0m\u001b[0;34m)\u001b[0m\u001b[0;34m\u001b[0m\u001b[0;34m\u001b[0m\u001b[0m\n\u001b[0m",
            "\u001b[0;31mIndexError\u001b[0m: list index out of range"
          ]
        }
      ]
    },
    {
      "cell_type": "markdown",
      "source": [
        "Ya que tenemos un error como se muestra en la celda superior, lo siguiente es el botón que nos permite habilitar el debugger.\n",
        "\n",
        "<center>\n",
        "<img src=\"https://github.com/jugernaut/Numerico2021/blob/desarrollo/Figuras/Convergencia-Complejidad/debugger.png?raw=1\" width=\"450\">\n",
        "</center>\n",
        "\n",
        "Y una vez habilitado el *debugger*, veremos que a la celda de código le aparece una numeración en la parte izquierda.\n",
        "\n",
        "<center>\n",
        "<img src=\"https://github.com/jugernaut/Numerico2021/blob/desarrollo/Figuras/Convergencia-Complejidad/numeracion.png?raw=1\" width=\"450\">\n",
        "</center>\n",
        "\n",
        "Esta numeración nos permite establecer *breakpoints* (líneas en las que se va a detener la ejecución del código).\n",
        "\n",
        "<center>\n",
        "<img src=\"https://github.com/jugernaut/Numerico2021/blob/desarrollo/Figuras/Convergencia-Complejidad/breakpoint.png?raw=1\" width=\"450\">\n",
        "</center>\n",
        "\n",
        "Una vez que hemos establecido todos los posibles *breakpoint*, es necesario ejecutar la celda en cuestión y ver que del lado derecho de la pantalla se muestra un nuevo menú, en el cual podemos ver lo siguiente.\n",
        "\n",
        "<center>\n",
        "<img src=\"https://github.com/jugernaut/Numerico2021/blob/desarrollo/Figuras/Convergencia-Complejidad/menu.png?raw=1\" width=\"350\">\n",
        "</center>\n",
        "\n",
        "En este menú encontraremos diferentes apartados, por ejemplo:\n",
        "\n",
        "* *CALLS*: para identificar las llamadas a las funciones que están involucradas en la ejecución del código (muy útil cuando se usa recursividad)\n",
        "* *BREAKPOINTS*: para ver un listado de todos los *breakpoints* que tengamos.\n",
        "* *VARIABLES*: este es uno de los apartados más importantes, ya que aquí podemos ver el valor de las variables que están involucradas en la ejecución del algoritmo.\n",
        "\n"
      ],
      "metadata": {
        "id": "ZJEpuK26QJUO"
      }
    },
    {
      "cell_type": "markdown",
      "metadata": {
        "id": "se7Qhnb7X0i6"
      },
      "source": [
        "## ¿Dónde estuvo el error (*bug*)?\n",
        "\n",
        "Existen más funciones que nos proporciona el *debugger*, sin embargo dado el alcance del curso, solo mostramos las funciones básicas, pero en el siguiente [link](https://jupyterlab.readthedocs.io/en/stable/user/debugger.html) puedes encontrar más documentación al respecto.\n",
        "\n",
        "Una vez que ya sabemos usar el *debugger*, ¿puedes responder, por qué la celda de código produce un error?.\n"
      ]
    }
  ]
}