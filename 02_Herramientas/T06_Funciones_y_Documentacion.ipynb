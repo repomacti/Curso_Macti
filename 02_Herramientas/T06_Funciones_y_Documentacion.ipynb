{
  "cells": [
    {
      "cell_type": "markdown",
      "metadata": {
        "id": "view-in-github",
        "colab_type": "text"
      },
      "source": [
        "<a href=\"https://colab.research.google.com/github/repomacti/Curso_Macti/blob/zeus/02_Herramientas/T06_Funciones_y_Documentacion.ipynb\" target=\"_parent\"><img src=\"https://colab.research.google.com/assets/colab-badge.svg\" alt=\"Open In Colab\"/></a>"
      ]
    },
    {
      "cell_type": "markdown",
      "metadata": {
        "id": "XIrQAsLwDebG"
      },
      "source": [
        "# Python de cero a experto\n",
        "**Autor:** Luis Miguel de la Cruz Salas\n",
        "\n",
        "<a href=\"https://github.com/luiggix/Python_cero_a_experto\">Python de cero a experto</a> by Luis M. de la Cruz Salas is licensed under <a href=\"https://creativecommons.org/licenses/by-nc-nd/4.0?ref=chooser-v1\">Attribution-NonCommercial-NoDerivatives 4.0 International</a>"
      ]
    },
    {
      "cell_type": "markdown",
      "metadata": {
        "id": "yBSxcrobDebK"
      },
      "source": [
        "## Pythonico es más bonito"
      ]
    },
    {
      "cell_type": "markdown",
      "metadata": {
        "id": "ZBS4leIhDebL"
      },
      "source": [
        "### Funciones\n",
        "\n",
        "Las funciones son la primera forma de estructurar un programa. Esto nos lleva al paradigma de programación estructurada, junto con las construcciones de control de flujo. Las funciones nos permiten agrupar y reutilizar líneas de código.\n",
        "\n",
        "La sintáxis es:\n",
        "\n",
        "```python\n",
        "def nombre de la función(parm1,parm2,...):\n",
        "    bloque de código\n",
        "    return resultado\n",
        "```"
      ]
    },
    {
      "cell_type": "code",
      "execution_count": null,
      "metadata": {
        "id": "z2ErmgdiDebM"
      },
      "outputs": [],
      "source": [
        "# La siguiente función calcula la secuencia de Fibonacci\n",
        "def fib(n):  # La función se llama fib y recibe el parámetro n\n",
        "    a, b = 0, 1\n",
        "    while a < n:\n",
        "        print(a, end=',')\n",
        "        a, b = b, a+b"
      ]
    },
    {
      "cell_type": "code",
      "execution_count": null,
      "metadata": {
        "id": "dfpZdXXJDebN",
        "outputId": "bffe00a8-f3fd-47f7-942a-9ec44b735a35"
      },
      "outputs": [
        {
          "name": "stdout",
          "output_type": "stream",
          "text": [
            "0,1,1,2,3,5,8,13,21,34,"
          ]
        }
      ],
      "source": [
        "fib(50) # ejecutamos la función fib con el argumento 10"
      ]
    },
    {
      "cell_type": "code",
      "execution_count": null,
      "metadata": {
        "id": "nYrY0T5HDebO",
        "outputId": "8ff526fa-0fd4-4b41-f59b-1e39e24d4881"
      },
      "outputs": [
        {
          "data": {
            "text/plain": [
              "function"
            ]
          },
          "execution_count": 6,
          "metadata": {},
          "output_type": "execute_result"
        }
      ],
      "source": [
        "type(fib)"
      ]
    },
    {
      "cell_type": "markdown",
      "metadata": {
        "id": "lr3bV-G_DebO"
      },
      "source": [
        "Le podemos poner otro nombre a la función"
      ]
    },
    {
      "cell_type": "code",
      "execution_count": null,
      "metadata": {
        "id": "JyUA2RSNDebP"
      },
      "outputs": [],
      "source": [
        "Fibonacci = fib"
      ]
    },
    {
      "cell_type": "code",
      "execution_count": null,
      "metadata": {
        "id": "ZP-8RZvaDebP",
        "outputId": "2f5455d2-1cc9-4848-c026-028e1bac66d5"
      },
      "outputs": [
        {
          "name": "stdout",
          "output_type": "stream",
          "text": [
            "0,1,1,2,3,5,8,13,21,34,55,89,144,"
          ]
        }
      ],
      "source": [
        "Fibonacci(200)"
      ]
    },
    {
      "cell_type": "code",
      "execution_count": null,
      "metadata": {
        "id": "_XgENRoHDebP",
        "outputId": "9e251979-f645-49f5-f178-41661f1a3f8a"
      },
      "outputs": [
        {
          "data": {
            "text/plain": [
              "function"
            ]
          },
          "execution_count": 9,
          "metadata": {},
          "output_type": "execute_result"
        }
      ],
      "source": [
        "type(Fibonacci)"
      ]
    },
    {
      "cell_type": "code",
      "execution_count": null,
      "metadata": {
        "id": "ws-VnFxlDebQ",
        "outputId": "011947bd-6728-40c0-9f9f-ab3d078cde1f"
      },
      "outputs": [
        {
          "name": "stdout",
          "output_type": "stream",
          "text": [
            "140289812003424 140289812003424\n"
          ]
        }
      ],
      "source": [
        "print(id(fib), id(Fibonacci))"
      ]
    },
    {
      "cell_type": "markdown",
      "metadata": {
        "id": "fsp-B1U4DebQ"
      },
      "source": [
        "### Ámbitos\n",
        "\n",
        "Las funciones (y otros operadores también), crean su propio ámbito, de tal manera que las etiquetas declaradas dentro de funciones son locales."
      ]
    },
    {
      "cell_type": "code",
      "execution_count": null,
      "metadata": {
        "id": "OXdfC0NCDebQ"
      },
      "outputs": [],
      "source": [
        "a = 20 # Objeto global etiquetado con a\n",
        "def f():\n",
        "    a = 21 # Objeto local etiquetado con a\n",
        "    return a"
      ]
    },
    {
      "cell_type": "code",
      "execution_count": null,
      "metadata": {
        "id": "6CbfXDddDebR",
        "outputId": "13f0feb6-1d7c-48cc-f456-6461874d8264"
      },
      "outputs": [
        {
          "name": "stdout",
          "output_type": "stream",
          "text": [
            "20\n"
          ]
        }
      ],
      "source": [
        "print(a)"
      ]
    },
    {
      "cell_type": "code",
      "execution_count": null,
      "metadata": {
        "id": "PjXCqrMcDebR",
        "outputId": "c6f7f46d-b5e9-4a69-9d70-af401366b50a"
      },
      "outputs": [
        {
          "name": "stdout",
          "output_type": "stream",
          "text": [
            "21\n"
          ]
        }
      ],
      "source": [
        "print(f())"
      ]
    },
    {
      "cell_type": "markdown",
      "metadata": {
        "id": "FwyFUGmIDebR"
      },
      "source": [
        "Para usar el objeto global dentro de la función debemos usar `global`"
      ]
    },
    {
      "cell_type": "code",
      "execution_count": null,
      "metadata": {
        "id": "qk5wj5_HDebR"
      },
      "outputs": [],
      "source": [
        "a = 20\n",
        "def f():\n",
        "    global a\n",
        "    return a"
      ]
    },
    {
      "cell_type": "code",
      "execution_count": null,
      "metadata": {
        "id": "VmMn5zaBDebS",
        "outputId": "e5b41680-05ac-4ec6-c8ce-5a1941e36cce"
      },
      "outputs": [
        {
          "name": "stdout",
          "output_type": "stream",
          "text": [
            "20\n"
          ]
        }
      ],
      "source": [
        "print(a)"
      ]
    },
    {
      "cell_type": "code",
      "execution_count": null,
      "metadata": {
        "id": "aPFmbkaRDebS",
        "outputId": "6d2dd752-54ac-46d2-9210-7e2c7e8ebd6c"
      },
      "outputs": [
        {
          "name": "stdout",
          "output_type": "stream",
          "text": [
            "20\n"
          ]
        }
      ],
      "source": [
        "print(f())"
      ]
    },
    {
      "cell_type": "markdown",
      "metadata": {
        "id": "Q6QVzGx3DebS"
      },
      "source": [
        "### Retorno de una función\n",
        "\n",
        "La palabra reservada `return` regresa un objeto, que en principio contiene el resultado de las operaciones realizadas por la función."
      ]
    },
    {
      "cell_type": "code",
      "execution_count": null,
      "metadata": {
        "id": "vDbhH59TDebS"
      },
      "outputs": [],
      "source": [
        "g = 9.81\n",
        "# Función que calcula la posición y velocidad en el tiro vertical de un objeto.\n",
        "def verticalThrow(t,v0):\n",
        "    g = 3.1416 # [m / s**2]\n",
        "    y = v0 * t - 0.5 * g * t**2\n",
        "    v = v0 - g * t\n",
        "    return (y, v)  # regresa la posición [m] y la velocidad [m/s]"
      ]
    },
    {
      "cell_type": "code",
      "execution_count": null,
      "metadata": {
        "id": "k0Bu-9cHDebT",
        "outputId": "725145e6-8a42-4559-d7ce-dd26065fc5d6"
      },
      "outputs": [
        {
          "data": {
            "text/plain": [
              "(33.7168, 13.7168)"
            ]
          },
          "execution_count": 22,
          "metadata": {},
          "output_type": "execute_result"
        }
      ],
      "source": [
        "t = 2.0   # [s]\n",
        "v0 = 20 # [m/s]\n",
        "verticalThrow(t, v0)"
      ]
    },
    {
      "cell_type": "code",
      "execution_count": null,
      "metadata": {
        "id": "swvM6G_rDebT"
      },
      "outputs": [],
      "source": [
        "resultado = verticalThrow(t, v0)"
      ]
    },
    {
      "cell_type": "code",
      "execution_count": null,
      "metadata": {
        "id": "s_qeKFW9DebT",
        "outputId": "4356855f-e320-4c31-c75b-0091d6454aef"
      },
      "outputs": [
        {
          "name": "stdout",
          "output_type": "stream",
          "text": [
            "(20.38, 0.379999999999999)\n"
          ]
        }
      ],
      "source": [
        "print(resultado)"
      ]
    },
    {
      "cell_type": "markdown",
      "metadata": {
        "id": "Wt_CSS6FDebT"
      },
      "source": [
        "### Parámetros por omisión"
      ]
    },
    {
      "cell_type": "code",
      "execution_count": null,
      "metadata": {
        "id": "taBCKD6SDebU"
      },
      "outputs": [],
      "source": [
        "# Función que calcula la posición y velocidad en el tiro vertical de un objeto.\n",
        "def verticalThrow(t, v0 = 20):\n",
        "    g = 9.81 # [m / s**2]\n",
        "    y = v0 * t - 0.5 * g * t**2\n",
        "    v = v0 - g * t\n",
        "    return y, v  # regresa la posición [m] y la velocidad [m/s]"
      ]
    },
    {
      "cell_type": "code",
      "execution_count": null,
      "metadata": {
        "id": "N9ZjsOFoDebU"
      },
      "outputs": [],
      "source": [
        "pos, vel = verticalThrow(t,30)"
      ]
    },
    {
      "cell_type": "code",
      "execution_count": null,
      "metadata": {
        "id": "_nAUUiV9DebU",
        "outputId": "17b34810-eee5-4655-fec5-5439379659ec"
      },
      "outputs": [
        {
          "name": "stdout",
          "output_type": "stream",
          "text": [
            "40.379999999999995 10.379999999999999\n"
          ]
        }
      ],
      "source": [
        "print(pos, vel)"
      ]
    },
    {
      "cell_type": "code",
      "execution_count": null,
      "metadata": {
        "id": "qGqT5LiPDebU"
      },
      "outputs": [],
      "source": [
        "def f(a,b,c,d=5,e=10):\n",
        "    return a"
      ]
    },
    {
      "cell_type": "markdown",
      "metadata": {
        "id": "KC8cDiXPDebU"
      },
      "source": [
        "### Argumentos posicionales y `keyword`\n",
        "Un argumento es el valor que se le pasa a una función cuando se llama. Hay dos tipos de argumentos:\n",
        "\n",
        "- *Positional argument* : un argumento que no es precedido por un identificador, o pasado en una tupla precedido por `*`:\n",
        "\n",
        "    ```python\n",
        "    verticalThrow(3, 50)\n",
        "    verticalThrow(*(3, 50))\n",
        "    ```\n",
        "    \n",
        "- *Keyword argument* : un argumento precedido por un identificador en la llamada de una función (o que se pasa por valor en un diccionario precedido por `**`):\n",
        "\n",
        "    ```python\n",
        "    verticalThrow(t=3, v0=50)\n",
        "    verticalThrow(**{'t': 3, 'v0': 50})\n",
        "    ```"
      ]
    },
    {
      "cell_type": "code",
      "execution_count": null,
      "metadata": {
        "id": "3MIIwbfIDebV",
        "outputId": "7fde0d14-c404-4744-abd0-af9d512cfb39"
      },
      "outputs": [
        {
          "data": {
            "text/plain": [
              "(105.85499999999999, 20.57)"
            ]
          },
          "execution_count": 30,
          "metadata": {},
          "output_type": "execute_result"
        }
      ],
      "source": [
        "verticalThrow(3,50)"
      ]
    },
    {
      "cell_type": "code",
      "execution_count": null,
      "metadata": {
        "id": "n4nzj8goDebV",
        "outputId": "4445cd9c-75a6-4f9d-9996-3b47225e193e"
      },
      "outputs": [
        {
          "data": {
            "text/plain": [
              "(105.85499999999999, 20.57)"
            ]
          },
          "execution_count": 33,
          "metadata": {},
          "output_type": "execute_result"
        }
      ],
      "source": [
        "verticalThrow(*(3,50))"
      ]
    },
    {
      "cell_type": "code",
      "execution_count": null,
      "metadata": {
        "id": "jIihk9A1DebW",
        "outputId": "cfd26a29-9959-4eae-9bc9-7dcad41f41bf"
      },
      "outputs": [
        {
          "data": {
            "text/plain": [
              "(105.85499999999999, 20.57)"
            ]
          },
          "execution_count": 34,
          "metadata": {},
          "output_type": "execute_result"
        }
      ],
      "source": [
        "verticalThrow(t=3,v0=50)"
      ]
    },
    {
      "cell_type": "code",
      "execution_count": null,
      "metadata": {
        "id": "34z0FxNKDebW",
        "outputId": "9fbeb416-f86b-4895-eeb8-6374ac969081"
      },
      "outputs": [
        {
          "data": {
            "text/plain": [
              "(105.85499999999999, 20.57)"
            ]
          },
          "execution_count": 35,
          "metadata": {},
          "output_type": "execute_result"
        }
      ],
      "source": [
        "verticalThrow(**{'t':3,'v0':50})"
      ]
    },
    {
      "cell_type": "code",
      "execution_count": null,
      "metadata": {
        "id": "jO1pWTtnDebX",
        "outputId": "c18744d7-4ebd-4284-d93e-244c3c68e217"
      },
      "outputs": [
        {
          "data": {
            "text/plain": [
              "(105.85499999999999, 20.57)"
            ]
          },
          "execution_count": 36,
          "metadata": {},
          "output_type": "execute_result"
        }
      ],
      "source": [
        "verticalThrow(v0=50,t=3)"
      ]
    },
    {
      "cell_type": "markdown",
      "metadata": {
        "id": "tNp8NfUADebX"
      },
      "source": [
        "### Número variable de parámetros"
      ]
    },
    {
      "cell_type": "code",
      "execution_count": null,
      "metadata": {
        "id": "WiD1K7V4DebX",
        "outputId": "65291b3f-3161-4333-8361-9d730d6636c3"
      },
      "outputs": [
        {
          "name": "stdout",
          "output_type": "stream",
          "text": [
            "args es una tupla :  ('one', 'two', 'three', 'four')\n",
            "kwargs es un diccionario:  {'a': 4, 'x': 1, 'y': 2, 'z': 3, 'w': [1, 2, 2]}\n",
            "{'w', 'y', 'x', 'z', 'a'}\n"
          ]
        }
      ],
      "source": [
        "# *args: número variable de Positional arguments empacados en una tupla\n",
        "# *kwargs: número variable de Keyword arguments empacados en un diccionario\n",
        "def parametrosVariables(*args, **kwargs):\n",
        "    print('args es una tupla : ', args)\n",
        "    print('kwargs es un diccionario: ', kwargs)\n",
        "    print(set(kwargs))\n",
        "\n",
        "parametrosVariables('one', 'two','three', 'four', a = 4,  x=1, y=2, z=3, w=[1,2,2])"
      ]
    },
    {
      "cell_type": "code",
      "execution_count": null,
      "metadata": {
        "id": "aNar1BIDDebY",
        "outputId": "a3687c9a-f872-4fd6-b034-eb12253ee628"
      },
      "outputs": [
        {
          "name": "stdout",
          "output_type": "stream",
          "text": [
            "args es una tupla :  (1, 2, 3)\n",
            "kwargs es un diccionario:  {'w': 8, 'y': 'cadena'}\n",
            "{'y', 'w'}\n"
          ]
        }
      ],
      "source": [
        "parametrosVariables(1,2,3, w=8, y='cadena')"
      ]
    },
    {
      "cell_type": "code",
      "execution_count": null,
      "metadata": {
        "id": "Rrz_3SCpDebY"
      },
      "outputs": [],
      "source": [
        "def funcion_kargs(**argumentos):\n",
        "    for key, val in argumentos.items():\n",
        "        print(f\" key = {key} : value = {val}\")"
      ]
    },
    {
      "cell_type": "code",
      "execution_count": null,
      "metadata": {
        "id": "z6UatSxfDebY",
        "outputId": "d541db0b-37fe-4d86-b543-8da15ce07406"
      },
      "outputs": [
        {
          "name": "stdout",
          "output_type": "stream",
          "text": [
            " key = nombre : value = Luis\n",
            " key = apellido : value = de la Cruz\n",
            " key = edad : value = 15\n",
            " key = peso : value = 80.5\n"
          ]
        }
      ],
      "source": [
        "funcion_kargs(nombre = 'Luis', apellido='de la Cruz', edad=15, peso=80.5 )"
      ]
    },
    {
      "cell_type": "code",
      "execution_count": null,
      "metadata": {
        "id": "W0UzUrOkDebZ"
      },
      "outputs": [],
      "source": [
        "mi_dicc = {'nombre':'Luis', 'apellido':'de la Cruz', 'edad':15, 'peso':80.5}"
      ]
    },
    {
      "cell_type": "code",
      "execution_count": null,
      "metadata": {
        "id": "nZolQmLzDebZ",
        "outputId": "41029a04-9ce2-4f36-fbd4-53830c5f27c3"
      },
      "outputs": [
        {
          "name": "stdout",
          "output_type": "stream",
          "text": [
            " key = nombre : value = Luis\n",
            " key = apellido : value = de la Cruz\n",
            " key = edad : value = 15\n",
            " key = peso : value = 80.5\n"
          ]
        }
      ],
      "source": [
        "funcion_kargs(**mi_dicc)"
      ]
    },
    {
      "cell_type": "markdown",
      "metadata": {
        "id": "nPCAIZs5Deba"
      },
      "source": [
        "### Funciones como parámetros de otras funciones"
      ]
    },
    {
      "cell_type": "code",
      "execution_count": null,
      "metadata": {
        "id": "GQG8L_d5Deba",
        "outputId": "2c0e2c82-1fc8-4317-9c4e-ee7e4369d01d"
      },
      "outputs": [
        {
          "name": "stdout",
          "output_type": "stream",
          "text": [
            "Iniciando la función 'func()'\n",
            "Ejecución de la función 'f()', nombre real 'g()'\n",
            "Iniciando la función 'g()'\n"
          ]
        }
      ],
      "source": [
        "def g():\n",
        "    print(\"Iniciando la función 'g()'\")\n",
        "\n",
        "def func(f):\n",
        "    print(\"Iniciando la función 'func()'\")\n",
        "    print(\"Ejecución de la función 'f()', nombre real '\" + f.__name__ + \"()'\")\n",
        "    f()\n",
        "\n",
        "func(g)"
      ]
    },
    {
      "cell_type": "code",
      "execution_count": null,
      "metadata": {
        "id": "rJJYvxcgDeba",
        "outputId": "25f45079-0f80-4f09-ce0d-a997cf03c8e2"
      },
      "outputs": [
        {
          "name": "stdout",
          "output_type": "stream",
          "text": [
            "Integral de sin en el intervalo (1,2) usando 100 puntos\n",
            "0.9651950140506456\n",
            "Integral de cos en el intervalo (2,3) usando 100 puntos\n",
            "-0.775201713942394\n"
          ]
        }
      ],
      "source": [
        "import math\n",
        "\n",
        "def integra(func,a,b,N):\n",
        "    print(f\"Integral de {func.__name__} en el intervalo ({a},{b}) usando {N} puntos\")\n",
        "    h = (b - a) / N\n",
        "    resultado = 0\n",
        "    x = [a + h*i for i in range(N+1)]\n",
        "    for xi in x:\n",
        "        resultado += func(xi) * h\n",
        "    return resultado\n",
        "\n",
        "print(integra(math.sin, 1,2,100))\n",
        "print(integra(math.cos, 2,3,100))"
      ]
    },
    {
      "cell_type": "markdown",
      "metadata": {
        "id": "NIdCmoViDebb"
      },
      "source": [
        "### Funciones que regresan otra función"
      ]
    },
    {
      "cell_type": "code",
      "execution_count": null,
      "metadata": {
        "id": "alYbGzQsDebb",
        "outputId": "10c522e2-e12f-42ca-ee12-44c7e0194057"
      },
      "outputs": [
        {
          "name": "stdout",
          "output_type": "stream",
          "text": [
            "<function funcionPadre.<locals>.funcionHijo2 at 0x7f97bc85c5e0>\n",
            "Resultado de funcionHijo1()\n",
            "Resultado de funcionHijo2()\n",
            "<function funcionPadre.<locals>.funcionHijo1 at 0x7f97bc85c5e0>\n",
            "<function funcionPadre.<locals>.funcionHijo2 at 0x7f97bc85c790>\n"
          ]
        }
      ],
      "source": [
        "def funcionPadre(n):\n",
        "\n",
        "    def funcionHijo1():\n",
        "        return \"Resultado de funcionHijo1()\"\n",
        "\n",
        "    def funcionHijo2():\n",
        "        return \"Resultado de funcionHijo2()\"\n",
        "\n",
        "    if n == 10:\n",
        "        return funcionHijo1\n",
        "    else:\n",
        "        return funcionHijo2\n",
        "\n",
        "\n",
        "print(funcionPadre(36))\n",
        "\n",
        "f1 = funcionPadre(10)\n",
        "f2 = funcionPadre(11)\n",
        "\n",
        "#f1()\n",
        "#f2()\n",
        "\n",
        "print(f1())\n",
        "print(f2())\n",
        "\n",
        "print(f1)\n",
        "print(f2)"
      ]
    },
    {
      "cell_type": "code",
      "execution_count": null,
      "metadata": {
        "id": "aF_ZhESYDebb",
        "outputId": "525d5f0a-8a6b-4c13-c868-0fb03fcde05e"
      },
      "outputs": [
        {
          "data": {
            "text/plain": [
              "3"
            ]
          },
          "execution_count": 60,
          "metadata": {},
          "output_type": "execute_result"
        }
      ],
      "source": [
        "a = 2\n",
        "b = 3\n",
        "a\n",
        "b"
      ]
    },
    {
      "cell_type": "markdown",
      "metadata": {
        "id": "4RtpxvsRDebb"
      },
      "source": [
        "#### Ejemplo 1.\n",
        "Implementar una fábrica de polinomios de segundo grado:\n",
        "\n",
        "$$\n",
        "p(x) = a x^2 + b x + c\n",
        "$$"
      ]
    },
    {
      "cell_type": "code",
      "execution_count": null,
      "metadata": {
        "id": "AOqQ24MFDebb",
        "outputId": "706bfdec-a9d9-4a0c-aac8-9e9ea3cb88bd"
      },
      "outputs": [
        {
          "name": "stdout",
          "output_type": "stream",
          "text": [
            "x =  -2 \t p1(x) =   1 \t p2(x) =  -7\n",
            "x =  -1 \t p1(x) =  -2 \t p2(x) =  -2\n",
            "x =   0 \t p1(x) =  -1 \t p2(x) =   1\n",
            "x =   1 \t p1(x) =   4 \t p2(x) =   2\n"
          ]
        }
      ],
      "source": [
        "def polinomio(a, b, c):\n",
        "\n",
        "    def polSegundoGrado(x):\n",
        "        return a * x**2 + b * x + c\n",
        "\n",
        "    return polSegundoGrado\n",
        "\n",
        "p1 = polinomio(2, 3, -1) # 2x^2 + 3x - 1\n",
        "p2 = polinomio(-1, 2, 1) # -x^2 + 2x + 1\n",
        "\n",
        "for x in range(-2, 2, 1):\n",
        "    print(f'x = {x:3d} \\t p1(x) = {p1(x):3d} \\t p2(x) = {p2(x):3d}')"
      ]
    },
    {
      "cell_type": "markdown",
      "metadata": {
        "id": "l5LLQIvQDebc"
      },
      "source": [
        "#### Ejemplo 2.\n",
        "\n",
        "Implementar una fábrica de polinomios de cualquier grado:\n",
        "\n",
        "$$\n",
        "\\sum\\limits_{k=0}^{n} a_k x^k = a_n x^n + a_{n-1} x^{n-1} + \\dots + a_1 x + a_0\n",
        "$$"
      ]
    },
    {
      "cell_type": "code",
      "execution_count": null,
      "metadata": {
        "id": "YKY3ul11Debc",
        "outputId": "750ad745-9266-4fdf-c5ed-03e61d734a4c"
      },
      "outputs": [
        {
          "name": "stdout",
          "output_type": "stream",
          "text": [
            "x =  -2 \t p1(x) =   5 \t p2(x) =  -6 \t p3(x) =  -1 \t p4(x) = -18\n",
            "x =  -1 \t p1(x) =   5 \t p2(x) =  -2 \t p3(x) =  -2 \t p4(x) =  -5\n",
            "x =   0 \t p1(x) =   5 \t p2(x) =   2 \t p3(x) =  -1 \t p4(x) =   0\n",
            "x =   1 \t p1(x) =   5 \t p2(x) =   6 \t p3(x) =   2 \t p4(x) =   3\n"
          ]
        }
      ],
      "source": [
        "def polinomioFactory(*coeficientes):\n",
        "\n",
        "    def polinomio(x):\n",
        "        res = 0\n",
        "        for i, coef in enumerate(coeficientes):\n",
        "            res += coef * x ** i\n",
        "        return res\n",
        "\n",
        "    return polinomio\n",
        "\n",
        "p1 = polinomioFactory(5)           # a_0 = 5\n",
        "p2 = polinomioFactory(2, 4)        # 4 x + 2\n",
        "p3 = polinomioFactory(-1, 2, 1)    # x^2 + 2x - 1\n",
        "p4 = polinomioFactory(0, 3, -1, 1) # x^3 - x^2 + 3x + 0\n",
        "\n",
        "for x in range(-2, 2, 1):\n",
        "    print(f'x = {x:3d} \\t p1(x) = {p1(x):3d} \\t p2(x) = {p2(x):3d} \\t p3(x) = {p3(x):3d} \\t p4(x) = {p4(x):3d}')"
      ]
    },
    {
      "cell_type": "markdown",
      "metadata": {
        "id": "vRadZrs-Debc"
      },
      "source": [
        "### Documentación con *docstring*\n",
        "\n",
        "Python ofrece dos tipos básicos de comentarios para documentar el código:\n",
        "\n",
        "1. Lineal.<br>\n",
        "Este tipo de comentarios se llevan a cabo utilizando el símbolo especial `#`. El intérprete de Python sabrá que todo lo que sigue delante de este símbolo es un comentario y por lo tanto no se toma en cuenta en la ejecución:\n",
        "\n",
        "```python\n",
        "a = 10 # Este es un comentario\n",
        "\n",
        "```\n",
        "\n",
        "2. Docstrings<br>\n",
        "En programación, un *docstring* es una cadena de caracteres embedidas en el código fuente, similares a un comentario, para documentar un segmento de código específico. A diferencia de los comentarios tradicionales, las docstrings no se quitan del código cuando es analizado, sino que son retenidas a través de la ejecución del programa. Esto permite al programador inspeccionar esos comentarios en tiempo de ejecución, por ejemplo como un sistema de ayuda interactivo o como metadatos. En Python se utilizan las triples comillas para definir un *docstring*.\n",
        "\n",
        "```python\n",
        "def funcion(x):\n",
        "    '''\n",
        "    Esta es una descripción de la función ...\n",
        "    '''\n",
        "    \n",
        "def foo(y):\n",
        "    \"\"\"\n",
        "    También de esta manera se puede definir una docstring\n",
        "    \"\"\"\n",
        "   \n",
        "```\n"
      ]
    },
    {
      "cell_type": "code",
      "execution_count": null,
      "metadata": {
        "id": "MTA4LfKQDebc"
      },
      "outputs": [],
      "source": [
        "def suma(a,b):\n",
        "    '''\n",
        "    Esta función calcula  la suma de los parámetros a y b.\n",
        "    Regresa el resultado de la suma\n",
        "    '''\n",
        "    return a + b"
      ]
    },
    {
      "cell_type": "code",
      "execution_count": null,
      "metadata": {
        "id": "EBolGvteDebc",
        "outputId": "2e668d39-3586-4196-f33e-64384bcadfca"
      },
      "outputs": [
        {
          "data": {
            "text/plain": [
              "<function __main__.suma(a, b)>"
            ]
          },
          "execution_count": 2,
          "metadata": {},
          "output_type": "execute_result"
        }
      ],
      "source": [
        "suma"
      ]
    },
    {
      "cell_type": "code",
      "execution_count": null,
      "metadata": {
        "id": "_DPiyu4mDebd"
      },
      "outputs": [],
      "source": [
        "# En numpy se usa la siguiente definición de docstrings\n",
        "def suma(a,b):\n",
        "    '''\n",
        "    Calcula la suma de los dos parámetros a y b.\n",
        "\n",
        "    Args:\n",
        "        a: int Numero a sumar\n",
        "        b: int Numero a sumar\n",
        "    Return:\n",
        "        c: int Suma del numero a y b\n",
        "    '''\n",
        "    c = a + b\n",
        "    return c"
      ]
    },
    {
      "cell_type": "code",
      "execution_count": null,
      "metadata": {
        "id": "erNUZ320Debd",
        "outputId": "f959a89d-188e-453e-8f17-104898791bae"
      },
      "outputs": [
        {
          "data": {
            "text/plain": [
              "<function __main__.suma(a, b)>"
            ]
          },
          "execution_count": 4,
          "metadata": {},
          "output_type": "execute_result"
        }
      ],
      "source": [
        "suma"
      ]
    }
  ],
  "metadata": {
    "kernelspec": {
      "display_name": "Python 3 (ipykernel)",
      "language": "python",
      "name": "python3"
    },
    "language_info": {
      "codemirror_mode": {
        "name": "ipython",
        "version": 3
      },
      "file_extension": ".py",
      "mimetype": "text/x-python",
      "name": "python",
      "nbconvert_exporter": "python",
      "pygments_lexer": "ipython3",
      "version": "3.8.10"
    },
    "colab": {
      "provenance": [],
      "include_colab_link": true
    }
  },
  "nbformat": 4,
  "nbformat_minor": 0
}