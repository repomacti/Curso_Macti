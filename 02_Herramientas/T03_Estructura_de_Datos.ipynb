{
  "cells": [
    {
      "cell_type": "markdown",
      "metadata": {
        "id": "view-in-github",
        "colab_type": "text"
      },
      "source": [
        "<a href=\"https://colab.research.google.com/github/repomacti/Curso_Macti/blob/zeus/02_Herramientas/T03_Estructura_de_Datos.ipynb\" target=\"_parent\"><img src=\"https://colab.research.google.com/assets/colab-badge.svg\" alt=\"Open In Colab\"/></a>"
      ]
    },
    {
      "cell_type": "markdown",
      "metadata": {
        "id": "goOiZKmHD5Ni"
      },
      "source": [
        "# Python de cero a experto\n",
        "**Autor:** Luis Miguel de la Cruz Salas\n",
        "\n",
        "<a href=\"https://github.com/luiggix/Python_cero_a_experto\">Python de cero a experto</a> by Luis M. de la Cruz Salas is licensed under <a href=\"https://creativecommons.org/licenses/by-nc-nd/4.0?ref=chooser-v1\">Attribution-NonCommercial-NoDerivatives 4.0 International</a>"
      ]
    },
    {
      "cell_type": "markdown",
      "metadata": {
        "id": "92mgNLVPD5Nk"
      },
      "source": [
        "## Pythonico es más bonito"
      ]
    },
    {
      "cell_type": "markdown",
      "metadata": {
        "id": "RqEZSPpVD5Nk"
      },
      "source": [
        "### Estructura de datos"
      ]
    },
    {
      "cell_type": "markdown",
      "metadata": {
        "id": "tb48_WthD5Nl"
      },
      "source": [
        "Hay cuatro tipos de estructuras de datos, también conocidas como *colecciones* :\n",
        "\n",
        "|Tipo|Ordenada|Inmutable|Indexable|Duplicidad|\n",
        "|-:|:-:|:-:|:-:|:-:|\n",
        "|List |SI|NO|SI|SI|\n",
        "|Tuple|SI|SI|SI|SI|\n",
        "|Sets |NO|NO|NO|NO|\n",
        "|Dict |NO|NO|SI|NO|\n",
        "\n",
        "\n",
        "\n",
        "Cuando se selecciona un tipo de colección, es importante conocer sus propiedades para incrementar la eficiencia y/o la seguridad de los datos."
      ]
    },
    {
      "cell_type": "markdown",
      "metadata": {
        "id": "4lG8DnHlD5Nl"
      },
      "source": [
        "#### Listas"
      ]
    },
    {
      "cell_type": "code",
      "execution_count": null,
      "metadata": {
        "id": "tfjiFXl5D5Nl"
      },
      "outputs": [],
      "source": [
        "gatos = ['Persa', 'Sphynx', 'Ragdoll','Siamés']"
      ]
    },
    {
      "cell_type": "code",
      "execution_count": null,
      "metadata": {
        "id": "_Y5aetU_D5Nm"
      },
      "outputs": [],
      "source": [
        "origen = ['Irán', 'Toronto', 'California', 'Tailandia']"
      ]
    },
    {
      "cell_type": "code",
      "execution_count": null,
      "metadata": {
        "id": "489hyyL1D5Nn"
      },
      "outputs": [],
      "source": [
        "pelo_largo = [True, False, True, True]"
      ]
    },
    {
      "cell_type": "code",
      "execution_count": null,
      "metadata": {
        "id": "ATHUpfdnD5Nn"
      },
      "outputs": [],
      "source": [
        "pelo_corto = [False, False, False, True]"
      ]
    },
    {
      "cell_type": "code",
      "execution_count": null,
      "metadata": {
        "id": "Al_2BgiTD5Nn"
      },
      "outputs": [],
      "source": [
        "peso_minimo = [2.3, 3.5, 5.4, 2.5]\n",
        "peso_maximo = [6.8, 7.0, 9.1, 4.5]"
      ]
    },
    {
      "cell_type": "code",
      "execution_count": null,
      "metadata": {
        "id": "hYDDxxarD5No",
        "outputId": "01e1bd6a-3e81-4637-d912-7589802b1a77"
      },
      "outputs": [
        {
          "data": {
            "text/plain": [
              "list"
            ]
          },
          "execution_count": 6,
          "metadata": {},
          "output_type": "execute_result"
        }
      ],
      "source": [
        "type(gatos)"
      ]
    },
    {
      "cell_type": "code",
      "execution_count": null,
      "metadata": {
        "id": "U6tuIEWYD5No",
        "outputId": "d7d4f90d-6897-4ef1-ea06-e4c82d660db8"
      },
      "outputs": [
        {
          "name": "stdout",
          "output_type": "stream",
          "text": [
            "140314234980352 140314234612528\n"
          ]
        }
      ],
      "source": [
        "print(id(gatos), id(gatos[0]))"
      ]
    },
    {
      "cell_type": "code",
      "execution_count": null,
      "metadata": {
        "id": "upAMm7SLD5Np",
        "outputId": "a81c7e0a-3eac-41e0-92da-1921355588c2"
      },
      "outputs": [
        {
          "data": {
            "text/plain": [
              "['Persa', 'Sphynx', 'Ragdoll', 'Siamés']"
            ]
          },
          "execution_count": 8,
          "metadata": {},
          "output_type": "execute_result"
        }
      ],
      "source": [
        "gatos"
      ]
    },
    {
      "cell_type": "markdown",
      "metadata": {
        "id": "GTL1Bq7ED5Np"
      },
      "source": [
        "#### Indexado"
      ]
    },
    {
      "cell_type": "code",
      "execution_count": null,
      "metadata": {
        "id": "ibFmqBuMD5Np",
        "outputId": "811a72af-e706-4f5c-fd04-3b110e04dc4f"
      },
      "outputs": [
        {
          "data": {
            "text/plain": [
              "'Siamés'"
            ]
          },
          "execution_count": 9,
          "metadata": {},
          "output_type": "execute_result"
        }
      ],
      "source": [
        "gatos[-1] # Último elemento"
      ]
    },
    {
      "cell_type": "code",
      "execution_count": null,
      "metadata": {
        "id": "EPLTTgHkD5Np",
        "outputId": "111aa4ef-01b6-42f3-e585-f2afdfb3735b"
      },
      "outputs": [
        {
          "data": {
            "text/plain": [
              "['Sphynx', 'Ragdoll', 'Siamés']"
            ]
          },
          "execution_count": 10,
          "metadata": {},
          "output_type": "execute_result"
        }
      ],
      "source": [
        "gatos[1:4] # Todos los elementos, menos el primero"
      ]
    },
    {
      "cell_type": "code",
      "execution_count": null,
      "metadata": {
        "id": "70MspVQJD5Nq",
        "outputId": "2ca47102-b78a-4a7f-f09c-17ddd48995ec"
      },
      "outputs": [
        {
          "data": {
            "text/plain": [
              "['Siamés', 'Ragdoll', 'Sphynx', 'Persa']"
            ]
          },
          "execution_count": 11,
          "metadata": {},
          "output_type": "execute_result"
        }
      ],
      "source": [
        "gatos[::-1] # Todos los elementos en reversa"
      ]
    },
    {
      "cell_type": "code",
      "execution_count": null,
      "metadata": {
        "id": "OI4eO4i7D5Nq",
        "outputId": "eec032d0-b428-410e-9b65-febdfebdf239"
      },
      "outputs": [
        {
          "data": {
            "text/plain": [
              "str"
            ]
          },
          "execution_count": 12,
          "metadata": {},
          "output_type": "execute_result"
        }
      ],
      "source": [
        "type(gatos[0])"
      ]
    },
    {
      "cell_type": "code",
      "execution_count": null,
      "metadata": {
        "id": "hht1rlusD5Nq",
        "outputId": "18f02446-17d2-469c-e2f8-017f6921766a"
      },
      "outputs": [
        {
          "data": {
            "text/plain": [
              "140314234612528"
            ]
          },
          "execution_count": 13,
          "metadata": {},
          "output_type": "execute_result"
        }
      ],
      "source": [
        "id(gatos[0])"
      ]
    },
    {
      "cell_type": "markdown",
      "metadata": {
        "id": "gpgXJUQtD5Nq"
      },
      "source": [
        "#### Operaciones y Funciones sobre las listas"
      ]
    },
    {
      "cell_type": "code",
      "execution_count": null,
      "metadata": {
        "id": "13pXnYw6D5Nq",
        "outputId": "e9f8167a-789f-4d56-d1e2-8f678c8408ee"
      },
      "outputs": [
        {
          "data": {
            "text/plain": [
              "4"
            ]
          },
          "execution_count": 14,
          "metadata": {},
          "output_type": "execute_result"
        }
      ],
      "source": [
        "len(gatos)"
      ]
    },
    {
      "cell_type": "code",
      "execution_count": null,
      "metadata": {
        "id": "CDvLkQsZD5Nr",
        "outputId": "9533889f-1690-4b97-9e9c-b45b655d01a9"
      },
      "outputs": [
        {
          "data": {
            "text/plain": [
              "'Sphynx'"
            ]
          },
          "execution_count": 15,
          "metadata": {},
          "output_type": "execute_result"
        }
      ],
      "source": [
        "max(gatos)"
      ]
    },
    {
      "cell_type": "code",
      "execution_count": null,
      "metadata": {
        "id": "zY9_T1YKD5Nr",
        "outputId": "718fcdee-b1eb-4aa8-8911-f79c52833bde"
      },
      "outputs": [
        {
          "data": {
            "text/plain": [
              "'Persa'"
            ]
          },
          "execution_count": 16,
          "metadata": {},
          "output_type": "execute_result"
        }
      ],
      "source": [
        "min(gatos)"
      ]
    },
    {
      "cell_type": "code",
      "execution_count": null,
      "metadata": {
        "id": "L3DwCa6QD5Nr",
        "outputId": "9e7232c9-7bec-43b9-ea03-342cb447e54e"
      },
      "outputs": [
        {
          "data": {
            "text/plain": [
              "[True, False, True, True]"
            ]
          },
          "execution_count": 17,
          "metadata": {},
          "output_type": "execute_result"
        }
      ],
      "source": [
        "sin_pelo = pelo_largo or pelo_corto\n",
        "sin_pelo"
      ]
    },
    {
      "cell_type": "code",
      "execution_count": null,
      "metadata": {
        "id": "QoTeiNSZD5Nr",
        "outputId": "64bd2389-588d-4904-d5a9-2782b04c73c5"
      },
      "outputs": [
        {
          "data": {
            "text/plain": [
              "[2.3, 3.5, 5.4, 2.5, 6.8, 7.0, 9.1, 4.5]"
            ]
          },
          "execution_count": 19,
          "metadata": {},
          "output_type": "execute_result"
        }
      ],
      "source": [
        "peso_minimo + peso_maximo # Concatenación"
      ]
    },
    {
      "cell_type": "code",
      "execution_count": null,
      "metadata": {
        "id": "SlunokG7D5Nr",
        "outputId": "46552c0f-d790-43f4-c616-619c09602f5d"
      },
      "outputs": [
        {
          "data": {
            "text/plain": [
              "['Irán',\n",
              " 'Toronto',\n",
              " 'California',\n",
              " 'Tailandia',\n",
              " 'Irán',\n",
              " 'Toronto',\n",
              " 'California',\n",
              " 'Tailandia']"
            ]
          },
          "execution_count": 20,
          "metadata": {},
          "output_type": "execute_result"
        }
      ],
      "source": [
        "origen * 2"
      ]
    },
    {
      "cell_type": "code",
      "execution_count": null,
      "metadata": {
        "id": "ugP_y5FmD5Ns",
        "outputId": "2cda2e48-8fb4-43b6-c212-1eb757ee4d66"
      },
      "outputs": [
        {
          "data": {
            "text/plain": [
              "True"
            ]
          },
          "execution_count": 22,
          "metadata": {},
          "output_type": "execute_result"
        }
      ],
      "source": [
        "'Siamés' in gatos"
      ]
    },
    {
      "cell_type": "markdown",
      "metadata": {
        "id": "UXoDLGzGD5Ns"
      },
      "source": [
        "#### Métodos de las listas (comportamiento)"
      ]
    },
    {
      "cell_type": "code",
      "execution_count": null,
      "metadata": {
        "id": "jBhZJHVzD5Ns"
      },
      "outputs": [],
      "source": [
        "gatos.append('Siberiano')"
      ]
    },
    {
      "cell_type": "code",
      "execution_count": null,
      "metadata": {
        "id": "-Kh5ozbAD5Ns",
        "outputId": "f71f9791-55b5-4bc4-f527-6556c96af28f"
      },
      "outputs": [
        {
          "data": {
            "text/plain": [
              "['Persa', 'Sphynx', 'Ragdoll', 'Siamés', 'Siberiano']"
            ]
          },
          "execution_count": 24,
          "metadata": {},
          "output_type": "execute_result"
        }
      ],
      "source": [
        "gatos"
      ]
    },
    {
      "cell_type": "code",
      "execution_count": null,
      "metadata": {
        "id": "HAPeIHAvD5Ns"
      },
      "outputs": [],
      "source": [
        "gatos.append('Persa')"
      ]
    },
    {
      "cell_type": "code",
      "execution_count": null,
      "metadata": {
        "id": "OdiMMyZKD5Ns",
        "outputId": "d2098e9f-ef7a-4c6f-f4c2-9348f198f722"
      },
      "outputs": [
        {
          "data": {
            "text/plain": [
              "['Persa', 'Sphynx', 'Ragdoll', 'Siamés', 'Siberiano', 'Persa']"
            ]
          },
          "execution_count": 26,
          "metadata": {},
          "output_type": "execute_result"
        }
      ],
      "source": [
        "gatos"
      ]
    },
    {
      "cell_type": "code",
      "execution_count": null,
      "metadata": {
        "id": "pvL-m11vD5Nt"
      },
      "outputs": [],
      "source": [
        "gatos.remove('Persa')"
      ]
    },
    {
      "cell_type": "code",
      "execution_count": null,
      "metadata": {
        "id": "G_i0ZoFoD5Nt",
        "outputId": "a87286c3-0ec0-420b-965a-0d7bb88b7cfe"
      },
      "outputs": [
        {
          "data": {
            "text/plain": [
              "['Sphynx', 'Ragdoll', 'Siamés', 'Siberiano', 'Persa']"
            ]
          },
          "execution_count": 28,
          "metadata": {},
          "output_type": "execute_result"
        }
      ],
      "source": [
        "gatos"
      ]
    },
    {
      "cell_type": "code",
      "execution_count": null,
      "metadata": {
        "id": "XhFyTHERD5Nt"
      },
      "outputs": [],
      "source": [
        "gatos.insert(0,'Persa')"
      ]
    },
    {
      "cell_type": "code",
      "execution_count": null,
      "metadata": {
        "id": "rF47tn7QD5Nt",
        "outputId": "e35f8f28-50ef-4640-a89a-766140eb9c95"
      },
      "outputs": [
        {
          "data": {
            "text/plain": [
              "['Persa', 'Sphynx', 'Ragdoll', 'Siamés', 'Siberiano', 'Persa']"
            ]
          },
          "execution_count": 30,
          "metadata": {},
          "output_type": "execute_result"
        }
      ],
      "source": [
        "gatos"
      ]
    },
    {
      "cell_type": "code",
      "execution_count": null,
      "metadata": {
        "id": "Co7yPcjAD5Nt",
        "outputId": "8085e045-fb7e-441d-8f85-ef1d249009d4"
      },
      "outputs": [
        {
          "data": {
            "text/plain": [
              "'Persa'"
            ]
          },
          "execution_count": 31,
          "metadata": {},
          "output_type": "execute_result"
        }
      ],
      "source": [
        "gatos.pop()"
      ]
    },
    {
      "cell_type": "code",
      "execution_count": null,
      "metadata": {
        "id": "F6mlvV9GD5Nu",
        "outputId": "0da87b5c-af50-4839-cab1-5d801534c0d0"
      },
      "outputs": [
        {
          "data": {
            "text/plain": [
              "['Persa', 'Sphynx', 'Ragdoll', 'Siamés', 'Siberiano']"
            ]
          },
          "execution_count": 32,
          "metadata": {},
          "output_type": "execute_result"
        }
      ],
      "source": [
        "gatos"
      ]
    },
    {
      "cell_type": "code",
      "execution_count": null,
      "metadata": {
        "id": "5lASRtiHD5Nu"
      },
      "outputs": [],
      "source": [
        "gatos.sort()"
      ]
    },
    {
      "cell_type": "code",
      "execution_count": null,
      "metadata": {
        "id": "XtrGrjDeD5Nu",
        "outputId": "66dc2dca-0c6f-4f9d-9c90-d8509f22ea09"
      },
      "outputs": [
        {
          "data": {
            "text/plain": [
              "['Persa', 'Ragdoll', 'Siamés', 'Siberiano', 'Sphynx']"
            ]
          },
          "execution_count": 34,
          "metadata": {},
          "output_type": "execute_result"
        }
      ],
      "source": [
        "gatos"
      ]
    },
    {
      "cell_type": "code",
      "execution_count": null,
      "metadata": {
        "id": "s3daptiTD5Nu"
      },
      "outputs": [],
      "source": [
        "gatos.reverse()"
      ]
    },
    {
      "cell_type": "code",
      "execution_count": null,
      "metadata": {
        "id": "7q-SxLg6D5Nu",
        "outputId": "e51862c6-560f-40df-cef9-9449e65d3912"
      },
      "outputs": [
        {
          "data": {
            "text/plain": [
              "['Sphynx', 'Siberiano', 'Siamés', 'Ragdoll', 'Persa']"
            ]
          },
          "execution_count": 36,
          "metadata": {},
          "output_type": "execute_result"
        }
      ],
      "source": [
        "gatos"
      ]
    },
    {
      "cell_type": "markdown",
      "metadata": {
        "id": "w0rSU5Z4D5Nv"
      },
      "source": [
        "#### Copiando listas"
      ]
    },
    {
      "cell_type": "code",
      "execution_count": null,
      "metadata": {
        "id": "pUdGsQtsD5Nv"
      },
      "outputs": [],
      "source": [
        "gatitos = gatos"
      ]
    },
    {
      "cell_type": "code",
      "execution_count": null,
      "metadata": {
        "id": "2KfMsL93D5Nv",
        "outputId": "77cc91e0-e90c-47ef-b646-f298891f2b7e"
      },
      "outputs": [
        {
          "data": {
            "text/plain": [
              "['Sphynx', 'Siberiano', 'Siamés', 'Ragdoll', 'Persa']"
            ]
          },
          "execution_count": 38,
          "metadata": {},
          "output_type": "execute_result"
        }
      ],
      "source": [
        "gatitos"
      ]
    },
    {
      "cell_type": "code",
      "execution_count": null,
      "metadata": {
        "id": "3Rjp50hvD5Nv",
        "outputId": "a0ae6a3d-3bb2-49d3-c891-f82047b48408"
      },
      "outputs": [
        {
          "data": {
            "text/plain": [
              "['Sphynx', 'Siberiano', 'Siamés', 'Ragdoll', 'Persa']"
            ]
          },
          "execution_count": 39,
          "metadata": {},
          "output_type": "execute_result"
        }
      ],
      "source": [
        "gatos"
      ]
    },
    {
      "cell_type": "code",
      "execution_count": null,
      "metadata": {
        "id": "odxAM8EOD5Nv"
      },
      "outputs": [],
      "source": [
        "gatitos[0] = 'Singapur'"
      ]
    },
    {
      "cell_type": "code",
      "execution_count": null,
      "metadata": {
        "id": "fsyg6mzzD5Nv",
        "outputId": "2592d8d9-7626-4e97-b120-d63d408d5ff6"
      },
      "outputs": [
        {
          "data": {
            "text/plain": [
              "['Singapur', 'Siberiano', 'Siamés', 'Ragdoll', 'Persa']"
            ]
          },
          "execution_count": 42,
          "metadata": {},
          "output_type": "execute_result"
        }
      ],
      "source": [
        "gatitos"
      ]
    },
    {
      "cell_type": "code",
      "execution_count": null,
      "metadata": {
        "id": "0U47O9RlD5Nw",
        "outputId": "729c6b23-84d6-4d35-b1dc-ed281740a97b"
      },
      "outputs": [
        {
          "data": {
            "text/plain": [
              "['Singapur', 'Siberiano', 'Siamés', 'Ragdoll', 'Persa']"
            ]
          },
          "execution_count": 43,
          "metadata": {},
          "output_type": "execute_result"
        }
      ],
      "source": [
        "gatos"
      ]
    },
    {
      "cell_type": "code",
      "execution_count": null,
      "metadata": {
        "id": "RNsj5O7rD5Nw",
        "outputId": "9777051f-418a-4f96-a199-521a57ae29d3"
      },
      "outputs": [
        {
          "name": "stdout",
          "output_type": "stream",
          "text": [
            "140314234980352 140314234980352\n"
          ]
        }
      ],
      "source": [
        "print(id(gatitos), id(gatos))"
      ]
    },
    {
      "cell_type": "code",
      "execution_count": null,
      "metadata": {
        "id": "6kUJcDa5D5Nw"
      },
      "outputs": [],
      "source": [
        "# Forma 1 para copiar listas\n",
        "gatitos = []   # lista vacía\n",
        "gatitos[:] = gatos[:]   # copia"
      ]
    },
    {
      "cell_type": "code",
      "execution_count": null,
      "metadata": {
        "id": "iMn-6ofND5Nw",
        "outputId": "98b55818-f8b7-4955-da18-597f5e063485"
      },
      "outputs": [
        {
          "name": "stdout",
          "output_type": "stream",
          "text": [
            "140314234388352 140314234980352\n"
          ]
        }
      ],
      "source": [
        "print(id(gatitos), id(gatos))"
      ]
    },
    {
      "cell_type": "code",
      "execution_count": null,
      "metadata": {
        "id": "1hx3gv8qD5Nw"
      },
      "outputs": [],
      "source": [
        "# Forma 2 para copiar listas\n",
        "gatitos = gatos.copy()"
      ]
    },
    {
      "cell_type": "code",
      "execution_count": null,
      "metadata": {
        "id": "1UlJ3_BeD5Nx",
        "outputId": "75dd5d26-d3d0-4712-8470-1c2a595e52b4"
      },
      "outputs": [
        {
          "name": "stdout",
          "output_type": "stream",
          "text": [
            "140314234388288 140314234980352\n"
          ]
        }
      ],
      "source": [
        "print(id(gatitos), id(gatos))"
      ]
    },
    {
      "cell_type": "code",
      "execution_count": null,
      "metadata": {
        "id": "EfuoVdVaD5Nx"
      },
      "outputs": [],
      "source": [
        "# Forma 3 para copiar listas\n",
        "gatitos = list(gatos)"
      ]
    },
    {
      "cell_type": "code",
      "execution_count": null,
      "metadata": {
        "id": "y5docH-MD5Nx",
        "outputId": "98390f87-caae-415e-c799-20a0ab32ea72"
      },
      "outputs": [
        {
          "name": "stdout",
          "output_type": "stream",
          "text": [
            "140314234073600 140314234980352\n"
          ]
        }
      ],
      "source": [
        "print(id(gatitos), id(gatos))"
      ]
    },
    {
      "cell_type": "markdown",
      "metadata": {
        "id": "t-q8_0g9D5Nx"
      },
      "source": [
        "#### Listas con distintos tipos de elementos"
      ]
    },
    {
      "cell_type": "code",
      "execution_count": null,
      "metadata": {
        "id": "kpM0pCjhD5Nx"
      },
      "outputs": [],
      "source": [
        "superlista = ['México', 3.141592, 20, 1j, [1,2,3,'lista']]"
      ]
    },
    {
      "cell_type": "code",
      "execution_count": null,
      "metadata": {
        "id": "8HeVHTsUD5Nx",
        "outputId": "a433dc0e-f71d-4050-eaf0-02f4e73ef898"
      },
      "outputs": [
        {
          "data": {
            "text/plain": [
              "['México', 3.141592, 20, 1j, [1, 2, 3, 'lista']]"
            ]
          },
          "execution_count": 51,
          "metadata": {},
          "output_type": "execute_result"
        }
      ],
      "source": [
        "superlista"
      ]
    },
    {
      "cell_type": "code",
      "execution_count": null,
      "metadata": {
        "id": "dsm5s-SqD5Ny",
        "outputId": "59aad53e-0beb-4a5b-877b-21bbd652590a"
      },
      "outputs": [
        {
          "data": {
            "text/plain": [
              "3"
            ]
          },
          "execution_count": 52,
          "metadata": {},
          "output_type": "execute_result"
        }
      ],
      "source": [
        "superlista[4][2]"
      ]
    },
    {
      "cell_type": "markdown",
      "metadata": {
        "id": "KO2h_X82D5Ny"
      },
      "source": [
        "### Tuplas\n",
        "- Tuplas: es una colección que es ordenada, **NO** modificable (inmutable), indexable y permite miembros duplicados."
      ]
    },
    {
      "cell_type": "code",
      "execution_count": null,
      "metadata": {
        "id": "ep64vyuuD5Ny",
        "outputId": "8e45501a-cbfc-47fa-870d-6def3c5b4bdf"
      },
      "outputs": [
        {
          "name": "stdout",
          "output_type": "stream",
          "text": [
            "<class 'tuple'> 140314288394304\n"
          ]
        }
      ],
      "source": [
        "datos1 = () # tupla vacía\n",
        "print(type(datos1), id(datos1))"
      ]
    },
    {
      "cell_type": "code",
      "execution_count": null,
      "metadata": {
        "id": "_PDR-oQSD5Ny"
      },
      "outputs": [],
      "source": [
        "datos2 = (1)"
      ]
    },
    {
      "cell_type": "code",
      "execution_count": null,
      "metadata": {
        "id": "-NJbcCGFD5Ny",
        "outputId": "f29565fd-0faf-496a-b55d-071da98d0ad6"
      },
      "outputs": [
        {
          "data": {
            "text/plain": [
              "int"
            ]
          },
          "execution_count": 55,
          "metadata": {},
          "output_type": "execute_result"
        }
      ],
      "source": [
        "type(datos2)"
      ]
    },
    {
      "cell_type": "code",
      "execution_count": null,
      "metadata": {
        "id": "9fp_3wMuD5Nz"
      },
      "outputs": [],
      "source": [
        "datos3 = (1,)"
      ]
    },
    {
      "cell_type": "code",
      "execution_count": null,
      "metadata": {
        "id": "gb7IVVXFD5Nz",
        "outputId": "a26d1577-262f-4aec-f78b-8a3f5e10e966"
      },
      "outputs": [
        {
          "data": {
            "text/plain": [
              "tuple"
            ]
          },
          "execution_count": 57,
          "metadata": {},
          "output_type": "execute_result"
        }
      ],
      "source": [
        "type(datos3)"
      ]
    },
    {
      "cell_type": "code",
      "execution_count": null,
      "metadata": {
        "id": "pisYAzMWD5Nz"
      },
      "outputs": [],
      "source": [
        "datos4 = (1,2,3)"
      ]
    },
    {
      "cell_type": "code",
      "execution_count": null,
      "metadata": {
        "id": "aH0RkkzpD5Nz",
        "outputId": "34f6adff-ade0-4af7-a5f1-d0596c120843"
      },
      "outputs": [
        {
          "name": "stdout",
          "output_type": "stream",
          "text": [
            "(1, 2, 3) <class 'tuple'>\n"
          ]
        }
      ],
      "source": [
        "print(datos4, type(datos4))"
      ]
    },
    {
      "cell_type": "markdown",
      "metadata": {
        "id": "9OouoDgWD5N0"
      },
      "source": [
        "Todas las acciones que se pueden realizar con las listas aplican similarmente para las tuplas, excepto que las tuplas NO son mutables:"
      ]
    },
    {
      "cell_type": "code",
      "execution_count": null,
      "metadata": {
        "id": "9BymcRB8D5N0",
        "outputId": "0a5f6a70-eb00-4769-a01e-2ac006851bd7"
      },
      "outputs": [
        {
          "data": {
            "text/plain": [
              "2"
            ]
          },
          "execution_count": 60,
          "metadata": {},
          "output_type": "execute_result"
        }
      ],
      "source": [
        "datos4[1]"
      ]
    },
    {
      "cell_type": "code",
      "execution_count": null,
      "metadata": {
        "id": "sVwxXh6fD5N0",
        "outputId": "19aacdc3-58cc-4016-909d-7ca0d4001fd9"
      },
      "outputs": [
        {
          "ename": "TypeError",
          "evalue": "'tuple' object does not support item assignment",
          "output_type": "error",
          "traceback": [
            "\u001b[0;31m---------------------------------------------------------------------------\u001b[0m",
            "\u001b[0;31mTypeError\u001b[0m                                 Traceback (most recent call last)",
            "\u001b[0;32m<ipython-input-61-0ed7bb860755>\u001b[0m in \u001b[0;36m<module>\u001b[0;34m\u001b[0m\n\u001b[0;32m----> 1\u001b[0;31m \u001b[0mdatos4\u001b[0m\u001b[0;34m[\u001b[0m\u001b[0;36m1\u001b[0m\u001b[0;34m]\u001b[0m \u001b[0;34m=\u001b[0m  \u001b[0;36m20\u001b[0m \u001b[0;31m# Inválido debido a la inmutablidad\u001b[0m\u001b[0;34m\u001b[0m\u001b[0;34m\u001b[0m\u001b[0m\n\u001b[0m",
            "\u001b[0;31mTypeError\u001b[0m: 'tuple' object does not support item assignment"
          ]
        }
      ],
      "source": [
        "datos4[1] =  20 # Inválido debido a la inmutablidad"
      ]
    },
    {
      "cell_type": "markdown",
      "metadata": {
        "id": "Bh2iwA_XD5N0"
      },
      "source": [
        "#### Transformación entre tuplas y listas"
      ]
    },
    {
      "cell_type": "code",
      "execution_count": null,
      "metadata": {
        "id": "FeThW9UKD5N0",
        "outputId": "27ab97e2-6738-4da8-dbc2-5e907a2d25ff"
      },
      "outputs": [
        {
          "data": {
            "text/plain": [
              "tuple"
            ]
          },
          "execution_count": 62,
          "metadata": {},
          "output_type": "execute_result"
        }
      ],
      "source": [
        "type(datos4)"
      ]
    },
    {
      "cell_type": "code",
      "execution_count": null,
      "metadata": {
        "id": "DsbwOKvtD5N0"
      },
      "outputs": [],
      "source": [
        "lista_de_datos = list(datos4)"
      ]
    },
    {
      "cell_type": "code",
      "execution_count": null,
      "metadata": {
        "id": "sWisi3l9D5N1",
        "outputId": "b05301b9-7540-4af5-d806-eef217f8a87e"
      },
      "outputs": [
        {
          "name": "stdout",
          "output_type": "stream",
          "text": [
            "[1, 2, 3] <class 'list'>\n"
          ]
        }
      ],
      "source": [
        "print(lista_de_datos, type(lista_de_datos))"
      ]
    },
    {
      "cell_type": "code",
      "execution_count": null,
      "metadata": {
        "id": "EH7BteIvD5N1"
      },
      "outputs": [],
      "source": [
        "lista_de_datos[1] = 20"
      ]
    },
    {
      "cell_type": "code",
      "execution_count": null,
      "metadata": {
        "id": "9PxTmdKeD5N1"
      },
      "outputs": [],
      "source": [
        "nuevos_datos = tuple(lista_de_datos)"
      ]
    },
    {
      "cell_type": "code",
      "execution_count": null,
      "metadata": {
        "id": "KlITrl-ND5N1",
        "outputId": "7c90c3c1-c8fe-45f9-acad-a6e35a254985"
      },
      "outputs": [
        {
          "name": "stdout",
          "output_type": "stream",
          "text": [
            "(1, 20, 3) <class 'tuple'>\n"
          ]
        }
      ],
      "source": [
        "print(nuevos_datos, type(nuevos_datos))"
      ]
    },
    {
      "cell_type": "markdown",
      "metadata": {
        "id": "h7Y611WvD5N1"
      },
      "source": [
        "### Conjuntos\n",
        "- Conjuntos: es una colección que **NO** es ordenada, modificable, **NO** indexable y **NO** permite miembros duplicados."
      ]
    },
    {
      "cell_type": "code",
      "execution_count": null,
      "metadata": {
        "id": "nFk7S9DLD5N1"
      },
      "outputs": [],
      "source": [
        "conjunto = {4,1,8,0,4,20}"
      ]
    },
    {
      "cell_type": "code",
      "execution_count": null,
      "metadata": {
        "id": "VXOFWTQUD5N1",
        "outputId": "98dc6296-8156-43e2-eca0-4f3863bd3c3b"
      },
      "outputs": [
        {
          "name": "stdout",
          "output_type": "stream",
          "text": [
            "{0, 1, 4, 8, 20} <class 'set'>\n"
          ]
        }
      ],
      "source": [
        "print(conjunto, type(conjunto))"
      ]
    },
    {
      "cell_type": "code",
      "execution_count": null,
      "metadata": {
        "id": "uJRRjCyJD5N2"
      },
      "outputs": [],
      "source": [
        "conjunto.add(-8)"
      ]
    },
    {
      "cell_type": "code",
      "execution_count": null,
      "metadata": {
        "id": "Hq6fyhpeD5N2",
        "outputId": "0a121da1-7d82-4035-85a5-7b782fc030f5"
      },
      "outputs": [
        {
          "name": "stdout",
          "output_type": "stream",
          "text": [
            "{0, 1, 4, 8, 20, -8}\n"
          ]
        }
      ],
      "source": [
        "print(conjunto)"
      ]
    },
    {
      "cell_type": "code",
      "execution_count": null,
      "metadata": {
        "id": "m7-r8jtVD5N2"
      },
      "outputs": [],
      "source": [
        "gatos_conjunto = set(gatos)"
      ]
    },
    {
      "cell_type": "code",
      "execution_count": null,
      "metadata": {
        "id": "ZF28Vju4D5N2",
        "outputId": "88754b2e-4fda-4de6-d7bf-15a86b008a83"
      },
      "outputs": [
        {
          "name": "stdout",
          "output_type": "stream",
          "text": [
            "{'Ragdoll', 'Siberiano', 'Singapur', 'Siamés', 'Persa'}\n"
          ]
        }
      ],
      "source": [
        "print(gatos_conjunto)"
      ]
    },
    {
      "cell_type": "code",
      "execution_count": null,
      "metadata": {
        "id": "Hyzp-FXED5N2"
      },
      "outputs": [],
      "source": [
        "gatos_conjunto.add('Siberiano')"
      ]
    },
    {
      "cell_type": "code",
      "execution_count": null,
      "metadata": {
        "id": "6igsRR88D5N3",
        "outputId": "d959b27e-c20e-4a45-c450-c0602d162ed7"
      },
      "outputs": [
        {
          "name": "stdout",
          "output_type": "stream",
          "text": [
            "{'Ragdoll', 'Siberiano', 'Singapur', 'Siamés', 'Persa'}\n"
          ]
        }
      ],
      "source": [
        "print(gatos_conjunto)"
      ]
    },
    {
      "cell_type": "code",
      "execution_count": null,
      "metadata": {
        "id": "a2vWiyq8D5N3",
        "outputId": "ef8ff2e2-cc98-4a2e-a4c8-0f4497e0f8b2"
      },
      "outputs": [
        {
          "name": "stdout",
          "output_type": "stream",
          "text": [
            "False\n"
          ]
        }
      ],
      "source": [
        "print('singapur' in gatos_conjunto)"
      ]
    },
    {
      "cell_type": "code",
      "execution_count": null,
      "metadata": {
        "id": "RC29MOLeD5N3"
      },
      "outputs": [],
      "source": [
        "gatos_conjunto.update(nuevos_datos)"
      ]
    },
    {
      "cell_type": "code",
      "execution_count": null,
      "metadata": {
        "id": "i9r09lflD5N3",
        "outputId": "3f083c1e-8f8a-41a1-808d-bfb5a0f15157"
      },
      "outputs": [
        {
          "data": {
            "text/plain": [
              "{1, 20, 3, 'Persa', 'Ragdoll', 'Siamés', 'Siberiano', 'Singapur'}"
            ]
          },
          "execution_count": 78,
          "metadata": {},
          "output_type": "execute_result"
        }
      ],
      "source": [
        "gatos_conjunto"
      ]
    },
    {
      "cell_type": "code",
      "execution_count": null,
      "metadata": {
        "id": "YURl4tlXD5N3",
        "outputId": "53fd8a2e-1ae1-4400-edfc-7b59fbbb2995"
      },
      "outputs": [
        {
          "data": {
            "text/plain": [
              "8"
            ]
          },
          "execution_count": 79,
          "metadata": {},
          "output_type": "execute_result"
        }
      ],
      "source": [
        "len(gatos_conjunto)"
      ]
    },
    {
      "cell_type": "markdown",
      "metadata": {
        "id": "h03yr0i9D5N3"
      },
      "source": [
        "#### Operaciones sobre conjuntos"
      ]
    },
    {
      "cell_type": "code",
      "execution_count": null,
      "metadata": {
        "id": "i-H4OH0hD5N3"
      },
      "outputs": [],
      "source": [
        "A = set('Taza')\n",
        "B = set('Casa')"
      ]
    },
    {
      "cell_type": "code",
      "execution_count": null,
      "metadata": {
        "id": "KH5TXqDwD5N4",
        "outputId": "bd86f857-7677-4885-e9c9-eaff5982e7c5"
      },
      "outputs": [
        {
          "name": "stdout",
          "output_type": "stream",
          "text": [
            "{'a', 'z', 'T'}\n",
            "{'a', 'C', 's'}\n"
          ]
        }
      ],
      "source": [
        "print(A)\n",
        "print(B)"
      ]
    },
    {
      "cell_type": "code",
      "execution_count": null,
      "metadata": {
        "id": "0R3s74YXD5N4",
        "outputId": "7359c15c-1c02-4b1a-f490-72a2423ee3e0"
      },
      "outputs": [
        {
          "data": {
            "text/plain": [
              "{'T', 'z'}"
            ]
          },
          "execution_count": 82,
          "metadata": {},
          "output_type": "execute_result"
        }
      ],
      "source": [
        "A - B # elementos en A, pero no en B"
      ]
    },
    {
      "cell_type": "code",
      "execution_count": null,
      "metadata": {
        "id": "stUaJaFZD5N4",
        "outputId": "73e3b337-17d7-4c86-9bdf-5ad86bff72b1"
      },
      "outputs": [
        {
          "data": {
            "text/plain": [
              "{'C', 'T', 'a', 's', 'z'}"
            ]
          },
          "execution_count": 83,
          "metadata": {},
          "output_type": "execute_result"
        }
      ],
      "source": [
        "A | B # elementos en A o en B o en ambos"
      ]
    },
    {
      "cell_type": "code",
      "execution_count": null,
      "metadata": {
        "id": "dOWYsoFlD5N4",
        "outputId": "9d586d3c-89a2-4102-9f2b-55aeccf8889a"
      },
      "outputs": [
        {
          "data": {
            "text/plain": [
              "{'a'}"
            ]
          },
          "execution_count": 84,
          "metadata": {},
          "output_type": "execute_result"
        }
      ],
      "source": [
        "A & B # elementos en ambos conjuntos"
      ]
    },
    {
      "cell_type": "code",
      "execution_count": null,
      "metadata": {
        "id": "-xQQl58kD5N4",
        "outputId": "2b3f8a24-8008-4fbf-8923-c43e5dd98d36"
      },
      "outputs": [
        {
          "data": {
            "text/plain": [
              "{'C', 'T', 's', 'z'}"
            ]
          },
          "execution_count": 85,
          "metadata": {},
          "output_type": "execute_result"
        }
      ],
      "source": [
        "A ^ B # elementos en A o en B, pero no en ambos"
      ]
    },
    {
      "cell_type": "markdown",
      "metadata": {
        "id": "ZkQ56_6pD5N4"
      },
      "source": [
        "### Diccionarios\n",
        "- Diccionarios: es una colección que **NO** es ordenada, modificable, indexable y **NO** permite miembros duplicados."
      ]
    },
    {
      "cell_type": "code",
      "execution_count": null,
      "metadata": {
        "id": "dzU-vakMD5N5"
      },
      "outputs": [],
      "source": [
        "dicc = {'Luis': 20, 'Miguel': 25}"
      ]
    },
    {
      "cell_type": "code",
      "execution_count": null,
      "metadata": {
        "id": "iRm4y16DD5N5",
        "outputId": "e71bbbd2-99d8-4ea0-e22f-27c2c254940c"
      },
      "outputs": [
        {
          "name": "stdout",
          "output_type": "stream",
          "text": [
            "{'Luis': 20, 'Miguel': 25} <class 'dict'>\n"
          ]
        }
      ],
      "source": [
        "print(dicc, type(dicc))"
      ]
    },
    {
      "cell_type": "code",
      "execution_count": null,
      "metadata": {
        "id": "H4AHMEdPD5N5",
        "outputId": "24bbf985-e034-4888-9881-c6f49e6b3ae4"
      },
      "outputs": [
        {
          "data": {
            "text/plain": [
              "20"
            ]
          },
          "execution_count": 88,
          "metadata": {},
          "output_type": "execute_result"
        }
      ],
      "source": [
        "dicc['Luis'] # acceder a un elemento del diccionario"
      ]
    },
    {
      "cell_type": "code",
      "execution_count": null,
      "metadata": {
        "id": "-PtWHMdyD5N5"
      },
      "outputs": [],
      "source": [
        "dicc['Juan'] = 30 # agregar un nuevo elemento al diccionario"
      ]
    },
    {
      "cell_type": "code",
      "execution_count": null,
      "metadata": {
        "id": "16hKr6EjD5N5",
        "outputId": "7d835d48-177b-4560-dd73-9146df20b0a0"
      },
      "outputs": [
        {
          "name": "stdout",
          "output_type": "stream",
          "text": [
            "{'Luis': 20, 'Miguel': 25, 'Juan': 30}\n"
          ]
        }
      ],
      "source": [
        "print(dicc)"
      ]
    },
    {
      "cell_type": "code",
      "execution_count": null,
      "metadata": {
        "id": "Nrdw8v6BD5N5",
        "outputId": "f40cba10-af73-45d2-8823-8378b63989dc"
      },
      "outputs": [
        {
          "data": {
            "text/plain": [
              "True"
            ]
          },
          "execution_count": 91,
          "metadata": {},
          "output_type": "execute_result"
        }
      ],
      "source": [
        "'Luis' in dicc"
      ]
    },
    {
      "cell_type": "code",
      "execution_count": null,
      "metadata": {
        "id": "NcC0steLD5N6"
      },
      "outputs": [],
      "source": [
        "otro =  dict(nuevo='estrellas', viejo='cosmos', edad=15000000)"
      ]
    },
    {
      "cell_type": "code",
      "execution_count": null,
      "metadata": {
        "id": "6kLZ9nuWD5N6",
        "outputId": "b0f731bb-e45e-4d75-a5b0-1be5699c8838"
      },
      "outputs": [
        {
          "data": {
            "text/plain": [
              "{'nuevo': 'estrellas', 'viejo': 'cosmos', 'edad': 15000000}"
            ]
          },
          "execution_count": 93,
          "metadata": {},
          "output_type": "execute_result"
        }
      ],
      "source": [
        "otro"
      ]
    },
    {
      "cell_type": "code",
      "execution_count": null,
      "metadata": {
        "id": "RgRIp_0rD5N6",
        "outputId": "31b6afa4-09c1-4fcf-a113-b1283fdfc91c"
      },
      "outputs": [
        {
          "data": {
            "text/plain": [
              "{'a': 1, 'b': 2, 'c': 3, 'd': 4}"
            ]
          },
          "execution_count": 94,
          "metadata": {},
          "output_type": "execute_result"
        }
      ],
      "source": [
        "dict(zip('abcd',[1,2,3,4,5]))"
      ]
    },
    {
      "cell_type": "markdown",
      "metadata": {
        "id": "21NHOa1FD5N6"
      },
      "source": [
        "#### Transformación de diccionarios a otras colecciones"
      ]
    },
    {
      "cell_type": "code",
      "execution_count": null,
      "metadata": {
        "id": "G5-Clv4ND5N6",
        "outputId": "bda176d2-f945-4f91-fde1-45bad14056d0"
      },
      "outputs": [
        {
          "data": {
            "text/plain": [
              "['Luis', 'Miguel', 'Juan']"
            ]
          },
          "execution_count": 95,
          "metadata": {},
          "output_type": "execute_result"
        }
      ],
      "source": [
        "list(dicc)"
      ]
    },
    {
      "cell_type": "code",
      "execution_count": null,
      "metadata": {
        "id": "SVUS495gD5N6",
        "outputId": "987c6377-aac0-4f3f-be82-5ee25685ed85"
      },
      "outputs": [
        {
          "data": {
            "text/plain": [
              "dict_values([20, 25, 30])"
            ]
          },
          "execution_count": 97,
          "metadata": {},
          "output_type": "execute_result"
        }
      ],
      "source": [
        "dicc.values()"
      ]
    },
    {
      "cell_type": "code",
      "execution_count": null,
      "metadata": {
        "id": "xRfDT45BD5N6",
        "outputId": "cc519c7f-648d-4f01-e1c6-968833a2d35c"
      },
      "outputs": [
        {
          "data": {
            "text/plain": [
              "[20, 25, 30]"
            ]
          },
          "execution_count": 96,
          "metadata": {},
          "output_type": "execute_result"
        }
      ],
      "source": [
        "list(dicc.values())"
      ]
    },
    {
      "cell_type": "code",
      "execution_count": null,
      "metadata": {
        "id": "9Bq5HkM5D5N7",
        "outputId": "8b98c71d-03e2-4ad0-d8d4-cff115af83e8"
      },
      "outputs": [
        {
          "data": {
            "text/plain": [
              "{'Juan', 'Luis', 'Miguel'}"
            ]
          },
          "execution_count": 98,
          "metadata": {},
          "output_type": "execute_result"
        }
      ],
      "source": [
        "set(dicc)"
      ]
    },
    {
      "cell_type": "code",
      "execution_count": null,
      "metadata": {
        "id": "VDmauEzoD5N7",
        "outputId": "a61f8dac-1d8d-4a17-b387-757aa79b27d1"
      },
      "outputs": [
        {
          "data": {
            "text/plain": [
              "('Luis', 'Miguel', 'Juan')"
            ]
          },
          "execution_count": 99,
          "metadata": {},
          "output_type": "execute_result"
        }
      ],
      "source": [
        "tuple(dicc)"
      ]
    },
    {
      "cell_type": "markdown",
      "metadata": {
        "id": "DDYumlD4D5N7"
      },
      "source": [
        "#### Operaciones sobre diccionarios"
      ]
    },
    {
      "cell_type": "code",
      "execution_count": null,
      "metadata": {
        "id": "CmqVwekYD5N7",
        "outputId": "def8b39f-ff9f-454c-c07c-068677be08d3"
      },
      "outputs": [
        {
          "data": {
            "text/plain": [
              "{'Luis': 20, 'Miguel': 25, 'Juan': 30}"
            ]
          },
          "execution_count": 100,
          "metadata": {},
          "output_type": "execute_result"
        }
      ],
      "source": [
        "dicc"
      ]
    },
    {
      "cell_type": "code",
      "execution_count": null,
      "metadata": {
        "id": "Bloxqf_JD5N7",
        "outputId": "1a6422bd-6d26-40fa-95cc-b9ae2cecb30a"
      },
      "outputs": [
        {
          "data": {
            "text/plain": [
              "3"
            ]
          },
          "execution_count": 101,
          "metadata": {},
          "output_type": "execute_result"
        }
      ],
      "source": [
        "len(dicc)"
      ]
    },
    {
      "cell_type": "code",
      "execution_count": null,
      "metadata": {
        "id": "6pJec2JfD5N7",
        "outputId": "253da5aa-9e07-4d58-94a6-17342dff0d54"
      },
      "outputs": [
        {
          "data": {
            "text/plain": [
              "dict_keys(['Luis', 'Miguel', 'Juan'])"
            ]
          },
          "execution_count": 102,
          "metadata": {},
          "output_type": "execute_result"
        }
      ],
      "source": [
        "dicc.keys()"
      ]
    },
    {
      "cell_type": "code",
      "execution_count": null,
      "metadata": {
        "id": "KWdYy9oTD5N8",
        "outputId": "a274e504-cdcf-461a-da07-aef31a9cbca0"
      },
      "outputs": [
        {
          "data": {
            "text/plain": [
              "dict_values([20, 25, 30])"
            ]
          },
          "execution_count": 103,
          "metadata": {},
          "output_type": "execute_result"
        }
      ],
      "source": [
        "dicc.values()"
      ]
    },
    {
      "cell_type": "code",
      "execution_count": null,
      "metadata": {
        "id": "aeTobJBgD5N8"
      },
      "outputs": [],
      "source": [
        "dicc['fulano'] = 100"
      ]
    },
    {
      "cell_type": "code",
      "execution_count": null,
      "metadata": {
        "id": "X3iKtFxpD5N8",
        "outputId": "da47896a-0bf2-4955-9039-6b17044e1f16"
      },
      "outputs": [
        {
          "data": {
            "text/plain": [
              "{'Luis': 20, 'Miguel': 25, 'Juan': 30, 'fulano': 100}"
            ]
          },
          "execution_count": 105,
          "metadata": {},
          "output_type": "execute_result"
        }
      ],
      "source": [
        "dicc"
      ]
    },
    {
      "cell_type": "code",
      "execution_count": null,
      "metadata": {
        "id": "IsN3aHpVD5N8"
      },
      "outputs": [],
      "source": [
        "del dicc['Miguel']"
      ]
    },
    {
      "cell_type": "code",
      "execution_count": null,
      "metadata": {
        "id": "lgVAOYwJD5N8",
        "outputId": "24752c8a-d343-4a41-b9fd-5c925c3c41e3"
      },
      "outputs": [
        {
          "data": {
            "text/plain": [
              "{'Luis': 20, 'Juan': 30, 'fulano': 100}"
            ]
          },
          "execution_count": 107,
          "metadata": {},
          "output_type": "execute_result"
        }
      ],
      "source": [
        "dicc"
      ]
    },
    {
      "cell_type": "code",
      "execution_count": null,
      "metadata": {
        "id": "Sd-h58wTD5N8",
        "outputId": "2c49a04f-cd30-43bb-81cf-d82af63d39ed"
      },
      "outputs": [
        {
          "data": {
            "text/plain": [
              "{'nuevo': 'estrellas', 'viejo': 'cosmos', 'edad': 15000000}"
            ]
          },
          "execution_count": 108,
          "metadata": {},
          "output_type": "execute_result"
        }
      ],
      "source": [
        "otro"
      ]
    },
    {
      "cell_type": "code",
      "execution_count": null,
      "metadata": {
        "id": "ndK_BJtXD5N8"
      },
      "outputs": [],
      "source": [
        "dicc.update(otro)"
      ]
    },
    {
      "cell_type": "code",
      "execution_count": null,
      "metadata": {
        "id": "NXpFYX9JD5N9",
        "outputId": "41e57321-b419-4f4d-9c96-d84083c52d63"
      },
      "outputs": [
        {
          "data": {
            "text/plain": [
              "{'Luis': 20,\n",
              " 'Juan': 30,\n",
              " 'fulano': 100,\n",
              " 'nuevo': 'estrellas',\n",
              " 'viejo': 'cosmos',\n",
              " 'edad': 15000000}"
            ]
          },
          "execution_count": 110,
          "metadata": {},
          "output_type": "execute_result"
        }
      ],
      "source": [
        "dicc"
      ]
    },
    {
      "cell_type": "code",
      "execution_count": null,
      "metadata": {
        "id": "BTD36Xo3D5N9"
      },
      "outputs": [],
      "source": [
        "nuevo = {'Luis':512, 'viejo':2.1}"
      ]
    },
    {
      "cell_type": "code",
      "execution_count": null,
      "metadata": {
        "id": "facZ5fSKD5N9"
      },
      "outputs": [],
      "source": [
        "dicc.update(nuevo)"
      ]
    },
    {
      "cell_type": "code",
      "execution_count": null,
      "metadata": {
        "id": "BpqAyShFD5N9",
        "outputId": "78774b1f-5215-4933-ca24-129e339ba6fa"
      },
      "outputs": [
        {
          "data": {
            "text/plain": [
              "{'Luis': 512,\n",
              " 'Juan': 30,\n",
              " 'fulano': 100,\n",
              " 'nuevo': 'estrellas',\n",
              " 'viejo': 2.1,\n",
              " 'edad': 15000000}"
            ]
          },
          "execution_count": 113,
          "metadata": {},
          "output_type": "execute_result"
        }
      ],
      "source": [
        "dicc"
      ]
    }
  ],
  "metadata": {
    "kernelspec": {
      "display_name": "Python 3 (ipykernel)",
      "language": "python",
      "name": "python3"
    },
    "language_info": {
      "codemirror_mode": {
        "name": "ipython",
        "version": 3
      },
      "file_extension": ".py",
      "mimetype": "text/x-python",
      "name": "python",
      "nbconvert_exporter": "python",
      "pygments_lexer": "ipython3",
      "version": "3.8.10"
    },
    "colab": {
      "provenance": [],
      "include_colab_link": true
    }
  },
  "nbformat": 4,
  "nbformat_minor": 0
}