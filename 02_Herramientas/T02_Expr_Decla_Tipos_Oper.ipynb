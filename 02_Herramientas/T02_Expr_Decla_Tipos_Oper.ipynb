{
  "cells": [
    {
      "cell_type": "markdown",
      "metadata": {
        "id": "view-in-github",
        "colab_type": "text"
      },
      "source": [
        "<a href=\"https://colab.research.google.com/github/repomacti/Curso_Macti/blob/zeus/02_Herramientas/T02_Expr_Decla_Tipos_Oper.ipynb\" target=\"_parent\"><img src=\"https://colab.research.google.com/assets/colab-badge.svg\" alt=\"Open In Colab\"/></a>"
      ]
    },
    {
      "cell_type": "markdown",
      "metadata": {
        "id": "WwHo_LMaDKPc"
      },
      "source": [
        "# Python de cero a experto\n",
        "**Autor:** Luis Miguel de la Cruz Salas\n",
        "\n",
        "<a href=\"https://github.com/luiggix/Python_cero_a_experto\">Python de cero a experto</a> by Luis M. de la Cruz Salas is licensed under <a href=\"https://creativecommons.org/licenses/by-nc-nd/4.0?ref=chooser-v1\">Attribution-NonCommercial-NoDerivatives 4.0 International</a>"
      ]
    },
    {
      "cell_type": "markdown",
      "metadata": {
        "id": "PGRDaP9QDKPd"
      },
      "source": [
        "## Pythonico es más bonito"
      ]
    },
    {
      "cell_type": "markdown",
      "metadata": {
        "id": "GBzclaffDKPe"
      },
      "source": [
        "### <font color=\"#DF2145\">Expresiones y declaraciones</font>"
      ]
    },
    {
      "cell_type": "markdown",
      "metadata": {
        "id": "GT8FbR1nDKPe"
      },
      "source": [
        "En matemáticas se define una expresión como una colección de símbolos que juntos expresan una cantidad, por ejemplo, el perímetro de una circunferencia es 2$\\pi r$.\n",
        "\n",
        "\n",
        "En Python una **expresión** está compuesta de una combinación válida de valores, operadores, funciones y métodos, que se puede evaluar y da como resultado al menos un valor. Una expresión puede estar del lado derecho de una asignación.\n",
        "\n",
        "```python\n",
        "a = 2**32\n",
        "```\n",
        "Véase más en\n",
        "<a href=\"https://docs.python.org/3/reference/expressions.html\">The Python language reference: Expressions</a> y <a href=\"https://en.wikipedia.org/wiki/Python_(programming_language)#Expressions\"> Python expressions </a> .\n",
        "\n",
        "En términos simples y generales se dice que **una expresión produce un valor**."
      ]
    },
    {
      "cell_type": "code",
      "execution_count": null,
      "metadata": {
        "id": "8rESxImGDKPf",
        "outputId": "2d7f83fb-67ef-4754-b766-0460d985bb9d"
      },
      "outputs": [
        {
          "data": {
            "text/plain": [
              "23"
            ]
          },
          "execution_count": 1,
          "metadata": {},
          "output_type": "execute_result"
        }
      ],
      "source": [
        "23  # Expresión simple"
      ]
    },
    {
      "cell_type": "code",
      "execution_count": null,
      "metadata": {
        "id": "jX5bPuGiDKPg",
        "outputId": "0ee88ea0-cc76-4194-c40a-991675fe1f6c"
      },
      "outputs": [
        {
          "data": {
            "text/plain": [
              "10"
            ]
          },
          "execution_count": 2,
          "metadata": {},
          "output_type": "execute_result"
        }
      ],
      "source": [
        "len('Hola mundo') # Expresión que ejecuta una función"
      ]
    },
    {
      "cell_type": "code",
      "execution_count": null,
      "metadata": {
        "id": "7xBMTQl-DKPh",
        "outputId": "012a3201-d21f-4dd7-b29b-22e5e9e4cd82"
      },
      "outputs": [
        {
          "data": {
            "text/plain": [
              "27"
            ]
          },
          "execution_count": 3,
          "metadata": {},
          "output_type": "execute_result"
        }
      ],
      "source": [
        "# Otros ejemplos\n",
        "x = 1\n",
        "y = x + 2\n",
        "y ** 3"
      ]
    },
    {
      "cell_type": "code",
      "execution_count": null,
      "metadata": {
        "id": "59dEN0LsDKPh",
        "outputId": "cd762639-0a5c-4f0a-9870-d80eefc3712c"
      },
      "outputs": [
        {
          "data": {
            "text/plain": [
              "False"
            ]
          },
          "execution_count": 4,
          "metadata": {},
          "output_type": "execute_result"
        }
      ],
      "source": [
        "7 == 2 * 2 * 2"
      ]
    },
    {
      "cell_type": "code",
      "execution_count": null,
      "metadata": {
        "id": "6kfGQB3gDKPi",
        "outputId": "f996978d-ea7c-4396-c238-0c260a494dc7"
      },
      "outputs": [
        {
          "data": {
            "text/plain": [
              "12.566368"
            ]
          },
          "execution_count": 5,
          "metadata": {},
          "output_type": "execute_result"
        }
      ],
      "source": [
        "3.141592 * len('Luis')"
      ]
    },
    {
      "cell_type": "markdown",
      "metadata": {
        "id": "nBUva7ImDKPi"
      },
      "source": [
        "Una **declaración** (*statement*) se puede pensar como el elemento autónomo más corto de un lenguaje de programación. Un programa se forma de una secuencia que contiene una o más declaraciones. Una declaración contiene componentes internos, que pueden ser otras declaraciones y varias expresiones. Véase más en <a href=\"https://docs.python.org/3/reference/simple_stmts.html\">Simple statements</a>, <a href=\"https://docs.python.org/3/reference/compound_stmts.html\">Compound statements</a>\n",
        "y <a href=\"https://en.wikipedia.org/wiki/Python_(programming_language)#Statements_and_control_flow\">Python statements (wikipedia)</a>.\n",
        "\n",
        "En términos simples y generales se dice que **una declaración hace algo**."
      ]
    },
    {
      "cell_type": "code",
      "execution_count": null,
      "metadata": {
        "id": "fC-EfrVtDKPi"
      },
      "outputs": [],
      "source": [
        "# Esta declaración realiza una pregunta, no produce nada\n",
        "if x < 0:\n",
        "    x = 0"
      ]
    },
    {
      "cell_type": "code",
      "execution_count": null,
      "metadata": {
        "id": "dRV_1zR3DKPi",
        "outputId": "dcbb878f-d8d7-4f5c-c9b4-0d59345f220c"
      },
      "outputs": [
        {
          "name": "stdout",
          "output_type": "stream",
          "text": [
            "Hola\n"
          ]
        }
      ],
      "source": [
        "# Esta declaración ejecuta una función.\n",
        "print('Hola')"
      ]
    },
    {
      "cell_type": "markdown",
      "metadata": {
        "id": "v0uB4X1tDKPj"
      },
      "source": [
        "### <font color=\"#DF2145\">Tipos y operadores</font>"
      ]
    },
    {
      "cell_type": "markdown",
      "metadata": {
        "id": "tME72m42DKPj"
      },
      "source": [
        "El tipo de un objeto se determina en tiempo de ejecución.\n",
        "\n",
        "Tres tipos más usados:\n",
        "\n",
        "|Tipo|Ejemplo|\n",
        "|----|-------|\n",
        "|Númerico|13, 3.1416, 1+5j|\n",
        "| Cadena |\"Frida\", \"Diego\"|\n",
        "| Lógico | True, False|"
      ]
    },
    {
      "cell_type": "markdown",
      "metadata": {
        "id": "xhY0yxCHDKPj"
      },
      "source": [
        "### <font color=\"#DF2145\">Tipos númericos</font>\n",
        "Tres tipos de números:\n",
        "1. Enteros\n",
        "2. Reales\n",
        "3. Complejos"
      ]
    },
    {
      "cell_type": "markdown",
      "metadata": {
        "id": "jF6f5IXADKPj"
      },
      "source": [
        "**1. Enteros**\n",
        "\n",
        "Son aquellos que carecen de parte decimal."
      ]
    },
    {
      "cell_type": "code",
      "execution_count": null,
      "metadata": {
        "id": "9GfGFzEcDKPk",
        "outputId": "510b6e95-93d4-458f-fb30-c1dcf6c1c871"
      },
      "outputs": [
        {
          "name": "stdout",
          "output_type": "stream",
          "text": [
            "13\n",
            "<class 'int'>\n"
          ]
        }
      ],
      "source": [
        "entero   = 13\n",
        "print(entero)\n",
        "print(type(entero))"
      ]
    },
    {
      "cell_type": "code",
      "execution_count": null,
      "metadata": {
        "id": "rNpEQXevDKPk",
        "outputId": "41e1df70-19aa-42f9-95bf-1be5350d8a52"
      },
      "outputs": [
        {
          "data": {
            "text/plain": [
              "sys.int_info(bits_per_digit=30, sizeof_digit=4)"
            ]
          },
          "execution_count": 9,
          "metadata": {},
          "output_type": "execute_result"
        }
      ],
      "source": [
        "import sys\n",
        "sys.int_info"
      ]
    },
    {
      "cell_type": "markdown",
      "metadata": {
        "id": "ADQyngKrDKPk"
      },
      "source": [
        "**2. Reales**\n",
        "\n",
        "Son aquellos que tienen una parte decimal."
      ]
    },
    {
      "cell_type": "code",
      "execution_count": null,
      "metadata": {
        "id": "SY1xj0BaDKPk",
        "outputId": "ef1a14fe-d71b-4924-a644-571b9c22ab89"
      },
      "outputs": [
        {
          "name": "stdout",
          "output_type": "stream",
          "text": [
            "3.141592\n",
            "<class 'float'>\n"
          ]
        }
      ],
      "source": [
        "pi = 3.141592\n",
        "print(pi)\n",
        "print(type(pi))"
      ]
    },
    {
      "cell_type": "code",
      "execution_count": null,
      "metadata": {
        "id": "PJUod76GDKPl",
        "outputId": "941c99f0-7a44-4d91-eaf8-e5d69c4eb757"
      },
      "outputs": [
        {
          "data": {
            "text/plain": [
              "sys.float_info(max=1.7976931348623157e+308, max_exp=1024, max_10_exp=308, min=2.2250738585072014e-308, min_exp=-1021, min_10_exp=-307, dig=15, mant_dig=53, epsilon=2.220446049250313e-16, radix=2, rounds=1)"
            ]
          },
          "execution_count": 11,
          "metadata": {},
          "output_type": "execute_result"
        }
      ],
      "source": [
        "sys.float_info"
      ]
    },
    {
      "cell_type": "markdown",
      "metadata": {
        "id": "2ggFTAGYDKPl"
      },
      "source": [
        "**3. Complejos**\n",
        "\n",
        "Son aquellos que tienen una parte real y una parte imaginaria, y ambas partes son números reales."
      ]
    },
    {
      "cell_type": "code",
      "execution_count": null,
      "metadata": {
        "id": "FK1Put0jDKPl",
        "outputId": "5c0b9b93-69af-4405-aaf1-4fd95f314109"
      },
      "outputs": [
        {
          "name": "stdout",
          "output_type": "stream",
          "text": [
            "(12+5j)\n",
            "<class 'complex'>\n"
          ]
        }
      ],
      "source": [
        "complejo = 12 + 5j # La parte imaginaria lleva una j al final\n",
        "print(complejo)\n",
        "print(type(complejo))"
      ]
    },
    {
      "cell_type": "code",
      "execution_count": null,
      "metadata": {
        "id": "4WTpQWMqDKPl",
        "outputId": "2d7ac26b-bffd-45a2-d356-e1409e9ad405"
      },
      "outputs": [
        {
          "data": {
            "text/plain": [
              "5.0"
            ]
          },
          "execution_count": 13,
          "metadata": {},
          "output_type": "execute_result"
        }
      ],
      "source": [
        "complejo.imag"
      ]
    },
    {
      "cell_type": "code",
      "execution_count": null,
      "metadata": {
        "id": "NsIfT7sXDKPl",
        "outputId": "78e3c2fe-7f82-4f93-edb6-224075b176bd"
      },
      "outputs": [
        {
          "data": {
            "text/plain": [
              "12.0"
            ]
          },
          "execution_count": 14,
          "metadata": {},
          "output_type": "execute_result"
        }
      ],
      "source": [
        "complejo.real"
      ]
    },
    {
      "cell_type": "code",
      "execution_count": null,
      "metadata": {
        "id": "bUIXLFoEDKPm",
        "outputId": "be2bedb0-d9db-437a-8f66-fbd4dd87ad09"
      },
      "outputs": [
        {
          "data": {
            "text/plain": [
              "(12-5j)"
            ]
          },
          "execution_count": 15,
          "metadata": {},
          "output_type": "execute_result"
        }
      ],
      "source": [
        "complejo.conjugate()"
      ]
    },
    {
      "cell_type": "code",
      "execution_count": null,
      "metadata": {
        "id": "wHBo9Nx-DKPm",
        "outputId": "c7f28991-5e6a-4e9c-8db9-509609cce31c"
      },
      "outputs": [
        {
          "data": {
            "text/plain": [
              "5.0"
            ]
          },
          "execution_count": 16,
          "metadata": {},
          "output_type": "execute_result"
        }
      ],
      "source": [
        "complejo.imag"
      ]
    },
    {
      "cell_type": "markdown",
      "metadata": {
        "id": "yeAXV84PDKPm"
      },
      "source": [
        "### <font color=\"#DF2145\">Operadores Aritméticos</font>"
      ]
    },
    {
      "cell_type": "code",
      "execution_count": null,
      "metadata": {
        "id": "DadFWA-TDKPm",
        "outputId": "77befcad-1552-4967-d2c3-afb822d66258"
      },
      "outputs": [
        {
          "data": {
            "text/plain": [
              "3"
            ]
          },
          "execution_count": 17,
          "metadata": {},
          "output_type": "execute_result"
        }
      ],
      "source": [
        "# Suma\n",
        "1 + 2"
      ]
    },
    {
      "cell_type": "code",
      "execution_count": null,
      "metadata": {
        "id": "H9bDrPY0DKPm",
        "outputId": "81435113-e500-4d43-e4c0-67854dbd49a4"
      },
      "outputs": [
        {
          "data": {
            "text/plain": [
              "-27"
            ]
          },
          "execution_count": 18,
          "metadata": {},
          "output_type": "execute_result"
        }
      ],
      "source": [
        "# Resta\n",
        "5 - 32"
      ]
    },
    {
      "cell_type": "code",
      "execution_count": null,
      "metadata": {
        "id": "de349OU3DKPm",
        "outputId": "9e19223a-0459-431c-9c1d-34055113c7f1"
      },
      "outputs": [
        {
          "data": {
            "text/plain": [
              "9"
            ]
          },
          "execution_count": 19,
          "metadata": {},
          "output_type": "execute_result"
        }
      ],
      "source": [
        "# Multiplicación\n",
        "3 * 3"
      ]
    },
    {
      "cell_type": "code",
      "execution_count": null,
      "metadata": {
        "id": "ATXDptCJDKPn",
        "outputId": "485e6c29-3a8a-46f1-c4e9-c47f8090c33f"
      },
      "outputs": [
        {
          "data": {
            "text/plain": [
              "1.5"
            ]
          },
          "execution_count": 20,
          "metadata": {},
          "output_type": "execute_result"
        }
      ],
      "source": [
        "# División\n",
        "3 / 2"
      ]
    },
    {
      "cell_type": "code",
      "execution_count": null,
      "metadata": {
        "id": "1skb-cHMDKPn",
        "outputId": "a82fe258-302e-4e68-b01d-11b2b4aaaa0c"
      },
      "outputs": [
        {
          "data": {
            "text/plain": [
              "9.0"
            ]
          },
          "execution_count": 21,
          "metadata": {},
          "output_type": "execute_result"
        }
      ],
      "source": [
        "# Potencia\n",
        "81 ** (1/2)"
      ]
    },
    {
      "cell_type": "markdown",
      "metadata": {
        "id": "oMiof6mZDKPn"
      },
      "source": [
        "<a href=\"https://docs.python.org/3/library/stdtypes.html#numeric-types-int-float-complex\">Numeric types</a>"
      ]
    },
    {
      "cell_type": "code",
      "execution_count": null,
      "metadata": {
        "id": "dR2KH2erDKPn",
        "outputId": "c663356a-9013-4b05-cf85-e50f1cda1b8e"
      },
      "outputs": [
        {
          "data": {
            "text/plain": [
              "11"
            ]
          },
          "execution_count": 22,
          "metadata": {},
          "output_type": "execute_result"
        }
      ],
      "source": [
        "# Precedencia de operaciones\n",
        "1 + 2 * 3 + 4"
      ]
    },
    {
      "cell_type": "code",
      "execution_count": null,
      "metadata": {
        "id": "f5TsSCFXDKPn",
        "outputId": "4ea1b9f9-37d1-4a24-bc24-dfed1c76b887"
      },
      "outputs": [
        {
          "data": {
            "text/plain": [
              "21"
            ]
          },
          "execution_count": 23,
          "metadata": {},
          "output_type": "execute_result"
        }
      ],
      "source": [
        "# Uso de paréntesis para modificar la precedencia\n",
        "(1 + 2) * (3 + 4)"
      ]
    },
    {
      "cell_type": "code",
      "execution_count": null,
      "metadata": {
        "id": "A3wOKIHtDKPo",
        "outputId": "f2163d65-7ecb-4181-d750-3c8e1062e34d"
      },
      "outputs": [
        {
          "data": {
            "text/plain": [
              "9.0"
            ]
          },
          "execution_count": 24,
          "metadata": {},
          "output_type": "execute_result"
        }
      ],
      "source": [
        "6/2*(2+1)"
      ]
    },
    {
      "cell_type": "markdown",
      "metadata": {
        "id": "rsPEZ9EQDKPo"
      },
      "source": [
        "<a href=\"https://docs.python.org/3/reference/expressions.html#operator-summary\">Operator precedence</a>"
      ]
    },
    {
      "cell_type": "code",
      "execution_count": null,
      "metadata": {
        "id": "M61474Z5DKPo",
        "outputId": "8b73112b-6eeb-448a-8406-d878516b6b59"
      },
      "outputs": [
        {
          "data": {
            "text/plain": [
              "(1+6j)"
            ]
          },
          "execution_count": 25,
          "metadata": {},
          "output_type": "execute_result"
        }
      ],
      "source": [
        "# Operaciones entre tipos diferentes\n",
        "a = 1\n",
        "b = 2 * 3j\n",
        "a + b"
      ]
    },
    {
      "cell_type": "markdown",
      "metadata": {
        "id": "R3ziG6bmDKPo"
      },
      "source": [
        "### <font color=\"#DF2145\">Operadores de asignación</font>"
      ]
    },
    {
      "cell_type": "code",
      "execution_count": null,
      "metadata": {
        "id": "RwCd5wCqDKPo",
        "outputId": "400685eb-f99e-447c-8c59-4fb460eee887"
      },
      "outputs": [
        {
          "name": "stdout",
          "output_type": "stream",
          "text": [
            "2.0\n"
          ]
        }
      ],
      "source": [
        "etiqueta = 1.0\n",
        "suma = 1.0\n",
        "suma += etiqueta  # Equivalente a : suma = suma + etiqueta\n",
        "print(suma)"
      ]
    },
    {
      "cell_type": "code",
      "execution_count": null,
      "metadata": {
        "id": "mgIYANWNDKPp",
        "outputId": "a3d4f530-726f-475a-b517-f583bf63c462"
      },
      "outputs": [
        {
          "data": {
            "text/plain": [
              "3.0"
            ]
          },
          "execution_count": 27,
          "metadata": {},
          "output_type": "execute_result"
        }
      ],
      "source": [
        "suma += 1\n",
        "suma"
      ]
    },
    {
      "cell_type": "code",
      "execution_count": null,
      "metadata": {
        "id": "Z_tnAM8bDKPp",
        "outputId": "07f5a8cd-fb93-46db-f4d4-0d9c09cb1f73"
      },
      "outputs": [
        {
          "data": {
            "text/plain": [
              "1"
            ]
          },
          "execution_count": 28,
          "metadata": {},
          "output_type": "execute_result"
        }
      ],
      "source": [
        "suma = 1\n",
        "suma"
      ]
    },
    {
      "cell_type": "code",
      "execution_count": null,
      "metadata": {
        "id": "jwNZ-r-kDKPp",
        "outputId": "6f29a24c-4b04-41be-8a9b-14187b0aa024"
      },
      "outputs": [
        {
          "name": "stdout",
          "output_type": "stream",
          "text": [
            "12\n"
          ]
        }
      ],
      "source": [
        "etiqueta =  4\n",
        "resta = 16\n",
        "resta -= etiqueta # Equivalente a : resta = resta - etiqueta\n",
        "print(resta)"
      ]
    },
    {
      "cell_type": "code",
      "execution_count": null,
      "metadata": {
        "id": "7L8CD8ikDKPp",
        "outputId": "330589ed-3de4-4c90-b33c-a96cf1c68e61"
      },
      "outputs": [
        {
          "name": "stdout",
          "output_type": "stream",
          "text": [
            "24\n"
          ]
        }
      ],
      "source": [
        "etiqueta = 2\n",
        "mult = 12\n",
        "mult *= etiqueta  # Equivalente a : mult = mult * etiqueta\n",
        "print(mult)"
      ]
    },
    {
      "cell_type": "code",
      "execution_count": null,
      "metadata": {
        "id": "w-8Eovz3DKPp",
        "outputId": "1d2fa571-3f41-4955-948d-c7e1eb6a5ba4"
      },
      "outputs": [
        {
          "name": "stdout",
          "output_type": "stream",
          "text": [
            "10.0\n"
          ]
        }
      ],
      "source": [
        "etiqueta = 5\n",
        "divide = 50\n",
        "divide /= etiqueta  # Equivalente a : divide = divide / etiqueta\n",
        "print(divide)"
      ]
    },
    {
      "cell_type": "code",
      "execution_count": null,
      "metadata": {
        "id": "pv5F-OO-DKPq",
        "outputId": "d2c29931-1360-4715-8dd2-fddab0fcc613"
      },
      "outputs": [
        {
          "name": "stdout",
          "output_type": "stream",
          "text": [
            "9\n"
          ]
        }
      ],
      "source": [
        "etiqueta = 2\n",
        "pot = 3\n",
        "pot **= etiqueta # Equivalente a : pot = pot ** etiqueta\n",
        "print(pot)"
      ]
    },
    {
      "cell_type": "code",
      "execution_count": null,
      "metadata": {
        "id": "mSQxr3MwDKPq",
        "outputId": "b0952c69-99b6-4c1b-c73c-8a822b70bc44"
      },
      "outputs": [
        {
          "name": "stdout",
          "output_type": "stream",
          "text": [
            "0\n"
          ]
        }
      ],
      "source": [
        "etiqueta = 5\n",
        "modulo = 50\n",
        "modulo %= etiqueta # Equivalente a : modulo = modulo % etiqueta\n",
        "print(modulo)"
      ]
    },
    {
      "cell_type": "markdown",
      "metadata": {
        "id": "iKK6VoJjDKPq"
      },
      "source": [
        "### <font color=\"#DF2145\">Cadenas</font>\n",
        "\n",
        "Para definir una cadena se utilizan comillas simples, comillas dobles o comillas triples."
      ]
    },
    {
      "cell_type": "code",
      "execution_count": null,
      "metadata": {
        "id": "Vmh7_zZWDKPq",
        "outputId": "6be71fdc-092f-4bca-8658-08d941d63258"
      },
      "outputs": [
        {
          "name": "stdout",
          "output_type": "stream",
          "text": [
            "este es un ejemplo usando ' ' \n",
            "este es un ejemplo usando \" \" \n",
            "este es un ejemplo usando ''' ''' \n"
          ]
        }
      ],
      "source": [
        "ejemplo = 'este es un ejemplo usando \\' \\' ' # Usamos el caractér de escape\n",
        "print(ejemplo)\n",
        "ejemplo = \"este es un ejemplo usando \\\" \\\" \"\n",
        "print(ejemplo)\n",
        "ejemplo = '''este es un ejemplo usando \\''' \\''' '''\n",
        "print(ejemplo)"
      ]
    },
    {
      "cell_type": "code",
      "execution_count": null,
      "metadata": {
        "scrolled": true,
        "id": "R8I1f8eKDKPq",
        "outputId": "329e3829-6a82-4fbb-ae56-ebc1b4b22b69"
      },
      "outputs": [
        {
          "name": "stdout",
          "output_type": "stream",
          "text": [
            " \n",
            "Desde muy niño\n",
            "tuve que interrumpir mi educuación\n",
            "para ir a la escuela\n",
            "\n"
          ]
        }
      ],
      "source": [
        "queja = '''\n",
        "Desde muy niño\n",
        "tuve que interrumpir mi educuación\n",
        "para ir a la escuela\n",
        "'''\n",
        "print(queja)"
      ]
    },
    {
      "cell_type": "code",
      "execution_count": null,
      "metadata": {
        "id": "rpjQlplGDKPr",
        "outputId": "ff40f9cc-4f4f-4438-c3f3-c5160d047510"
      },
      "outputs": [
        {
          "name": "stdout",
          "output_type": "stream",
          "text": [
            "Enjoy the moments now, because they don't last forever\n"
          ]
        }
      ],
      "source": [
        "# La cadena puede tener ' dentro de \" \"\n",
        "poema = \"Enjoy the moments now, because they don't last forever\"\n",
        "print(poema)"
      ]
    },
    {
      "cell_type": "code",
      "execution_count": null,
      "metadata": {
        "id": "5V_qmfolDKPr",
        "outputId": "b50ff271-e0e2-4184-cecb-7e11ba11377a"
      },
      "outputs": [
        {
          "name": "stdout",
          "output_type": "stream",
          "text": [
            "Python \"pythonico\" \n"
          ]
        }
      ],
      "source": [
        "# La cadena puede tener \" dentro de ' '\n",
        "titulo = 'Python \"pythonico\" '\n",
        "print(titulo)"
      ]
    },
    {
      "cell_type": "markdown",
      "metadata": {
        "id": "SiQNnmBQDKPr"
      },
      "source": [
        "### <font color=\"#DF2145\">Indexación de las cadenas</font>"
      ]
    },
    {
      "cell_type": "markdown",
      "metadata": {
        "id": "UNg0T72ODKPr"
      },
      "source": [
        "|   |   |   |   |   |   |   |   |   |   |   |\n",
        "|---|---|---|---|---|---|---|---|---|---|---|\n",
        "|cadena : | M | u | r | c | i | é | l | a | g |o|\n",
        "|índice +:| 0| 1| 2| 3| 4| 5| 6| 7| 8| 9 |\n",
        "|índice -:|-10|-9|-8|-7|-6|-5|-4|-3|-2|-1|"
      ]
    },
    {
      "cell_type": "code",
      "execution_count": null,
      "metadata": {
        "id": "0WY3QSLiDKPr"
      },
      "outputs": [],
      "source": [
        "ejemplo = 'Murcié lago'"
      ]
    },
    {
      "cell_type": "code",
      "execution_count": null,
      "metadata": {
        "id": "cN_hkl2DDKPr",
        "outputId": "9b88ee76-35b7-4f0a-aaa0-79a6c2aa3ffb"
      },
      "outputs": [
        {
          "data": {
            "text/plain": [
              "' '"
            ]
          },
          "execution_count": 47,
          "metadata": {},
          "output_type": "execute_result"
        }
      ],
      "source": [
        "ejemplo[6]"
      ]
    },
    {
      "cell_type": "code",
      "execution_count": null,
      "metadata": {
        "id": "Isl-WdRjDKPs",
        "outputId": "1a58c3b3-1541-48d5-eb4c-66c2bc91cfa3"
      },
      "outputs": [
        {
          "data": {
            "text/plain": [
              "11"
            ]
          },
          "execution_count": 48,
          "metadata": {},
          "output_type": "execute_result"
        }
      ],
      "source": [
        "len(ejemplo)"
      ]
    },
    {
      "cell_type": "code",
      "execution_count": null,
      "metadata": {
        "id": "ULJwVIR7DKPs",
        "outputId": "97e9289d-d6ec-4731-9c3f-1dcff1ae2f81"
      },
      "outputs": [
        {
          "data": {
            "text/plain": [
              "'o'"
            ]
          },
          "execution_count": 49,
          "metadata": {},
          "output_type": "execute_result"
        }
      ],
      "source": [
        "ejemplo[-1]"
      ]
    },
    {
      "cell_type": "code",
      "execution_count": null,
      "metadata": {
        "id": "lUJ2cBfQDKPs",
        "outputId": "c84afc30-0767-4097-801c-a77f96b677f8"
      },
      "outputs": [
        {
          "data": {
            "text/plain": [
              "'l'"
            ]
          },
          "execution_count": 50,
          "metadata": {},
          "output_type": "execute_result"
        }
      ],
      "source": [
        "ejemplo[-4]"
      ]
    },
    {
      "cell_type": "code",
      "execution_count": null,
      "metadata": {
        "id": "CGxtcGb_DKPs",
        "outputId": "4c2f29f5-03b6-4aca-f04f-ade8729b62a0"
      },
      "outputs": [
        {
          "data": {
            "text/plain": [
              "'l'"
            ]
          },
          "execution_count": 57,
          "metadata": {},
          "output_type": "execute_result"
        }
      ],
      "source": [
        "ejemplo[7]"
      ]
    },
    {
      "cell_type": "markdown",
      "metadata": {
        "id": "uou_DswFDKPs"
      },
      "source": [
        "### <font color=\"#DF2145\">Inmutabilidad de las cadenas</font>\n",
        "Las cadenas no se pueden modificar:"
      ]
    },
    {
      "cell_type": "code",
      "execution_count": null,
      "metadata": {
        "id": "oZpCGGSDDKPt",
        "outputId": "4451810e-b950-4a80-96a1-9183ba1106de"
      },
      "outputs": [
        {
          "ename": "TypeError",
          "evalue": "'str' object does not support item assignment",
          "output_type": "error",
          "traceback": [
            "\u001b[0;31m---------------------------------------------------------------------------\u001b[0m",
            "\u001b[0;31mTypeError\u001b[0m                                 Traceback (most recent call last)",
            "\u001b[0;32m/tmp/ipykernel_13580/3547928546.py\u001b[0m in \u001b[0;36m<module>\u001b[0;34m\u001b[0m\n\u001b[0;32m----> 1\u001b[0;31m \u001b[0mejemplo\u001b[0m\u001b[0;34m[\u001b[0m\u001b[0;36m5\u001b[0m\u001b[0;34m]\u001b[0m \u001b[0;34m=\u001b[0m \u001b[0;34m\"e\"\u001b[0m\u001b[0;34m\u001b[0m\u001b[0;34m\u001b[0m\u001b[0m\n\u001b[0m",
            "\u001b[0;31mTypeError\u001b[0m: 'str' object does not support item assignment"
          ]
        }
      ],
      "source": [
        "ejemplo[5] = \"e\""
      ]
    },
    {
      "cell_type": "code",
      "execution_count": null,
      "metadata": {
        "id": "3ZkELsBkDKPt"
      },
      "outputs": [],
      "source": [
        "cadena='''\n",
        "esta es una\n",
        "oración\n",
        "larga\n",
        "'''"
      ]
    },
    {
      "cell_type": "code",
      "execution_count": null,
      "metadata": {
        "id": "YcQCdfOeDKPt",
        "outputId": "5453b612-3b3e-4082-b128-209433c1b57a"
      },
      "outputs": [
        {
          "data": {
            "text/plain": [
              "str"
            ]
          },
          "execution_count": 60,
          "metadata": {},
          "output_type": "execute_result"
        }
      ],
      "source": [
        "type(cadena)"
      ]
    },
    {
      "cell_type": "code",
      "execution_count": null,
      "metadata": {
        "id": "Ka2bd_kbDKPt",
        "outputId": "39a0b8b4-d79e-4700-b3ac-f4ee56381fd7"
      },
      "outputs": [
        {
          "data": {
            "text/plain": [
              "27"
            ]
          },
          "execution_count": 61,
          "metadata": {},
          "output_type": "execute_result"
        }
      ],
      "source": [
        "len(cadena)"
      ]
    },
    {
      "cell_type": "code",
      "execution_count": null,
      "metadata": {
        "id": "-yko7RJTDKPu",
        "outputId": "1c18b54f-b933-44b0-c7ee-a951ca6b3e34"
      },
      "outputs": [
        {
          "data": {
            "text/plain": [
              "'\\n'"
            ]
          },
          "execution_count": 62,
          "metadata": {},
          "output_type": "execute_result"
        }
      ],
      "source": [
        "cadena[0]"
      ]
    },
    {
      "cell_type": "markdown",
      "metadata": {
        "id": "UODWrKSODKPu"
      },
      "source": [
        "### <font color=\"#DF2145\">Acceso a porciones de las cadenas (*slicing*)</font>"
      ]
    },
    {
      "cell_type": "markdown",
      "metadata": {
        "id": "p_duKgtoDKPu"
      },
      "source": [
        "Se puede obtener una subcadena a partir de la cadena original. La sintaxis es la siguiente:\n",
        "\n",
        "`cadena[Start:End:Stride]`\n",
        "\n",
        "**Start** :Índice del primer caracter para formar la subcadena.\n",
        "\n",
        "**End** : Índice (menos uno) que indica el caracter final de la subcadena.\n",
        "\n",
        "**Stride**: Salto entre elementos."
      ]
    },
    {
      "cell_type": "code",
      "execution_count": null,
      "metadata": {
        "id": "6Wrb3sdMDKPu",
        "outputId": "12588b31-6093-4c62-bb26-96436e1999c3"
      },
      "outputs": [
        {
          "data": {
            "text/plain": [
              "'Murcié lago'"
            ]
          },
          "execution_count": 63,
          "metadata": {},
          "output_type": "execute_result"
        }
      ],
      "source": [
        "ejemplo[:] # Cadena completa"
      ]
    },
    {
      "cell_type": "code",
      "execution_count": null,
      "metadata": {
        "id": "NJqrRzRSDKPv",
        "outputId": "b9870d79-47f6-4ace-b3ee-fed2e8d05d17"
      },
      "outputs": [
        {
          "data": {
            "text/plain": [
              "'Murci'"
            ]
          },
          "execution_count": 64,
          "metadata": {},
          "output_type": "execute_result"
        }
      ],
      "source": [
        "ejemplo[0:5]"
      ]
    },
    {
      "cell_type": "code",
      "execution_count": null,
      "metadata": {
        "id": "7_Sb-j5UDKPv",
        "outputId": "89b705d6-d09b-4698-9447-995cf7bcb240"
      },
      "outputs": [
        {
          "data": {
            "text/plain": [
              "'Mri ao'"
            ]
          },
          "execution_count": 65,
          "metadata": {},
          "output_type": "execute_result"
        }
      ],
      "source": [
        "ejemplo[::2]"
      ]
    },
    {
      "cell_type": "code",
      "execution_count": null,
      "metadata": {
        "id": "29KDSjGnDKPv",
        "outputId": "48be7d12-18ec-42ca-f6a6-9d1eba20dae2"
      },
      "outputs": [
        {
          "data": {
            "text/plain": [
              "'ucél'"
            ]
          },
          "execution_count": 69,
          "metadata": {},
          "output_type": "execute_result"
        }
      ],
      "source": [
        "ejemplo[1:8:2]"
      ]
    },
    {
      "cell_type": "code",
      "execution_count": null,
      "metadata": {
        "id": "45S9EGTMDKPv",
        "outputId": "318fe087-468c-4c81-c060-a6351a94eae0"
      },
      "outputs": [
        {
          "data": {
            "text/plain": [
              "'ogal éicruM'"
            ]
          },
          "execution_count": 66,
          "metadata": {},
          "output_type": "execute_result"
        }
      ],
      "source": [
        "ejemplo[::-1]"
      ]
    },
    {
      "cell_type": "markdown",
      "metadata": {
        "id": "sy1lRHL7DKPv"
      },
      "source": [
        "### <font color=\"#DF2145\">Operaciones básicas con cadenas</font>\n",
        "\n",
        "Los operadores: `+` y `*` están definidos para las cadenas."
      ]
    },
    {
      "cell_type": "code",
      "execution_count": null,
      "metadata": {
        "id": "TgA18T89DKPw",
        "outputId": "63797173-59cc-4de2-c4d1-4bb6a5b9f742"
      },
      "outputs": [
        {
          "data": {
            "text/plain": [
              "'Luis Miguel'"
            ]
          },
          "execution_count": 67,
          "metadata": {},
          "output_type": "execute_result"
        }
      ],
      "source": [
        "'Luis' + ' ' + 'Miguel' # Concatenación"
      ]
    },
    {
      "cell_type": "code",
      "execution_count": null,
      "metadata": {
        "id": "iLXfSomDDKPw",
        "outputId": "7fa284b7-be9f-4b2e-8b5b-b1806186a33f"
      },
      "outputs": [
        {
          "data": {
            "text/plain": [
              "'ABCABCABC'"
            ]
          },
          "execution_count": 69,
          "metadata": {},
          "output_type": "execute_result"
        }
      ],
      "source": [
        "'ABC' * 3 # Repetición"
      ]
    },
    {
      "cell_type": "markdown",
      "metadata": {
        "id": "iAiUKmfnDKPw"
      },
      "source": [
        "### <font color=\"#DF2145\">Funciones aplicables sobre las cadenas</font>"
      ]
    },
    {
      "cell_type": "code",
      "execution_count": null,
      "metadata": {
        "id": "PxgUWzTwDKPw"
      },
      "outputs": [],
      "source": [
        "ejemplo = 'murcielago'"
      ]
    },
    {
      "cell_type": "code",
      "execution_count": null,
      "metadata": {
        "id": "4i_fZSJBDKPw",
        "outputId": "95da17d6-9891-431d-b32f-10b52c1fecd4"
      },
      "outputs": [
        {
          "ename": "SyntaxError",
          "evalue": "invalid syntax (3406344261.py, line 1)",
          "output_type": "error",
          "traceback": [
            "\u001b[0;36m  File \u001b[0;32m\"/tmp/ipykernel_13580/3406344261.py\"\u001b[0;36m, line \u001b[0;32m1\u001b[0m\n\u001b[0;31m    ejemplo.\u001b[0m\n\u001b[0m            ^\u001b[0m\n\u001b[0;31mSyntaxError\u001b[0m\u001b[0;31m:\u001b[0m invalid syntax\n"
          ]
        }
      ],
      "source": [
        "ejemplo."
      ]
    },
    {
      "cell_type": "code",
      "execution_count": null,
      "metadata": {
        "id": "xw9nbAceDKPw",
        "outputId": "ce076e45-03ca-4962-8a79-81da2c171d27"
      },
      "outputs": [
        {
          "data": {
            "text/plain": [
              "'Murcielago'"
            ]
          },
          "execution_count": 73,
          "metadata": {},
          "output_type": "execute_result"
        }
      ],
      "source": [
        "ejemplo.capitalize()"
      ]
    },
    {
      "cell_type": "code",
      "execution_count": null,
      "metadata": {
        "id": "DTKmPjgHDKPw"
      },
      "outputs": [],
      "source": [
        "ejemplo.center # posicionarse en la palabra center y teclear [Shift+Tab]"
      ]
    },
    {
      "cell_type": "code",
      "execution_count": null,
      "metadata": {
        "id": "cjbnlkY_DKPx",
        "outputId": "20af6947-9eec-4393-a688-40444e10f83c"
      },
      "outputs": [
        {
          "name": "stdout",
          "output_type": "stream",
          "text": [
            "murcielago\n",
            "-----murcielago-----\n",
            "MURCIELAGO\n",
            "5\n",
            "1\n",
            "True\n"
          ]
        }
      ],
      "source": [
        "print(ejemplo)\n",
        "print(ejemplo.center(20,'-'))\n",
        "print(ejemplo.upper())\n",
        "print(ejemplo.find('e'))\n",
        "print(ejemplo.count('g'))\n",
        "print(ejemplo.isprintable())"
      ]
    },
    {
      "cell_type": "markdown",
      "metadata": {
        "id": "37sNPwuyDKPx"
      },
      "source": [
        "### <font color=\"#DF2145\">Construcción de cadenas con variables</font>"
      ]
    },
    {
      "cell_type": "code",
      "execution_count": null,
      "metadata": {
        "id": "4q1WZfetDKPx"
      },
      "outputs": [],
      "source": [
        "edad = 15\n",
        "nombre = 'Pedro'\n",
        "apellido = 'Páramo'\n",
        "peso = 70.5"
      ]
    },
    {
      "cell_type": "code",
      "execution_count": null,
      "metadata": {
        "id": "a2U3J1k4DKPx",
        "outputId": "12f8ffa5-58fd-4f6f-c9b1-34e7fcac8131"
      },
      "outputs": [
        {
          "data": {
            "text/plain": [
              "'PedroPáramotiene15años y pesa 70.5'"
            ]
          },
          "execution_count": 77,
          "metadata": {},
          "output_type": "execute_result"
        }
      ],
      "source": [
        "datos = nombre + apellido + 'tiene' + str(15) + 'años y pesa ' + str(70.5)\n",
        "datos"
      ]
    },
    {
      "cell_type": "code",
      "execution_count": null,
      "metadata": {
        "id": "jap7cjnkDKPx",
        "outputId": "15e6175b-0b86-4416-bcc2-6fc8fe14c5d4"
      },
      "outputs": [
        {
          "data": {
            "text/plain": [
              "'Pedro Páramo tiene 15 años y pesa 70.5'"
            ]
          },
          "execution_count": 76,
          "metadata": {},
          "output_type": "execute_result"
        }
      ],
      "source": [
        "datos = '{} {} tiene {} años y pesa {}'.format(nombre, apellido, edad, peso)\n",
        "datos"
      ]
    },
    {
      "cell_type": "code",
      "execution_count": null,
      "metadata": {
        "id": "-FoazzBADKPx",
        "outputId": "3e9dda91-f3e2-4851-ae00-86489e994ae2"
      },
      "outputs": [
        {
          "data": {
            "text/plain": [
              "'Pedro Páramo tiene 15 años y pesa 70.5'"
            ]
          },
          "execution_count": 77,
          "metadata": {},
          "output_type": "execute_result"
        }
      ],
      "source": [
        "# f-strings (formatted string literals)\n",
        "datos = f'{nombre} {apellido} tiene {edad} años y pesa {peso}'\n",
        "datos"
      ]
    },
    {
      "cell_type": "code",
      "execution_count": null,
      "metadata": {
        "id": "BOJoqQahDKPy",
        "outputId": "97a689d7-d9e6-43e9-b2e6-6fd3a9b4a5f3"
      },
      "outputs": [
        {
          "data": {
            "text/plain": [
              "1"
            ]
          },
          "execution_count": 78,
          "metadata": {},
          "output_type": "execute_result"
        }
      ],
      "source": [
        "prueba = 'asdasdasd'\n",
        "prueba.find('s')"
      ]
    },
    {
      "cell_type": "markdown",
      "metadata": {
        "id": "PZQel2eRDKPy"
      },
      "source": [
        "### <font color=\"#DF2145\">Constantes</font>\n",
        "\n",
        "- `False`: de tipo Booleano.\n",
        "- `True`: de tipo Booleano.\n",
        "- `None`: El único valor para el tipo NoneType. Es usado frecuentemente para representar la ausencia de un valor, por ejemplo cuando no se pasa un argumento a una función.\n",
        "- `NotImplemented`: es un valor especial que es regresado por métodos binarios especiales (por ejemplo `__eq__()`, `__lt__()`, `__add__()`, `__rsub__()`, etc.) para indicar que la operación no está implementada con respecto a otro tipo.\n",
        "\n",
        "- Ellipsis: equivalente a `...`, es un valor especial usado mayormente en conjunción con la sintáxis de *slicing*.\n",
        "\n",
        "- `__debug__` : Esta constante es verdadera si Python no se inició con la opción -O.\n",
        "\n",
        "Las siguiente constantes son usadas dentro del intérprete interactivo (no se pueden usar dentro de programas ejecutados fuera del intérprete).\n",
        "\n",
        "- `quit`(code=None)\n",
        "- `exit`(code=None)\n",
        "- `copyright`\n",
        "- `credits`\n",
        "- `license`"
      ]
    },
    {
      "cell_type": "code",
      "execution_count": null,
      "metadata": {
        "id": "kc9B2zd2DKPy",
        "outputId": "57dfc1da-3295-42b1-e8b6-4166f76740d9"
      },
      "outputs": [
        {
          "data": {
            "text/plain": [
              "Copyright (c) 2001-2021 Python Software Foundation.\n",
              "All Rights Reserved.\n",
              "\n",
              "Copyright (c) 2000 BeOpen.com.\n",
              "All Rights Reserved.\n",
              "\n",
              "Copyright (c) 1995-2001 Corporation for National Research Initiatives.\n",
              "All Rights Reserved.\n",
              "\n",
              "Copyright (c) 1991-1995 Stichting Mathematisch Centrum, Amsterdam.\n",
              "All Rights Reserved."
            ]
          },
          "execution_count": 79,
          "metadata": {},
          "output_type": "execute_result"
        }
      ],
      "source": [
        "copyright"
      ]
    },
    {
      "cell_type": "markdown",
      "metadata": {
        "id": "I11Hu7A4DKPy"
      },
      "source": [
        "### <font color=\"#DF2145\">Tipos lógicos </font>\n",
        "\n",
        "Es un tipo utilizado para realizar operaciones lógicas y puede tomar dos valores: **True** o **False**."
      ]
    },
    {
      "cell_type": "code",
      "execution_count": null,
      "metadata": {
        "id": "bVbP-z2uDKPy",
        "outputId": "16ba1139-3f94-44f4-8dea-755897c7fb36"
      },
      "outputs": [
        {
          "data": {
            "text/plain": [
              "bool"
            ]
          },
          "execution_count": 86,
          "metadata": {},
          "output_type": "execute_result"
        }
      ],
      "source": [
        "bandera = True\n",
        "type(bandera)"
      ]
    },
    {
      "cell_type": "markdown",
      "metadata": {
        "id": "UIZNZAgbDKPz"
      },
      "source": [
        "### <font color=\"#DF2145\">Operadores lógicos </font>"
      ]
    },
    {
      "cell_type": "code",
      "execution_count": null,
      "metadata": {
        "id": "YBfBMvTsDKPz",
        "outputId": "80b6b21e-5f1b-4d1f-e369-9b04f416e6c3"
      },
      "outputs": [
        {
          "data": {
            "text/plain": [
              "False"
            ]
          },
          "execution_count": 80,
          "metadata": {},
          "output_type": "execute_result"
        }
      ],
      "source": [
        "35 > 562"
      ]
    },
    {
      "cell_type": "code",
      "execution_count": null,
      "metadata": {
        "id": "YZUW2VvEDKPz",
        "outputId": "3a6d4e56-f4a8-4ce5-a400-4cfea8c2ab14"
      },
      "outputs": [
        {
          "data": {
            "text/plain": [
              "True"
            ]
          },
          "execution_count": 81,
          "metadata": {},
          "output_type": "execute_result"
        }
      ],
      "source": [
        "32 >= 21"
      ]
    },
    {
      "cell_type": "code",
      "execution_count": null,
      "metadata": {
        "id": "bqLvGGAUDKPz",
        "outputId": "172a3432-641e-468a-d3d4-74450d18cdfe"
      },
      "outputs": [
        {
          "data": {
            "text/plain": [
              "True"
            ]
          },
          "execution_count": 82,
          "metadata": {},
          "output_type": "execute_result"
        }
      ],
      "source": [
        "12 < 34"
      ]
    },
    {
      "cell_type": "code",
      "execution_count": null,
      "metadata": {
        "id": "L-MJ7TAsDKPz",
        "outputId": "210d9bad-8435-4d91-b567-08402f9d0075"
      },
      "outputs": [
        {
          "data": {
            "text/plain": [
              "True"
            ]
          },
          "execution_count": 83,
          "metadata": {},
          "output_type": "execute_result"
        }
      ],
      "source": [
        "12 <= 25"
      ]
    },
    {
      "cell_type": "code",
      "execution_count": null,
      "metadata": {
        "id": "ZO2N_GktDKPz",
        "outputId": "c5a4d586-a3ad-4038-8993-91fa6de4d310"
      },
      "outputs": [
        {
          "data": {
            "text/plain": [
              "True"
            ]
          },
          "execution_count": 84,
          "metadata": {},
          "output_type": "execute_result"
        }
      ],
      "source": [
        "5 == 5"
      ]
    },
    {
      "cell_type": "code",
      "execution_count": null,
      "metadata": {
        "id": "-_SitC6GDKP0",
        "outputId": "6d4603ba-8781-43f4-b488-84da0626fccd"
      },
      "outputs": [
        {
          "data": {
            "text/plain": [
              "False"
            ]
          },
          "execution_count": 85,
          "metadata": {},
          "output_type": "execute_result"
        }
      ],
      "source": [
        "23 != 23"
      ]
    },
    {
      "cell_type": "code",
      "execution_count": null,
      "metadata": {
        "id": "UiQkC7dnDKP0",
        "outputId": "fbb6410c-5a37-4c75-d3cd-a110c9d7f77e"
      },
      "outputs": [
        {
          "data": {
            "text/plain": [
              "True"
            ]
          },
          "execution_count": 86,
          "metadata": {},
          "output_type": "execute_result"
        }
      ],
      "source": [
        "'aaa' == 'aaa'"
      ]
    },
    {
      "cell_type": "markdown",
      "metadata": {
        "id": "LaKG76UHDKP0"
      },
      "source": [
        "### <font color=\"#DF2145\">Operaciones lógicas básicas</font>\n",
        "\n",
        "1. and\n",
        "2. or\n",
        "3. not"
      ]
    },
    {
      "cell_type": "code",
      "execution_count": null,
      "metadata": {
        "id": "pROB2BUwDKP0",
        "outputId": "dd28fed6-7857-421b-966a-1b5898401221"
      },
      "outputs": [
        {
          "data": {
            "text/plain": [
              "True"
            ]
          },
          "execution_count": 87,
          "metadata": {},
          "output_type": "execute_result"
        }
      ],
      "source": [
        "(5 < 32) and (63 > 32)"
      ]
    },
    {
      "cell_type": "code",
      "execution_count": null,
      "metadata": {
        "id": "s0Lh4Qn8DKP0",
        "outputId": "03f7eeb9-049e-4c9a-a65f-38d00c30bc72"
      },
      "outputs": [
        {
          "data": {
            "text/plain": [
              "False"
            ]
          },
          "execution_count": 88,
          "metadata": {},
          "output_type": "execute_result"
        }
      ],
      "source": [
        "(2.32 < 21) and (23 > 63)"
      ]
    },
    {
      "cell_type": "code",
      "execution_count": null,
      "metadata": {
        "id": "oSSUSa-WDKP1",
        "outputId": "7d6271ca-c007-4451-aa9f-852f2d8bffb1"
      },
      "outputs": [
        {
          "data": {
            "text/plain": [
              "True"
            ]
          },
          "execution_count": 89,
          "metadata": {},
          "output_type": "execute_result"
        }
      ],
      "source": [
        "(32 == 32) or (5 < 31)\n"
      ]
    },
    {
      "cell_type": "code",
      "execution_count": null,
      "metadata": {
        "id": "b5xTqyoQDKP1",
        "outputId": "39c29e18-74aa-44de-ad50-0dec8787743a"
      },
      "outputs": [
        {
          "data": {
            "text/plain": [
              "False"
            ]
          },
          "execution_count": 90,
          "metadata": {},
          "output_type": "execute_result"
        }
      ],
      "source": [
        "(32 == 21) or (31 < 5)"
      ]
    },
    {
      "cell_type": "code",
      "execution_count": null,
      "metadata": {
        "id": "oyewzeDuDKP1",
        "outputId": "669956c0-7fe7-4a11-df6e-3bcfc99ee0bb"
      },
      "outputs": [
        {
          "data": {
            "text/plain": [
              "False"
            ]
          },
          "execution_count": 91,
          "metadata": {},
          "output_type": "execute_result"
        }
      ],
      "source": [
        "not True"
      ]
    },
    {
      "cell_type": "code",
      "execution_count": null,
      "metadata": {
        "id": "aiPFYP7-DKP1",
        "outputId": "d7e2c523-48f7-4239-d73e-5a97e55e2317"
      },
      "outputs": [
        {
          "data": {
            "text/plain": [
              "True"
            ]
          },
          "execution_count": 92,
          "metadata": {},
          "output_type": "execute_result"
        }
      ],
      "source": [
        "not (32 != 32)"
      ]
    },
    {
      "cell_type": "code",
      "execution_count": null,
      "metadata": {
        "id": "OyOuG4q0DKP1",
        "outputId": "1bd2860b-2278-4ca3-ad69-982f187e6f24"
      },
      "outputs": [
        {
          "data": {
            "text/plain": [
              "False"
            ]
          },
          "execution_count": 96,
          "metadata": {},
          "output_type": "execute_result"
        }
      ],
      "source": [
        "(0.4 - 0.3) == 0.1 # ¿por qué? print(0.4 - 0.3)"
      ]
    },
    {
      "cell_type": "markdown",
      "metadata": {
        "id": "EHtaZPZ9DKP1"
      },
      "source": [
        "### <font color=\"#DF2145\">Fuertemente Tipado </font>\n",
        "\n",
        "Esta característica impide que se realizen operaciones entre tipos no compatibles."
      ]
    },
    {
      "cell_type": "code",
      "execution_count": null,
      "metadata": {
        "id": "YefC428fDKP1"
      },
      "outputs": [],
      "source": [
        "lógico = True\n",
        "real   = 220.0\n",
        "entero = 284\n",
        "complejo = 1+1j\n",
        "cadena = 'numeros hermanos'"
      ]
    },
    {
      "cell_type": "code",
      "execution_count": null,
      "metadata": {
        "id": "lQauuVYxDKP2",
        "outputId": "70b07f0c-8520-4208-f4e1-5f269f8bc7c1"
      },
      "outputs": [
        {
          "data": {
            "text/plain": [
              "221.0"
            ]
          },
          "execution_count": 98,
          "metadata": {},
          "output_type": "execute_result"
        }
      ],
      "source": [
        "lógico + real"
      ]
    },
    {
      "cell_type": "code",
      "execution_count": null,
      "metadata": {
        "id": "RI8dLAARDKP2",
        "outputId": "b8d1ff0c-67dd-46b8-fcab-b6712d651fe2"
      },
      "outputs": [
        {
          "data": {
            "text/plain": [
              "(2+1j)"
            ]
          },
          "execution_count": 99,
          "metadata": {},
          "output_type": "execute_result"
        }
      ],
      "source": [
        "lógico + complejo"
      ]
    },
    {
      "cell_type": "code",
      "execution_count": null,
      "metadata": {
        "scrolled": true,
        "id": "dKZpnug_DKP2",
        "outputId": "38d51d9f-885f-45cd-e1b1-f8c596eca0a3"
      },
      "outputs": [
        {
          "ename": "TypeError",
          "evalue": "can only concatenate str (not \"float\") to str",
          "output_type": "error",
          "traceback": [
            "\u001b[0;31m---------------------------------------------------------------------------\u001b[0m",
            "\u001b[0;31mTypeError\u001b[0m                                 Traceback (most recent call last)",
            "\u001b[0;32m/tmp/ipykernel_13580/347125360.py\u001b[0m in \u001b[0;36m<module>\u001b[0;34m\u001b[0m\n\u001b[0;32m----> 1\u001b[0;31m \u001b[0mcadena\u001b[0m \u001b[0;34m+\u001b[0m \u001b[0mreal\u001b[0m  \u001b[0;31m# Tipos no compatibles\u001b[0m\u001b[0;34m\u001b[0m\u001b[0;34m\u001b[0m\u001b[0m\n\u001b[0m",
            "\u001b[0;31mTypeError\u001b[0m: can only concatenate str (not \"float\") to str"
          ]
        }
      ],
      "source": [
        "cadena + real  # Tipos no compatibles"
      ]
    },
    {
      "cell_type": "markdown",
      "metadata": {
        "id": "fTvNqpXKDKP2"
      },
      "source": [
        "### <font color=\"#DF2145\">Conversión entre tipos (*casting*) </font>\n",
        "\n",
        "Operación para transformar un tipo en otro tipo compatible."
      ]
    },
    {
      "cell_type": "markdown",
      "metadata": {
        "id": "K2Nb6w2nDKP2"
      },
      "source": [
        "`int()`\n",
        "\n",
        "Transforma objetos en enteros, siempre y cuando haya compatibilidad."
      ]
    },
    {
      "cell_type": "code",
      "execution_count": null,
      "metadata": {
        "id": "CS7Onup_DKP2",
        "outputId": "1ee2a3bb-50a1-40b0-f4f0-f473e56eb24e"
      },
      "outputs": [
        {
          "name": "stdout",
          "output_type": "stream",
          "text": [
            "<class 'str'>\n",
            "<class 'int'>\n",
            "1000\n"
          ]
        }
      ],
      "source": [
        "cadena = '1000'\n",
        "print(type(cadena))\n",
        "entero = int(cadena)\n",
        "print(type(entero))\n",
        "print(entero)"
      ]
    },
    {
      "cell_type": "code",
      "execution_count": null,
      "metadata": {
        "id": "jHJPByrdDKP3",
        "outputId": "6a1b51a6-29a7-4c5b-8453-2af3e70e0d34"
      },
      "outputs": [
        {
          "name": "stdout",
          "output_type": "stream",
          "text": [
            "3\n"
          ]
        }
      ],
      "source": [
        "flotante = 3.141592\n",
        "entero  = int(flotante) # Trunca la parte decimal\n",
        "print(entero)"
      ]
    },
    {
      "cell_type": "code",
      "execution_count": null,
      "metadata": {
        "id": "Q1ZM7kCCDKP3",
        "outputId": "c01ff4c2-1232-4399-c17e-c1f062e79b84"
      },
      "outputs": [
        {
          "ename": "TypeError",
          "evalue": "can't convert complex to int",
          "output_type": "error",
          "traceback": [
            "\u001b[0;31m---------------------------------------------------------------------------\u001b[0m",
            "\u001b[0;31mTypeError\u001b[0m                                 Traceback (most recent call last)",
            "\u001b[0;32m/tmp/ipykernel_13580/1107332652.py\u001b[0m in \u001b[0;36m<module>\u001b[0;34m\u001b[0m\n\u001b[1;32m      1\u001b[0m \u001b[0mcomplejo\u001b[0m\u001b[0;34m=\u001b[0m \u001b[0;36m4\u001b[0m\u001b[0;34m-\u001b[0m\u001b[0;36m4j\u001b[0m\u001b[0;34m\u001b[0m\u001b[0;34m\u001b[0m\u001b[0m\n\u001b[0;32m----> 2\u001b[0;31m \u001b[0mentero\u001b[0m \u001b[0;34m=\u001b[0m \u001b[0mint\u001b[0m\u001b[0;34m(\u001b[0m\u001b[0mcomplejo\u001b[0m\u001b[0;34m)\u001b[0m \u001b[0;31m# Tipos NO COMPATIBLES\u001b[0m\u001b[0;34m\u001b[0m\u001b[0;34m\u001b[0m\u001b[0m\n\u001b[0m",
            "\u001b[0;31mTypeError\u001b[0m: can't convert complex to int"
          ]
        }
      ],
      "source": [
        "complejo= 4-4j\n",
        "entero = int(complejo) # Tipos NO COMPATIBLES"
      ]
    },
    {
      "cell_type": "code",
      "execution_count": null,
      "metadata": {
        "id": "gP5aG3avDKP3",
        "outputId": "61f8ce3f-9039-47ad-d95d-0b61dff9012b"
      },
      "outputs": [
        {
          "name": "stdout",
          "output_type": "stream",
          "text": [
            "1\n"
          ]
        }
      ],
      "source": [
        "entero = int(True)\n",
        "print(entero)"
      ]
    },
    {
      "cell_type": "code",
      "execution_count": null,
      "metadata": {
        "id": "-uztUKMtDKP3",
        "outputId": "23fd3a31-2ccc-4189-c3d5-40fbcd48e164"
      },
      "outputs": [
        {
          "name": "stdout",
          "output_type": "stream",
          "text": [
            "True\n"
          ]
        }
      ],
      "source": [
        "print(1 == True)"
      ]
    },
    {
      "cell_type": "markdown",
      "metadata": {
        "id": "fCVGJ0giDKP3"
      },
      "source": [
        "`str()`\n",
        "\n",
        "Transforma objetos en cadenas, siempre y cuando haya compatibilidad."
      ]
    },
    {
      "cell_type": "code",
      "execution_count": null,
      "metadata": {
        "id": "nBCa9RCmDKP3",
        "outputId": "a6692e42-ad14-4291-af5b-221c402739b9"
      },
      "outputs": [
        {
          "name": "stdout",
          "output_type": "stream",
          "text": [
            "<class 'int'>\n",
            "<class 'str'>\n",
            "1000\n"
          ]
        }
      ],
      "source": [
        "entero = 1000\n",
        "print(type(entero))\n",
        "cadena = str(entero)\n",
        "print(type(cadena))\n",
        "print(cadena)"
      ]
    },
    {
      "cell_type": "code",
      "execution_count": null,
      "metadata": {
        "id": "T3Vrqo5YDKP3",
        "outputId": "f70d2a51-443a-4189-9dec-199c2b2f31e5"
      },
      "outputs": [
        {
          "name": "stdout",
          "output_type": "stream",
          "text": [
            "(5+1j)\n",
            "<class 'complex'>\n",
            "(5+1j)\n",
            "<class 'str'>\n"
          ]
        }
      ],
      "source": [
        "complejo = 5+1j\n",
        "print(complejo)\n",
        "print(type(complejo))\n",
        "cadena = str(complejo)\n",
        "print(cadena)\n",
        "print(type(cadena))"
      ]
    },
    {
      "cell_type": "markdown",
      "metadata": {
        "id": "h_CL3MJsDKP4"
      },
      "source": [
        "`float()`\n",
        "\n",
        "Transforma objetos en flotantes, siempre y cuando haya compatibilidad."
      ]
    },
    {
      "cell_type": "code",
      "execution_count": null,
      "metadata": {
        "id": "44Eynt4WDKP4",
        "outputId": "10837733-e8a2-4fda-89a6-d46bb9dfc2c1"
      },
      "outputs": [
        {
          "name": "stdout",
          "output_type": "stream",
          "text": [
            "3.141592\n",
            "<class 'str'>\n",
            "3.141592\n",
            "<class 'float'>\n"
          ]
        }
      ],
      "source": [
        "cadena = '3.141592'\n",
        "print(cadena)\n",
        "print(type(cadena))\n",
        "real = float(cadena)\n",
        "print(real)\n",
        "print(type(real))"
      ]
    },
    {
      "cell_type": "code",
      "execution_count": null,
      "metadata": {
        "id": "43gdxueoDKP4",
        "outputId": "4bce11d3-5dab-4302-fbbb-5d7cbc39d4d6"
      },
      "outputs": [
        {
          "data": {
            "text/plain": [
              "33.0"
            ]
          },
          "execution_count": 112,
          "metadata": {},
          "output_type": "execute_result"
        }
      ],
      "source": [
        "float(33)"
      ]
    },
    {
      "cell_type": "code",
      "execution_count": null,
      "metadata": {
        "id": "T2AdvcA2DKP4",
        "outputId": "263f0813-b4a6-41e7-a061-58aee174e398"
      },
      "outputs": [
        {
          "data": {
            "text/plain": [
              "0.0"
            ]
          },
          "execution_count": 113,
          "metadata": {},
          "output_type": "execute_result"
        }
      ],
      "source": [
        "float(False)"
      ]
    },
    {
      "cell_type": "code",
      "execution_count": null,
      "metadata": {
        "id": "helLSN_TDKP4",
        "outputId": "5e38e239-4657-4822-a16a-17af56719429"
      },
      "outputs": [
        {
          "ename": "TypeError",
          "evalue": "can't convert complex to float",
          "output_type": "error",
          "traceback": [
            "\u001b[0;31m---------------------------------------------------------------------------\u001b[0m",
            "\u001b[0;31mTypeError\u001b[0m                                 Traceback (most recent call last)",
            "\u001b[0;32m/tmp/ipykernel_13580/2071970156.py\u001b[0m in \u001b[0;36m<module>\u001b[0;34m\u001b[0m\n\u001b[0;32m----> 1\u001b[0;31m \u001b[0mfloat\u001b[0m\u001b[0;34m(\u001b[0m\u001b[0;36m3\u001b[0m\u001b[0;34m+\u001b[0m\u001b[0;36m3j\u001b[0m\u001b[0;34m)\u001b[0m\u001b[0;34m\u001b[0m\u001b[0;34m\u001b[0m\u001b[0m\n\u001b[0m",
            "\u001b[0;31mTypeError\u001b[0m: can't convert complex to float"
          ]
        }
      ],
      "source": [
        "float(3+3j)"
      ]
    },
    {
      "cell_type": "markdown",
      "metadata": {
        "id": "buh94-XcDKP4"
      },
      "source": [
        "### <font color=\"#DF2145\">Función `Eval` </font>\n",
        "\n",
        "\n",
        "Es una función que permite evaluar una cadena `str`, como si se tratase de una expresión, siempre y cuando la expresión sea válida en Python."
      ]
    },
    {
      "cell_type": "code",
      "execution_count": null,
      "metadata": {
        "id": "73mHCipADKP5",
        "outputId": "cc64c979-a44a-486f-baa8-38b00d468a4b"
      },
      "outputs": [
        {
          "name": "stdout",
          "output_type": "stream",
          "text": [
            "1100\n",
            "<class 'int'>\n"
          ]
        }
      ],
      "source": [
        "suma = '300+800'\n",
        "resultado = eval(suma)\n",
        "print(resultado)\n",
        "print(type(resultado))"
      ]
    },
    {
      "cell_type": "code",
      "execution_count": null,
      "metadata": {
        "id": "38jExNTuDKP5",
        "outputId": "f54ff04a-62cd-47be-dcaf-1d7a0e3e2afb"
      },
      "outputs": [
        {
          "name": "stdout",
          "output_type": "stream",
          "text": [
            "0.09999999999999432\n",
            "<class 'float'>\n"
          ]
        }
      ],
      "source": [
        "a = 220.1\n",
        "resta = 'a - 220'\n",
        "resultado = eval(resta)\n",
        "print(resultado)\n",
        "print(type(resultado))"
      ]
    },
    {
      "cell_type": "code",
      "execution_count": null,
      "metadata": {
        "id": "bpioaRm5DKP5",
        "outputId": "2ca8281d-84dc-4c61-9358-3eb3e2922a87"
      },
      "outputs": [
        {
          "name": "stdout",
          "output_type": "stream",
          "text": [
            "True\n",
            "<class 'bool'>\n"
          ]
        }
      ],
      "source": [
        "logica = '32 == 32'\n",
        "resultado = eval(logica)\n",
        "print(resultado)\n",
        "print(type(resultado))"
      ]
    },
    {
      "cell_type": "code",
      "execution_count": null,
      "metadata": {
        "id": "aCjQpeDwDKP5",
        "outputId": "5356db85-181a-4881-8376-2559d7420bda"
      },
      "outputs": [
        {
          "name": "stdout",
          "output_type": "stream",
          "text": [
            "math.sin(0.25*math.pi)\n",
            "<class 'str'>\n",
            "0.7071067811865475\n"
          ]
        }
      ],
      "source": [
        "import math\n",
        "formula = 'math.sin(0.25*math.pi)'\n",
        "print(formula)\n",
        "print(type(formula))\n",
        "resultado = eval(formula)\n",
        "print(resultado)"
      ]
    },
    {
      "cell_type": "markdown",
      "metadata": {
        "id": "ZoUxUR-FDKP5"
      },
      "source": [
        "**Formato en código ANSI**\n",
        "- Un código de formato ANSI lo forma el carácter Escape seguido por tres números enteros separados por un punto y coma (;).\n",
        "- El primero de estos números (un valor de 0 a 7) establece el estilo del texto (negrita, subrayado, etc); el segundo número (de 30 a 37) fija el color del texto y el último número (de 40 a 47) el color del fondo.\n",
        "- El carácter Escape se puede expresar en octal \"\\033\", en hexadecimal \"\\x1b\", o bien, con chr(27).\n",
        "\n",
        "|Estilos|Código ANSI|\n",
        "|-------|-----------|\n",
        "|Sin efecto| 0 |\n",
        "|Negrita | 1 |\n",
        "|Débil| 2 |\n",
        "|Cursiva| 3 |\n",
        "|Subrayado| 4|\n",
        "|Inverso| 5 |\n",
        "|Oculto| 6 |\n",
        "|Tachado| 7 |\n",
        "\n",
        "|Color|Texto|Fondo|\n",
        "|-----|-----|-----|\n",
        "|Negro| 30 | 40 |\n",
        "|Rojo| 31 | 41 |\n",
        "|Verde| 32 | 42 |\n",
        "|Amarillo| 33 | 43 |\n",
        "|Azul| 34 | 44 |\n",
        "|Morado| 35 | 45 |\n",
        "|Cian| 36 | 46 |\n",
        "|Blanco| 37 | 47 |\n",
        "\n",
        "**OJO** : Algunos estilos no están soportados por todas las consolas."
      ]
    },
    {
      "cell_type": "code",
      "execution_count": null,
      "metadata": {
        "id": "IXpdkppEDKP5",
        "outputId": "9a908b9a-c850-4045-f134-97b584f44099"
      },
      "outputs": [
        {
          "name": "stdout",
          "output_type": "stream",
          "text": [
            "\u001b[0;31mTexto en color rojo\n"
          ]
        }
      ],
      "source": [
        "print(chr(27)+\"[0;31m\"+\"Texto en color rojo\")"
      ]
    },
    {
      "cell_type": "code",
      "execution_count": null,
      "metadata": {
        "id": "m1M6ZK38DKP6",
        "outputId": "02c2d20a-7a52-444d-efc2-0d4fae830d86"
      },
      "outputs": [
        {
          "name": "stdout",
          "output_type": "stream",
          "text": [
            "\u001b[1;32mTexto en negrita de color verde\n"
          ]
        }
      ],
      "source": [
        "print(\"\\x1b[1;32m\"+\"Texto en negrita de color verde\")"
      ]
    },
    {
      "cell_type": "code",
      "execution_count": null,
      "metadata": {
        "id": "qq33SKXADKP6",
        "outputId": "19030249-90ad-4022-a5d8-a89a43b8ef8b"
      },
      "outputs": [
        {
          "name": "stdout",
          "output_type": "stream",
          "text": [
            "\u001b[4;35mTexto subrayado de color morado\n"
          ]
        }
      ],
      "source": [
        "print(\"\\033[4;35m\"+\"Texto subrayado de color morado\")"
      ]
    },
    {
      "cell_type": "code",
      "execution_count": null,
      "metadata": {
        "id": "sZrRyjucDKP6",
        "outputId": "68ea0c05-9173-4d5e-db5a-cb643f5c45db"
      },
      "outputs": [
        {
          "name": "stdout",
          "output_type": "stream",
          "text": [
            "\u001b[1;34;46mTexto en negrita de color azul con fondo cyan \n"
          ]
        }
      ],
      "source": [
        "print(\"\\033[1;34;46m\"+\"Texto en negrita de color azul con fondo cyan \")"
      ]
    }
  ],
  "metadata": {
    "kernelspec": {
      "display_name": "Python 3 (ipykernel)",
      "language": "python",
      "name": "python3"
    },
    "language_info": {
      "codemirror_mode": {
        "name": "ipython",
        "version": 3
      },
      "file_extension": ".py",
      "mimetype": "text/x-python",
      "name": "python",
      "nbconvert_exporter": "python",
      "pygments_lexer": "ipython3",
      "version": "3.8.10"
    },
    "colab": {
      "provenance": [],
      "include_colab_link": true
    }
  },
  "nbformat": 4,
  "nbformat_minor": 0
}