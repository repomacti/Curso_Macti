{
  "cells": [
    {
      "cell_type": "markdown",
      "metadata": {
        "id": "view-in-github",
        "colab_type": "text"
      },
      "source": [
        "<a href=\"https://colab.research.google.com/github/repomacti/Curso_Macti/blob/zeus/02_Herramientas/T04_Control_de_flujo.ipynb\" target=\"_parent\"><img src=\"https://colab.research.google.com/assets/colab-badge.svg\" alt=\"Open In Colab\"/></a>"
      ]
    },
    {
      "cell_type": "markdown",
      "metadata": {
        "id": "nqyHiqdGDvwP"
      },
      "source": [
        "# Python de cero a experto\n",
        "**Autor:** Luis Miguel de la Cruz Salas\n",
        "\n",
        "<a href=\"https://github.com/luiggix/Python_cero_a_experto\">Python de cero a experto</a> by Luis M. de la Cruz Salas is licensed under <a href=\"https://creativecommons.org/licenses/by-nc-nd/4.0?ref=chooser-v1\">Attribution-NonCommercial-NoDerivatives 4.0 International</a>"
      ]
    },
    {
      "cell_type": "markdown",
      "metadata": {
        "id": "Ok5hXP3iDvwT"
      },
      "source": [
        "## Pythonico es más bonito"
      ]
    },
    {
      "cell_type": "markdown",
      "metadata": {
        "id": "cqZukxPCDvwT"
      },
      "source": [
        "### <font color=\"#DF2145\">Control de flujo</font>"
      ]
    },
    {
      "cell_type": "markdown",
      "metadata": {
        "id": "cQNT6KaWDvwT"
      },
      "source": [
        "#### While\n",
        "\n",
        "Los número de Fibonacci, denotados con $F_n$ forman una secuencia tal que cada número es la suma de dos números precedentes e inicia con el 0 y el 1. Matemáticamente se escribe como:\n",
        "\n",
        "$F_0 = 0 , F_1 = 1 $ y $F_n = F_{n − 1} + F_{n − 2}$ para  $n > 1$.\n",
        "\n",
        "La secuencia es entonces: 0 , 1 , 1 , 2 , 3 , 5 , 8 , 13 , 21 , 34 , 55 , 89 , 144 , $\\ldots$\n",
        "\n",
        "Vamos a calcular esta secuencia usando la instrucción `while`:"
      ]
    },
    {
      "cell_type": "code",
      "execution_count": null,
      "metadata": {
        "id": "teLkyTfODvwU",
        "outputId": "5af0a86a-74a5-44fd-e1a4-6d5ff03e7247"
      },
      "outputs": [
        {
          "name": "stdout",
          "output_type": "stream",
          "text": [
            "0,1,1,2,3,5,8,13,21,34,55,89,144,233,377,610,987,"
          ]
        }
      ],
      "source": [
        "# Secuencia de Fibonacci\n",
        "a, b = 0, 1\n",
        "while a < 1000:\n",
        "    print(a, end=',')\n",
        "    a, b = b, a+b\n",
        "\n",
        "#print(a,b)"
      ]
    },
    {
      "cell_type": "markdown",
      "metadata": {
        "id": "6uBJUaohDvwV"
      },
      "source": [
        "#### If\n",
        "\n",
        "Los siguientes condiciones lógicas son usadas en Python:\n",
        "- ¿son iguales?:\n",
        "```python  \n",
        "a == b\n",
        "```\n",
        "- ¿no son iguales?:\n",
        "```python  \n",
        "a != b\n",
        "```\n",
        "- ¿a es menor que b?:\n",
        "```python  \n",
        "a < b\n",
        "```\n",
        "- ¿a es menor o igual que b?:\n",
        "```python  \n",
        "a <= b\n",
        "```\n",
        "- ¿a es mayor que b?:\n",
        "```python  \n",
        "a > b\n",
        "```\n",
        "- ¿a es mayor o igual que b?:\n",
        "```python  \n",
        "a >= b\n",
        "```\n",
        "- ¿La expresión A y la expresión B son verdaderas?:\n",
        "```python  \n",
        "A and B\n",
        "```\n",
        "- ¿La expresión A o la expresión B es verdadera?:\n",
        "```python  \n",
        "A or B\n",
        "```\n"
      ]
    },
    {
      "cell_type": "code",
      "execution_count": null,
      "metadata": {
        "id": "8i6172SnDvwW",
        "outputId": "1ed70e85-0def-4e96-cd18-89dd0e8ebaf2"
      },
      "outputs": [
        {
          "name": "stdout",
          "output_type": "stream",
          "text": [
            "a es igual a b\n"
          ]
        }
      ],
      "source": [
        "a = 20\n",
        "b = 20\n",
        "if a < b:\n",
        "    print('a es menor que b')\n",
        "elif a > b:\n",
        "    print('a es mayor que b')\n",
        "elif a == b:\n",
        "    print('a es igual a b')\n",
        "else:\n",
        "    print('Esto nunca pasa')"
      ]
    },
    {
      "cell_type": "code",
      "execution_count": null,
      "metadata": {
        "id": "eV2hJ74eDvwX"
      },
      "outputs": [],
      "source": [
        "if (a < b) or (a > b):\n",
        "    print('hola')"
      ]
    },
    {
      "cell_type": "markdown",
      "metadata": {
        "id": "0PDVsbLQDvwX"
      },
      "source": [
        "#### Operador ternario"
      ]
    },
    {
      "cell_type": "code",
      "execution_count": null,
      "metadata": {
        "id": "b8ZkOcfCDvwX",
        "outputId": "1d27501d-ae08-483b-8a36-43b3102b9525"
      },
      "outputs": [
        {
          "name": "stdout",
          "output_type": "stream",
          "text": [
            "10\n"
          ]
        }
      ],
      "source": [
        "c = 10\n",
        "r = c if c > 5 else 0\n",
        "print(r)"
      ]
    },
    {
      "cell_type": "markdown",
      "metadata": {
        "id": "mvWKxKxODvwX"
      },
      "source": [
        "#### For\n",
        "\n",
        "Permite iterar sobre el contenido de cualquier secuencia (cadena, lista, tupla, conjunto, diccionario, archivo, ...)"
      ]
    },
    {
      "cell_type": "code",
      "execution_count": null,
      "metadata": {
        "id": "Vj7Uyc5VDvwY",
        "outputId": "b6871970-05cd-4681-a259-5fa90fdc8801"
      },
      "outputs": [
        {
          "name": "stdout",
          "output_type": "stream",
          "text": [
            "140175790440304\n",
            "Persa 5\n",
            "140175790440368\n",
            "Sphynx 6\n",
            "140175789936752\n",
            "Ragdoll 7\n",
            "140175790244608\n",
            "Siamés 6\n"
          ]
        }
      ],
      "source": [
        "gatos = ['Persa', 'Sphynx', 'Ragdoll','Siamés']\n",
        "for i in gatos:\n",
        "    print(id(i))\n",
        "    print(i, len(i))"
      ]
    },
    {
      "cell_type": "code",
      "execution_count": null,
      "metadata": {
        "id": "BZCKvAemDvwY",
        "outputId": "2c9b4fc8-053b-4d6d-89f7-8fc6d569a94c"
      },
      "outputs": [
        {
          "name": "stdout",
          "output_type": "stream",
          "text": [
            "['Persa', 'Sphynx', 'Ragdoll', 'Siamés']\n"
          ]
        }
      ],
      "source": [
        "print(gatos)"
      ]
    },
    {
      "cell_type": "code",
      "execution_count": null,
      "metadata": {
        "id": "QDHK0BFpDvwY",
        "outputId": "0be7e51e-3448-4be7-f3c3-0c3c82a4b223"
      },
      "outputs": [
        {
          "data": {
            "text/plain": [
              "{'Persa': 1, 'Sphynx': 2, 'Ragdoll': 3, 'Siamés': 4}"
            ]
          },
          "execution_count": 21,
          "metadata": {},
          "output_type": "execute_result"
        }
      ],
      "source": [
        "dict(zip(gatos, [1,2,3,4]))"
      ]
    },
    {
      "cell_type": "code",
      "execution_count": null,
      "metadata": {
        "id": "b9Zi0kQsDvwZ",
        "outputId": "4559a05a-6755-4fe1-fb38-220003fee6be"
      },
      "outputs": [
        {
          "name": "stdout",
          "output_type": "stream",
          "text": [
            "Persa\n",
            "Sphynx\n",
            "Ragdoll\n",
            "Siamés\n"
          ]
        }
      ],
      "source": [
        "for i in dict(zip(gatos, [1,2,3,4])):\n",
        "    print(i)"
      ]
    },
    {
      "cell_type": "code",
      "execution_count": null,
      "metadata": {
        "id": "BgpQ4qEGDvwZ",
        "outputId": "9e1f67d5-9333-45dd-c00b-06227ef4a25a"
      },
      "outputs": [
        {
          "name": "stdout",
          "output_type": "stream",
          "text": [
            "Persa 1\n",
            "Sphynx 2\n",
            "Ragdoll 3\n",
            "Siamés 4\n"
          ]
        }
      ],
      "source": [
        "dicc = dict(zip(gatos, [1,2,3,4]))\n",
        "for i in dicc:\n",
        "    print(i, dicc[i])"
      ]
    },
    {
      "cell_type": "code",
      "execution_count": null,
      "metadata": {
        "id": "cgYoYyghDvwZ",
        "outputId": "1be05437-1a7e-49d8-d2a5-bf6ce6c21960"
      },
      "outputs": [
        {
          "name": "stdout",
          "output_type": "stream",
          "text": [
            "0 Persa 1\n",
            "1 Sphynx 2\n",
            "2 Ragdoll 3\n",
            "3 Siamés 4\n"
          ]
        }
      ],
      "source": [
        "for i, v in enumerate(dicc):\n",
        "    print(i, v, dicc[v])"
      ]
    },
    {
      "cell_type": "code",
      "execution_count": null,
      "metadata": {
        "id": "ilZNkIBfDvwa",
        "outputId": "fa1eb829-8f80-4c8d-9ddc-5eb57a536380"
      },
      "outputs": [
        {
          "data": {
            "text/plain": [
              "[(0, 'Persa'), (1, 'Sphynx'), (2, 'Ragdoll'), (3, 'Siamés')]"
            ]
          },
          "execution_count": 25,
          "metadata": {},
          "output_type": "execute_result"
        }
      ],
      "source": [
        "list(enumerate(dicc))"
      ]
    },
    {
      "cell_type": "code",
      "execution_count": null,
      "metadata": {
        "id": "f2Lx9JFgDvwa"
      },
      "outputs": [],
      "source": [
        "gatos.append([1,2,3,4,5])"
      ]
    },
    {
      "cell_type": "code",
      "execution_count": null,
      "metadata": {
        "id": "MUeD53j-Dvwa",
        "outputId": "1fa96a50-11a9-4908-876e-034220f28e76"
      },
      "outputs": [
        {
          "data": {
            "text/plain": [
              "['Persa', 'Sphynx', 'Ragdoll', 'Siamés', [1, 2, 3, 4, 5]]"
            ]
          },
          "execution_count": 28,
          "metadata": {},
          "output_type": "execute_result"
        }
      ],
      "source": [
        "gatos"
      ]
    },
    {
      "cell_type": "code",
      "execution_count": null,
      "metadata": {
        "id": "SdnsbegjDvwa",
        "outputId": "4b2b8221-5420-4e93-d846-93232ab53b6d"
      },
      "outputs": [
        {
          "name": "stdout",
          "output_type": "stream",
          "text": [
            "Persa <class 'str'>\n",
            "Sphynx <class 'str'>\n",
            "Ragdoll <class 'str'>\n",
            "Siamés <class 'str'>\n",
            "1\n",
            "2\n",
            "3\n",
            "4\n",
            "5\n",
            "[1, 2, 3, 4, 5] <class 'list'>\n"
          ]
        }
      ],
      "source": [
        "for i in gatos:\n",
        "    if type(i) == list:\n",
        "        for j in i:\n",
        "            print(j)\n",
        "    print(i, type(i))"
      ]
    },
    {
      "cell_type": "code",
      "execution_count": null,
      "metadata": {
        "id": "P6mvNsWkDvwb",
        "outputId": "6bc60e84-3aeb-4593-9551-4a52d33c0fc4"
      },
      "outputs": [
        {
          "data": {
            "text/plain": [
              "[1, 2, 3, 4, 5]"
            ]
          },
          "execution_count": 30,
          "metadata": {},
          "output_type": "execute_result"
        }
      ],
      "source": [
        "gatos[-1]"
      ]
    },
    {
      "cell_type": "code",
      "execution_count": null,
      "metadata": {
        "id": "aoAg90W-Dvwb",
        "outputId": "6669c8fd-1f9c-4860-ce22-029c57088403"
      },
      "outputs": [
        {
          "name": "stdout",
          "output_type": "stream",
          "text": [
            "1\n",
            "2\n",
            "3\n",
            "4\n",
            "5\n"
          ]
        }
      ],
      "source": [
        "for i in gatos[-1]:\n",
        "    print(i)"
      ]
    },
    {
      "cell_type": "markdown",
      "metadata": {
        "id": "qtCn5mM1Dvwb"
      },
      "source": [
        "#### Funcion range"
      ]
    },
    {
      "cell_type": "code",
      "execution_count": null,
      "metadata": {
        "id": "w9hog922Dvwb",
        "outputId": "3dc0c2cf-4940-46a5-9ba8-085e5b635f68"
      },
      "outputs": [
        {
          "data": {
            "text/plain": [
              "[1, 2, 3, 4, 5, 6, 7, 8, 9, 10, 11, 12, 13, 14, 15, 16, 17, 18, 19]"
            ]
          },
          "execution_count": 37,
          "metadata": {},
          "output_type": "execute_result"
        }
      ],
      "source": [
        "list(range(1,20,1)) # (inicio, final, paso)"
      ]
    },
    {
      "cell_type": "code",
      "execution_count": null,
      "metadata": {
        "id": "vJ0dcU1oDvwc",
        "outputId": "6beca61f-80c0-47c8-8b99-6d327fc6b16a"
      },
      "outputs": [
        {
          "name": "stdout",
          "output_type": "stream",
          "text": [
            "1, 2, 3, 4, 5, 6, 7, 8, 9, 10, 11, 12, 13, 14, 15, 16, 17, 18, 19, "
          ]
        }
      ],
      "source": [
        "for i in range(1,20):\n",
        "    print(i, end= ', ')"
      ]
    },
    {
      "cell_type": "code",
      "execution_count": null,
      "metadata": {
        "id": "yekVYlDqDvwc"
      },
      "outputs": [],
      "source": [
        "r = range(1,100,10)"
      ]
    },
    {
      "cell_type": "code",
      "execution_count": null,
      "metadata": {
        "id": "KYeqWQ3HDvwc",
        "outputId": "917f93b9-ba6a-4c53-eeae-468014ad0af7"
      },
      "outputs": [
        {
          "name": "stdout",
          "output_type": "stream",
          "text": [
            "range(1, 100, 10) <class 'range'>\n"
          ]
        }
      ],
      "source": [
        "print(r, type(r))"
      ]
    },
    {
      "cell_type": "code",
      "execution_count": null,
      "metadata": {
        "id": "NFccZnkbDvwc",
        "outputId": "7b5f72e7-594f-4171-c24d-2e5cf63c9771"
      },
      "outputs": [
        {
          "name": "stdout",
          "output_type": "stream",
          "text": [
            "1 11 21 31 41 51 61 71 81 91 "
          ]
        }
      ],
      "source": [
        "for i in r:\n",
        "    print(i, end=\" \")"
      ]
    },
    {
      "cell_type": "code",
      "execution_count": null,
      "metadata": {
        "id": "wq90tKLVDvwd",
        "outputId": "7c8cdee4-af57-403f-eac7-b6cb8df0a521"
      },
      "outputs": [
        {
          "name": "stdout",
          "output_type": "stream",
          "text": [
            "[1, 11, 21, 31, 41, 51, 61, 71, 81, 91] <class 'list'>\n"
          ]
        }
      ],
      "source": [
        "r = list(r)\n",
        "print(r, type(r))"
      ]
    },
    {
      "cell_type": "code",
      "execution_count": null,
      "metadata": {
        "id": "EplQSqh-Dvwd",
        "outputId": "6a049c10-d2e0-4fcb-f708-5586f0fc6a37"
      },
      "outputs": [
        {
          "name": "stdout",
          "output_type": "stream",
          "text": [
            "100 90 80 70 60 50 40 30 20 10 "
          ]
        }
      ],
      "source": [
        "for i in range(100,1,-10):\n",
        "    print(i, end=\" \")"
      ]
    },
    {
      "cell_type": "markdown",
      "metadata": {
        "id": "lbTdVrkVDvwd"
      },
      "source": [
        "#### break, continue, else, pass\n"
      ]
    },
    {
      "cell_type": "code",
      "execution_count": null,
      "metadata": {
        "id": "nWMtahi4Dvwe",
        "outputId": "5de6f8a9-2e75-4dc7-98f2-a077edf4a533"
      },
      "outputs": [
        {
          "name": "stdout",
          "output_type": "stream",
          "text": [
            "Letra actual : P\n",
            "Letra actual : y\n",
            "Letra actual : t\n",
            "Letra actual : o\n",
            "Letra actual : n\n",
            "Letra actual : i\n",
            "Letra actual : c\n",
            "Letra actual : o\n"
          ]
        }
      ],
      "source": [
        "for letra in \"Pythonico\":\n",
        "    if letra == \"h\":\n",
        "        continue\n",
        "    print (\"Letra actual : \" + letra)"
      ]
    },
    {
      "cell_type": "code",
      "execution_count": null,
      "metadata": {
        "id": "VE8fxk_MDvwe",
        "outputId": "220d6370-9ee7-474f-bc0b-2ac7296d1950"
      },
      "outputs": [
        {
          "name": "stdout",
          "output_type": "stream",
          "text": [
            "Letra actual : P\n",
            "Letra actual : y\n",
            "Letra actual : t\n",
            "Letra actual : o\n",
            "Letra actual : n\n",
            "Letra actual : i\n",
            "Letra actual : c\n",
            "Letra actual : o\n",
            "No encontré la h\n"
          ]
        }
      ],
      "source": [
        "for letra in \"Pytonico\":\n",
        "    if letra == \"h\":\n",
        "        break\n",
        "    print (\"Letra actual : \" + letra)\n",
        "else:\n",
        "    print(\"No encontré la h\")"
      ]
    },
    {
      "cell_type": "code",
      "execution_count": null,
      "metadata": {
        "id": "jc1jRmQPDvwf",
        "outputId": "51632a49-6ee1-41a4-c317-8ff3738fded4"
      },
      "outputs": [
        {
          "data": {
            "text/plain": [
              "11"
            ]
          },
          "execution_count": 66,
          "metadata": {},
          "output_type": "execute_result"
        }
      ],
      "source": [
        "35 // 3"
      ]
    },
    {
      "cell_type": "code",
      "execution_count": null,
      "metadata": {
        "id": "JMbnKz7JDvwf",
        "outputId": "84f4ed80-3aee-4e6a-ed51-c769596726ea"
      },
      "outputs": [
        {
          "name": "stdout",
          "output_type": "stream",
          "text": [
            "2 es un número primo\n",
            "3 es un número primo\n",
            "4 igual a  2 * 2\n",
            "5 es un número primo\n",
            "6 igual a  2 * 3\n",
            "7 es un número primo\n",
            "8 igual a  2 * 4\n",
            "9 igual a  3 * 3\n"
          ]
        }
      ],
      "source": [
        "for n in range(2, 10):\n",
        "    for x in range(2, n):\n",
        "        if n % x == 0:\n",
        "            print(n, 'igual a ', x, '*', n//x)\n",
        "            break\n",
        "    else:\n",
        "        print(n, 'es un número primo')"
      ]
    },
    {
      "cell_type": "code",
      "execution_count": null,
      "metadata": {
        "id": "66NNYDAiDvwf",
        "outputId": "00acfc22-9579-4973-9f1a-68d0c4741970"
      },
      "outputs": [
        {
          "name": "stdout",
          "output_type": "stream",
          "text": [
            "Número par  2\n",
            "Número impar 3\n",
            "Número par  4\n",
            "Número impar 5\n",
            "Número par  6\n",
            "Número impar 7\n",
            "Número par  8\n",
            "Número impar 9\n"
          ]
        }
      ],
      "source": [
        "for num in range(2, 10):\n",
        "    if num % 2 == 0:\n",
        "        print(\"Número par \", num)\n",
        "        continue\n",
        "    print(\"Número impar\", num)"
      ]
    },
    {
      "cell_type": "code",
      "execution_count": null,
      "metadata": {
        "id": "OqFnfcICDvwg",
        "outputId": "91e18815-e9be-4669-e0f0-2c2a43a95b8d"
      },
      "outputs": [
        {
          "name": "stdin",
          "output_type": "stream",
          "text": [
            "Clave: despedida\n"
          ]
        },
        {
          "name": "stdout",
          "output_type": "stream",
          "text": [
            "Tuviste 0 intentos fallidos.\n"
          ]
        }
      ],
      "source": [
        "suma = 0\n",
        "while suma < 3:\n",
        "    entrada = input(\"Clave:\")\n",
        "    if entrada == \"despedida\":\n",
        "        break\n",
        "    suma = suma + 1\n",
        "    print(\"Intento %d. \\n \" % suma)\n",
        "print(\"Tuviste {} intentos fallidos.\".format(suma))"
      ]
    },
    {
      "cell_type": "markdown",
      "metadata": {
        "id": "OLu_x4DCDvwg"
      },
      "source": [
        "#### pass\n",
        "\n",
        "Esta declaración no hace nada. Se usa principalmente para cuestiones de desarrollo de código a un nivel abstracto.\n"
      ]
    },
    {
      "cell_type": "code",
      "execution_count": null,
      "metadata": {
        "id": "MulVwLUODvwh"
      },
      "outputs": [],
      "source": [
        "i = 0\n",
        "while i > 10:\n",
        "    pass"
      ]
    },
    {
      "cell_type": "code",
      "execution_count": null,
      "metadata": {
        "id": "R02GQhn0Dvwh"
      },
      "outputs": [],
      "source": [
        "# La siguiente función calcula la secuencia de Fibonacci\n",
        "def fib(n):\n",
        "#    print(i, end=\" \")\n",
        "    pass\n",
        "\n",
        "# En este punto del programa requiero el uso de la función fib(n):\n",
        "\n",
        "fib(100000) #"
      ]
    }
  ],
  "metadata": {
    "kernelspec": {
      "display_name": "Python 3 (ipykernel)",
      "language": "python",
      "name": "python3"
    },
    "language_info": {
      "codemirror_mode": {
        "name": "ipython",
        "version": 3
      },
      "file_extension": ".py",
      "mimetype": "text/x-python",
      "name": "python",
      "nbconvert_exporter": "python",
      "pygments_lexer": "ipython3",
      "version": "3.8.10"
    },
    "colab": {
      "provenance": [],
      "include_colab_link": true
    }
  },
  "nbformat": 4,
  "nbformat_minor": 0
}