{
  "nbformat": 4,
  "nbformat_minor": 0,
  "metadata": {
    "colab": {
      "provenance": [],
      "toc_visible": true,
      "authorship_tag": "ABX9TyOYJ1XGOq2yReqW6SIrO5sL",
      "include_colab_link": true
    },
    "kernelspec": {
      "name": "python3",
      "display_name": "Python 3"
    }
  },
  "cells": [
    {
      "cell_type": "markdown",
      "metadata": {
        "id": "view-in-github",
        "colab_type": "text"
      },
      "source": [
        "<a href=\"https://colab.research.google.com/github/repomacti/Curso_Macti/blob/zeus/02_Herramientas/PythonyJupyterLab.ipynb\" target=\"_parent\"><img src=\"https://colab.research.google.com/assets/colab-badge.svg\" alt=\"Open In Colab\"/></a>"
      ]
    },
    {
      "cell_type": "markdown",
      "metadata": {
        "id": "4hZLrKGISFdt"
      },
      "source": [
        "# Taller MACTI"
      ]
    },
    {
      "cell_type": "markdown",
      "source": [
        "## Python y JupyterLab\n",
        "\n",
        "Licensed under <a href=\"https://creativecommons.org/licenses/by-nc-nd/4.0?ref=chooser-v1\">Attribution-NonCommercial-NoDerivatives 4.0 International</a>"
      ],
      "metadata": {
        "id": "EJ_KfXXPcWj-"
      }
    },
    {
      "cell_type": "markdown",
      "metadata": {
        "id": "MvR-pOHCSXLg"
      },
      "source": [
        "# Presentación\n",
        "\n",
        "**Licenciatura** (2010): Ciencias de la Computación Facultad de Ciencias.\n",
        "\n",
        "**Becario**: Fundación Telmex (CTINT).\n",
        "\n",
        "**Profesor** (antigüedad 14 años):\n",
        "\n",
        "*   Sistemas Operativos.\n",
        "*   Manejo de Datos (programación 1 y 2).\n",
        "*   Ingeniería de Software.\n",
        "*   Bases de Datos.\n",
        "*   Análisis Numérico.\n",
        "*   Programación en Paralelo.\n",
        "\n",
        "**Maestría** (2017): Instituto de Investigaciones en Matemáticas Aplicadas y en Sistemas (I.I.M.A.S), especialidad en cómputo científico.\n",
        "\n",
        "**Laboratorio de cómputo de alto rendimiento**: Actualmente me encuentro encargado del laboratorio de cómpunto de alto rendimiento de la Facultad de Ciencias.\n",
        "\n",
        "Hoy en día la forma de interactuar entre nosotros ha cambiado mucho, en particular la forma de aprender (y enseñar). Actualmente se tienen múltiples plataformas para facilitar estas tareas, por mencionar algunas:\n",
        "\n",
        "*   *Meet (Google).*\n",
        "*   *Zoom.*\n",
        "*   *Youtube.*\n",
        "*   *Moodle.*\n",
        "\n",
        "Y en particular en este curso vamos a aprender a utilizar [JupyterLab](https://jupyter.org/) , en conjunto con [GitHub](https://github.com/) y aplicado a temas sobre ciencia e ingeniería como los son:\n",
        "\n",
        "*   Fuentes de información.\n",
        "*   Algoritmos de ordenamiento.\n",
        "*   Algoritmos de búsqueda.\n",
        "*   Simulación.\n",
        "*   Manejo de bases de datos.\n",
        "*   Estándares para el intercambio de información.\n",
        "*   Redes neuronales artificiales."
      ]
    },
    {
      "cell_type": "markdown",
      "metadata": {
        "id": "YXDk2MHbUjKK"
      },
      "source": [
        "# ¿Qué es *JupyterLab*?\n",
        "\n",
        "La respuesta a esta pregunta, es algo complicada ya que *JupyterLab* es un **conjunto de herramientas** que facilitan llevar a cabo la tarea de aprender-enseñar.\n",
        "\n",
        "Desde el punto de vista de un usuario avanzado, podemos pensar que *JupyterLab* es un **contenedor** que nos facilita el Instituto de Ciencias Nucleares para poder desarrollar el material que nosotros necesitemos.\n",
        "\n",
        "Desde el punto de vista de un estudiante, *JupyterLab* es la herramienta que usa el profesor para **exponer sus ideas y conocimiento**, sin embargo al mismo tiempo esta herramienta puede ser usada por el estudiante para llevar a cabo la misma tarea, **exponer, compartir y reafirmar** su conocimiento.\n",
        "\n",
        "En pocas palabras *JupyterLab* es un conjunto de herramientas que podemos usar para hacer más sencillo el proceso de enseñanza-aprendizaje."
      ]
    },
    {
      "cell_type": "markdown",
      "metadata": {
        "id": "rX6FUbd-3xoR"
      },
      "source": [
        "## ¿En qué nos ayuda *JupyterLab*?\n",
        "\n",
        "La principal ventaja que nos brinda *JupyterLab*, es el hecho de proporcionarnos un **laboratorio de cómputo virtual** en el cual podemos plasmar texto, algoritmos, acceder a bases de datos o repositorios, descargar materiales o realizar la labor que necesitemos para fines del curso.\n",
        "\n",
        "Además podemos hacer uso de esta herramienta de forma gratuita y **sin la necesidad de realizar instalación alguna**, basta con tener un dispositivo con acceso a internet y una cuenta en la plataforma [MACTI](https://www.macti.unam.mx/).\n",
        "\n",
        "Estas son los pricipales motivos para hacer uso de *JupyterLab*, mismos que hoy en día y dadas las condiciones actuales, son una excelente herramienta.\n",
        "\n",
        "Por otro lado, *JupyterLab* es un gran aliado en el modelo pedagógico conocido como [aula invertida](https://www.nubemia.com/aula-invertida-otra-forma-de-aprender/), mediante el cual la adaptación a las clases no-presenciales es más sencillo."
      ]
    },
    {
      "cell_type": "markdown",
      "source": [
        "## Plataforma\n",
        "\n",
        "Una vez que hemos ingresado en *JupyterLab* lo que vamos a ver es algo similar a la siguiente imagen.\n",
        "\n",
        "<center>\n",
        "<img src=\"https://github.com/jugernaut/Numerico2021/blob/desarrollo/Figuras/Convergencia-Complejidad//plataforma.png?raw=1\" width=\"550\">\n",
        "</center>\n",
        "\n",
        "Esta pantalla nos muestra todas las herramientas que nos proporciona *JupyterLab*.\n",
        "\n",
        "Y en particular el *Launcher* muestra accesos rápidos a las herramientas que se usan de manera más frecuente."
      ],
      "metadata": {
        "id": "miKDlgYGkcyu"
      }
    },
    {
      "cell_type": "markdown",
      "source": [
        "## Navegador de Archivos\n",
        "\n",
        "La herramienta principal, es el navegador de archivos, esta herramienta nos permite navegar por todos los documentos que se tienen en la sesión (cuenta) actual.\n",
        "\n",
        "Este navegador lo podemos encontrar en la parte izquierda de la pantalla y se caracteriza por mostrar los archivos con sus respectivos nombres, como se puede ver en la siguiente imágen.\n",
        "\n",
        "<center>\n",
        "<img src=\"https://github.com/jugernaut/Numerico2021/blob/desarrollo/Figuras/Convergencia-Complejidad//navegador.png?raw=1\" width=\"550\">\n",
        "</center>\n",
        "\n",
        "Con esta herramienta podemos, llevar a cabo las mismas tareas que se pueden llevar a cabo con el navegeador de archivos que usas normalmente en tu computadora."
      ],
      "metadata": {
        "id": "q4QykbODfIIU"
      }
    },
    {
      "cell_type": "markdown",
      "source": [
        "## Terminal\n",
        "\n",
        "La [terminal](https://terminaldelinux.com/terminal/introduccion/que-es-terminal/) (o consola), es una de las herramientas más potentes en todo sistema operativo, nos permite dar instrucciones mediante texto a la computadora.\n",
        "\n",
        "Estas instrucciones estan directamente relacionadas el *softweare* instalado y con el sistema operativo, para el caso de *JupyterLab* el sistema operativo es *Linux*, así que las instrucciones (comandos) que interpreta la terminal, deben ser comandos de *Linux*\n",
        "\n",
        "La terminal en *JupyterLab* se ve de la siguiente forma.\n",
        "\n",
        "<center>\n",
        "<img src=\"https://github.com/jugernaut/Numerico2021/blob/desarrollo/Figuras/Convergencia-Complejidad//terminal.png?raw=1\" width=\"550\">\n",
        "</center>\n",
        "\n",
        "En esta consola puedes instalar paqueterías (*software*) mediante el comando *apt-get install*, tambien podemos navegar por el sistema de archivos, de igual manera que lo podríamos hacer con el navegador de archivos, solo que en este caso mediante texto (comandos).\n",
        "\n",
        "En este [enlace](https://www.hostinger.mx/tutoriales/linux-comandos), puedes encontrar los comandos más comunes y útiles para el sistema operativo *Linux*."
      ],
      "metadata": {
        "id": "4mq3dt8lfM55"
      }
    },
    {
      "cell_type": "markdown",
      "metadata": {
        "id": "se7Qhnb7X0i6"
      },
      "source": [
        "## Celdas\n",
        "\n",
        "Para el usuario intermedio, es más que suficiente que piense en *JupyterLab* como un medio virtual para poder redactar documentos tipo [*jupyter notebooks*](https://es.wikipedia.org/wiki/Proyecto_Jupyter).\n",
        "\n",
        "Un *jupyter notebook*, es un documento que permite mezclar *HTML* (hyper text media languaje), $\\LaTeX{}$ y código de programación (*Python, Julia o R*) para que finalmente sea interpretado por algún navegador.\n",
        "\n",
        "Lo principal que debe entender un usuario principiante/medio, es que las 2 acciones principales que puedes llevar a cabo en un documento **, es redactar 2 tipos de celdas:\n",
        "\n",
        "*   **Texto**: en este tipo de celdas puedes incorporar todo tipo de contenido mencionado previamente,  texto plano, *HTML*, $\\LaTeX{}$ o incluso imágenes o videos.\n",
        "*   **Código**: este tipo de celdas permite introducir código de programación en lenguaje *Python* (incluso algunos otros).\n"
      ]
    },
    {
      "cell_type": "markdown",
      "metadata": {
        "id": "LjloCBJsZ8NY"
      },
      "source": [
        "### Celdas de texto\n",
        "\n",
        "Como su nombre lo indica, este tipo de celdas tienen el propósito de permitir al usuario agregar contenido al documento, principalmente en forma de texto plano, aunque también puede ser etiquetas *HTML* o incluso $\\LaTeX{}$.\n",
        "\n",
        "Se puede agregar una celda de texto desde la sección \"Insertar\" y seleccionando posteriormente \"Celda de texto\".\n",
        "\n",
        "Idealmente cada celda de texto debe comenzar con el símbolo '#' en el encabezado, este símbolo nos ayuda a definir si se trata de una sección, subsección, etc, la cantidad de símbolos '#', nos indica la cantidad de subseeciones a las que pertenece la cela en cuestión.\n",
        "\n",
        "Por otro lado, en la parte superior de la celda de texto, se muestra un menú corto de edición de texto, con los elementos típicos como:\n",
        "\n",
        "*   Tamaño de la fuente.\n",
        "*   Tipo/Forma de la fuente.\n",
        "*   Hipervinculos.\n",
        "*   Imágenes.\n",
        "\n",
        "Estas opciones son suficientes comúnmente, sin embargo en caso de no ser así, existen alternativas."
      ]
    },
    {
      "cell_type": "markdown",
      "metadata": {
        "id": "nc_N5wuRdb4D"
      },
      "source": [
        "#### *HTML*\n",
        "\n",
        "El lenguaje *HTML*, se basa en **etiquetas** y brinda una gran flexibilidad al momento de mostrar elementos en un navegador web.\n",
        "\n",
        "Los detalles finos del funcionamiento del lenguaje *HTML* escapan del alcance de este curso y para mayor detalle se puede revisar sitios como [W3Schools](https://www.w3schools.com/) y en particular el tutorial de [HTML](https://https://www.w3schools.com/html/).\n",
        "\n",
        "A continuación se muestra un ejemplo sencillo de como agregar *HTML* a una celda de JupyterLab.\n",
        "\n",
        "<font color=\"Teal\" face=\"Comic Sans MS,arial\">\n",
        "  <h1 align=\"center\"><i>Redes Neuronales</i></h1>\n",
        "  </font>\n",
        "  <font color=\"Black\" face=\"Comic Sans MS,arial\">\n",
        "  <h5 align=\"center\"><i>Profesor: M.en.C. Miguel Angel Pérez León.</i></h5>\n",
        "  </font>"
      ]
    },
    {
      "cell_type": "markdown",
      "metadata": {
        "id": "9QEBRicRfbPE"
      },
      "source": [
        "#### $\\LaTeX$\n",
        "\n",
        "De igual manera que con el código *HTML*, el lenguaje $\\LaTeX{}$, es una herramienta de gran utilidad sobretodo en el contexto de las ciencias, ya que nos permite expresar ideas complejas mediante símbolos y expresiones bien formadas.\n",
        "\n",
        "Existe una gran cantidad de documentación que nos puede ayudar a conocer más a detalle el funcionamiento y uso del lenguaje $\\LaTeX$, aquí se muestran 2 sugerencias, [overleaf](https://www.overleaf.com/learn/latex/Learn_LaTeX_in_30_minutes) y [latex fácil](https://nokyotsu.com/latex/curso.html).\n",
        "\n",
        "Por el momento es suficiente saber que para poder incrustar lenguaje $\\LaTeX$ dentro de una celda en *JupyterLab* es necesario usar el símbolo de pesos y cerrar la expresión con el mismo símbolo, por ejemplo $f(x)$.\n",
        "\n",
        "Si necesitamos darle un poco más de formato a la expresión se usan 2 símbolos de pesos, por ejemplo.\n",
        "\n",
        "$$f'\\left(x\\right)=\\lim_{\\triangle x\\rightarrow0}\\frac{f\\left(x+\\triangle x\\right)-f\\left(x\\right)}{\\triangle x}$$\n",
        "\n",
        "La versatilidad de $\\LaTeX$ nos permite expresar ideas tan complejas como sean necesarias, por ejemplo la aproximación de una integral triple definida entre $[0,1]$, como se muestra en (1).\n",
        "\n",
        "$$\\int_{0}^{1}\\int_{0}^{1}\\int_{0}^{1}f\\left(x,y,z\\right)dxdydz\\approx\\frac{1}{n}\\sum_{i=1}^{n}f\\left(x_{i},y_{i},z_{i}\\right) \\tag{1}$$\n",
        "\n",
        "O las operaciones que se realizan en una capa de una red neuronal artificial (2).\n",
        "\n",
        "$$\\begin{array}{cccccc}\n",
        "F(\\vec{X})=\\left(\\begin{array}{cc}\n",
        "w_{0,0} & w_{0,1}\\\\\n",
        "w_{1,0} & w_{1,1}\\\\\n",
        "\\vdots & \\vdots\\\\\n",
        "w_{n,0} & w_{n,1}\n",
        "\\end{array}\\right) & \\left(\\begin{array}{c}\n",
        "a_{0}^{c-1}\\\\\n",
        "a_{1}^{c-1}\n",
        "\\end{array}\\right) & + & \\left(\\begin{array}{c}\n",
        "b_{0}^{c}\\\\\n",
        "b_{1}^{c}\\\\\n",
        "\\vdots\\\\\n",
        "b_{n}^{c}\n",
        "\\end{array}\\right) & = & \\left(\\begin{array}{c}\n",
        "a_{0}^{c-1}*w_{0,0}+a_{1}^{c-1}*w_{0,1}+b_{0}^{c}\\\\\n",
        "a_{0}^{c-1}*w_{1,0}+a_{1}^{c-1}*w_{1,1}+b_{1}^{c}\\\\\n",
        "\\vdots\\\\\n",
        "a_{0}^{c-1}*w_{n,0}+a_{1}^{c-1}*w_{n,1}+b_{n}^{c}\n",
        "\\end{array}\\right)\\end{array} \\tag{2}$$"
      ]
    },
    {
      "cell_type": "markdown",
      "metadata": {
        "id": "59KxPr97jnY8"
      },
      "source": [
        "#### Imágenes\n",
        "\n",
        "Un elemento al que se recurre frecuente en todo documento de texto, son las imágenes y *JupyterLab* nos permite incorporarlas de múltiples formas.\n",
        "\n",
        "**Desde el menú de la celda**, podemos hacer uso de la opción para agregar imágenes, esta es la forma más sencilla para agregar imágenes al documento, pero también la menos usada ya que agrega gran cantidad de codificación a la celda.\n",
        "\n",
        "**Desde una URL** (dirección web), podemos agregar una imagen y darle formato con *HTML*. Esta es una forma útil y sencilla, pero depende del funcionamiento del sitio web para que la imagen sea mostrada, por ejemplo.\n",
        "\n",
        "<center>\n",
        "<img src=\"https://github.com/jugernaut/Numerico2021/blob/desarrollo/Figuras/Normas/p1.png?raw=1\" width=\"150\">\n",
        "</center>\n",
        "\n",
        "**Desde *Google Drive***, esta forma es la que más frecuentemente se usa, aunque es algo \"engañosa\" ya que es necesario generar una **carpeta pública** dentro de nuestro *Google Drive*, subir la imagen y ubicar el **id de la imagen**, por ejemplo.\n",
        "\n",
        "![dinero](https://docs.google.com/uc?export=download&id=1GZSQIY8y164zXGFvQM1u9DBMopKKPYnj)\n",
        "\n",
        "En este ejemplo, la imagen se ubica en mi drive, en una carpeta compartida (pública) y el id que google le asigno a esta imagen es *1GZSQIY8y164zXGFvQM1u9DBMopKKPYnj*."
      ]
    },
    {
      "cell_type": "markdown",
      "metadata": {
        "id": "kwMpCXtgJrtV"
      },
      "source": [
        "###### Animaciones\n",
        "\n",
        "De igual manera que se agregan imágenes, es posible agregar animaciones, ya sea desde un sitio en internet o nuestro drive.\n",
        "\n",
        "![anim1](https://docs.google.com/uc?export=download&id=1gmcY1mUeQ5AmAunk9wtJXhMk9Ihw9_DQ)\n",
        "\n",
        "<center>\n",
        "<img src=\"https://github.com/jugernaut/Numerico2021/blob/master/Figuras/derivacion/DiFini2D.gif?raw=1\" width=\"850\">\n",
        "</center>"
      ]
    },
    {
      "cell_type": "markdown",
      "metadata": {
        "id": "13yU0yLt04il"
      },
      "source": [
        "### Celdas de código\n",
        "\n",
        "Este tipo de celda nos permite agregar código en lenguaje *Python* (inicialmente) ejecutarlo y mostrar el resultado mediante el navegador.\n",
        "\n",
        "Las celdas de tipo código tienen 4 elementos principales:\n",
        "\n",
        "*   **Código en *Python***: aquí podemos escribir todas las instrucciones que compongan el **algoritmo** de programación.\n",
        "*   **Comentarios**: con el símbolo '#' (o también con ''' ''') se indica que que lo que se encuentre después de este símbolo no se debe interpretar como código, simplemente como un comentario.\n",
        "*   **Ejecución**: del lado izquierdo superior de esta cela se ve el símbolo de un triangulo $\\blacktriangleright$, al momento de presionarlo se interpreta y ejecuta el código de esta celda.\n",
        "*   **Resultados ó Errores**: después de ejecutar el código de la celda y debajo de la misma, se mostrará el resultado de la ejecución de este código (en caso de que se muestre algún resultado).\n",
        "\n",
        "Veamos un ejemplo muy sencillo.\n"
      ]
    },
    {
      "cell_type": "code",
      "metadata": {
        "colab": {
          "base_uri": "https://localhost:8080/"
        },
        "id": "omlYa6vR87VO",
        "outputId": "c1a42a65-f93f-4a31-c7ef-ee508c2189dd"
      },
      "source": [
        "# esto es un comentario solo es para fines documentales\n",
        "import numpy as np\n",
        "import matplotlib.pyplot as plt\n",
        "\n",
        "print(\"Hola JupyterLab\")"
      ],
      "execution_count": null,
      "outputs": [
        {
          "output_type": "stream",
          "text": [
            "Hola Google Colab\n"
          ],
          "name": "stdout"
        }
      ]
    },
    {
      "cell_type": "code",
      "metadata": {
        "colab": {
          "base_uri": "https://localhost:8080/",
          "height": 131
        },
        "id": "U5YLVnnM9Oo-",
        "outputId": "1ec8c022-833a-4d21-d6f0-50c6ce8268b2"
      },
      "source": [
        "# este ejemplo muestra un error de programacion\n",
        "pront(Hola JupyterLab)"
      ],
      "execution_count": null,
      "outputs": [
        {
          "output_type": "error",
          "ename": "SyntaxError",
          "evalue": "ignored",
          "traceback": [
            "\u001b[0;36m  File \u001b[0;32m\"<ipython-input-2-9db0df84648b>\"\u001b[0;36m, line \u001b[0;32m2\u001b[0m\n\u001b[0;31m    pront(Hola Google Colab)\u001b[0m\n\u001b[0m                    ^\u001b[0m\n\u001b[0;31mSyntaxError\u001b[0m\u001b[0;31m:\u001b[0m invalid syntax\n"
          ]
        }
      ]
    },
    {
      "cell_type": "markdown",
      "metadata": {
        "id": "ka4s_jviWLr9"
      },
      "source": [
        "## Usuario avanzado\n",
        "\n",
        "Normalmente en cualquier curso (que tenga que ver con el uso de una computadora), uno de los problemas principales es el proceso de instalación y ajuste de las herramientas que se van a ocupar.\n",
        "\n",
        "*JupyterLab* facilita esta tarea proporcionado un entorno (contenedor) con todo lo necesario para ejecutar programas en *Python*, redactar contenido empleando $\\LaTeX{}$ y compartir contenidos como imágenes o video.\n",
        "\n",
        "En esencia un usuario avanzado puede pensar en *Googe Colab*, como un entrono de desarrollo virtual que ofrece *Google* y que se encuentra en la nube.\n",
        "\n",
        "Al acceder a un documento tipo colab desde nuestra cuenta de *Gmail* podemos ver secciones tan variadas como:\n",
        "\n",
        "*   Indice.\n",
        "*   Archivos.\n",
        "*   Bases de datos.\n",
        "*   Entorno de ejecución.\n",
        "*   RAM y Disco.\n",
        "\n",
        "Entre muchas otras secciones y herramientas, para fines de este curso basta con conocer y manejar las antes mencionadas.\n"
      ]
    },
    {
      "cell_type": "markdown",
      "metadata": {
        "id": "OObd73FMtIda"
      },
      "source": [
        "### Contenedor\n",
        "\n",
        "La tecnología de virtualización y en particular los [contenedores](https://www.redhat.com/es/topics/containers/whats-a-linux-container) ayudan a repartir los recursos de cómputo entre varios usuarios, *Google* hace uso de esta tecnología para prestarnos una pequeña parte de un servidor en el cual se aloja nuestra sesión mediante la que se accede al documento de *JupyterLab*.\n",
        "\n",
        "<center>\n",
        "<img src=\"https://docs.google.com/uc?export=download&id=1dN3ljTmEVcYS2dGmWWqvu-QV5Gegr_Ib\" width=\"550\">\n",
        "</center>\n",
        "\n",
        "En la menú izquierdo podemos ver un par de opciones, la primera nos muestra el indice, la segunda nos permite buscar y reemplazar, sin embargo la cuarta opción nos muestra los *Archivos* que se encuentra en nuestro contenedor. Inicialmente unicamente podemos ver la carpeta *sample_data*, sin embargo podemos agregar mas y sobretodo navegar por los archivos de nuestro contenedor.\n",
        "\n",
        "Al mismo tiempo este menú (*Archivos*), permite subir archivos que se ubiquen en nuestro **equipo local** al contenedor y también acceder a nuestros documentos en el drive de google."
      ]
    },
    {
      "cell_type": "markdown",
      "metadata": {
        "id": "YRzsXhqKww4_"
      },
      "source": [
        "##### *Linux*\n",
        "\n",
        "Vale la pena mencionar que el contenedor donde se ejecuta nuestro *JupyterLab*, esta configurado con una versión del sistema operativo [*Linux*](https://es.wikipedia.org/wiki/GNU/Linux), y es por esta razón que mediante una celda de código y mediante el uso del símbolo '!' podemos ejecutar comandos nativos del sistema operativo *Linux*, por ejemplo:\n",
        "\n",
        "*   *ls*: listar los documentos que se encuentran en el directorio actual\n",
        "*   *cd*: cambiar de directorio\n",
        "*   *rm*: eliminar archivos\n",
        "\n"
      ]
    },
    {
      "cell_type": "code",
      "metadata": {
        "colab": {
          "base_uri": "https://localhost:8080/"
        },
        "id": "Gmnp1vNuxzN5",
        "outputId": "44915d2a-d559-4319-9c79-a6f063a80ba6"
      },
      "source": [
        "# se listan los documentos actuales\n",
        "!ls"
      ],
      "execution_count": null,
      "outputs": [
        {
          "output_type": "stream",
          "text": [
            "sample_data\n"
          ],
          "name": "stdout"
        }
      ]
    },
    {
      "cell_type": "code",
      "metadata": {
        "colab": {
          "base_uri": "https://localhost:8080/"
        },
        "id": "7L2i0lcbx9nz",
        "outputId": "453f03f5-10dc-4257-891c-188f3b4f6d8d"
      },
      "source": [
        "# cambiamos de directorio y mostramos los archivos\n",
        "!cd sample_data/ && ls"
      ],
      "execution_count": null,
      "outputs": [
        {
          "output_type": "stream",
          "text": [
            "anscombe.json\t\t      mnist_test.csv\n",
            "california_housing_test.csv   mnist_train_small.csv\n",
            "california_housing_train.csv  README.md\n"
          ],
          "name": "stdout"
        }
      ]
    },
    {
      "cell_type": "code",
      "metadata": {
        "colab": {
          "base_uri": "https://localhost:8080/"
        },
        "id": "uzdiUSplyOut",
        "outputId": "5f4c10d8-7633-4935-d56b-22416834065f"
      },
      "source": [
        "# eliminamos el archivo README.md\n",
        "! rm sample_data/README.md\n",
        "\n",
        "# comprobamos que se elimino el documento\n",
        "! cd sample_data/ && ls"
      ],
      "execution_count": null,
      "outputs": [
        {
          "output_type": "stream",
          "text": [
            "anscombe.json\t\t      mnist_test.csv\n",
            "california_housing_test.csv   mnist_train_small.csv\n",
            "california_housing_train.csv\n"
          ],
          "name": "stdout"
        }
      ]
    },
    {
      "cell_type": "markdown",
      "metadata": {
        "id": "79h-gxRUfMr6"
      },
      "source": [
        "## Compartir el conocimiento\n",
        "\n",
        "Cualquiera de las 2 visiones (usuario avanzado o intermedio) tiene el factor común de **compartir el material desarrollado**, basta con almacenar los materiales que se quiera compartir en un repositorio estilo *GitHub* y compartir ese repositorio.\n",
        "\n",
        "Esta característica es ideal para la \"nueva forma\" de interactuar a distancia."
      ]
    },
    {
      "cell_type": "markdown",
      "metadata": {
        "id": "YDjRJEP5f8He"
      },
      "source": [
        "# Repositorio\n",
        "\n",
        "*GitHub* es otra herramienta en linea que nos permite almacenar y sobretodo **VERSIONAR** el código y documentación de nuestros proyectos. A este tipo de herramientas se les conoce como **repositorio de código**.\n",
        "\n",
        "Normalmente cuando se desarrolla un proyecto extenso, es muy útil almacenar las versiones de cada cambio realizado al proyecto, esto con la intención de poder ramificar el proyecto o volver a una versión previa del mismo.\n",
        "\n",
        "Además de estas ventajas, [*GitHub*](https://github.com/) se lleva muy bien con *JupyterLab*, de tal manera que todo documento desarrollado mediante *colab*, puede ser almacenado, versionado e incluso compartido mediante *GitHub*.\n",
        "\n",
        "Dado que *GitHub* es una herramienta que funciona en la nube, y ya cuenta con toda la infraestructura para mantenerse en linea, es muy útil para compartir proyectos como el que veremos en este curso."
      ]
    },
    {
      "cell_type": "markdown",
      "metadata": {
        "id": "GVPyzmNjuyzo"
      },
      "source": [
        "## Usuario avanzado\n",
        "\n",
        "Un usuario avanzado con conocimiento en este tipo de herramientas se convierte en un **lider de proyecto** o incluso **arquitecto de software**.\n",
        "\n",
        "De tal manera que un usuario avanzado se limita a **orquestar el desarrollo del proyecto**, sin embargo para llegar a este nivel es necesario dominar el uso de esta herramienta y ademas tener toda la experiencia necesaria."
      ]
    },
    {
      "cell_type": "markdown",
      "metadata": {
        "id": "wQH7DccVwRaT"
      },
      "source": [
        "### Ejemplo\n",
        "\n",
        "Vamos a acceder a este repositorio de código en versión *JupyterLab* ([Prometeo](https://github.com/jugernaut/Prometeo)), sobre material didáctico matemático.\n",
        "\n",
        "Nosotros, como usuarios **sin cuenta**, podemos ver el repositorio pero no podemos modificar el contenido.\n",
        "\n",
        "Sin embargo, eso es más que suficiente para hacer uso del material y sobretodo acceder a todos los beneficios que nos ofrece un repositorio de código.\n",
        "\n",
        "Veamos el siguiente ejemplo en el cual vamos a clonar un repositorio y lo vamos a agregar a nuestra sesión de *JupyterLab* para mostrar un par de gráficas."
      ]
    },
    {
      "cell_type": "code",
      "metadata": {
        "colab": {
          "base_uri": "https://localhost:8080/"
        },
        "id": "iXQiVoElFh_J",
        "outputId": "b928fb78-27d8-4d90-bf8a-3979a538b684"
      },
      "source": [
        "# con este comando de Linux clonamos el repositorio prometeo\n",
        "!git clone --branch ligera https://github.com/jugernaut/Prometeo.git"
      ],
      "execution_count": null,
      "outputs": [
        {
          "output_type": "stream",
          "name": "stdout",
          "text": [
            "Cloning into 'Prometeo'...\n",
            "remote: Enumerating objects: 4049, done.\u001b[K\n",
            "remote: Counting objects: 100% (1470/1470), done.\u001b[K\n",
            "remote: Compressing objects: 100% (691/691), done.\u001b[K\n",
            "remote: Total 4049 (delta 862), reused 1263 (delta 752), pack-reused 2579\u001b[K\n",
            "Receiving objects: 100% (4049/4049), 33.14 MiB | 22.37 MiB/s, done.\n",
            "Resolving deltas: 100% (2438/2438), done.\n"
          ]
        }
      ]
    },
    {
      "cell_type": "markdown",
      "metadata": {
        "id": "62gE6x14F4-D"
      },
      "source": [
        "Después de ejecutar la celda anterior, podemos revisar la sección de archivos y verificar que ya tenemos cargada en nuestra sesión el repositorio Prometeo.\n",
        "\n",
        "<center>\n",
        "<img src=\"https://github.com/jugernaut/Numerico2021/blob/desarrollo/Figuras/Convergencia-Complejidad/repositorio.png?raw=1\" width=\"700\">\n",
        "</center>\n",
        "\n",
        "Ahora, como ya fue clonado este repositorio y ya tenemos acceso al mismo podemos hacer uso del código o documentos que se encuentran en este repositorio, que en nuestra sesión de *JupyterLab* se llama Prometeo.\n",
        "\n",
        "Desde el menú en la parte izquierda podemos acceder a todos los archivos del repositorio Prometeo y en particular podemos explorar dicho documento dando doble *click* al mismo."
      ]
    }
  ]
}