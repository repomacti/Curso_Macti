{
  "cells": [
    {
      "cell_type": "markdown",
      "metadata": {
        "id": "zx_LdPZfLFbT"
      },
      "source": [
        "# Python de cero a experto\n",
        "**Autor:** Luis Miguel de la Cruz Salas\n",
        "\n",
        "<a href=\"https://github.com/luiggix/Python_cero_a_experto\">Python de cero a experto</a> by Luis M. de la Cruz Salas is licensed under <a href=\"https://creativecommons.org/licenses/by-nc-nd/4.0?ref=chooser-v1\">Attribution-NonCommercial-NoDerivatives 4.0 International</a>\n",
        "\n",
        "**Objetivo general**\n",
        "- Conocer a fondo las ventajas de la biblioteca *Numpy*.\n",
        "\n",
        "**Objetivos particulares**\n",
        "- Identificar algunas de las funciones más usadas de la biblioteca *Numpy*.\n",
        "- Hacer énfasis en los métodos y conceptos que se aprenderán y en algunas cuestiones computacionales.\n",
        "\n",
        "## Contenido\n",
        "- [1 - Numpy.](#1)\n",
        "    - [1.1 - Corrección de Arreglos Simples.](#1-1)\n",
        "    - [1.2 - Nota sobre número pseudoaleatorios.](#1-2)\n",
        "    - [1.3 - Modificar el tipo de dato de los elementos del arreglo.](#1-3)\n",
        "    - [1.4 - Arreglos multidimensionales.](#1-4)\n",
        "    - [1.5 - Cambiando el *shape* de los arreglos.](#1-5)\n",
        "    - [1.6 - Copias y vistas de arreglos.](#1-6)\n",
        "    - [1.7 - Rebanadas (*slicing*).](#1-7)\n",
        "    - [1.8 - Operaciones básicas entre arreglos.](#1-8)\n",
        "    - [1.9 - Operaciones entre arreglos Booleanos.](#1-9)\n",
        "    - [1.10 - Métodos de los arreglos.](#1-10)\n",
        "    - [1.11 - Apilación y concatenación de arreglos.](#1-11)\n",
        "    - [1.12 - Agregando dimensiones al arreglo.](#1-12)\n",
        "    - [1.13 - Constantes.](#1-13)\n",
        "    - [1.14 - Exportando e importando arreglos a archivos.](#1-14)"
      ]
    },
    {
      "cell_type": "markdown",
      "metadata": {
        "id": "-x9EvuL5LFbV"
      },
      "source": [
        "<a name='1'></a>\n",
        "## *Numpy*\n",
        "\n",
        "Es una biblioteca de Python que permite crear y gestionar arreglos multidimensionales, junto con una gran colección de funciones matemáticas de alto nivel que operan sobre estos arreglos. El sitio oficial es https://numpy.org/\n",
        "\n",
        "Para usar todas las herramientas de numpy debemos importar la biblioteca como sigue:"
      ]
    },
    {
      "cell_type": "code",
      "execution_count": null,
      "metadata": {
        "id": "0mbQt7gHLFbW",
        "outputId": "0072c194-d960-41b5-d60a-1701a2085976"
      },
      "outputs": [
        {
          "data": {
            "text/plain": [
              "'1.23.1'"
            ]
          },
          "execution_count": 1,
          "metadata": {},
          "output_type": "execute_result"
        }
      ],
      "source": [
        "import numpy as np\n",
        "np.version.version"
      ]
    },
    {
      "cell_type": "code",
      "execution_count": null,
      "metadata": {
        "id": "y4h3-MXNLFbW"
      },
      "outputs": [],
      "source": [
        "# Función para obtener los atributos de arreglos\n",
        "info_array = lambda x: print(f' tipo  : {type(x)} \\n dtype : {x.dtype} \\n dim   : {x.ndim} \\n shape : {x.shape} \\n size(bytes) : {x.itemsize} \\n size(elements) : {x.size}')"
      ]
    },
    {
      "cell_type": "markdown",
      "metadata": {
        "id": "JVVKzwhPLFbX"
      },
      "source": [
        "<a name='1-1'></a>\n",
        "### Creación de arreglos simples\n",
        "\n",
        "Crear un arreglo de números del 1 al 10 usando:\n",
        "`np.array`, `np.arange`, `np.linspace`, `np.zeros`, `np.ones`, `np.random.rand`"
      ]
    },
    {
      "cell_type": "code",
      "execution_count": null,
      "metadata": {
        "id": "E7CCx4d5LFbX",
        "outputId": "f6e369e7-5a7c-4c64-91c8-c700f877ef09"
      },
      "outputs": [
        {
          "data": {
            "text/plain": [
              "array([ 1,  2,  3,  4,  5,  6,  7,  8,  9, 10])"
            ]
          },
          "execution_count": 3,
          "metadata": {},
          "output_type": "execute_result"
        }
      ],
      "source": [
        "x = np.array([1,2,3,4,5,6,7,8,9,10])\n",
        "x"
      ]
    },
    {
      "cell_type": "code",
      "execution_count": null,
      "metadata": {
        "id": "3sa91BnfLFbY",
        "outputId": "4915ba25-333e-4da7-eb96-7cb505d0d94c"
      },
      "outputs": [
        {
          "name": "stdout",
          "output_type": "stream",
          "text": [
            " tipo  : <class 'numpy.ndarray'> \n",
            " dtype : int64 \n",
            " dim   : 1 \n",
            " shape : (10,) \n",
            " size(bytes) : 8 \n",
            " size(elements) : 10\n"
          ]
        }
      ],
      "source": [
        "info_array(x)"
      ]
    },
    {
      "cell_type": "code",
      "execution_count": null,
      "metadata": {
        "id": "fxKMXYpDLFbZ",
        "outputId": "76fe9918-f5fa-4729-f8f2-cc07b07fc250"
      },
      "outputs": [
        {
          "data": {
            "text/plain": [
              "array([0, 1, 2, 3, 4, 5, 6, 7, 8, 9])"
            ]
          },
          "execution_count": 5,
          "metadata": {},
          "output_type": "execute_result"
        }
      ],
      "source": [
        "x = np.arange(10)\n",
        "x"
      ]
    },
    {
      "cell_type": "code",
      "execution_count": null,
      "metadata": {
        "id": "aqigZsuiLFbZ",
        "outputId": "374f60eb-5b29-4b1f-8276-51e5489429e7"
      },
      "outputs": [
        {
          "data": {
            "text/plain": [
              "array([ 1,  2,  3,  4,  5,  6,  7,  8,  9, 10])"
            ]
          },
          "execution_count": 6,
          "metadata": {},
          "output_type": "execute_result"
        }
      ],
      "source": [
        "x = np.arange(1,11,1)\n",
        "x"
      ]
    },
    {
      "cell_type": "code",
      "execution_count": null,
      "metadata": {
        "id": "L41XJma6LFbZ",
        "outputId": "e39d66d4-8ec8-4e6b-dc22-cf1464914f40"
      },
      "outputs": [
        {
          "name": "stdout",
          "output_type": "stream",
          "text": [
            " tipo  : <class 'numpy.ndarray'> \n",
            " dtype : int64 \n",
            " dim   : 1 \n",
            " shape : (10,) \n",
            " size(bytes) : 8 \n",
            " size(elements) : 10\n"
          ]
        }
      ],
      "source": [
        "info_array(x)"
      ]
    },
    {
      "cell_type": "markdown",
      "metadata": {
        "id": "Io2Qtuz7LFba"
      },
      "source": [
        "**Ojo** `np.arange()` acepta parámetros flotantes:"
      ]
    },
    {
      "cell_type": "code",
      "execution_count": null,
      "metadata": {
        "id": "GQ-8a2t_LFba",
        "outputId": "f589f6fb-bfe5-4d8a-9644-390d85d542ca"
      },
      "outputs": [
        {
          "data": {
            "text/plain": [
              "array([ 1.,  2.,  3.,  4.,  5.,  6.,  7.,  8.,  9., 10.])"
            ]
          },
          "execution_count": 8,
          "metadata": {},
          "output_type": "execute_result"
        }
      ],
      "source": [
        "xf = np.arange(1, 11, 1.0)\n",
        "xf"
      ]
    },
    {
      "cell_type": "code",
      "execution_count": null,
      "metadata": {
        "id": "jotvg8JzLFba",
        "outputId": "5b43b64d-a309-44f2-843b-74335e2fdfb7"
      },
      "outputs": [
        {
          "name": "stdout",
          "output_type": "stream",
          "text": [
            " tipo  : <class 'numpy.ndarray'> \n",
            " dtype : float64 \n",
            " dim   : 1 \n",
            " shape : (10,) \n",
            " size(bytes) : 8 \n",
            " size(elements) : 10\n"
          ]
        }
      ],
      "source": [
        "info_array(xf)"
      ]
    },
    {
      "cell_type": "code",
      "execution_count": null,
      "metadata": {
        "id": "wR8wtuM2LFbb",
        "outputId": "45a8f813-091e-47f5-89a9-1ba1cb2d39e6"
      },
      "outputs": [
        {
          "data": {
            "text/plain": [
              "array([0.3 , 0.42, 0.54, 0.66])"
            ]
          },
          "execution_count": 10,
          "metadata": {},
          "output_type": "execute_result"
        }
      ],
      "source": [
        "xf = np.arange(0.3, 0.7, 0.12)\n",
        "xf"
      ]
    },
    {
      "cell_type": "code",
      "execution_count": null,
      "metadata": {
        "id": "aBFoBAbXLFbb",
        "outputId": "16672804-820e-4d17-c8a4-044d132bd24b"
      },
      "outputs": [
        {
          "data": {
            "text/plain": [
              "array([ 1.,  2.,  3.,  4.,  5.,  6.,  7.,  8.,  9., 10.])"
            ]
          },
          "execution_count": 11,
          "metadata": {},
          "output_type": "execute_result"
        }
      ],
      "source": [
        "x = np.linspace(1,10,10)\n",
        "x"
      ]
    },
    {
      "cell_type": "code",
      "execution_count": null,
      "metadata": {
        "id": "ENcgmDDlLFbb",
        "outputId": "1f78429c-b1ce-43fa-fd3c-13144f3cb215"
      },
      "outputs": [
        {
          "name": "stdout",
          "output_type": "stream",
          "text": [
            " tipo  : <class 'numpy.ndarray'> \n",
            " dtype : float64 \n",
            " dim   : 1 \n",
            " shape : (10,) \n",
            " size(bytes) : 8 \n",
            " size(elements) : 10\n"
          ]
        }
      ],
      "source": [
        "info_array(x)"
      ]
    },
    {
      "cell_type": "markdown",
      "metadata": {
        "id": "ba2z2kDuLFbb"
      },
      "source": [
        "**Ojo**: con `np.linspace` es posible generar un número exacto de elementos, por ejemplo:"
      ]
    },
    {
      "cell_type": "code",
      "execution_count": null,
      "metadata": {
        "id": "YfworwP0LFbb",
        "outputId": "23fa7686-8bc1-44c7-d615-5d7fe8dae7e3"
      },
      "outputs": [
        {
          "data": {
            "text/plain": [
              "array([0.3 , 0.38, 0.46, 0.54, 0.62, 0.7 ])"
            ]
          },
          "execution_count": 13,
          "metadata": {},
          "output_type": "execute_result"
        }
      ],
      "source": [
        "xf = np.linspace(0.3, 0.7, 6)\n",
        "xf"
      ]
    },
    {
      "cell_type": "code",
      "execution_count": null,
      "metadata": {
        "id": "QJ6JMngcLFbc",
        "outputId": "8e9b2d4d-627d-4b1e-ce8e-00fed7631ed2"
      },
      "outputs": [
        {
          "data": {
            "text/plain": [
              "array([0., 0., 0., 0., 0., 0., 0., 0., 0., 0.])"
            ]
          },
          "execution_count": 14,
          "metadata": {},
          "output_type": "execute_result"
        }
      ],
      "source": [
        "x = np.zeros(10)\n",
        "x"
      ]
    },
    {
      "cell_type": "code",
      "execution_count": null,
      "metadata": {
        "id": "4BkyEnhALFbc",
        "outputId": "f3469389-56ec-43f2-b98a-168ef8dbf7fc"
      },
      "outputs": [
        {
          "data": {
            "text/plain": [
              "array([ 1.,  2.,  3.,  4.,  5.,  6.,  7.,  8.,  9., 10.])"
            ]
          },
          "execution_count": 15,
          "metadata": {},
          "output_type": "execute_result"
        }
      ],
      "source": [
        "for i,val in enumerate(x):\n",
        "    x[i] = i+1\n",
        "x"
      ]
    },
    {
      "cell_type": "code",
      "execution_count": null,
      "metadata": {
        "id": "-pPCbdClLFbc",
        "outputId": "00f1f9e8-11e9-42b5-dd4f-c786e1cccb5b"
      },
      "outputs": [
        {
          "name": "stdout",
          "output_type": "stream",
          "text": [
            " tipo  : <class 'numpy.ndarray'> \n",
            " dtype : float64 \n",
            " dim   : 1 \n",
            " shape : (10,) \n",
            " size(bytes) : 8 \n",
            " size(elements) : 10\n"
          ]
        }
      ],
      "source": [
        "info_array(x)"
      ]
    },
    {
      "cell_type": "code",
      "execution_count": null,
      "metadata": {
        "id": "yN_prLiULFbc",
        "outputId": "ab4d4e59-49b3-4c89-9017-ed13cf5c4fc5"
      },
      "outputs": [
        {
          "data": {
            "text/plain": [
              "array([1., 1., 1., 1., 1., 1., 1., 1., 1., 1.])"
            ]
          },
          "execution_count": 17,
          "metadata": {},
          "output_type": "execute_result"
        }
      ],
      "source": [
        "x = np.ones(10)\n",
        "x"
      ]
    },
    {
      "cell_type": "code",
      "execution_count": null,
      "metadata": {
        "id": "WPfPb2PzLFbc",
        "outputId": "988e9b4a-cca2-4a29-fbe0-9b4b0f071892"
      },
      "outputs": [
        {
          "name": "stdout",
          "output_type": "stream",
          "text": [
            " tipo  : <class 'numpy.ndarray'> \n",
            " dtype : float64 \n",
            " dim   : 1 \n",
            " shape : (10,) \n",
            " size(bytes) : 8 \n",
            " size(elements) : 10\n"
          ]
        }
      ],
      "source": [
        "info_array(x)"
      ]
    },
    {
      "cell_type": "code",
      "execution_count": null,
      "metadata": {
        "id": "iCuWkSuuLFbd",
        "outputId": "c9a38fbe-be07-421d-b53f-ce9621556993"
      },
      "outputs": [
        {
          "data": {
            "text/plain": [
              "array([ 1.,  2.,  3.,  4.,  5.,  6.,  7.,  8.,  9., 10.])"
            ]
          },
          "execution_count": 19,
          "metadata": {},
          "output_type": "execute_result"
        }
      ],
      "source": [
        "for i,val in enumerate(x):\n",
        "    x[i] = i+val\n",
        "x"
      ]
    },
    {
      "cell_type": "code",
      "execution_count": null,
      "metadata": {
        "id": "wT5aMAeaLFbd",
        "outputId": "defe28ff-676a-469d-fb69-93bc997dda2b"
      },
      "outputs": [
        {
          "data": {
            "text/plain": [
              "array([ 2.,  4.,  6.,  8., 10., 12., 14., 16., 18., 20.])"
            ]
          },
          "execution_count": 20,
          "metadata": {},
          "output_type": "execute_result"
        }
      ],
      "source": [
        "x *= 2\n",
        "x"
      ]
    },
    {
      "cell_type": "code",
      "execution_count": null,
      "metadata": {
        "id": "MdDGVO5PLFbd",
        "outputId": "c34d5b97-e9b5-4bd8-d619-c04c4284b448"
      },
      "outputs": [
        {
          "name": "stdout",
          "output_type": "stream",
          "text": [
            " tipo  : <class 'numpy.ndarray'> \n",
            " dtype : float64 \n",
            " dim   : 1 \n",
            " shape : (10,) \n",
            " size(bytes) : 8 \n",
            " size(elements) : 10\n"
          ]
        }
      ],
      "source": [
        "info_array(x)"
      ]
    },
    {
      "cell_type": "code",
      "execution_count": null,
      "metadata": {
        "id": "v0kVtHKWLFbd",
        "outputId": "cc93e9be-8939-434b-d7a8-82539b9b4721"
      },
      "outputs": [
        {
          "name": "stdout",
          "output_type": "stream",
          "text": [
            " tipo  : <class 'numpy.ndarray'> \n",
            " dtype : float64 \n",
            " dim   : 1 \n",
            " shape : (10,) \n",
            " size(bytes) : 8 \n",
            " size(elements) : 10\n"
          ]
        },
        {
          "data": {
            "text/plain": [
              "array([0.76978589, 0.80958305, 0.50678792, 0.43459138, 0.92738943,\n",
              "       0.88401604, 0.90055759, 0.82344359, 0.56161959, 0.28247087])"
            ]
          },
          "execution_count": 22,
          "metadata": {},
          "output_type": "execute_result"
        }
      ],
      "source": [
        "x = np.random.rand(10)\n",
        "info_array(x)\n",
        "x"
      ]
    },
    {
      "cell_type": "code",
      "execution_count": null,
      "metadata": {
        "id": "5b0Byo7aLFbd",
        "outputId": "c4ecf43a-5d1c-45b6-ac2e-2509b971d2cf"
      },
      "outputs": [
        {
          "name": "stdout",
          "output_type": "stream",
          "text": [
            " tipo  : <class 'numpy.ndarray'> \n",
            " dtype : float64 \n",
            " dim   : 2 \n",
            " shape : (2, 5) \n",
            " size(bytes) : 8 \n",
            " size(elements) : 10\n"
          ]
        },
        {
          "data": {
            "text/plain": [
              "array([[0.63270473, 0.46134126, 0.24548865, 0.40925356, 0.59150003],\n",
              "       [0.93602002, 0.67611096, 0.16777464, 0.23444719, 0.6258697 ]])"
            ]
          },
          "execution_count": 23,
          "metadata": {},
          "output_type": "execute_result"
        }
      ],
      "source": [
        "x = np.random.rand(2,5)\n",
        "info_array(x)\n",
        "x"
      ]
    },
    {
      "cell_type": "markdown",
      "metadata": {
        "id": "mdy0I3q0LFbe"
      },
      "source": [
        "<a name='1-2'></a>\n",
        "\n",
        "### Nota sobre número pseudoaleatorios\n",
        "No es posible generar números aleatorios con base en un algoritmo, solo se pueden\n",
        "obtener números **pseudoaleatorios** (para obtener números aleatorios es necesario muestrear algún parámetro físico cuyo valor sea realmente aleatorio).\n",
        "\n",
        "Las series de números aleatorios que se pueden generar en una computadora son secuencias deterministas a partir de un valor inicial, al que se llama semilla. Al fijar la semilla se fija completamente los valores de toda la serie."
      ]
    },
    {
      "cell_type": "code",
      "execution_count": null,
      "metadata": {
        "id": "4gtrD7mPLFbe",
        "outputId": "c8eba5a3-5dad-4c2c-d390-8eb8bcea9d4c"
      },
      "outputs": [
        {
          "name": "stdout",
          "output_type": "stream",
          "text": [
            "Serie 1: [0.5488135  0.71518937 0.60276338]\n",
            "Serie 2: [0.5507979  0.70814782 0.29090474]\n",
            "Serie 3: [0.5488135  0.71518937 0.60276338]\n"
          ]
        }
      ],
      "source": [
        "np.random.seed(0)\n",
        "print(\"Serie 1:\", np.random.rand(3))\n",
        "np.random.seed(3)\n",
        "print(\"Serie 2:\", np.random.rand(3))\n",
        "np.random.seed(0)\n",
        "print(\"Serie 3:\", np.random.rand(3))"
      ]
    },
    {
      "cell_type": "markdown",
      "metadata": {
        "id": "hFOHJ27RLFbe"
      },
      "source": [
        "Se puede generar una serie de números aleatorios usando una semilla aleatoria. Por ejemplo:"
      ]
    },
    {
      "cell_type": "code",
      "execution_count": null,
      "metadata": {
        "id": "WcODS40ILFbe",
        "outputId": "51c7795c-e02f-4c9f-fe7f-cbd62e1fe8fc"
      },
      "outputs": [
        {
          "data": {
            "text/plain": [
              "array([0.19222796, 0.95819055, 0.30101728])"
            ]
          },
          "execution_count": 25,
          "metadata": {},
          "output_type": "execute_result"
        }
      ],
      "source": [
        "import time\n",
        "np.random.seed(int(time.time()))\n",
        "np.random.rand(3)"
      ]
    },
    {
      "cell_type": "markdown",
      "metadata": {
        "id": "lqAwKRK3LFbe"
      },
      "source": [
        "<a name='1-3'></a>\n",
        "\n",
        "### Modificar el tipo de dato de los elementos del arreglo"
      ]
    },
    {
      "cell_type": "code",
      "execution_count": null,
      "metadata": {
        "id": "jHdi3YjJLFbf"
      },
      "outputs": [],
      "source": [
        "x = np.linspace(1,10,10)\n",
        "# La modificación afecta al arreglo 'y' pero no al arreglo 'x' (no es inplace)\n",
        "y = x.astype(int)"
      ]
    },
    {
      "cell_type": "code",
      "execution_count": null,
      "metadata": {
        "id": "0aPR0tC1LFbf",
        "outputId": "32e8eac1-124d-4777-fb1d-156826b33910"
      },
      "outputs": [
        {
          "name": "stdout",
          "output_type": "stream",
          "text": [
            " tipo  : <class 'numpy.ndarray'> \n",
            " dtype : float64 \n",
            " dim   : 1 \n",
            " shape : (10,) \n",
            " size(bytes) : 8 \n",
            " size(elements) : 10\n"
          ]
        }
      ],
      "source": [
        "info_array(x)"
      ]
    },
    {
      "cell_type": "code",
      "execution_count": null,
      "metadata": {
        "id": "xV-iHdNLLFbf",
        "outputId": "37ec477e-4bb1-4bf1-e8ae-654bd0413fb4"
      },
      "outputs": [
        {
          "name": "stdout",
          "output_type": "stream",
          "text": [
            " tipo  : <class 'numpy.ndarray'> \n",
            " dtype : int64 \n",
            " dim   : 1 \n",
            " shape : (10,) \n",
            " size(bytes) : 8 \n",
            " size(elements) : 10\n"
          ]
        }
      ],
      "source": [
        "info_array(y)"
      ]
    },
    {
      "cell_type": "code",
      "execution_count": null,
      "metadata": {
        "id": "m0e6frNPLFbf",
        "outputId": "43f32022-b0ba-4ac1-bf6c-4211656ebd9a"
      },
      "outputs": [
        {
          "name": "stdout",
          "output_type": "stream",
          "text": [
            "139839376679824 139839376679920\n"
          ]
        }
      ],
      "source": [
        "print(id(x), id(y))"
      ]
    },
    {
      "cell_type": "code",
      "execution_count": null,
      "metadata": {
        "id": "AmQYQqWTLFbf",
        "outputId": "9b80c5b1-31df-4100-fc11-489ffdbf5113"
      },
      "outputs": [
        {
          "name": "stdout",
          "output_type": "stream",
          "text": [
            "[ 1.  2.  3.  4.  5.  6.  7.  8.  9. 10.]\n",
            "[ 1  2  3  4  5  6  7  8  9 10]\n"
          ]
        }
      ],
      "source": [
        "print(x)\n",
        "print(y)"
      ]
    },
    {
      "cell_type": "markdown",
      "metadata": {
        "id": "PQuhXI7NLFbg"
      },
      "source": [
        "<a name='1-4'></a>\n",
        "### Arreglos multidimensionales"
      ]
    },
    {
      "cell_type": "code",
      "execution_count": null,
      "metadata": {
        "id": "q2gyh-OxLFbg",
        "outputId": "afee1f6e-26fc-4c47-b9b5-6ad7a03e2fbb"
      },
      "outputs": [
        {
          "data": {
            "text/plain": [
              "array([[1.+0.j, 2.+0.j],\n",
              "       [0.+0.j, 0.+0.j],\n",
              "       [1.+1.j, 3.+0.j]])"
            ]
          },
          "execution_count": 31,
          "metadata": {},
          "output_type": "execute_result"
        }
      ],
      "source": [
        "x = np.array([[1,2.0],[0,0],(1+1j,3.)])\n",
        "x"
      ]
    },
    {
      "cell_type": "code",
      "execution_count": null,
      "metadata": {
        "id": "fLihXux5LFbg",
        "outputId": "914899aa-79cd-458c-9b0b-a3c9d68f1035"
      },
      "outputs": [
        {
          "name": "stdout",
          "output_type": "stream",
          "text": [
            " tipo  : <class 'numpy.ndarray'> \n",
            " dtype : complex128 \n",
            " dim   : 2 \n",
            " shape : (3, 2) \n",
            " size(bytes) : 16 \n",
            " size(elements) : 6\n"
          ]
        }
      ],
      "source": [
        "info_array(x)"
      ]
    },
    {
      "cell_type": "code",
      "execution_count": null,
      "metadata": {
        "id": "JmI_JGlFLFbg",
        "outputId": "a013263a-dc98-40c9-b503-1cf7ecc24fd1"
      },
      "outputs": [
        {
          "data": {
            "text/plain": [
              "array([[1.+0.j, 2.+0.j],\n",
              "       [3.+0.j, 4.+0.j]])"
            ]
          },
          "execution_count": 33,
          "metadata": {},
          "output_type": "execute_result"
        }
      ],
      "source": [
        "x = np.array( [ [1,2], [3,4] ], dtype=complex )\n",
        "x"
      ]
    },
    {
      "cell_type": "code",
      "execution_count": null,
      "metadata": {
        "id": "zIjSUg9aLFbg",
        "outputId": "2a13d097-c1d8-4d8f-eb56-85cb4ce229f4"
      },
      "outputs": [
        {
          "name": "stdout",
          "output_type": "stream",
          "text": [
            " tipo  : <class 'numpy.ndarray'> \n",
            " dtype : complex128 \n",
            " dim   : 2 \n",
            " shape : (2, 2) \n",
            " size(bytes) : 16 \n",
            " size(elements) : 4\n"
          ]
        }
      ],
      "source": [
        "info_array(x)"
      ]
    },
    {
      "cell_type": "code",
      "execution_count": null,
      "metadata": {
        "id": "RgaViYwrLFbh",
        "outputId": "d5e71afd-5d6c-4a36-a39f-32945d6a89db"
      },
      "outputs": [
        {
          "data": {
            "text/plain": [
              "array([[[1, 2],\n",
              "        [3, 4]],\n",
              "\n",
              "       [[5, 6],\n",
              "        [7, 8]]])"
            ]
          },
          "execution_count": 35,
          "metadata": {},
          "output_type": "execute_result"
        }
      ],
      "source": [
        "x = np.array( [ [[1,2], [3,4]], [[5,6], [7,8]] ])\n",
        "x"
      ]
    },
    {
      "cell_type": "code",
      "execution_count": null,
      "metadata": {
        "id": "EQSDVPOdLFbh",
        "outputId": "a9d20ee1-b5df-45cf-8ded-744587268c5e"
      },
      "outputs": [
        {
          "name": "stdout",
          "output_type": "stream",
          "text": [
            " tipo  : <class 'numpy.ndarray'> \n",
            " dtype : int64 \n",
            " dim   : 3 \n",
            " shape : (2, 2, 2) \n",
            " size(bytes) : 8 \n",
            " size(elements) : 8\n"
          ]
        }
      ],
      "source": [
        "info_array(x)"
      ]
    },
    {
      "cell_type": "code",
      "execution_count": null,
      "metadata": {
        "id": "gkj1SKAULFbh",
        "outputId": "2d9155ce-d450-44b0-f833-68f912828d6b"
      },
      "outputs": [
        {
          "data": {
            "text/plain": [
              "array([[0., 0., 0., 0., 0., 0., 0., 0., 0., 0.],\n",
              "       [0., 0., 0., 0., 0., 0., 0., 0., 0., 0.],\n",
              "       [0., 0., 0., 0., 0., 0., 0., 0., 0., 0.],\n",
              "       [0., 0., 0., 0., 0., 0., 0., 0., 0., 0.],\n",
              "       [0., 0., 0., 0., 0., 0., 0., 0., 0., 0.],\n",
              "       [0., 0., 0., 0., 0., 0., 0., 0., 0., 0.],\n",
              "       [0., 0., 0., 0., 0., 0., 0., 0., 0., 0.],\n",
              "       [0., 0., 0., 0., 0., 0., 0., 0., 0., 0.],\n",
              "       [0., 0., 0., 0., 0., 0., 0., 0., 0., 0.],\n",
              "       [0., 0., 0., 0., 0., 0., 0., 0., 0., 0.]])"
            ]
          },
          "execution_count": 37,
          "metadata": {},
          "output_type": "execute_result"
        }
      ],
      "source": [
        "x = np.zeros((10,10))\n",
        "x"
      ]
    },
    {
      "cell_type": "code",
      "execution_count": null,
      "metadata": {
        "id": "Av3ZGOcyLFbh",
        "outputId": "94fa2f73-bc2e-4a9c-ed90-452d55342127"
      },
      "outputs": [
        {
          "name": "stdout",
          "output_type": "stream",
          "text": [
            " tipo  : <class 'numpy.ndarray'> \n",
            " dtype : float64 \n",
            " dim   : 2 \n",
            " shape : (10, 10) \n",
            " size(bytes) : 8 \n",
            " size(elements) : 100\n"
          ]
        }
      ],
      "source": [
        "info_array(x)"
      ]
    },
    {
      "cell_type": "code",
      "execution_count": null,
      "metadata": {
        "id": "VX66OpwtLFbh",
        "outputId": "00d1eb5d-eb98-4249-9622-762b20cb68a7"
      },
      "outputs": [
        {
          "data": {
            "text/plain": [
              "array([[[1., 1.],\n",
              "        [1., 1.],\n",
              "        [1., 1.]],\n",
              "\n",
              "       [[1., 1.],\n",
              "        [1., 1.],\n",
              "        [1., 1.]],\n",
              "\n",
              "       [[1., 1.],\n",
              "        [1., 1.],\n",
              "        [1., 1.]],\n",
              "\n",
              "       [[1., 1.],\n",
              "        [1., 1.],\n",
              "        [1., 1.]]])"
            ]
          },
          "execution_count": 39,
          "metadata": {},
          "output_type": "execute_result"
        }
      ],
      "source": [
        "x = np.ones((4,3,2))\n",
        "x"
      ]
    },
    {
      "cell_type": "code",
      "execution_count": null,
      "metadata": {
        "id": "26ECv5zeLFbi",
        "outputId": "fed9a59d-2cb2-4f23-8663-8e700a1f6924"
      },
      "outputs": [
        {
          "name": "stdout",
          "output_type": "stream",
          "text": [
            " tipo  : <class 'numpy.ndarray'> \n",
            " dtype : float64 \n",
            " dim   : 3 \n",
            " shape : (4, 3, 2) \n",
            " size(bytes) : 8 \n",
            " size(elements) : 24\n"
          ]
        }
      ],
      "source": [
        "info_array(x)"
      ]
    },
    {
      "cell_type": "code",
      "execution_count": null,
      "metadata": {
        "id": "ZQXDkG33LFbi",
        "outputId": "a6437c83-5ec5-44a4-dce3-043680b3cca3"
      },
      "outputs": [
        {
          "data": {
            "text/plain": [
              "array([[[1., 1., 1., 1.],\n",
              "        [1., 1., 1., 1.],\n",
              "        [1., 1., 1., 1.]],\n",
              "\n",
              "       [[1., 1., 1., 1.],\n",
              "        [1., 1., 1., 1.],\n",
              "        [1., 1., 1., 1.]]])"
            ]
          },
          "execution_count": 41,
          "metadata": {},
          "output_type": "execute_result"
        }
      ],
      "source": [
        "x = np.empty((2,3,4))\n",
        "x"
      ]
    },
    {
      "cell_type": "code",
      "execution_count": null,
      "metadata": {
        "id": "s8313pIgLFbi",
        "outputId": "6569bf3a-0e40-4bce-f8b8-567ef5c3c89d"
      },
      "outputs": [
        {
          "name": "stdout",
          "output_type": "stream",
          "text": [
            " tipo  : <class 'numpy.ndarray'> \n",
            " dtype : float64 \n",
            " dim   : 3 \n",
            " shape : (2, 3, 4) \n",
            " size(bytes) : 8 \n",
            " size(elements) : 24\n"
          ]
        }
      ],
      "source": [
        "info_array(x)"
      ]
    },
    {
      "cell_type": "markdown",
      "metadata": {
        "id": "gqnBcddDLFbi"
      },
      "source": [
        "<a name='1-5'></a>\n",
        "### Cambiando el `shape` de los arreglos\n",
        "#### Función `reshape`"
      ]
    },
    {
      "cell_type": "code",
      "execution_count": null,
      "metadata": {
        "id": "t7t9XS4gLFbi",
        "outputId": "dca9e11a-cd47-4cc4-c097-657b8ec91f16"
      },
      "outputs": [
        {
          "name": "stdout",
          "output_type": "stream",
          "text": [
            " tipo  : <class 'numpy.ndarray'> \n",
            " dtype : int64 \n",
            " dim   : 3 \n",
            " shape : (2, 3, 4) \n",
            " size(bytes) : 8 \n",
            " size(elements) : 24\n",
            "x = \n",
            " [[[ 1  2  3  4]\n",
            "  [ 5  6  7  8]\n",
            "  [ 9 10 11 12]]\n",
            "\n",
            " [[13 14 15 16]\n",
            "  [17 16 19 20]\n",
            "  [21 22 23 24]]]\n"
          ]
        }
      ],
      "source": [
        "x = np.array([ [[ 1, 2, 3, 4],\n",
        "                [ 5, 6, 7, 8],\n",
        "                [ 9,10,11,12]],\n",
        "               [[13,14,15,16],\n",
        "                [17,16,19,20],\n",
        "                [21,22,23,24]] ])\n",
        "info_array(x)\n",
        "print(f'x = \\n {x}')"
      ]
    },
    {
      "cell_type": "code",
      "execution_count": null,
      "metadata": {
        "id": "bmz2TY-5LFbi",
        "outputId": "cb24565d-8a86-4abd-c20a-e93e429517d9"
      },
      "outputs": [
        {
          "name": "stdout",
          "output_type": "stream",
          "text": [
            " tipo  : <class 'numpy.ndarray'> \n",
            " dtype : int64 \n",
            " dim   : 2 \n",
            " shape : (6, 4) \n",
            " size(bytes) : 8 \n",
            " size(elements) : 24\n",
            "y = \n",
            " [[ 1  2  3  4]\n",
            " [ 5  6  7  8]\n",
            " [ 9 10 11 12]\n",
            " [13 14 15 16]\n",
            " [17 16 19 20]\n",
            " [21 22 23 24]]\n"
          ]
        }
      ],
      "source": [
        "y = x.reshape(6,4)\n",
        "info_array(y)\n",
        "print(f'y = \\n {y}')"
      ]
    },
    {
      "cell_type": "code",
      "execution_count": null,
      "metadata": {
        "id": "AtWdl70LLFbj",
        "outputId": "48d6eb6a-b7c1-4a91-cd3e-e78ba2a53235"
      },
      "outputs": [
        {
          "name": "stdout",
          "output_type": "stream",
          "text": [
            " tipo  : <class 'numpy.ndarray'> \n",
            " dtype : int64 \n",
            " dim   : 3 \n",
            " shape : (2, 3, 4) \n",
            " size(bytes) : 8 \n",
            " size(elements) : 24\n",
            "x = \n",
            " [[[ 1  2  3  4]\n",
            "  [ 5  6  7  8]\n",
            "  [ 9 10 11 12]]\n",
            "\n",
            " [[13 14 15 16]\n",
            "  [17 16 19 20]\n",
            "  [21 22 23 24]]] \n",
            "\n"
          ]
        }
      ],
      "source": [
        "info_array(x)\n",
        "print(f'x = \\n {x} \\n')"
      ]
    },
    {
      "cell_type": "code",
      "execution_count": null,
      "metadata": {
        "id": "CDwmcMuoLFbj",
        "outputId": "b57a4e36-50c3-401e-d398-3938228829c5"
      },
      "outputs": [
        {
          "name": "stdout",
          "output_type": "stream",
          "text": [
            " tipo  : <class 'numpy.ndarray'> \n",
            " dtype : int64 \n",
            " dim   : 1 \n",
            " shape : (24,) \n",
            " size(bytes) : 8 \n",
            " size(elements) : 24\n",
            "y = \n",
            " [ 1  2  3  4  5  6  7  8  9 10 11 12 13 14 15 16 17 16 19 20 21 22 23 24]\n"
          ]
        }
      ],
      "source": [
        "y = x.reshape(24)\n",
        "info_array(y)\n",
        "print(f'y = \\n {y}')"
      ]
    },
    {
      "cell_type": "code",
      "execution_count": null,
      "metadata": {
        "id": "6mptIKjoLFbj",
        "outputId": "cf3874b9-8827-4379-8a2d-2b5574b75b3e"
      },
      "outputs": [
        {
          "name": "stdout",
          "output_type": "stream",
          "text": [
            " tipo  : <class 'numpy.ndarray'> \n",
            " dtype : int64 \n",
            " dim   : 3 \n",
            " shape : (2, 3, 4) \n",
            " size(bytes) : 8 \n",
            " size(elements) : 24\n",
            "y = \n",
            " [[[ 1  2  3  4]\n",
            "  [ 5  6  7  8]\n",
            "  [ 9 10 11 12]]\n",
            "\n",
            " [[13 14 15 16]\n",
            "  [17 16 19 20]\n",
            "  [21 22 23 24]]]\n",
            "x = \n",
            " [[[ 1  2  3  4]\n",
            "  [ 5  6  7  8]\n",
            "  [ 9 10 11 12]]\n",
            "\n",
            " [[13 14 15 16]\n",
            "  [17 16 19 20]\n",
            "  [21 22 23 24]]]\n"
          ]
        }
      ],
      "source": [
        "y = x.reshape(2,3,4)\n",
        "info_array(y)\n",
        "print(f'y = \\n {y}')\n",
        "print(f'x = \\n {x}')"
      ]
    },
    {
      "cell_type": "code",
      "execution_count": null,
      "metadata": {
        "id": "-lXYWkpULFbj",
        "outputId": "765881c1-4a24-43d2-af5a-d682607b32ab"
      },
      "outputs": [
        {
          "data": {
            "text/plain": [
              "array([[ 1,  2,  3,  4],\n",
              "       [ 5,  6,  7,  8],\n",
              "       [ 9, 10, 11, 12],\n",
              "       [13, 14, 15, 16],\n",
              "       [17, 16, 19, 20],\n",
              "       [21, 22, 23, 24]])"
            ]
          },
          "execution_count": 48,
          "metadata": {},
          "output_type": "execute_result"
        }
      ],
      "source": [
        "# Otra manera\n",
        "np.reshape(x, (6,4))"
      ]
    },
    {
      "cell_type": "code",
      "execution_count": null,
      "metadata": {
        "id": "6V7fqyphLFbj",
        "outputId": "29814ab5-1b75-47a0-c4b8-a7bc53ccd161"
      },
      "outputs": [
        {
          "data": {
            "text/plain": [
              "array([[[ 1,  2,  3,  4],\n",
              "        [ 5,  6,  7,  8],\n",
              "        [ 9, 10, 11, 12]],\n",
              "\n",
              "       [[13, 14, 15, 16],\n",
              "        [17, 16, 19, 20],\n",
              "        [21, 22, 23, 24]]])"
            ]
          },
          "execution_count": 49,
          "metadata": {},
          "output_type": "execute_result"
        }
      ],
      "source": [
        "x"
      ]
    },
    {
      "cell_type": "markdown",
      "metadata": {
        "id": "6SlKZ69gLFbj"
      },
      "source": [
        "#### Atributo `shape` (inplace)"
      ]
    },
    {
      "cell_type": "code",
      "execution_count": null,
      "metadata": {
        "id": "UgT2RXk7LFbk",
        "outputId": "138dee35-92a6-450e-daaa-37a338c31510"
      },
      "outputs": [
        {
          "data": {
            "text/plain": [
              "(2, 3, 4)"
            ]
          },
          "execution_count": 50,
          "metadata": {},
          "output_type": "execute_result"
        }
      ],
      "source": [
        "y.shape"
      ]
    },
    {
      "cell_type": "code",
      "execution_count": null,
      "metadata": {
        "id": "Tqmnor6LLFbk",
        "outputId": "0a5852fd-7277-4d9a-c4c1-77fc0cc33dea"
      },
      "outputs": [
        {
          "data": {
            "text/plain": [
              "(6, 4)"
            ]
          },
          "execution_count": 51,
          "metadata": {},
          "output_type": "execute_result"
        }
      ],
      "source": [
        "y.shape = (6,4)\n",
        "y.shape"
      ]
    },
    {
      "cell_type": "code",
      "execution_count": null,
      "metadata": {
        "id": "3NjdK0-0LFbk",
        "outputId": "6555257d-38eb-473f-b33a-c4edaf1747da"
      },
      "outputs": [
        {
          "name": "stdout",
          "output_type": "stream",
          "text": [
            " tipo  : <class 'numpy.ndarray'> \n",
            " dtype : int64 \n",
            " dim   : 2 \n",
            " shape : (6, 4) \n",
            " size(bytes) : 8 \n",
            " size(elements) : 24\n",
            "y = \n",
            " [[ 1  2  3  4]\n",
            " [ 5  6  7  8]\n",
            " [ 9 10 11 12]\n",
            " [13 14 15 16]\n",
            " [17 16 19 20]\n",
            " [21 22 23 24]]\n"
          ]
        }
      ],
      "source": [
        "info_array(y)\n",
        "print(f'y = \\n {y}')"
      ]
    },
    {
      "cell_type": "markdown",
      "metadata": {
        "id": "OW_f5_mKLFbk"
      },
      "source": [
        "#### Creando un arreglo y modificando su `shape` al vuelo"
      ]
    },
    {
      "cell_type": "code",
      "execution_count": null,
      "metadata": {
        "id": "iUCV4UZoLFbk",
        "outputId": "59b42284-36b1-4b08-9eda-28d77ca243cb"
      },
      "outputs": [
        {
          "data": {
            "text/plain": [
              "array([[[ 0,  1,  2,  3],\n",
              "        [ 4,  5,  6,  7],\n",
              "        [ 8,  9, 10, 11]],\n",
              "\n",
              "       [[12, 13, 14, 15],\n",
              "        [16, 17, 18, 19],\n",
              "        [20, 21, 22, 23]]])"
            ]
          },
          "execution_count": 53,
          "metadata": {},
          "output_type": "execute_result"
        }
      ],
      "source": [
        "x = np.arange(24).reshape(2,3,4)\n",
        "x"
      ]
    },
    {
      "cell_type": "code",
      "execution_count": null,
      "metadata": {
        "id": "h4Pp5um0LFbl",
        "outputId": "99f0482e-f435-4f45-d75c-1f06f99a0f17"
      },
      "outputs": [
        {
          "name": "stdout",
          "output_type": "stream",
          "text": [
            " tipo  : <class 'numpy.ndarray'> \n",
            " dtype : int64 \n",
            " dim   : 3 \n",
            " shape : (2, 3, 4) \n",
            " size(bytes) : 8 \n",
            " size(elements) : 24\n"
          ]
        },
        {
          "data": {
            "text/plain": [
              "array([[[ 1,  2,  3,  4],\n",
              "        [ 5,  6,  7,  8],\n",
              "        [ 9, 10, 11, 12]],\n",
              "\n",
              "       [[13, 14, 15, 16],\n",
              "        [17, 18, 19, 20],\n",
              "        [21, 22, 23, 24]]])"
            ]
          },
          "execution_count": 54,
          "metadata": {},
          "output_type": "execute_result"
        }
      ],
      "source": [
        "x = np.arange(1,25,1).reshape(2,3,4)\n",
        "info_array(x)\n",
        "x"
      ]
    },
    {
      "cell_type": "markdown",
      "metadata": {
        "id": "KgzYTTEELFbl"
      },
      "source": [
        "<a name='1-6'></a>\n",
        "### Copias y vistas de arreglos"
      ]
    },
    {
      "cell_type": "code",
      "execution_count": null,
      "metadata": {
        "id": "oIw43klCLFbl",
        "outputId": "8daecb8a-12c3-46d3-fbb6-8e3bbd4579e9"
      },
      "outputs": [
        {
          "name": "stdout",
          "output_type": "stream",
          "text": [
            "139839376729840 139839376729840\n",
            "True\n",
            "True\n"
          ]
        }
      ],
      "source": [
        "x = np.array([1,2,3,4])\n",
        "z = x  # z es un sinónimo de x, no se crea una copia!\n",
        "print(id(z), id(x))\n",
        "print(z is x)\n",
        "print(x is z)"
      ]
    },
    {
      "cell_type": "markdown",
      "metadata": {
        "id": "ctGzwA4ZLFbl"
      },
      "source": [
        "**Los objetos que son *mutables* se pasan por referencia a una función:**"
      ]
    },
    {
      "cell_type": "code",
      "execution_count": null,
      "metadata": {
        "id": "lvGhWvkFLFbm",
        "outputId": "c3f83432-544f-4f49-f092-4e3d392b8922"
      },
      "outputs": [
        {
          "name": "stdout",
          "output_type": "stream",
          "text": [
            "139839376729840\n",
            "139839376729840\n",
            "None\n"
          ]
        }
      ],
      "source": [
        "def f(a):\n",
        "    print(id(a))\n",
        "\n",
        "print(id(x))\n",
        "print(f(x))"
      ]
    },
    {
      "cell_type": "markdown",
      "metadata": {
        "id": "eTIh93cvLFbm"
      },
      "source": [
        "#### Copia superficial o vista de un arreglo"
      ]
    },
    {
      "cell_type": "code",
      "execution_count": null,
      "metadata": {
        "id": "5EeRXycbLFbm",
        "outputId": "b9178a96-0dc2-460c-b64b-c87e580398ef"
      },
      "outputs": [
        {
          "name": "stdout",
          "output_type": "stream",
          "text": [
            "139839376730128 139839376729840\n",
            "False\n",
            "False\n",
            "True\n",
            "False\n",
            "True\n"
          ]
        }
      ],
      "source": [
        "z = x.view()\n",
        "print(id(z), id(x))\n",
        "print(z is x)\n",
        "print(x is z)\n",
        "print(z.base is x) # Comparten la memoria\n",
        "print(z.flags.owndata) # Propiedades de la memoria\n",
        "print(x.flags.owndata) # Propiedades de la memoria"
      ]
    },
    {
      "cell_type": "code",
      "execution_count": null,
      "metadata": {
        "id": "yGnf1xDvLFbm",
        "outputId": "fc699254-192b-4f60-bd72-98437cb0aa27"
      },
      "outputs": [
        {
          "name": "stdout",
          "output_type": "stream",
          "text": [
            "  C_CONTIGUOUS : True\n",
            "  F_CONTIGUOUS : True\n",
            "  OWNDATA : False\n",
            "  WRITEABLE : True\n",
            "  ALIGNED : True\n",
            "  WRITEBACKIFCOPY : False\n",
            "\n"
          ]
        }
      ],
      "source": [
        "print(z.flags)"
      ]
    },
    {
      "cell_type": "code",
      "execution_count": null,
      "metadata": {
        "id": "UfDNOtT9LFbm",
        "outputId": "d4cea07c-1ce7-4b55-de88-4a5fa1a4978f"
      },
      "outputs": [
        {
          "name": "stdout",
          "output_type": "stream",
          "text": [
            "(2, 2)\n",
            "[[1 2]\n",
            " [3 4]]\n",
            "(4,)\n",
            "[1 2 3 4]\n"
          ]
        }
      ],
      "source": [
        "z.shape =(2,2)\n",
        "print(z.shape, z, sep = '\\n')\n",
        "print(x.shape, x, sep = '\\n')"
      ]
    },
    {
      "cell_type": "code",
      "execution_count": null,
      "metadata": {
        "id": "0Z7YwNCSLFbm",
        "outputId": "a3bacaa0-6874-4d33-d2d4-a4d32cf308b1"
      },
      "outputs": [
        {
          "name": "stdout",
          "output_type": "stream",
          "text": [
            "(2, 2)\n",
            "[[   1    2]\n",
            " [   3 1000]]\n",
            "(4,)\n",
            "[   1    2    3 1000]\n"
          ]
        }
      ],
      "source": [
        "z[1,1] = 1000\n",
        "print(z.shape, z, sep = '\\n')\n",
        "print(x.shape, x, sep = '\\n')"
      ]
    },
    {
      "cell_type": "markdown",
      "metadata": {
        "id": "ORSXmw-gLFbn"
      },
      "source": [
        "#### Copia completa de arreglos"
      ]
    },
    {
      "cell_type": "code",
      "execution_count": null,
      "metadata": {
        "id": "oN9Bug1HLFbn",
        "outputId": "baf017e7-899c-4e19-b7dc-cfc48c9dfae1"
      },
      "outputs": [
        {
          "name": "stdout",
          "output_type": "stream",
          "text": [
            "139839376730320 139839376729840\n",
            "False\n",
            "False\n",
            "False\n",
            "True\n",
            "True\n"
          ]
        }
      ],
      "source": [
        "z = x.copy()\n",
        "print(id(z), id(x))\n",
        "print(z is x)\n",
        "print(x is z)\n",
        "print(z.base is x) # Comparten la memoria\n",
        "print(z.flags.owndata) # Propiedades de la memoria\n",
        "print(x.flags.owndata) # Propiedades de la memoria"
      ]
    },
    {
      "cell_type": "code",
      "execution_count": null,
      "metadata": {
        "id": "GG9i9tjnLFbn",
        "outputId": "601a5dfc-cfa6-458e-88fd-e414617ac73b"
      },
      "outputs": [
        {
          "name": "stdout",
          "output_type": "stream",
          "text": [
            "z =  [   1    2    3 1000]\n",
            "x =  [   1    2    3 1000]\n"
          ]
        }
      ],
      "source": [
        "print('z = ', z)\n",
        "print('x = ', x)"
      ]
    },
    {
      "cell_type": "code",
      "execution_count": null,
      "metadata": {
        "id": "dU3dosQSLFbn",
        "outputId": "cbd21b24-4618-4e8e-c976-4fd5376c9b57"
      },
      "outputs": [
        {
          "name": "stdout",
          "output_type": "stream",
          "text": [
            "z =  [1 2 3 4]\n",
            "x =  [   1    2    3 1000]\n"
          ]
        }
      ],
      "source": [
        "z[3] = 4\n",
        "print('z = ', z)\n",
        "print('x = ', x)"
      ]
    },
    {
      "cell_type": "markdown",
      "metadata": {
        "id": "oi7LZR2gLFbn"
      },
      "source": [
        "#### Las rebanadas son vistas de arreglos\n",
        "Las vistas de arreglos pueden ser útiles en ciertos casos, por ejemplo si tenemos un arreglo muy grande y solo deseamos mantener unos cuantos elementos del mismo, debemos hacer lo siguiente:"
      ]
    },
    {
      "cell_type": "code",
      "execution_count": null,
      "metadata": {
        "id": "2kPTMYbULFbn",
        "outputId": "20c0001c-4608-4203-b1be-1880e3ad54d3"
      },
      "outputs": [
        {
          "data": {
            "text/plain": [
              "array([  0,   1,   2,   3,   4,   5,   6,   7,   8,   9,  10,  11,  12,\n",
              "        13,  14,  15,  16,  17,  18,  19,  20,  21,  22,  23,  24,  25,\n",
              "        26,  27,  28,  29,  30,  31,  32,  33,  34,  35,  36,  37,  38,\n",
              "        39,  40,  41,  42,  43,  44,  45,  46,  47,  48,  49,  50,  51,\n",
              "        52,  53,  54,  55,  56,  57,  58,  59,  60,  61,  62,  63,  64,\n",
              "        65,  66,  67,  68,  69,  70,  71,  72,  73,  74,  75,  76,  77,\n",
              "        78,  79,  80,  81,  82,  83,  84,  85,  86,  87,  88,  89,  90,\n",
              "        91,  92,  93,  94,  95,  96,  97,  98,  99, 100, 101, 102, 103,\n",
              "       104, 105, 106, 107, 108, 109, 110, 111, 112, 113, 114, 115, 116,\n",
              "       117, 118, 119, 120, 121, 122, 123, 124, 125, 126, 127, 128, 129,\n",
              "       130, 131, 132, 133, 134, 135, 136, 137, 138, 139, 140, 141, 142,\n",
              "       143, 144, 145, 146, 147, 148, 149, 150, 151, 152, 153, 154, 155,\n",
              "       156, 157, 158, 159, 160, 161, 162, 163, 164, 165, 166, 167, 168,\n",
              "       169, 170, 171, 172, 173, 174, 175, 176, 177, 178, 179, 180, 181,\n",
              "       182, 183, 184, 185, 186, 187, 188, 189, 190, 191, 192, 193, 194,\n",
              "       195, 196, 197, 198, 199])"
            ]
          },
          "execution_count": 64,
          "metadata": {},
          "output_type": "execute_result"
        }
      ],
      "source": [
        "a = np.arange(int(1e5)) # Arreglo de 100000 elementos\n",
        "b = a[:200].copy()      # Copia completa de 200 elementos de 'a'\n",
        "del a                   # Eliminar la memoria que usa 'a'\n",
        "b"
      ]
    },
    {
      "cell_type": "markdown",
      "metadata": {
        "id": "Zxwm7u9vLFbo"
      },
      "source": [
        "**Pero si usamos rebanadas, el comportamiento es distinto**:"
      ]
    },
    {
      "cell_type": "code",
      "execution_count": null,
      "metadata": {
        "id": "sJ0o8MwFLFbo",
        "outputId": "4175853d-5021-4caa-a387-c792c4fab64c"
      },
      "outputs": [
        {
          "name": "stdout",
          "output_type": "stream",
          "text": [
            "b =  [1000    1    2    3    4    5    6    7    8    9   10   11   12   13\n",
            "   14   15   16   17   18   19   20   21   22   23   24   25   26   27\n",
            "   28   29   30   31   32   33   34   35   36   37   38   39   40   41\n",
            "   42   43   44   45   46   47   48   49   50   51   52   53   54   55\n",
            "   56   57   58   59   60   61   62   63   64   65   66   67   68   69\n",
            "   70   71   72   73   74   75   76   77   78   79   80   81   82   83\n",
            "   84   85   86   87   88   89   90   91   92   93   94   95   96   97\n",
            "   98   99  100  101  102  103  104  105  106  107  108  109  110  111\n",
            "  112  113  114  115  116  117  118  119  120  121  122  123  124  125\n",
            "  126  127  128  129  130  131  132  133  134  135  136  137  138  139\n",
            "  140  141  142  143  144  145  146  147  148  149  150  151  152  153\n",
            "  154  155  156  157  158  159  160  161  162  163  164  165  166  167\n",
            "  168  169  170  171  172  173  174  175  176  177  178  179  180  181\n",
            "  182  183  184  185  186  187  188  189  190  191  192  193  194  195\n",
            "  196  197  198  199]\n",
            "a =  [ 1000     1     2 ... 99997 99998 99999]\n"
          ]
        }
      ],
      "source": [
        "a = np.arange(int(1e5)) # Arreglo de 100000 elementos\n",
        "b = a[:200]             # Vista de 200 elementos de 'a'\n",
        "b[0] = 1000\n",
        "print('b = ', b)\n",
        "print('a = ', a)"
      ]
    },
    {
      "cell_type": "markdown",
      "metadata": {
        "id": "eNJH2hvaLFbo"
      },
      "source": [
        "<a name='1-7'></a>\n",
        "### Rebanadas (slicing)"
      ]
    },
    {
      "cell_type": "code",
      "execution_count": null,
      "metadata": {
        "id": "WSqj2llELFbo",
        "outputId": "56006ce3-027f-4688-f177-df41ea5baf1a"
      },
      "outputs": [
        {
          "data": {
            "text/plain": [
              "array([0., 1., 2., 3., 4., 5., 6., 7., 8., 9.])"
            ]
          },
          "execution_count": 66,
          "metadata": {},
          "output_type": "execute_result"
        }
      ],
      "source": [
        "x = np.arange(0,10,1.)\n",
        "x"
      ]
    },
    {
      "cell_type": "code",
      "execution_count": null,
      "metadata": {
        "id": "Tsu-t6neLFbo",
        "outputId": "3bd0c91b-ddd6-4ea3-fd1a-437de9f1d121"
      },
      "outputs": [
        {
          "data": {
            "text/plain": [
              "array([0., 1., 2., 3., 4., 5., 6., 7., 8., 9.])"
            ]
          },
          "execution_count": 67,
          "metadata": {},
          "output_type": "execute_result"
        }
      ],
      "source": [
        "x[:] # El arreglo completo"
      ]
    },
    {
      "cell_type": "code",
      "execution_count": null,
      "metadata": {
        "id": "pT8pPdHNLFbp",
        "outputId": "6beb864a-ec14-414a-8da3-15772186c8d4"
      },
      "outputs": [
        {
          "data": {
            "text/plain": [
              "array([3., 4., 5.])"
            ]
          },
          "execution_count": 68,
          "metadata": {},
          "output_type": "execute_result"
        }
      ],
      "source": [
        "x[3:6] # Una sección del arreglo, de 3 a 5"
      ]
    },
    {
      "cell_type": "code",
      "execution_count": null,
      "metadata": {
        "id": "bxzpCaAqLFbp",
        "outputId": "67080ad7-fb7b-49d7-948c-337c14c1037d"
      },
      "outputs": [
        {
          "data": {
            "text/plain": [
              "array([2., 4., 6., 8.])"
            ]
          },
          "execution_count": 69,
          "metadata": {},
          "output_type": "execute_result"
        }
      ],
      "source": [
        "x[2:9:2] # de 2 a 8, dando saltos de 2 en 2"
      ]
    },
    {
      "cell_type": "code",
      "execution_count": null,
      "metadata": {
        "id": "19PQj7WCLFbp",
        "outputId": "2885f64c-fe85-42e6-8ffe-15ae669bf7df"
      },
      "outputs": [
        {
          "data": {
            "text/plain": [
              "array([  0., 100.,   2., 100.,   4., 100.,   6.,   7.,   8.,   9.])"
            ]
          },
          "execution_count": 71,
          "metadata": {},
          "output_type": "execute_result"
        }
      ],
      "source": [
        "x[1:7:2] = 100 # modificando algunos elementos del arreglo\n",
        "x"
      ]
    },
    {
      "cell_type": "code",
      "execution_count": null,
      "metadata": {
        "id": "jtzDHCdxLFbp",
        "outputId": "74d90dda-08ee-4141-b36f-77a92c81a426"
      },
      "outputs": [
        {
          "data": {
            "text/plain": [
              "array([[ 0,  1,  2,  3,  4,  5],\n",
              "       [ 6,  7,  8,  9, 10, 11],\n",
              "       [12, 13, 14, 15, 16, 17],\n",
              "       [18, 19, 20, 21, 22, 23],\n",
              "       [24, 25, 26, 27, 28, 29],\n",
              "       [30, 31, 32, 33, 34, 35]])"
            ]
          },
          "execution_count": 72,
          "metadata": {},
          "output_type": "execute_result"
        }
      ],
      "source": [
        "y = np.arange(36).reshape(6,6)\n",
        "y"
      ]
    },
    {
      "cell_type": "code",
      "execution_count": null,
      "metadata": {
        "id": "079Jlv_uLFbp",
        "outputId": "76e5efb0-b60c-49db-accc-720c0c079a65"
      },
      "outputs": [
        {
          "data": {
            "text/plain": [
              "array([[ 6,  7,  8,  9, 10, 11],\n",
              "       [12, 13, 14, 15, 16, 17],\n",
              "       [18, 19, 20, 21, 22, 23]])"
            ]
          },
          "execution_count": 73,
          "metadata": {},
          "output_type": "execute_result"
        }
      ],
      "source": [
        "y[1:4,:] # renglones de 1 a 3"
      ]
    },
    {
      "cell_type": "code",
      "execution_count": null,
      "metadata": {
        "id": "GKqBZp7SLFbq",
        "outputId": "53e9e462-cb5e-480f-c44a-f7acb688d9c8"
      },
      "outputs": [
        {
          "data": {
            "text/plain": [
              "array([[ 1,  2,  3,  4],\n",
              "       [ 7,  8,  9, 10],\n",
              "       [13, 14, 15, 16],\n",
              "       [19, 20, 21, 22],\n",
              "       [25, 26, 27, 28],\n",
              "       [31, 32, 33, 34]])"
            ]
          },
          "execution_count": 74,
          "metadata": {},
          "output_type": "execute_result"
        }
      ],
      "source": [
        "y[:,1:5] # columnas de 1 a 4"
      ]
    },
    {
      "cell_type": "code",
      "execution_count": null,
      "metadata": {
        "id": "mUPgDdiMLFbq",
        "outputId": "5a6a7532-e463-4ae9-cb6c-199955bef69b"
      },
      "outputs": [
        {
          "data": {
            "text/plain": [
              "array([[14, 15, 16],\n",
              "       [20, 21, 22]])"
            ]
          },
          "execution_count": 75,
          "metadata": {},
          "output_type": "execute_result"
        }
      ],
      "source": [
        "y[2:4,2:5] # seccion del arreglo"
      ]
    },
    {
      "cell_type": "code",
      "execution_count": null,
      "metadata": {
        "id": "MPq6rm3QLFbq",
        "outputId": "f203668f-1167-41b2-a9c8-c27d146a5bdb"
      },
      "outputs": [
        {
          "data": {
            "text/plain": [
              "array([[ 7,  9],\n",
              "       [19, 21]])"
            ]
          },
          "execution_count": 76,
          "metadata": {},
          "output_type": "execute_result"
        }
      ],
      "source": [
        "y[1:5:2,1:5:2] # sección del arreglo\n",
        "               # con saltos de 2"
      ]
    },
    {
      "cell_type": "code",
      "execution_count": null,
      "metadata": {
        "id": "LQY6k4eRLFbq",
        "outputId": "960e84fb-1d78-43d4-bd50-f72dae261412"
      },
      "outputs": [
        {
          "data": {
            "text/plain": [
              "array([[ 0,  1,  2,  3,  4,  5],\n",
              "       [ 6,  0,  8,  0, 10, 11],\n",
              "       [12, 13, 14, 15, 16, 17],\n",
              "       [18,  0, 20,  0, 22, 23],\n",
              "       [24, 25, 26, 27, 28, 29],\n",
              "       [30, 31, 32, 33, 34, 35]])"
            ]
          },
          "execution_count": 77,
          "metadata": {},
          "output_type": "execute_result"
        }
      ],
      "source": [
        "y[1:5:2,1:5:2] = 0 # Modificación de\n",
        "y                  # algunos elementos"
      ]
    },
    {
      "cell_type": "markdown",
      "metadata": {
        "id": "O3tkpLJELFbq"
      },
      "source": [
        "También es posible seleccionar elementos que cumplan cierto criterio."
      ]
    },
    {
      "cell_type": "code",
      "execution_count": null,
      "metadata": {
        "id": "xNp0pBPZLFbq",
        "outputId": "0c4d0783-0b13-416c-9a9e-d84f8f282efa"
      },
      "outputs": [
        {
          "data": {
            "text/plain": [
              "array([ 0,  1,  2,  3,  4,  5,  6,  0,  8,  0, 10, 11, 12, 13, 14, 15, 16,\n",
              "       17, 18,  0, 20,  0, 22, 23, 24])"
            ]
          },
          "execution_count": 77,
          "metadata": {},
          "output_type": "execute_result"
        }
      ],
      "source": [
        "y[y<25] # Selecciona los elementos del arreglo que son menores que 25"
      ]
    },
    {
      "cell_type": "code",
      "execution_count": null,
      "metadata": {
        "id": "zm2PCPTWLFbr",
        "outputId": "fbd5fa1a-2ced-4e4b-8ad1-1792edaa84dd"
      },
      "outputs": [
        {
          "data": {
            "text/plain": [
              "array([ 0,  2,  4,  6,  0,  8,  0, 10, 12, 14, 16, 18,  0, 20,  0, 22, 24,\n",
              "       26, 28, 30, 32, 34])"
            ]
          },
          "execution_count": 78,
          "metadata": {},
          "output_type": "execute_result"
        }
      ],
      "source": [
        "y[y%2==0] # Selecciona todos los elementos pares"
      ]
    },
    {
      "cell_type": "code",
      "execution_count": null,
      "metadata": {
        "id": "WSVo1syHLFbr",
        "outputId": "54e5238d-1692-4511-d5e4-9af12a2e4c6a"
      },
      "outputs": [
        {
          "data": {
            "text/plain": [
              "array([10, 11, 12, 13, 14, 15, 16, 17, 18])"
            ]
          },
          "execution_count": 79,
          "metadata": {},
          "output_type": "execute_result"
        }
      ],
      "source": [
        "y[(y>8) & (y<20)] # Selecciona todos los elementos mayores que 8 y menores que 20"
      ]
    },
    {
      "cell_type": "code",
      "execution_count": null,
      "metadata": {
        "id": "g6XDIBooLFbr",
        "outputId": "3670e87b-a599-4828-df49-cf515249389c"
      },
      "outputs": [
        {
          "data": {
            "text/plain": [
              "array([[  0,   1,   2,   3,   4,   5],\n",
              "       [  6,   0,   8,   0, 666, 666],\n",
              "       [666, 666, 666, 666, 666, 666],\n",
              "       [666,   0,  20,   0,  22,  23],\n",
              "       [ 24,  25,  26,  27,  28,  29],\n",
              "       [ 30,  31,  32,  33,  34,  35]])"
            ]
          },
          "execution_count": 78,
          "metadata": {},
          "output_type": "execute_result"
        }
      ],
      "source": [
        "y[(y>8) & (y<20)] = 666\n",
        "y"
      ]
    },
    {
      "cell_type": "code",
      "execution_count": null,
      "metadata": {
        "id": "RfP8idIhLFbr",
        "outputId": "611fd1f6-40fe-42d9-8b57-cd3c0d62e16f"
      },
      "outputs": [
        {
          "data": {
            "text/plain": [
              "(array([1, 1, 2, 2, 2, 2, 2, 2, 3]), array([4, 5, 0, 1, 2, 3, 4, 5, 0]))"
            ]
          },
          "execution_count": 79,
          "metadata": {},
          "output_type": "execute_result"
        }
      ],
      "source": [
        "z = np.nonzero(y == 666) # Determina los renglones y las columnas\n",
        "z                        # donde se cumple la condición."
      ]
    },
    {
      "cell_type": "code",
      "execution_count": null,
      "metadata": {
        "id": "ekYASC9hLFbr",
        "outputId": "0907f7cd-5a46-4057-9c33-c9961a27cba5"
      },
      "outputs": [
        {
          "data": {
            "text/plain": [
              "array([4, 5, 0, 1, 2, 3, 4, 5, 0])"
            ]
          },
          "execution_count": 84,
          "metadata": {},
          "output_type": "execute_result"
        }
      ],
      "source": [
        "z[0]\n",
        "z[1]"
      ]
    },
    {
      "cell_type": "code",
      "execution_count": null,
      "metadata": {
        "id": "txFYOhcbLFbs",
        "outputId": "527b7252-86db-43b9-9232-93e729ace4f5"
      },
      "outputs": [
        {
          "data": {
            "text/plain": [
              "[(1, 4), (1, 5), (2, 0), (2, 1), (2, 2), (2, 3), (2, 4), (2, 5), (3, 0)]"
            ]
          },
          "execution_count": 82,
          "metadata": {},
          "output_type": "execute_result"
        }
      ],
      "source": [
        "indices = list(zip(z[0], z[1])) # Genera una lista de coordenadas donde se cumple la condición.\n",
        "indices"
      ]
    },
    {
      "cell_type": "code",
      "execution_count": null,
      "metadata": {
        "id": "VrfaXotjLFbs",
        "outputId": "4cd33903-e293-4648-e516-8f3f3517352f"
      },
      "outputs": [
        {
          "name": "stdout",
          "output_type": "stream",
          "text": [
            "[666 666 666 666 666 666 666 666 666]\n"
          ]
        }
      ],
      "source": [
        "print(y[z]) # Imprime los elementos del arreglo 'y' usando las coordenadas de 'z'"
      ]
    },
    {
      "cell_type": "markdown",
      "metadata": {
        "id": "v29ujCr9LFbs"
      },
      "source": [
        "<a name='1-8'></a>\n",
        "### Operaciones básicas entre arreglos"
      ]
    },
    {
      "cell_type": "code",
      "execution_count": null,
      "metadata": {
        "id": "cK0Wn0V6LFbs"
      },
      "outputs": [],
      "source": [
        "v1 = np.array([2.3,3.1,9.6])\n",
        "v2 = np.array([3.4,5.6,7.8])"
      ]
    },
    {
      "cell_type": "code",
      "execution_count": null,
      "metadata": {
        "id": "OM4MB4uULFbs",
        "outputId": "ca2ada7b-b825-4bc8-d341-59bcfcc4845c"
      },
      "outputs": [
        {
          "data": {
            "text/plain": [
              "array([0.76666667, 1.03333333, 3.2       ])"
            ]
          },
          "execution_count": 81,
          "metadata": {},
          "output_type": "execute_result"
        }
      ],
      "source": [
        "(1/3)*v1 # Escalar por arreglo"
      ]
    },
    {
      "cell_type": "code",
      "execution_count": null,
      "metadata": {
        "id": "9k94znvaLFbs",
        "outputId": "4b8b2ca1-24b0-4668-aa60-8835e98e19be"
      },
      "outputs": [
        {
          "data": {
            "text/plain": [
              "array([ 5.7,  8.7, 17.4])"
            ]
          },
          "execution_count": 82,
          "metadata": {},
          "output_type": "execute_result"
        }
      ],
      "source": [
        "v1+v2 # Suma de arreglos"
      ]
    },
    {
      "cell_type": "code",
      "execution_count": null,
      "metadata": {
        "id": "08cK7FM-LFbt",
        "outputId": "03c05d32-5f00-4049-e897-6562569719e8"
      },
      "outputs": [
        {
          "data": {
            "text/plain": [
              "array([-1.1, -2.5,  1.8])"
            ]
          },
          "execution_count": 83,
          "metadata": {},
          "output_type": "execute_result"
        }
      ],
      "source": [
        "v1-v2 # Resta de arreglos"
      ]
    },
    {
      "cell_type": "code",
      "execution_count": null,
      "metadata": {
        "id": "32fB97HHLFbt",
        "outputId": "acf2b7cf-a097-47df-8706-3d369ca1a236"
      },
      "outputs": [
        {
          "data": {
            "text/plain": [
              "array([ 7.82, 17.36, 74.88])"
            ]
          },
          "execution_count": 84,
          "metadata": {},
          "output_type": "execute_result"
        }
      ],
      "source": [
        "v1*v2 # Multiplicación elemento a elemento"
      ]
    },
    {
      "cell_type": "code",
      "execution_count": null,
      "metadata": {
        "id": "Fe_ThMBrLFbt",
        "outputId": "2eebf46d-9518-48a3-b6db-74551e62fa36"
      },
      "outputs": [
        {
          "data": {
            "text/plain": [
              "array([0.67647059, 0.55357143, 1.23076923])"
            ]
          },
          "execution_count": 85,
          "metadata": {},
          "output_type": "execute_result"
        }
      ],
      "source": [
        "v1/v2 # División elemento a elemento"
      ]
    },
    {
      "cell_type": "code",
      "execution_count": null,
      "metadata": {
        "id": "ufqfO7UILFbt",
        "outputId": "dcd6989c-189e-4bec-9e3e-562d47e52707"
      },
      "outputs": [
        {
          "data": {
            "text/plain": [
              "array([ 5.29,  9.61, 92.16])"
            ]
          },
          "execution_count": 86,
          "metadata": {},
          "output_type": "execute_result"
        }
      ],
      "source": [
        "v1 ** 2 # Potencia de un arreglo"
      ]
    },
    {
      "cell_type": "code",
      "execution_count": null,
      "metadata": {
        "id": "fHtgUxl4LFbt",
        "outputId": "65b2e5dc-a97f-40e9-ec6d-a7f40af5e35c"
      },
      "outputs": [
        {
          "data": {
            "text/plain": [
              "array([0.3, 1.1, 1.6])"
            ]
          },
          "execution_count": 87,
          "metadata": {},
          "output_type": "execute_result"
        }
      ],
      "source": [
        "v1 % 2  # Modulo de un arreglo"
      ]
    },
    {
      "cell_type": "code",
      "execution_count": null,
      "metadata": {
        "id": "pey2Z_KJLFbt",
        "outputId": "69452a57-b27c-439c-881b-133fb43ba953"
      },
      "outputs": [
        {
          "data": {
            "text/plain": [
              "array([ 7.45705212,  0.41580662, -1.74326781])"
            ]
          },
          "execution_count": 88,
          "metadata": {},
          "output_type": "execute_result"
        }
      ],
      "source": [
        "10 * np.sin(v1) # Aplicación de una función matemática a cada elemento del arreglo"
      ]
    },
    {
      "cell_type": "code",
      "execution_count": null,
      "metadata": {
        "id": "QhvFtAmTLFbu",
        "outputId": "1f073d10-4cfe-4792-f7b5-b3e597ab638b"
      },
      "outputs": [
        {
          "data": {
            "text/plain": [
              "array([False,  True,  True])"
            ]
          },
          "execution_count": 89,
          "metadata": {},
          "output_type": "execute_result"
        }
      ],
      "source": [
        "v1 > 3 # Operación de comparación, devuelve un arreglo Booleano"
      ]
    },
    {
      "cell_type": "markdown",
      "metadata": {
        "id": "CkOwE5u3LFbu"
      },
      "source": [
        "<a name='1-9'></a>\n",
        "### Operaciones entre arreglos Booleanos"
      ]
    },
    {
      "cell_type": "code",
      "execution_count": null,
      "metadata": {
        "id": "HxdnwtfdLFbu"
      },
      "outputs": [],
      "source": [
        "f = np.array([True, False, False, True])\n",
        "r = np.array([False, True, False, True])"
      ]
    },
    {
      "cell_type": "code",
      "execution_count": null,
      "metadata": {
        "id": "jKxBqPZjLFbu",
        "outputId": "5bac4365-ad94-4025-e7c0-e3b3e768c96c"
      },
      "outputs": [
        {
          "data": {
            "text/plain": [
              "array([False, False, False,  True])"
            ]
          },
          "execution_count": 91,
          "metadata": {},
          "output_type": "execute_result"
        }
      ],
      "source": [
        "f & r"
      ]
    },
    {
      "cell_type": "code",
      "execution_count": null,
      "metadata": {
        "id": "0q7zX5VJLFbu",
        "outputId": "8da862d5-fb0e-4ac0-c157-cc3c34412f43"
      },
      "outputs": [
        {
          "data": {
            "text/plain": [
              "array([ True,  True, False,  True])"
            ]
          },
          "execution_count": 92,
          "metadata": {},
          "output_type": "execute_result"
        }
      ],
      "source": [
        "f | r"
      ]
    },
    {
      "cell_type": "code",
      "execution_count": null,
      "metadata": {
        "id": "IKtbn6oKLFbu",
        "outputId": "77ec941d-fafc-4680-a0aa-a25ae083139b"
      },
      "outputs": [
        {
          "data": {
            "text/plain": [
              "array([False,  True,  True, False])"
            ]
          },
          "execution_count": 93,
          "metadata": {},
          "output_type": "execute_result"
        }
      ],
      "source": [
        "~f"
      ]
    },
    {
      "cell_type": "code",
      "execution_count": null,
      "metadata": {
        "id": "Rm3KW06zLFbv",
        "outputId": "f6558bb1-6fc2-43da-b95a-ad44c5dfcfdf"
      },
      "outputs": [
        {
          "data": {
            "text/plain": [
              "array([0, 1, 2, 3])"
            ]
          },
          "execution_count": 94,
          "metadata": {},
          "output_type": "execute_result"
        }
      ],
      "source": [
        "b = np.arange(4)\n",
        "b"
      ]
    },
    {
      "cell_type": "code",
      "execution_count": null,
      "metadata": {
        "id": "XrjrGFcqLFbv",
        "outputId": "3a3a8d0a-9ce6-462e-a9f0-f22e5c09ecf7"
      },
      "outputs": [
        {
          "data": {
            "text/plain": [
              "array([0, 3])"
            ]
          },
          "execution_count": 95,
          "metadata": {},
          "output_type": "execute_result"
        }
      ],
      "source": [
        "b[f]"
      ]
    },
    {
      "cell_type": "code",
      "execution_count": null,
      "metadata": {
        "id": "oJqDOMe9LFbv",
        "outputId": "9318aeb0-6844-4f56-ced3-c8401f1a7c3d"
      },
      "outputs": [
        {
          "data": {
            "text/plain": [
              "array([100,   1,   2, 100])"
            ]
          },
          "execution_count": 97,
          "metadata": {},
          "output_type": "execute_result"
        }
      ],
      "source": [
        "b[f] = 100\n",
        "b"
      ]
    },
    {
      "cell_type": "markdown",
      "metadata": {
        "id": "z3FfFQwxLFbv"
      },
      "source": [
        "<a name='1-10'></a>\n",
        "### Métodos de los arreglos\n",
        "Existe una larga lista de métodos definidos para los arreglos, vea más información <a href=\"https://numpy.org/doc/stable/reference/arrays.ndarray.html#array-ndarray-methods\">aquí</a>."
      ]
    },
    {
      "cell_type": "code",
      "execution_count": null,
      "metadata": {
        "id": "QSm8DuUNLFbv",
        "outputId": "f8739d04-9bae-42bc-d73d-4a34797649a8"
      },
      "outputs": [
        {
          "data": {
            "text/plain": [
              "array([0.42540937, 0.08199528, 0.88496099, 0.32381277, 0.45089299,\n",
              "       0.83042048, 0.74711282, 0.52620185, 0.13672565, 0.84522505,\n",
              "       0.41633659, 0.02700198, 0.86874089, 0.05060088, 0.01035705,\n",
              "       0.86524046, 0.18253511, 0.80002442, 0.5667958 , 0.07749154,\n",
              "       0.16135519, 0.04789339, 0.40848212, 0.36881423, 0.8575511 ,\n",
              "       0.87836948, 0.86501215, 0.71926682, 0.35621884, 0.02166241,\n",
              "       0.82970508, 0.86967498, 0.37801171, 0.39526868, 0.66868771,\n",
              "       0.55158522, 0.37197789, 0.74856897, 0.73716252, 0.76706072,\n",
              "       0.87309585, 0.26415061, 0.79764737, 0.99505655, 0.6639731 ,\n",
              "       0.17855885, 0.89527404, 0.13978085, 0.32977829, 0.4155706 ,\n",
              "       0.66730478, 0.62383353, 0.86163547, 0.56710471, 0.20892521,\n",
              "       0.27428501, 0.15224865, 0.25218857, 0.38981508, 0.07253246,\n",
              "       0.11863786, 0.42867389, 0.20964763, 0.7180147 , 0.06089127,\n",
              "       0.94715964, 0.44267164, 0.66521111, 0.03091784, 0.86979791,\n",
              "       0.55996537, 0.67331132, 0.90612238, 0.44918226, 0.44991761,\n",
              "       0.11173828, 0.15941804, 0.40787812, 0.92126287, 0.20239331,\n",
              "       0.12362277, 0.10093794, 0.04820275, 0.17655772, 0.92058255,\n",
              "       0.23222786, 0.20685176, 0.59394491, 0.8741049 , 0.97759328,\n",
              "       0.34727268, 0.60689249, 0.62575954, 0.89610706, 0.31837303,\n",
              "       0.20113215, 0.95542008, 0.27230741, 0.57458979, 0.28898848])"
            ]
          },
          "execution_count": 98,
          "metadata": {},
          "output_type": "execute_result"
        }
      ],
      "source": [
        "x = np.random.random(100) # arreglo de 100 números aleatorios entre 1 y 0\n",
        "x"
      ]
    },
    {
      "cell_type": "code",
      "execution_count": null,
      "metadata": {
        "id": "sMN7BoZtLFbv",
        "outputId": "404f2759-d989-4da7-bd71-7262e587491a"
      },
      "outputs": [
        {
          "data": {
            "text/plain": [
              "0.9950565524737125"
            ]
          },
          "execution_count": 99,
          "metadata": {},
          "output_type": "execute_result"
        }
      ],
      "source": [
        "x.max()"
      ]
    },
    {
      "cell_type": "code",
      "execution_count": null,
      "metadata": {
        "id": "NWx07r9NLFbv",
        "outputId": "fbe6c401-5d6d-4c2c-c05c-f6f2fbefc248"
      },
      "outputs": [
        {
          "data": {
            "text/plain": [
              "48.417252941543296"
            ]
          },
          "execution_count": 100,
          "metadata": {},
          "output_type": "execute_result"
        }
      ],
      "source": [
        "x.sum()"
      ]
    },
    {
      "cell_type": "code",
      "execution_count": null,
      "metadata": {
        "id": "G297CN6ZLFbw",
        "outputId": "c34c10c6-0b87-49d5-8f11-942ba0e038c6"
      },
      "outputs": [
        {
          "data": {
            "text/plain": [
              "array([[0, 1, 2, 3, 4],\n",
              "       [5, 6, 7, 8, 9]])"
            ]
          },
          "execution_count": 101,
          "metadata": {},
          "output_type": "execute_result"
        }
      ],
      "source": [
        "x = np.arange(10).reshape(2,5)\n",
        "x"
      ]
    },
    {
      "cell_type": "code",
      "execution_count": null,
      "metadata": {
        "id": "J_9tyKaPLFbw",
        "outputId": "59730c51-e1b4-4e43-e9a4-99129dfdd13e"
      },
      "outputs": [
        {
          "data": {
            "text/plain": [
              "array([[0, 5],\n",
              "       [1, 6],\n",
              "       [2, 7],\n",
              "       [3, 8],\n",
              "       [4, 9]])"
            ]
          },
          "execution_count": 102,
          "metadata": {},
          "output_type": "execute_result"
        }
      ],
      "source": [
        "x.T"
      ]
    },
    {
      "cell_type": "code",
      "execution_count": null,
      "metadata": {
        "id": "fw8hy4sNLFbw",
        "outputId": "b3ff050a-3c64-41be-b1cf-b631a8baefc2"
      },
      "outputs": [
        {
          "data": {
            "text/plain": [
              "array([[0, 5],\n",
              "       [1, 6],\n",
              "       [2, 7],\n",
              "       [3, 8],\n",
              "       [4, 9]])"
            ]
          },
          "execution_count": 103,
          "metadata": {},
          "output_type": "execute_result"
        }
      ],
      "source": [
        "x.transpose()"
      ]
    },
    {
      "cell_type": "code",
      "execution_count": null,
      "metadata": {
        "id": "MIuF8BiPLFbw",
        "outputId": "6f912f25-8b9b-4b89-ef0c-dcc4afbcd9fc"
      },
      "outputs": [
        {
          "data": {
            "text/plain": [
              "array([[0, 5],\n",
              "       [1, 6],\n",
              "       [2, 7],\n",
              "       [3, 8],\n",
              "       [4, 9]])"
            ]
          },
          "execution_count": 104,
          "metadata": {},
          "output_type": "execute_result"
        }
      ],
      "source": [
        "np.transpose(x)"
      ]
    },
    {
      "cell_type": "code",
      "execution_count": null,
      "metadata": {
        "id": "bbyDsbUVLFbw",
        "outputId": "620b8272-45e9-4814-f80c-e592f46e7f28"
      },
      "outputs": [
        {
          "data": {
            "text/plain": [
              "array([[9, 8, 7, 6, 5],\n",
              "       [4, 3, 2, 1, 0]])"
            ]
          },
          "execution_count": 105,
          "metadata": {},
          "output_type": "execute_result"
        }
      ],
      "source": [
        "np.flip(x) # Cambiar el orden de los elementos del arreglo"
      ]
    },
    {
      "cell_type": "code",
      "execution_count": null,
      "metadata": {
        "id": "2UUHOTbcLFbw",
        "outputId": "ec3386b6-2ffb-418d-abc8-d777f575b2bc"
      },
      "outputs": [
        {
          "data": {
            "text/plain": [
              "array([[5, 6, 7, 8, 9],\n",
              "       [0, 1, 2, 3, 4]])"
            ]
          },
          "execution_count": 106,
          "metadata": {},
          "output_type": "execute_result"
        }
      ],
      "source": [
        "np.flip(x, axis=0)"
      ]
    },
    {
      "cell_type": "code",
      "execution_count": null,
      "metadata": {
        "id": "nR_ASKCNLFbx",
        "outputId": "02267191-7789-479e-e0bb-74b07afc1493"
      },
      "outputs": [
        {
          "name": "stdout",
          "output_type": "stream",
          "text": [
            "[[0 1 2 3 4]\n",
            " [5 6 7 8 9]]\n",
            "[1000    1    2    3    4    5    6    7    8    9]\n"
          ]
        }
      ],
      "source": [
        "f1 = x.flatten() # Aplanar un arreglo\n",
        "f1[0] = 1000\n",
        "print(x)\n",
        "print(f1)"
      ]
    },
    {
      "cell_type": "code",
      "execution_count": null,
      "metadata": {
        "id": "Wr3JZgMsLFbx",
        "outputId": "41bb0af0-841f-413b-ad48-2f780e5b6e85"
      },
      "outputs": [
        {
          "name": "stdout",
          "output_type": "stream",
          "text": [
            "[[0 1 2 3 4]\n",
            " [5 6 7 8 9]]\n"
          ]
        }
      ],
      "source": [
        "print(x)"
      ]
    },
    {
      "cell_type": "code",
      "execution_count": null,
      "metadata": {
        "id": "v022fmpsLFbx",
        "outputId": "fedd6eed-7ea1-4543-9e61-0bd2ebc74c45"
      },
      "outputs": [
        {
          "name": "stdout",
          "output_type": "stream",
          "text": [
            "[[1000    1    2    3    4]\n",
            " [   5    6    7    8    9]]\n",
            "[1000    1    2    3    4    5    6    7    8    9]\n"
          ]
        }
      ],
      "source": [
        "f2 = x.ravel() # Aplanar un arreglo\n",
        "f2[0] = 1000\n",
        "print(x)\n",
        "print(f1)"
      ]
    },
    {
      "cell_type": "markdown",
      "metadata": {
        "id": "CaNh1ym9LFbx"
      },
      "source": [
        "**Los arreglos deben ser compatibles para poder realizar las operaciones anteriores:**"
      ]
    },
    {
      "cell_type": "code",
      "execution_count": null,
      "metadata": {
        "id": "OKSbQhjXLFbx",
        "outputId": "1062f8d0-14ab-44bf-c1d7-b8cde4713542"
      },
      "outputs": [
        {
          "data": {
            "text/plain": [
              "array([[[ 0,  2,  4,  6],\n",
              "        [ 8, 10, 12, 14],\n",
              "        [16, 18, 20, 22]],\n",
              "\n",
              "       [[24, 26, 28, 30],\n",
              "        [32, 34, 36, 38],\n",
              "        [40, 42, 44, 46]]])"
            ]
          },
          "execution_count": 110,
          "metadata": {},
          "output_type": "execute_result"
        }
      ],
      "source": [
        "a = np.arange(24).reshape(2,3,4)\n",
        "b = np.arange(24).reshape(2,3,4)\n",
        "a + b"
      ]
    },
    {
      "cell_type": "code",
      "execution_count": null,
      "metadata": {
        "id": "bpIM2XjbLFbx",
        "outputId": "d62af74a-0c67-48c7-850e-7a51557ac74a"
      },
      "outputs": [
        {
          "ename": "ValueError",
          "evalue": "operands could not be broadcast together with shapes (2,3,4) (6,4) ",
          "output_type": "error",
          "traceback": [
            "\u001b[0;31m---------------------------------------------------------------------------\u001b[0m",
            "\u001b[0;31mValueError\u001b[0m                                Traceback (most recent call last)",
            "\u001b[0;32m/tmp/ipykernel_24865/4122427811.py\u001b[0m in \u001b[0;36m<module>\u001b[0;34m\u001b[0m\n\u001b[1;32m      1\u001b[0m \u001b[0mc\u001b[0m \u001b[0;34m=\u001b[0m \u001b[0mnp\u001b[0m\u001b[0;34m.\u001b[0m\u001b[0marange\u001b[0m\u001b[0;34m(\u001b[0m\u001b[0;36m24\u001b[0m\u001b[0;34m)\u001b[0m\u001b[0;34m.\u001b[0m\u001b[0mreshape\u001b[0m\u001b[0;34m(\u001b[0m\u001b[0;36m6\u001b[0m\u001b[0;34m,\u001b[0m\u001b[0;36m4\u001b[0m\u001b[0;34m)\u001b[0m\u001b[0;34m\u001b[0m\u001b[0;34m\u001b[0m\u001b[0m\n\u001b[0;32m----> 2\u001b[0;31m \u001b[0ma\u001b[0m \u001b[0;34m+\u001b[0m \u001b[0mc\u001b[0m\u001b[0;34m\u001b[0m\u001b[0;34m\u001b[0m\u001b[0m\n\u001b[0m",
            "\u001b[0;31mValueError\u001b[0m: operands could not be broadcast together with shapes (2,3,4) (6,4) "
          ]
        }
      ],
      "source": [
        "c = np.arange(24).reshape(6,4)\n",
        "a + c"
      ]
    },
    {
      "cell_type": "markdown",
      "metadata": {
        "id": "NG4AFknaLFbx"
      },
      "source": [
        "<a name='1-11'></a>\n",
        "### Apilación y concatenación de arreglos"
      ]
    },
    {
      "cell_type": "code",
      "execution_count": null,
      "metadata": {
        "id": "34_HailiLFby",
        "outputId": "d1512d7e-8a68-4ed0-8dd6-3a134f53284c"
      },
      "outputs": [
        {
          "name": "stdout",
          "output_type": "stream",
          "text": [
            "[[0 1]\n",
            " [2 3]]\n",
            "[[4 5]\n",
            " [6 7]]\n"
          ]
        }
      ],
      "source": [
        "a = np.arange(4).reshape(2,2)\n",
        "b = np.arange(4,8,1).reshape(2,2)\n",
        "print(a)\n",
        "print(b)"
      ]
    },
    {
      "cell_type": "code",
      "execution_count": null,
      "metadata": {
        "id": "uyA39w7eLFby",
        "outputId": "bd2ff769-ecae-46d4-e011-3ef2e4ce8c8f"
      },
      "outputs": [
        {
          "data": {
            "text/plain": [
              "array([[0, 1],\n",
              "       [2, 3],\n",
              "       [4, 5],\n",
              "       [6, 7]])"
            ]
          },
          "execution_count": 113,
          "metadata": {},
          "output_type": "execute_result"
        }
      ],
      "source": [
        "np.vstack( (a, b) ) # Apilación vertical"
      ]
    },
    {
      "cell_type": "code",
      "execution_count": null,
      "metadata": {
        "id": "WKUd-bsRLFby",
        "outputId": "f149a8fc-bc0d-4e64-b17b-6c69e57d10d8"
      },
      "outputs": [
        {
          "data": {
            "text/plain": [
              "array([[0, 1, 4, 5],\n",
              "       [2, 3, 6, 7]])"
            ]
          },
          "execution_count": 114,
          "metadata": {},
          "output_type": "execute_result"
        }
      ],
      "source": [
        "np.hstack( (a, b) ) # Apilación horizontal"
      ]
    },
    {
      "cell_type": "code",
      "execution_count": null,
      "metadata": {
        "id": "fycTrg_7LFby",
        "outputId": "a7639595-24ea-4e96-ac2e-64c5e4c6707e"
      },
      "outputs": [
        {
          "data": {
            "text/plain": [
              "array([[ 1,  2,  3,  4],\n",
              "       [ 5,  6,  7,  8],\n",
              "       [ 9, 10, 11, 12],\n",
              "       [13, 14, 15, 16],\n",
              "       [17, 18, 19, 20],\n",
              "       [21, 22, 23, 24]])"
            ]
          },
          "execution_count": 115,
          "metadata": {},
          "output_type": "execute_result"
        }
      ],
      "source": [
        "x = np.arange(1,25,1).reshape(6,4)\n",
        "x"
      ]
    },
    {
      "cell_type": "code",
      "execution_count": null,
      "metadata": {
        "id": "XeSponZgLFby",
        "outputId": "4dc2c77d-2142-47d3-e601-960892a602c2"
      },
      "outputs": [
        {
          "data": {
            "text/plain": [
              "[array([[ 1,  2],\n",
              "        [ 5,  6],\n",
              "        [ 9, 10],\n",
              "        [13, 14],\n",
              "        [17, 18],\n",
              "        [21, 22]]),\n",
              " array([[ 3,  4],\n",
              "        [ 7,  8],\n",
              "        [11, 12],\n",
              "        [15, 16],\n",
              "        [19, 20],\n",
              "        [23, 24]])]"
            ]
          },
          "execution_count": 116,
          "metadata": {},
          "output_type": "execute_result"
        }
      ],
      "source": [
        "np.hsplit(x, 2) # División vertical en dos arreglos"
      ]
    },
    {
      "cell_type": "code",
      "execution_count": null,
      "metadata": {
        "id": "eOsCyozGLFby",
        "outputId": "ae2d4bcd-bbfe-4cd1-e3f2-d722b9dbba89"
      },
      "outputs": [
        {
          "data": {
            "text/plain": [
              "[array([[ 1,  2,  3,  4],\n",
              "        [ 5,  6,  7,  8],\n",
              "        [ 9, 10, 11, 12]]),\n",
              " array([[13, 14, 15, 16],\n",
              "        [17, 18, 19, 20],\n",
              "        [21, 22, 23, 24]])]"
            ]
          },
          "execution_count": 117,
          "metadata": {},
          "output_type": "execute_result"
        }
      ],
      "source": [
        "np.vsplit(x, 2) #  División horizontal en dos arreglos"
      ]
    },
    {
      "cell_type": "markdown",
      "metadata": {
        "id": "lPb2gVupLFbz"
      },
      "source": [
        "**Se recomienda revisar la función <a href=\"https://numpy.org/doc/stable/reference/generated/numpy.concatenate.html#numpy.concatenate\">`np.concatenate` </a> para ver más opciones**"
      ]
    },
    {
      "cell_type": "markdown",
      "metadata": {
        "id": "u7svsr07LFbz"
      },
      "source": [
        "<a name='1-12'></a>\n",
        "### Agregando dimensiones al arreglo"
      ]
    },
    {
      "cell_type": "code",
      "execution_count": null,
      "metadata": {
        "id": "SGKtnZABLFbz",
        "outputId": "d1ffebf2-de7d-49a4-d9d2-cf0847752340"
      },
      "outputs": [
        {
          "name": "stdout",
          "output_type": "stream",
          "text": [
            " tipo  : <class 'numpy.ndarray'> \n",
            " dtype : float64 \n",
            " dim   : 1 \n",
            " shape : (10,) \n",
            " size(bytes) : 8 \n",
            " size(elements) : 10\n"
          ]
        },
        {
          "data": {
            "text/plain": [
              "array([ 1.,  2.,  3.,  4.,  5.,  6.,  7.,  8.,  9., 10.])"
            ]
          },
          "execution_count": 118,
          "metadata": {},
          "output_type": "execute_result"
        }
      ],
      "source": [
        "x = np.arange(1,11,1.)\n",
        "info_array(x)\n",
        "x"
      ]
    },
    {
      "cell_type": "code",
      "execution_count": null,
      "metadata": {
        "id": "upjXvGcRLFbz",
        "outputId": "2f55d60d-1fa4-4239-f404-57bc6dee02e2"
      },
      "outputs": [
        {
          "data": {
            "text/plain": [
              "array([ 1.,  2.,  3.,  4.,  5.,  6.,  7.,  8.,  9., 10.])"
            ]
          },
          "execution_count": 119,
          "metadata": {},
          "output_type": "execute_result"
        }
      ],
      "source": [
        "x.T"
      ]
    },
    {
      "cell_type": "code",
      "execution_count": null,
      "metadata": {
        "id": "5sRNNkQALFbz",
        "outputId": "8374f805-a9ec-48da-ed4f-0be5935c6626"
      },
      "outputs": [
        {
          "name": "stdout",
          "output_type": "stream",
          "text": [
            " tipo  : <class 'numpy.ndarray'> \n",
            " dtype : float64 \n",
            " dim   : 2 \n",
            " shape : (1, 10) \n",
            " size(bytes) : 8 \n",
            " size(elements) : 10\n"
          ]
        },
        {
          "data": {
            "text/plain": [
              "array([[ 1.,  2.,  3.,  4.,  5.,  6.,  7.,  8.,  9., 10.]])"
            ]
          },
          "execution_count": 120,
          "metadata": {},
          "output_type": "execute_result"
        }
      ],
      "source": [
        "x_row = x[np.newaxis, :]\n",
        "info_array(x_row)\n",
        "x_row"
      ]
    },
    {
      "cell_type": "code",
      "execution_count": null,
      "metadata": {
        "id": "WcXG_eRfLFbz",
        "outputId": "17369e6d-cfac-4ffa-9ca6-7b403ea19158"
      },
      "outputs": [
        {
          "data": {
            "text/plain": [
              "array([[ 1.],\n",
              "       [ 2.],\n",
              "       [ 3.],\n",
              "       [ 4.],\n",
              "       [ 5.],\n",
              "       [ 6.],\n",
              "       [ 7.],\n",
              "       [ 8.],\n",
              "       [ 9.],\n",
              "       [10.]])"
            ]
          },
          "execution_count": 121,
          "metadata": {},
          "output_type": "execute_result"
        }
      ],
      "source": [
        "x_row.T"
      ]
    },
    {
      "cell_type": "code",
      "execution_count": null,
      "metadata": {
        "id": "BWHEyzDaLFb0",
        "outputId": "1d54308a-63ba-4fef-96ac-52c6d4ca8d09"
      },
      "outputs": [
        {
          "name": "stdout",
          "output_type": "stream",
          "text": [
            " tipo  : <class 'numpy.ndarray'> \n",
            " dtype : float64 \n",
            " dim   : 2 \n",
            " shape : (10, 1) \n",
            " size(bytes) : 8 \n",
            " size(elements) : 10\n"
          ]
        },
        {
          "data": {
            "text/plain": [
              "array([[ 1.],\n",
              "       [ 2.],\n",
              "       [ 3.],\n",
              "       [ 4.],\n",
              "       [ 5.],\n",
              "       [ 6.],\n",
              "       [ 7.],\n",
              "       [ 8.],\n",
              "       [ 9.],\n",
              "       [10.]])"
            ]
          },
          "execution_count": 122,
          "metadata": {},
          "output_type": "execute_result"
        }
      ],
      "source": [
        "x_col = x[:, np.newaxis]\n",
        "info_array(x_col)\n",
        "x_col"
      ]
    },
    {
      "cell_type": "code",
      "execution_count": null,
      "metadata": {
        "id": "TT6U9V-CLFb0",
        "outputId": "8791a4c6-6e9a-4610-f9ee-fe6b442ce8f4"
      },
      "outputs": [
        {
          "name": "stdout",
          "output_type": "stream",
          "text": [
            "[[ 1.  2.  3.  4.  5.  6.  7.  8.  9. 10.]]\n",
            "[[ 1.]\n",
            " [ 2.]\n",
            " [ 3.]\n",
            " [ 4.]\n",
            " [ 5.]\n",
            " [ 6.]\n",
            " [ 7.]\n",
            " [ 8.]\n",
            " [ 9.]\n",
            " [10.]]\n"
          ]
        }
      ],
      "source": [
        "# Otra manera\n",
        "x_row = np.expand_dims(x, axis=0)\n",
        "x_col = np.expand_dims(x, axis=1)\n",
        "print(x_row)\n",
        "print(x_col)"
      ]
    },
    {
      "cell_type": "markdown",
      "metadata": {
        "id": "LOVehMVTLFb0"
      },
      "source": [
        "<a name='1-13'></a>\n",
        "### Constantes"
      ]
    },
    {
      "cell_type": "code",
      "execution_count": null,
      "metadata": {
        "id": "22gzdxyELFb0",
        "outputId": "ee591fd4-7e20-430c-b63a-d4e570e280a2"
      },
      "outputs": [
        {
          "data": {
            "text/plain": [
              "2.718281828459045"
            ]
          },
          "execution_count": 124,
          "metadata": {},
          "output_type": "execute_result"
        }
      ],
      "source": [
        "np.e"
      ]
    },
    {
      "cell_type": "code",
      "execution_count": null,
      "metadata": {
        "id": "oKNoYSo7LFb0",
        "outputId": "56b45d50-8d2d-4c8c-f65e-00ff28cedc63"
      },
      "outputs": [
        {
          "data": {
            "text/plain": [
              "0.5772156649015329"
            ]
          },
          "execution_count": 125,
          "metadata": {},
          "output_type": "execute_result"
        }
      ],
      "source": [
        "np.euler_gamma # Euler–Mascheroni constant"
      ]
    },
    {
      "cell_type": "code",
      "execution_count": null,
      "metadata": {
        "id": "U3rbsmhsLFb0",
        "outputId": "1f4fbd13-ac23-4443-a293-237fabc15de6"
      },
      "outputs": [
        {
          "data": {
            "text/plain": [
              "3.141592653589793"
            ]
          },
          "execution_count": 126,
          "metadata": {},
          "output_type": "execute_result"
        }
      ],
      "source": [
        "np.pi"
      ]
    },
    {
      "cell_type": "code",
      "execution_count": null,
      "metadata": {
        "id": "NpY0nK8ELFb1",
        "outputId": "e5c7a669-7b4d-4282-f839-2df0b73c15a5"
      },
      "outputs": [
        {
          "data": {
            "text/plain": [
              "inf"
            ]
          },
          "execution_count": 127,
          "metadata": {},
          "output_type": "execute_result"
        }
      ],
      "source": [
        "np.inf # Infinito"
      ]
    },
    {
      "cell_type": "code",
      "execution_count": null,
      "metadata": {
        "id": "Y6oZY1sLLFb1",
        "outputId": "90576cfa-5fdc-4824-fea4-0e20b5998d37"
      },
      "outputs": [
        {
          "name": "stderr",
          "output_type": "stream",
          "text": [
            "/tmp/ipykernel_24865/3182226453.py:2: RuntimeWarning: divide by zero encountered in divide\n",
            "  np.array([1]) / 0.\n"
          ]
        },
        {
          "data": {
            "text/plain": [
              "array([inf])"
            ]
          },
          "execution_count": 128,
          "metadata": {},
          "output_type": "execute_result"
        }
      ],
      "source": [
        "#Por ejemplo\n",
        "np.array([1]) / 0."
      ]
    },
    {
      "cell_type": "code",
      "execution_count": null,
      "metadata": {
        "id": "nkqVfsYALFb1",
        "outputId": "0fe88cfa-7b1d-4aa7-def7-535d14c2eb51"
      },
      "outputs": [
        {
          "data": {
            "text/plain": [
              "nan"
            ]
          },
          "execution_count": 129,
          "metadata": {},
          "output_type": "execute_result"
        }
      ],
      "source": [
        "np.nan # Not a Number: Valor no definido o no representable"
      ]
    },
    {
      "cell_type": "code",
      "execution_count": null,
      "metadata": {
        "id": "u3XdVRPvLFb1",
        "outputId": "bd762596-77a8-4c2b-c6a5-80891a93594a"
      },
      "outputs": [
        {
          "name": "stderr",
          "output_type": "stream",
          "text": [
            "/tmp/ipykernel_24865/1910582514.py:2: RuntimeWarning: invalid value encountered in sqrt\n",
            "  np.sqrt(-1)\n"
          ]
        },
        {
          "data": {
            "text/plain": [
              "nan"
            ]
          },
          "execution_count": 130,
          "metadata": {},
          "output_type": "execute_result"
        }
      ],
      "source": [
        "# Por ejemplo\n",
        "np.sqrt(-1)"
      ]
    },
    {
      "cell_type": "code",
      "execution_count": null,
      "metadata": {
        "id": "UHjMmNW5LFb1",
        "outputId": "34403f49-4700-4e92-c208-d76610c7b8c9"
      },
      "outputs": [
        {
          "name": "stderr",
          "output_type": "stream",
          "text": [
            "/tmp/ipykernel_24865/55426429.py:1: RuntimeWarning: invalid value encountered in log\n",
            "  np.log([-1, 1, 2])\n"
          ]
        },
        {
          "data": {
            "text/plain": [
              "array([       nan, 0.        , 0.69314718])"
            ]
          },
          "execution_count": 131,
          "metadata": {},
          "output_type": "execute_result"
        }
      ],
      "source": [
        "np.log([-1, 1, 2])"
      ]
    },
    {
      "cell_type": "code",
      "execution_count": null,
      "metadata": {
        "id": "AgKF7G_6LFb1",
        "outputId": "d85723d3-4ffd-4ed5-c463-dc35ee010160"
      },
      "outputs": [
        {
          "data": {
            "text/plain": [
              "-inf"
            ]
          },
          "execution_count": 132,
          "metadata": {},
          "output_type": "execute_result"
        }
      ],
      "source": [
        "np.NINF  # Infinito negativo"
      ]
    },
    {
      "cell_type": "code",
      "execution_count": null,
      "metadata": {
        "id": "7zLqjjlYLFb1",
        "outputId": "e920d6f0-873b-4766-880e-c70087564731"
      },
      "outputs": [
        {
          "name": "stderr",
          "output_type": "stream",
          "text": [
            "/tmp/ipykernel_24865/3889258382.py:2: RuntimeWarning: divide by zero encountered in divide\n",
            "  np.array([-1]) / 0.\n"
          ]
        },
        {
          "data": {
            "text/plain": [
              "array([-inf])"
            ]
          },
          "execution_count": 133,
          "metadata": {},
          "output_type": "execute_result"
        }
      ],
      "source": [
        "# Por ejemplo\n",
        "np.array([-1]) / 0."
      ]
    },
    {
      "cell_type": "code",
      "execution_count": null,
      "metadata": {
        "id": "ETlkUue3LFb2",
        "outputId": "30c0f442-721b-4d9b-f04a-de6673c23421"
      },
      "outputs": [
        {
          "data": {
            "text/plain": [
              "-0.0"
            ]
          },
          "execution_count": 134,
          "metadata": {},
          "output_type": "execute_result"
        }
      ],
      "source": [
        "np.NZERO # Cero negativo"
      ]
    },
    {
      "cell_type": "code",
      "execution_count": null,
      "metadata": {
        "id": "wFpgqAyiLFb2",
        "outputId": "56d9c75a-99b7-4600-cc39-55e54e6b72da"
      },
      "outputs": [
        {
          "data": {
            "text/plain": [
              "0.0"
            ]
          },
          "execution_count": 135,
          "metadata": {},
          "output_type": "execute_result"
        }
      ],
      "source": [
        "np.PZERO # Cero positivo"
      ]
    },
    {
      "cell_type": "markdown",
      "metadata": {
        "id": "nz18cBJWLFb2"
      },
      "source": [
        "<a name='1-14'></a>\n",
        "### Exportando e importando arreglos a archivos"
      ]
    },
    {
      "cell_type": "code",
      "execution_count": null,
      "metadata": {
        "id": "NJFZHstaLFb2",
        "outputId": "115a55de-b7ae-4176-fe63-42fa2d68430e"
      },
      "outputs": [
        {
          "name": "stdout",
          "output_type": "stream",
          "text": [
            "[[ 1.  2.  3.  4.]\n",
            " [ 5.  6.  7.  8.]\n",
            " [ 9. 10. 11. 12.]\n",
            " [13. 14. 15. 16.]\n",
            " [17. 18. 19. 20.]\n",
            " [21. 22. 23. 24.]]\n"
          ]
        }
      ],
      "source": [
        "x = np.arange(1,25,1.0).reshape(6,4)\n",
        "print(x)\n",
        "np.savetxt('arreglo.csv', x, fmt='%.2f', delimiter=',', header='1,  2,  3,  4')"
      ]
    },
    {
      "cell_type": "code",
      "execution_count": null,
      "metadata": {
        "id": "XmJhmuFfLFb2",
        "outputId": "4bd0010c-669f-4a86-f27c-5fa9763c9d97"
      },
      "outputs": [
        {
          "data": {
            "text/plain": [
              "array([[ 1.,  2.,  3.,  4.],\n",
              "       [ 5.,  6.,  7.,  8.],\n",
              "       [ 9., 10., 11., 12.],\n",
              "       [13., 14., 15., 16.],\n",
              "       [17., 18., 19., 20.],\n",
              "       [21., 22., 23., 24.]])"
            ]
          },
          "execution_count": 139,
          "metadata": {},
          "output_type": "execute_result"
        }
      ],
      "source": [
        "xf = np.loadtxt('arreglo.csv', delimiter=',')\n",
        "xf"
      ]
    },
    {
      "cell_type": "code",
      "execution_count": null,
      "metadata": {
        "id": "784OMZ6ALFb2",
        "outputId": "d9b62294-bedd-4796-b324-e5d1a61f77cf"
      },
      "outputs": [
        {
          "data": {
            "text/html": [
              "<div>\n",
              "<style scoped>\n",
              "    .dataframe tbody tr th:only-of-type {\n",
              "        vertical-align: middle;\n",
              "    }\n",
              "\n",
              "    .dataframe tbody tr th {\n",
              "        vertical-align: top;\n",
              "    }\n",
              "\n",
              "    .dataframe thead th {\n",
              "        text-align: right;\n",
              "    }\n",
              "</style>\n",
              "<table border=\"1\" class=\"dataframe\">\n",
              "  <thead>\n",
              "    <tr style=\"text-align: right;\">\n",
              "      <th></th>\n",
              "      <th>0</th>\n",
              "      <th>1</th>\n",
              "      <th>2</th>\n",
              "      <th>3</th>\n",
              "    </tr>\n",
              "  </thead>\n",
              "  <tbody>\n",
              "    <tr>\n",
              "      <th>0</th>\n",
              "      <td>1.0</td>\n",
              "      <td>2.0</td>\n",
              "      <td>3.0</td>\n",
              "      <td>4.0</td>\n",
              "    </tr>\n",
              "    <tr>\n",
              "      <th>1</th>\n",
              "      <td>5.0</td>\n",
              "      <td>6.0</td>\n",
              "      <td>7.0</td>\n",
              "      <td>8.0</td>\n",
              "    </tr>\n",
              "    <tr>\n",
              "      <th>2</th>\n",
              "      <td>9.0</td>\n",
              "      <td>10.0</td>\n",
              "      <td>11.0</td>\n",
              "      <td>12.0</td>\n",
              "    </tr>\n",
              "    <tr>\n",
              "      <th>3</th>\n",
              "      <td>13.0</td>\n",
              "      <td>14.0</td>\n",
              "      <td>15.0</td>\n",
              "      <td>16.0</td>\n",
              "    </tr>\n",
              "    <tr>\n",
              "      <th>4</th>\n",
              "      <td>17.0</td>\n",
              "      <td>18.0</td>\n",
              "      <td>19.0</td>\n",
              "      <td>20.0</td>\n",
              "    </tr>\n",
              "    <tr>\n",
              "      <th>5</th>\n",
              "      <td>21.0</td>\n",
              "      <td>22.0</td>\n",
              "      <td>23.0</td>\n",
              "      <td>24.0</td>\n",
              "    </tr>\n",
              "  </tbody>\n",
              "</table>\n",
              "</div>"
            ],
            "text/plain": [
              "      0     1     2     3\n",
              "0   1.0   2.0   3.0   4.0\n",
              "1   5.0   6.0   7.0   8.0\n",
              "2   9.0  10.0  11.0  12.0\n",
              "3  13.0  14.0  15.0  16.0\n",
              "4  17.0  18.0  19.0  20.0\n",
              "5  21.0  22.0  23.0  24.0"
            ]
          },
          "execution_count": 140,
          "metadata": {},
          "output_type": "execute_result"
        }
      ],
      "source": [
        "#Usando la biblioteca Pandas\n",
        "import pandas as pd\n",
        "df = pd.DataFrame(x)\n",
        "df"
      ]
    },
    {
      "cell_type": "code",
      "execution_count": null,
      "metadata": {
        "id": "yeIoGwiwLFb2"
      },
      "outputs": [],
      "source": [
        "df.to_csv('arreglo_PD.csv')"
      ]
    },
    {
      "cell_type": "code",
      "execution_count": null,
      "metadata": {
        "id": "uYIu6pTMLFb3",
        "outputId": "55477576-a795-40b8-b455-919ecaf467f2"
      },
      "outputs": [
        {
          "data": {
            "text/html": [
              "<div>\n",
              "<style scoped>\n",
              "    .dataframe tbody tr th:only-of-type {\n",
              "        vertical-align: middle;\n",
              "    }\n",
              "\n",
              "    .dataframe tbody tr th {\n",
              "        vertical-align: top;\n",
              "    }\n",
              "\n",
              "    .dataframe thead th {\n",
              "        text-align: right;\n",
              "    }\n",
              "</style>\n",
              "<table border=\"1\" class=\"dataframe\">\n",
              "  <thead>\n",
              "    <tr style=\"text-align: right;\">\n",
              "      <th></th>\n",
              "      <th>Unnamed: 0</th>\n",
              "      <th>0</th>\n",
              "      <th>1</th>\n",
              "      <th>2</th>\n",
              "      <th>3</th>\n",
              "    </tr>\n",
              "  </thead>\n",
              "  <tbody>\n",
              "    <tr>\n",
              "      <th>0</th>\n",
              "      <td>0</td>\n",
              "      <td>1.0</td>\n",
              "      <td>2.0</td>\n",
              "      <td>3.0</td>\n",
              "      <td>4.0</td>\n",
              "    </tr>\n",
              "    <tr>\n",
              "      <th>1</th>\n",
              "      <td>1</td>\n",
              "      <td>5.0</td>\n",
              "      <td>6.0</td>\n",
              "      <td>7.0</td>\n",
              "      <td>8.0</td>\n",
              "    </tr>\n",
              "    <tr>\n",
              "      <th>2</th>\n",
              "      <td>2</td>\n",
              "      <td>9.0</td>\n",
              "      <td>10.0</td>\n",
              "      <td>11.0</td>\n",
              "      <td>12.0</td>\n",
              "    </tr>\n",
              "    <tr>\n",
              "      <th>3</th>\n",
              "      <td>3</td>\n",
              "      <td>13.0</td>\n",
              "      <td>14.0</td>\n",
              "      <td>15.0</td>\n",
              "      <td>16.0</td>\n",
              "    </tr>\n",
              "    <tr>\n",
              "      <th>4</th>\n",
              "      <td>4</td>\n",
              "      <td>17.0</td>\n",
              "      <td>18.0</td>\n",
              "      <td>19.0</td>\n",
              "      <td>20.0</td>\n",
              "    </tr>\n",
              "    <tr>\n",
              "      <th>5</th>\n",
              "      <td>5</td>\n",
              "      <td>21.0</td>\n",
              "      <td>22.0</td>\n",
              "      <td>23.0</td>\n",
              "      <td>24.0</td>\n",
              "    </tr>\n",
              "  </tbody>\n",
              "</table>\n",
              "</div>"
            ],
            "text/plain": [
              "   Unnamed: 0     0     1     2     3\n",
              "0           0   1.0   2.0   3.0   4.0\n",
              "1           1   5.0   6.0   7.0   8.0\n",
              "2           2   9.0  10.0  11.0  12.0\n",
              "3           3  13.0  14.0  15.0  16.0\n",
              "4           4  17.0  18.0  19.0  20.0\n",
              "5           5  21.0  22.0  23.0  24.0"
            ]
          },
          "execution_count": 142,
          "metadata": {},
          "output_type": "execute_result"
        }
      ],
      "source": [
        "y = pd.read_csv('arreglo_PD.csv')\n",
        "y"
      ]
    }
  ],
  "metadata": {
    "kernelspec": {
      "display_name": "Python 3 (ipykernel)",
      "language": "python",
      "name": "python3"
    },
    "language_info": {
      "codemirror_mode": {
        "name": "ipython",
        "version": 3
      },
      "file_extension": ".py",
      "mimetype": "text/x-python",
      "name": "python",
      "nbconvert_exporter": "python",
      "pygments_lexer": "ipython3",
      "version": "3.8.10"
    },
    "colab": {
      "provenance": []
    }
  },
  "nbformat": 4,
  "nbformat_minor": 0
}