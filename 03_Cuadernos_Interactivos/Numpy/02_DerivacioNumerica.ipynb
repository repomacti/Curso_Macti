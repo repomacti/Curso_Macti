{
 "cells": [
  {
   "cell_type": "markdown",
   "metadata": {
    "colab_type": "text",
    "id": "view-in-github"
   },
   "source": [
    "<a href=\"https://colab.research.google.com/github/jugernaut/MACTI-analisisnumerico/blob/main/06_DerivadaNumerica/02_DerivacioNumerica/teacher/02_DerivacioNumerica.ipynb\" target=\"_parent\"><img src=\"https://colab.research.google.com/assets/colab-badge.svg\" alt=\"Open In Colab\"/></a>"
   ]
  },
  {
   "cell_type": "markdown",
   "metadata": {
    "id": "sh8cvp-EpbXK"
   },
   "source": [
    "<font color=\"Teal\" face=\"Comic Sans MS,arial\">\n",
    "  <h1 align=\"center\"><i>Derivación Numérica</i></h1>\n",
    "  </font>\n",
    "  <font color=\"Black\" face=\"Comic Sans MS,arial\">\n",
    "  <h5 align=\"center\"><i>Profesor: M.en.C. Miguel Angel Pérez León.</i></h5>\n",
    "    <h5 align=\"center\"><i>Ayudante: Jesús Iván Coss Calderón.</i></h5>\n",
    "  <h5 align=\"center\"><i>Materia: Análisis Numérico.</i></h5>\n",
    "  </font>"
   ]
  },
  {
   "cell_type": "markdown",
   "metadata": {
    "id": "0p8AHXBvDBiU"
   },
   "source": [
    "# Introducción\n",
    "\n",
    "Recordemos como se calcula el polinomio de Lagrange con $n+1$ nodos de interpolación, ya que para la construcción de la derivada numérica es muy ilustrativo.\n",
    "\n",
    "$$P\\left(x\\right)=\\sum_{i=0}^{n}L_{i}(x)f(x_{i})$$"
   ]
  },
  {
   "cell_type": "markdown",
   "metadata": {
    "id": "ZqsqRyYsC6gm"
   },
   "source": [
    "## Construcción de la aproximación mediante Lagrange\n",
    "\n",
    "Se define la Formula de Derivación Numérica para aproximar $f'\\left(x_{*}\\right)$ sobre los nodos de interpolación $\\left\\{ x_{0},x_{1},\\ldots,x_{n}\\right\\}$ \n",
    "\n",
    "$$f'\\left(x_{*}\\right)\\approx\\sum_{i=0}^{n}C_{i}f(x_{i})$$\n",
    "\n",
    "Donde $C_{i}$ son los coeficientes o pesos de la formula. Es decir $C_{i}=L_{i}^{'}\\left(x_{*}\\right)$, con $L_{i}$ los respectivos coeficientes del polinomio de Lagrange."
   ]
  },
  {
   "cell_type": "markdown",
   "metadata": {
    "id": "HAe_HcEL8Kyh"
   },
   "source": [
    "## Definición\n",
    "\n",
    "Sea $f\\left(x\\right)$ una función derivable en $x_{*}$ y dada la formula de derivación numérica para aproximar $f'\\left(x_{*}\\right)$ sobre los nodos $\\left\\{ x_{0},x_{1},\\ldots,x_{n}\\right\\}$  donde \n",
    "\n",
    "$$f'\\left(x_{*}\\right)\\approx f_{*}^{'}=\\sum_{i=0}^{n}C_{i}f(x_{i})$$\n",
    "\n",
    "El error de truncamiento de la aproximación de la derivada para la función $f\\left(x\\right)$ en el punto $x_{*}$ esta dado por\n",
    "\n",
    "$$E_{f}\\left(x_{*}\\right)=f'\\left(x_{*}\\right)-f_{*}^{'}$$"
   ]
  },
  {
   "cell_type": "markdown",
   "metadata": {
    "id": "eZvZgiRkDLhA"
   },
   "source": [
    "## Construcción de la aproximación mediante Newton\n",
    "\n",
    "Sean los puntos $\\left\\{ x_{0},x_{1}\\right\\}$ , el polinomio interpolador de Newton de $f\\left(x\\right)$ esta dado por \n",
    "\n",
    "$$f\\left(x\\right)\\approx P_{1}\\left(x\\right)=f\\left(x_{0}\\right)+\\frac{f\\left(x_{1}\\right)-f\\left(x_{0}\\right)}{x_{1}-x_{0}}\\left(x-x_{0}\\right)=f\\left(x_{0}\\right)+\\frac{x\\left(f\\left(x_{1}\\right)-f\\left(x_{0}\\right)\\right)}{x_{1}-x_{0}}-\\frac{x_{0}\\left(f\\left(x_{1}\\right)-f\\left(x_{0}\\right)\\right)}{x_{1}-x_{0}}$$\n",
    "\n",
    "Dado que ya calculamos $P_{1}\\left(x\\right)$ basta encontrar una aproximación de $f'\\left(x_{*}\\right)$ mediante la formula de derivación numérica\n",
    "\n",
    "$$f'\\left(x_{0}\\right)\\approx P_{1}^{'}\\left(x_{0}\\right)=\\frac{f\\left(x_{1}\\right)-f\\left(x_{0}\\right)}{x_{1}-x_{0}} \\tag{1}$$\n",
    "\n",
    "Si definimos $h=x_{1}-x_{0}$ y substituimos en (1) \n",
    "\n",
    "$$f'\\left(x_{0}\\right)\\approx P_{1}^{'}\\left(x_{0}\\right)=\\frac{f\\left(x_{0}+h\\right)-f\\left(x_{0}\\right)}{h} \\tag{2}$$\n",
    "\n",
    "A la ecuación (2) se le conoce como **diferencia hacia adelante**, ya que toma $x_{0}$ y el siguiente punto $x_{1}$ para aproximar la derivada. \n",
    "\n",
    "Por otro lado si se toman los puntos $x_{0}$ y su antecesor, la ecuación (1) se transforma en \n",
    "\n",
    "$$f'\\left(x_{0}\\right)\\approx P_{1}^{'}\\left(x_{0}\\right)=\\frac{f\\left(x_{0}\\right)-f\\left(x_{0}-h\\right)}{h} \\tag{3}$$\n",
    "\n",
    "A la ecuación (3) se le conoce como **diferencia hacia atrás**, ya que toma $x_{0}$ y el punto anterior para aproximar la derivada. \n",
    "\n",
    "Estas 2 formas de calcular la 1er. derivada en un punto empleando el polinomio de Newton son útiles, pero aun hace falta tener más precisión en los cálculos. "
   ]
  },
  {
   "cell_type": "markdown",
   "metadata": {
    "id": "0SCDQqM5BQR7"
   },
   "source": [
    "\n",
    "## Construcción de la aproximación mediante Taylor\n",
    "\n",
    "Recordando la expansión en series de Taylor alrededor del punto $x_{i}$, con $x_{i+1}=x_i+h$ tenemos\n",
    "\n",
    "$$f\\left(x_{i+1}\\right)=f\\left(x_{i}\\right)+f'\\left(x_{i}\\right)(x_{i+1}-x_{i})+\\frac{f''\\left(x_{i}\\right)(x_{i+1}-x_{i})^{2}}{2!}+\\cdots$$"
   ]
  },
  {
   "cell_type": "markdown",
   "metadata": {
    "id": "3Igeqdcgpur0"
   },
   "source": [
    "### Diferencias hacia adelante\n",
    "\n",
    "Como $h=x_{i+1}-x_{i}$ y usando los 2 primeros términos de la serie, se tiene\n",
    "\n",
    "$$f\\left(x_{i+1}\\right)=f\\left(x_i\\right)+hf'\\left(x_i\\right)+\\frac{h^{2}}{2}f''\\left(x_i\\right) \\tag{4}$$\n",
    "\n",
    "Al despejar $f'\\left(x\\right)$ \n",
    "\n",
    "$$hf'\\left(x_i\\right)=f\\left(x_{i+1}\\right)-f\\left(x_i\\right)-\\frac{h^{2}}{2}f''\\left(x_i\\right)$$\n",
    "$$\\Longrightarrow f'\\left(x_i\\right)=\\frac{f(x_{i+1})-f(x_i)}{h}-\\frac{h}{2}f''\\left(x_i\\right)$$\n",
    "\n",
    "Como el último termino de la ecuación anterior es proporcional a $h$, el error es del orden de $h$ \n",
    "\n",
    "$$\\therefore f'\\left(x_{i}\\right)=\\frac{f\\left(x_{i+1}\\right)-f\\left(x_{i}\\right)}{h}+O\\left(h\\right) \\tag{5}$$\n",
    "\n",
    "La ecuación (5) es otra forma de construir la **diferencias finitas hacia adelante**."
   ]
  },
  {
   "cell_type": "markdown",
   "metadata": {
    "id": "KSzLfxB8p1AU"
   },
   "source": [
    "### Diferencias hacia atrás\n",
    "\n",
    "Por otro lado, podemos aproximar la derivada empleando un punto hacia atrás, mediante el siguiente desarollo.\n",
    "\n",
    "$$f\\left(x_{i-1}\\right)=f\\left(x_i\\right)-hf'\\left(x_i\\right)+\\frac{h^{2}}{2}f''\\left(x_i\\right) \\tag{6}$$\n",
    "\n",
    "$$f'\\left(x_{i}\\right)=\\frac{f\\left(x_{i}\\right)-f\\left(x_{i-1}\\right)}{h}+O\\left(h\\right) \\tag{7}$$\n",
    "\n",
    "A la ecuación (7) se le conoce como **diferencias finitas hacia atrás**."
   ]
  },
  {
   "cell_type": "markdown",
   "metadata": {
    "id": "FVpz0EcBqAEt"
   },
   "source": [
    "### Diferencias centradas\n",
    "\n",
    "Ahora, si tomamos los primeros 4 terminos de las ecuaciones (4) y (6) y los restamos, tenemos que.\n",
    "\n",
    "$$f\\left(x_{i+1}\\right)=f\\left(x_i\\right)+hf'\\left(x_i\\right)+\\frac{h^{2}}{2}f''\\left(x_i\\right) \\tag{4}$$\n",
    "\n",
    "$$f\\left(x_{i-1}\\right)=f\\left(x_i\\right)-hf'\\left(x_i\\right)+\\frac{h^{2}}{2}f''\\left(x_i\\right) \\tag{6}$$\n",
    "\n",
    "$$f\\left(x_{i+1}\\right)-f\\left(x_{i-1}\\right)=f(x_i)+hf'(x_i)+\\frac{h^{2}}{2}f''(x_i)+\\frac{h^{3}}{6}f'''(x_i)-f(x_i)+hf'(x_i)-\\frac{h^{2}}{2}f''(x_i)+\\frac{h^{3}}{6}f'''(x_i)$$\n",
    "\n",
    "$$ \\Longrightarrow f(x+h)-f(x-h)=2hf'(x)+2\\frac{h^{3}}{6}f'''(x)$$\n",
    "\n",
    "Al despejar $f'(x)$, tenemos que.\n",
    "\n",
    "$$2hf'(x)=f(x+h)-f(x-h)-2\\frac{h^{3}}{6}f'''(x)$$\n",
    "\n",
    "$$f'(x)=\\frac{f(x+h)-f(x-h)-2\\frac{h^{3}}{6}f'''(x)}{2h}$$\n",
    "\n",
    "$$f'\\left(x\\right)=\\frac{f(x_{i+h})-f(x)}{h}-\\frac{h}{2}f''\\left(x\\right)$$\n",
    "\n",
    "$$\\therefore f'\\left(x_{i}\\right)=\\frac{f\\left(x_{i+1}\\right)-f\\left(x_{i-1}\\right)}{2h}+O\\left(h^{2}\\right)$$"
   ]
  },
  {
   "cell_type": "markdown",
   "metadata": {
    "id": "c4o_2eg8Dcgp"
   },
   "source": [
    "### Ejemplo\n",
    "\n",
    "Sea la función $f(x)=\\ln x$ y $x_{0}=1.8$ aproxime la derivada de $f\\left(x_{0}\\right)$\n",
    "\n",
    "**Solución**: \n",
    "\n",
    "Empleando la diferencia hacia adelante.\n",
    "\n",
    "$$\\frac{f\\left(1.8+h\\right)-f\\left(1.8\\right)}{h}$$\n",
    "\n",
    "Esta definición, nos ayuda a aproximar $f'\\left(1.8\\right)$, los resultados de la siguiente tabla se dan con distintos tamaños de paso $h$.\n",
    "\n",
    "| h| $f\\left(1.8+h\\right)$ |  $\\frac{f\\left(1.8+h\\right)-f\\left(1.8\\right)}{h}$| error|\n",
    "| :-:  | :-: | :-: |  :-: | \n",
    "| 0.1  | 0.64185389\t|0.540672200000\t|0.0154321|\n",
    "| 0.01 | 0.59332685\t|0.55401800000\t|0.0015432|\n",
    "| 0.001\t|0.58834207\t|0.55540130000\t|0.0001543|"
   ]
  },
  {
   "cell_type": "markdown",
   "metadata": {
    "id": "AnORDSqVpbXV"
   },
   "source": [
    "# Diferencias Finitas\n",
    "\n",
    "Como se dijo desde el principio del curso, la idea del mismo es, que uds. como estudiantes tengan la capacidad de abstracción para poder modelar algún fenómeno de su interés y con base en este modelo, encontrar una solución numérica al mismo.\n",
    "\n",
    "Dicha solución numérica, representa la solución al problema que inicialmente se quería analizar y mediante esta solución se pueden tomar decisiones.\n",
    "\n",
    "Estos modelos matemáticos en ciencia e ingeniería generalmente toman la forma de ecuaciones diferenciales.\n",
    "\n",
    "Algunos de estos modelos se muestran a continuación.\n",
    "\n",
    "<img src=\"https://github.com/jugernaut/Numerico2021/blob/desarrollo/Figuras/derivacion/yacimiento.PNG?raw=1\" width=\"300\">\n",
    "\n",
    "$$\\frac{\\delta}{\\delta t}\\left(\\frac{\\Phi S_{w}}{B_{w}}\\right)=\\nabla\\cdot\\left(T_{w}\\left[\\nabla p_{w}-\\rho_{w}\\vec{g}\\right]\\right)+\\frac{qWs}{B_{w}}$$\n",
    "\n",
    "$$\\frac{\\delta}{\\delta t}\\left(\\frac{\\Phi S_{o}}{B_{o}}\\right)=\\nabla\\cdot\\left(T_{o}\\left[\\nabla p_{o}-\\rho_{o}\\vec{g}\\right]\\right)+\\frac{qOs}{B_{o}}$$\n",
    "\n",
    "<img src=\"https://github.com/jugernaut/Numerico2021/blob/desarrollo/Figuras/derivacion/dinamica.PNG?raw=1\" width=\"300\">\n",
    "\n",
    "$$\\frac{\\delta\\rho}{\\delta t}+\\frac{\\delta}{\\delta x_{j}}\\left[\\rho u_{j}\\right]=0$$\n",
    "\n",
    "$$\\frac{\\delta}{\\delta t}\\left(\\rho u_{i}\\right)+\\frac{\\delta}{\\delta x_{j}}\\left[\\rho u_{i}u_{j}+p\\delta_{ij}-\\tau_{ji}\\right]=0,\\quad i=1,2,3$$\n",
    "\n",
    "<img src=\"https://github.com/jugernaut/Numerico2021/blob/desarrollo/Figuras/derivacion/estru.PNG?raw=1\" width=\"300\">\n",
    "\n",
    "$$\\nabla\\cdot\\sigma+F=\\rho\\frac{\\delta^{2}u}{\\delta t^{2}}$$\n",
    "\n",
    "$$\\varepsilon=\\frac{1}{2}\\left[\\nabla u+\\left(\\nabla u\\right)\\right]$$\n",
    "\n",
    "$$\\sigma=C:\\varepsilon$$\n",
    "\n",
    "\n",
    "<img src=\"https://github.com/jugernaut/Numerico2021/blob/desarrollo/Figuras/derivacion/equi.PNG?raw=1\" width=\"300\">\n",
    "\n",
    "$$\\delta x=\\delta B-5x\\,\\delta t$$\n",
    "\n"
   ]
  },
  {
   "cell_type": "markdown",
   "metadata": {
    "id": "8-fpqcs7D4Yh"
   },
   "source": [
    "## Motivación\n",
    "\n",
    "En la mayoría de los modelos solo existen soluciones analíticas para casos sencillos.\n",
    "\n",
    "Pero el creciente poder de computo ha hecho posible que estos y otros modelos tengan una solución numérica y que puedan ser analizados mas a detalle.\n",
    "\n",
    "<img src=\"https://github.com/jugernaut/Numerico2021/blob/desarrollo/Figuras/derivacion/comp.PNG?raw=1\" width=\"600\">\n",
    "\n",
    "### Idea Básica.\n",
    "\n",
    "\n",
    "<img src=\"https://github.com/jugernaut/Numerico2021/blob/desarrollo/Figuras/derivacion/disc.PNG?raw=1\" width=\"600\">\n",
    "\n"
   ]
  },
  {
   "cell_type": "markdown",
   "metadata": {
    "id": "L0FuAMpYEChy"
   },
   "source": [
    "\n",
    "## Método de Diferencias Finitas\n",
    "\n",
    "Definición de derivada\n",
    "\n",
    "$$f'\\left(x\\right)=\\lim_{\\triangle x\\rightarrow0}\\frac{f\\left(x+\\triangle x\\right)-f\\left(x\\right)}{\\triangle x}$$\n",
    "\n",
    "Ya se mostró que de esta def. se deriva la formula para aproximar la primera derivada\n",
    "\n",
    "$$f'\\left(x\\right)\\approx\\frac{f\\left(x+\\triangle x\\right)-f\\left(x\\right)}{\\triangle x}$$\n",
    "\n",
    "Y también se pueden encontrar otras expresiones\n",
    "\n",
    "$$f'\\left(x\\right)\\approx\\frac{f\\left(x\\right)-f\\left(x-\\triangle x\\right)}{\\triangle x}\\quad f'\\left(x\\right)\\approx\\frac{f\\left(x+\\triangle x\\right)-f\\left(x-\\triangle x\\right)}{2\\triangle x}$$\n",
    "\n",
    "Segunda derivada (Diferencias Finitas Centradas)\n",
    "\n",
    "$$f''\\left(x\\right)\\approx\\frac{f\\left(x+2\\triangle x\\right)-2\\triangle f\\left(x\\right)+f\\left(x-2\\triangle x\\right)}{4\\triangle x^{2}}$$\n",
    "\n",
    "Funciones de múltiples variables\n",
    "\n",
    "<img src=\"https://github.com/jugernaut/Numerico2021/blob/desarrollo/Figuras/derivacion/ecuaciones.PNG?raw=1\" width=\"600\">"
   ]
  },
  {
   "cell_type": "markdown",
   "metadata": {
    "id": "uF6lQ5bWGJjA"
   },
   "source": [
    "### Ejemplo\n",
    "\n",
    "Aproximar la solución del problema:\n",
    "\n",
    "$$\\frac{\\delta y}{\\delta t}\\left(t\\right)=ay\\left(t\\right)\\quad y\\left(0\\right)=b\\quad t>0$$\n",
    "\n",
    "Donde a y b son constantes. Solución analítica $y\\left(t\\right)=be^{at}$\n",
    "\n",
    "<img src=\"https://github.com/jugernaut/Numerico2021/blob/desarrollo/Figuras/derivacion/dominio.PNG?raw=1\" width=\"600\">\n",
    "\n",
    "Aplicando diferencias finitas a la ecuación diferencial en $t_{i}$:\n",
    "\n",
    "$$\\frac{y\\left(t_{i}+\\triangle t\\right)-y\\left(t_{i}\\right)}{\\triangle t}=ay\\left(t_{i}\\right)$$\n",
    "\n",
    "Con la notación: $y\\left(t_{i}\\right)=y_{i},\\,y\\left(t_{i}+\\triangle t\\right)=y_{i+1}$\n",
    "\n",
    "$$\\frac{y_{i+1}-y_{i}}{\\triangle t}=ay_{i}$$\n",
    "\n",
    "Despejando $y_{i+1}$: \n",
    "\n",
    "$$y_{i+1}=y_{i}\\left(a\\triangle t+1\\right)$$\n",
    "\n",
    "¡Con esta expresión podemos **aproximar la solución**!\n"
   ]
  },
  {
   "cell_type": "code",
   "execution_count": 1,
   "metadata": {
    "colab": {
     "base_uri": "https://localhost:8080/",
     "height": 386
    },
    "id": "cv-ZQUn5MRog",
    "outputId": "ab4cb53f-20bd-42e8-b9c6-8485f67dd067"
   },
   "outputs": [
    {
     "name": "stdout",
     "output_type": "stream",
     "text": [
      "Cloning into 'Numerico2021'...\n",
      "remote: Enumerating objects: 3708, done.\u001b[K\n",
      "remote: Counting objects: 100% (231/231), done.\u001b[K\n",
      "remote: Compressing objects: 100% (178/178), done.\u001b[K\n",
      "remote: Total 3708 (delta 100), reused 131 (delta 50), pack-reused 3477\u001b[K\n",
      "Receiving objects: 100% (3708/3708), 47.09 MiB | 33.05 MiB/s, done.\n",
      "Resolving deltas: 100% (2240/2240), done.\n"
     ]
    },
    {
     "data": {
      "image/png": "[encoded data removed]",
      "text/plain": [
       "<Figure size 1000x500 with 1 Axes>"
      ]
     },
     "metadata": {},
     "output_type": "display_data"
    }
   ],
   "source": [
    "# bibliotecas\n",
    "!git clone https://github.com/jugernaut/Numerico2021.git\n",
    "import numpy as np\n",
    "import Numerico2021.Utils.gutils as vis\n",
    "\n",
    "# solucion analitica\n",
    "def f(t,a,b):\n",
    "    return b*(np.e)**(a*t)\n",
    "\n",
    "# funcion que aproxima la solucion\n",
    "def diferenciasFinitas(a, b, N, xmax):\n",
    "    # discretizacion del problema\n",
    "    x = np.linspace(0,xmax,N+1)\n",
    "    # solucion analitica\n",
    "    yanalitica = f(x, a, b)\n",
    "    # calculo de la delta\n",
    "    delta = float(xmax)/N\n",
    "    # discretizacion \n",
    "    yaprox = np.zeros([N+1])\n",
    "    # condicion inicial\n",
    "    yaprox[0] = b\n",
    "    for i in range(N):\n",
    "        yaprox[i+1] = yaprox[i]*(a*delta+1)\n",
    "    return x,yanalitica,yaprox\n",
    "\n",
    "# graficas\n",
    "par = [{'title':'Real v.s. Aprox.', \n",
    "        'xlabel':'$t$',\n",
    "        'ylabel':'$y$'}]\n",
    "\n",
    "graf = vis.planoCartesiano(par=par)\n",
    "\n",
    "# solucion aproximada\n",
    "x, yanalitica, yaprox = diferenciasFinitas(-0.5, 50, 10, 10)\n",
    "\n",
    "#se generan las graficas\n",
    "graf.plot(x=x, y=yaprox, par={'ls':'-', 'lw':1, 'color':'blue', 'label':'Aproximacion'})\n",
    "graf.plot(x=x, y=yanalitica, par={'ls':'-', 'lw':1, 'color':'red', 'label':'Analitica'})\n",
    "graf.legend()"
   ]
  },
  {
   "cell_type": "markdown",
   "metadata": {
    "id": "1G_2-yv1EPPV"
   },
   "source": [
    "## Esquema Explícito del método de Diferencias Finitas\n",
    "\n",
    "Aproximar la solución del problema:\n",
    "\n",
    "$$\\frac{\\delta T}{\\delta t}=K\\frac{\\delta^{2}T}{\\delta x^{2}}\\quad0\\leq x\\leq x_{max}\\quad t\\geq0 \\tag 1$$\n",
    "\n",
    "$$T\\left(x,0\\right)=a,\\quad T\\left(0,t\\right)=b,\\quad T\\left(x_{max},t\\right)=c$$\n",
    "\n",
    "Donde $K,a,b$ y $c$ son constantes, a la ecuación (1) se le conoce como la **ecuación de calor**.\n",
    "\n",
    "$$Discretizaci\\acute{o}n:\\begin{cases}\n",
    "Espacial & \\triangle x=\\frac{x_{max}}{N_{x}},\\quad x_{i}=i\\triangle x,\\quad i=0,\\ldots,N_{x}\\\\\n",
    "Temporal & t^{n}=n\\triangle t\\quad n=0,\\ldots,N_{t}\n",
    "\\end{cases}$$\n",
    "\n",
    "Aplicando diferencias finitas centrales en el espacio y hacia adelante en el tiempo:\n",
    "\n",
    "$$\\frac{T\\left(x_{i},t^{n}+\\nabla t\\right)-T\\left(x_{i},t^{n}\\right)}{\\triangle t}=K\\frac{T\\left(x_{i+1},t^{n}\\right)-2T\\left(x,t^{n}\\right)+T\\left(x_{i-1},t^{n}\\right)}{\\triangle x^{2}}$$\n",
    "\n",
    "<img src=\"https://github.com/jugernaut/Numerico2021/blob/desarrollo/Figuras/derivacion/esq2.PNG?raw=1\" width=\"600\">\n",
    "\n",
    "\n",
    "Usando la notación $T\\left(x_{i},t^{n}\\right)=T_{i}^{n}$\n",
    "\n",
    "$$\\frac{T_{i}^{n+1}-T_{i}^{n}}{\\triangle t}=K\\frac{T_{i+1}^{n}-2T_{i}^{n}+T_{i-1}^{n}}{\\triangle x^{2}}$$\n",
    "\n",
    "Despejando $T_{i}^{n+1}$\n",
    "\n",
    "$$T_{i}^{n+1}=T_{i}^{n}+\\frac{\\triangle tK}{\\triangle x^{2}}\\left(T_{i+1}^{n}-2T_{i}^{n}+T_{i-1}^{n}\\right)$$\n",
    "\n",
    "$\\color{blue}{Esquema \\hspace{1mm}Explícito}$: La solución al tiempo $n+1$ solo depende de la solución al tiempo $n$.\n",
    "\n",
    "Dado que ya sabemos que la solución en el tiempo n+1 esta dada por\n",
    "\n",
    "$$T_{i}^{n+1}=T_{i}^{n}+\\frac{\\triangle tK}{\\triangle x^{2}}\\left(T_{i+1}^{n}-2T_{i}^{n}+T_{i-1}^{n}\\right)$$\n",
    "\n",
    "Tiempo 0 (condiciones iniciales): $T_{i}^{0}$\n",
    "\n",
    "$$T_{i}^{0}=a\\quad i=0,\\ldots,N_{x}$$\n",
    "\n",
    "Tiempo 1: $T_{i}^{1}\\quad n=0$\n",
    "\n",
    "$$T_{i}^{1}=T_{i}^{0}+\\frac{\\triangle tK}{\\triangle x^{2}}\\left(T_{i+1}^{0}-2T_{i}^{0}+T_{i-1}^{0}\\right)$$\n",
    "\n",
    "Tiempo 1: $T_{i}^{2}\\quad n=1$\n",
    "\n",
    "$$T_{i}^{2}=T_{i}^{1}+\\frac{\\triangle tK}{\\triangle x^{2}}\\left(T_{i+1}^{1}-T_{i}^{1}+T_{i-1}^{1}\\right)$$\n",
    "\n",
    "$$ \\vdots $$\n",
    "\n",
    "¿Y que sucede con las condiciones de frontera?\n",
    "\n",
    "$$T_{i}^{n+1}=T_{i}^{n}+\\frac{\\triangle tK}{\\triangle x^{2}}\\left(T_{i+1}^{n}-2T_{i}^{n}+T_{i-1}^{n}\\right)$$\n",
    "\n",
    "Se conoce la solución en los puntos $x_{0}=b,\\quad x_{N_{x}}=c$\n",
    "\n",
    "Tiempo 0 (condiciones iniciales): $T_{i}^{0}$\n",
    "\n",
    "$$T_{0}^{0}=b\\quad T_{i}^{0}=a\\quad i=0,\\ldots,N_{x}-1\\quad T_{N_{x}}^{0}=c$$\n",
    "\n",
    "Tiempo 1: $T_{i}^{1}\\quad n=0$\n",
    "\n",
    "$$T_{0}^{1}=b,\\quad T_{i}^{1}=T_{i}^{0}+\\frac{\\triangle tK}{\\triangle x^{2}}\\left(T_{i+1}^{0}-2T_{i}^{0}+T_{i-1}^{0}\\right)\\,i=0,\\ldots,N_{x}-1\\quad T_{N_{x}}^{1}=c$$\n",
    "\n",
    "$$ \\vdots $$\n",
    "\n",
    "<img src=\"https://github.com/jugernaut/Numerico2021/blob/desarrollo/Figuras/derivacion/dif.PNG?raw=1\" width=\"600\">\n"
   ]
  },
  {
   "cell_type": "markdown",
   "metadata": {
    "id": "kI097NPkEe_l"
   },
   "source": [
    "### Resultados del esquema explícito\n",
    "\n",
    "Tiempo cero.\n",
    "\n",
    "<img src=\"https://github.com/jugernaut/Numerico2021/blob/desarrollo/Figuras/derivacion/tiempocero.PNG?raw=1\" width=\"600\">\n",
    "\n",
    "Tiempo uno.\n",
    "\n",
    "<img src=\"https://github.com/jugernaut/Numerico2021/blob/desarrollo/Figuras/derivacion/tiempouno.PNG?raw=1\" width=\"600\">\n",
    "\n",
    "Tiempo 10.\n",
    "\n",
    "<img src=\"https://github.com/jugernaut/Numerico2021/blob/desarrollo/Figuras/derivacion/tiempo10.png?raw=1\" width=\"600\">\n",
    "\n",
    "Tiempo 30.\n",
    "\n",
    "<img src=\"https://github.com/jugernaut/Numerico2021/blob/desarrollo/Figuras/derivacion/tiempo30.png?raw=1\" width=\"600\">\n",
    "\n",
    "Tiempo 50.\n",
    "\n",
    "<img src=\"https://github.com/jugernaut/Numerico2021/blob/desarrollo/Figuras/derivacion/tiempo50.png?raw=1\" width=\"600\">\n",
    "\n",
    "Tiempo 70.\n",
    "\n",
    "<img src=\"https://github.com/jugernaut/Numerico2021/blob/desarrollo/Figuras/derivacion/tiempo70.png?raw=1\" width=\"600\">\n",
    "\n",
    "Tiempo 90.\n",
    "\n",
    "<img src=\"https://github.com/jugernaut/Numerico2021/blob/desarrollo/Figuras/derivacion/tiempo90.png?raw=1\" width=\"600\">\n",
    "\n",
    "Tiempo 100.\n",
    "\n",
    "<img src=\"https://github.com/jugernaut/Numerico2021/blob/desarrollo/Figuras/derivacion/tiempo100.png?raw=1\" width=\"600\">\n",
    "\n",
    "<img src=\"https://github.com/jugernaut/Numerico2021/blob/desarrollo/Figuras/derivacion/DiFini1D.gif?raw=1\" width=\"600\">\n",
    "\n",
    "Sobre el eje $x$, se tiene los puntos sobre la barra que se quiere simular, sobre el eje $y$, la temperatura que alcanza cada uno de estos puntos. Estos resultados se obtuvieron con los siguientes parámetros:\n",
    "\n",
    "* $K=e^{-2}$\n",
    "\n",
    "* $a=323$\n",
    "\n",
    "* $b=273$\n",
    "\n",
    "* $c=373$\n",
    "\n",
    "* $N_{x}=25$\n",
    "\n",
    "* $\\triangle t=0.001$\n",
    "\n",
    "* $N_{t}=100$\n",
    "\n",
    "* $xmax=0.5$\n",
    "\n",
    "¿Que sucede si se incrementa el paso de tiempo, digamos a 0.01?.\n",
    "\n",
    "<img src=\"https://github.com/jugernaut/Numerico2021/blob/desarrollo/Figuras/derivacion/paso_0_01.png?raw=1\" width=\"600\">\n",
    "\n",
    "Se puede mostrar que este algoritmo es inestable siempre que\n",
    "\n",
    "$$K\\frac{\\triangle t}{\\triangle x^{2}}>0.5$$\n",
    "\n",
    "Por lo que el pseudocódigo puede ser modificado, para agregar una sentencia en la cual para poder realizar el proceso de diferencias finitas mediante el esquema explícito, sea necesario que\n",
    "\n",
    "$$K\\frac{\\triangle t}{\\triangle x^{2}}\\leq0.5$$\n",
    "\n",
    "Es decir,\n",
    "\n",
    "<img src=\"https://github.com/jugernaut/Numerico2021/blob/desarrollo/Figuras/derivacion/calor1D.PNG?raw=1\" width=\"600\">\n",
    "\n"
   ]
  },
  {
   "cell_type": "markdown",
   "metadata": {
    "id": "zEp8uAQKEuVR"
   },
   "source": [
    "## Esquema Implícito del método de Diferencias Finitas\n",
    "\n",
    "Aproximar la solución del problema:\n",
    "\n",
    "$$\\frac{\\delta T}{\\delta t}=K\\frac{\\delta^{2}T}{\\delta x^{2}}\\quad0\\leq x\\leq x_{max}\\quad t\\geq0$$\n",
    "\n",
    "$$T\\left(x,0\\right)=a,\\quad T\\left(0,t\\right)=b,\\quad T\\left(x_{max},t\\right)=c$$\n",
    "\n",
    "Donde K,a,b y c son constantes\n",
    "\n",
    "$$Discretizaci\\acute{o}n:\\begin{cases}\n",
    "Espacial & \\triangle x=\\frac{x_{max}}{N_{x}},\\quad x_{i}=i\\triangle x,\\quad i=0,\\ldots,N_{x}\\\\\n",
    "Temporal & t^{n}=n\\triangle t\\quad n=0,\\ldots,N_{t}\n",
    "\\end{cases}$$\n",
    "\n",
    "Aplicando diferencias finitas centrales en el espacio y hacia atrás en el tiempo:\n",
    "\n",
    "$$\\frac{T\\left(x_{i},t^{n}\\right)-T\\left(x_{i},t^{n}-\\triangle t\\right)}{\\triangle t}=K\\frac{T\\left(x_{i+1},t^{n}\\right)-2T\\left(x,t^{n}\\right)+T\\left(x_{i-1},t^{n}\\right)}{\\triangle x^{2}}$$\n",
    "\n",
    "<img src=\"https://github.com/jugernaut/Numerico2021/blob/desarrollo/Figuras/derivacion/expli.PNG?raw=1\" width=\"600\">\n",
    "\n",
    "Usando la notación $T\\left(x_{i},t^{n}\\right)=T_{i}^{n}$\n",
    "\n",
    "$$\\frac{T_{i}^{n}-T_{i}^{n-1}}{\\triangle t}=K\\frac{T_{i+1}^{n}-2T_{i}^{n}+T_{i-1}^{n}}{\\triangle x^{2}}$$\n",
    "\n",
    "Pasando del lado izquierdo de la igualdad los términos en el tiempo n\n",
    "\n",
    "$$-T_{i-1}^{n}+\\left(\\frac{\\triangle x^{2}}{K\\triangle t}+2\\right)T_{i}^{n}-T_{i+1}^{n}=\\frac{\\triangle x^{2}}{K\\triangle t}T_{i}^{n-1}$$\n",
    "\n",
    "$\\color{blue}{Esquema\\hspace{1mm} Implícito}$: La solución al tiempo $n$ solo depende de la solución al tiempo $n$ y $n-1$.\n",
    "\n",
    "Esta ecuación en realidad representa un sistema lineal para encontrar $T$ al tiempo $n$.\n",
    "\n",
    "$$-T_{i-1}^{n}+\\left(\\frac{\\triangle x^{2}}{K\\triangle t}+2\\right)T_{i}^{n}-T_{i+1}^{n}=\\frac{\\triangle x^{2}}{K\\triangle t}T_{i}^{n-1}$$\n",
    "\n",
    "$$dT_{1}^{n}-T_{2}^{n}=rT_{1}^{n-1}+b$$\n",
    "\n",
    "$$-T_{1}^{n}+dT_{2}^{n}-T_{3}^{n}=rT_{2}^{n-1}$$\n",
    "\n",
    "$$-T_{2}^{n}+dT_{3}^{n}-T_{4}^{n}=rT_{3}^{n-1}$$\n",
    "\n",
    "$$\\vdots$$\n",
    "\n",
    "$$-T_{N_{x}-3}^{n}+dT_{N_{x}-2}^{n}-T_{N_{x}-1}^{n}=rT_{N_{x}-2}^{n-1}$$\n",
    "\n",
    "$$-T_{N_{x}-2}^{n}+dT_{N_{x}-1}^{n}=rT_{N_{x}-1}^{n-1}+c$$\n",
    "\n",
    "Es decir, este sistema es parecido al que se construye para encontrar los coeficientes de la interpolación mediante Splines Cúbicos.\n",
    "\n",
    "$$\\left(\\begin{array}{ccccccc}\n",
    "d & -1 & 0 & 0 & 0 & 0 & 0\\\\\n",
    "-1 & d & -1 & \\ddots &  &  & \\vdots\\\\\n",
    "0 & -1 & d & -1 & \\ddots &  & \\vdots\\\\\n",
    "0 &  & \\ddots & \\cdots &  & \\ddots & 0\\\\\n",
    "0 &  &  & \\ddots & -1 & d & -1\\\\\n",
    "0 & \\cdots & \\cdots & \\cdots & \\cdots & -1 & d\n",
    "\\end{array}\\right)\\left(\\begin{array}{c}\n",
    "T_{1}^{n}\\\\\n",
    "T_{2}^{n}\\\\\n",
    "\\vdots\\\\\n",
    "T_{N_{x}-1}^{n}\n",
    "\\end{array}\\right)=\\left(\\begin{array}{c}\n",
    "rT_{1}^{n-1}+b\\\\\n",
    "rT_{2}^{n-1}\\\\\n",
    "\\vdots\\\\\n",
    "rT_{N_{x}}^{n-1}+c\n",
    "\\end{array}\\right)$$\n",
    "\n",
    "$$r=\\frac{\\triangle x^{2}}{K\\triangle t},\\quad d=r+2$$\n",
    "\n"
   ]
  },
  {
   "cell_type": "markdown",
   "metadata": {
    "id": "UyDTa0xTE4_v"
   },
   "source": [
    "### Resultados del esquema implícito\n",
    "\n",
    "Tiempo cero.\n",
    "\n",
    "<img src=\"https://github.com/jugernaut/Numerico2021/blob/desarrollo/Figuras/derivacion/tiempocero.PNG?raw=1\" width=\"600\">\n",
    "\n",
    "Tiempo uno.\n",
    "\n",
    "<img src=\"https://github.com/jugernaut/Numerico2021/blob/desarrollo/Figuras/derivacion/tiempouno.PNG?raw=1\" width=\"600\">\n",
    "\n",
    "Tiempo dos.\n",
    "\n",
    "<img src=\"https://github.com/jugernaut/Numerico2021/blob/desarrollo/Figuras/derivacion/tiempodos.PNG?raw=1\" width=\"600\">\n",
    "\n",
    "Tiempo tres.\n",
    "\n",
    "<img src=\"https://github.com/jugernaut/Numerico2021/blob/desarrollo/Figuras/derivacion/tiempotres.PNG?raw=1\" width=\"600\">\n",
    "\n",
    "<img src=\"https://github.com/jugernaut/Numerico2021/blob/desarrollo/Figuras/derivacion/DiFiniImp.gif?raw=1\" width=\"600\">\n",
    "\n",
    "Estos resultados se obtuvieron con los mismos parámetros del esquema explícito, excepto el paso de tiempo:\n",
    "\n",
    "* $K=e^{-2}$\n",
    "\n",
    "* $a=323$\n",
    "\n",
    "* $b=273$\n",
    "\n",
    "* $c=373$\n",
    "\n",
    "* $N_{x}=25$\n",
    "\n",
    "* $\\triangle t=1$\n",
    "\n",
    "* $N_{t}=100$\n",
    "\n",
    "* $x_{max}=0.5$\n",
    "\n",
    "Es evidente que con un paso mayor de tiempo, se puede obtener una simulación mas amplia con menos cálculos.\n",
    "\n",
    "<img src=\"https://github.com/jugernaut/Numerico2021/blob/desarrollo/Figuras/derivacion/EvsI.PNG?raw=1\" width=\"600\">\n",
    "\n",
    "\n"
   ]
  },
  {
   "cell_type": "markdown",
   "metadata": {
    "id": "BXTIqxQPFEKc"
   },
   "source": [
    "## Ecuación de Calor 2D\n",
    "\n",
    "<img src=\"https://github.com/jugernaut/Numerico2021/blob/desarrollo/Figuras/derivacion/calor2D.PNG?raw=1\" width=\"600\">\n",
    "\n",
    "<img src=\"https://github.com/jugernaut/Numerico2021/blob/desarrollo/Figuras/derivacion/DiFini2D.gif?raw=1\" width=\"600\">"
   ]
  },
  {
   "cell_type": "markdown",
   "metadata": {
    "id": "FvLgz3HKqrkk"
   },
   "source": [
    "# Simulación Interactiva\n",
    "\n",
    "En la siguiente celda puedes ver una simulación interactiva del método de diferencias finitas."
   ]
  },
  {
   "cell_type": "code",
   "execution_count": 6,
   "metadata": {
    "colab": {
     "base_uri": "https://localhost:8080/",
     "height": 555,
     "referenced_widgets": [
      "2b44100e88654f2eb81cc91185934fd0",
      "b8547a1b24d84400aff04b1fbf53608d",
      "82066abaed3e42f8b42fb2b5eeb4a4f5",
      "1e845b91b18849648907b850fa7d345e",
      "8db741cbba70453e85389177828591c0",
      "6d0c08df7e264f2a9cd47d09a8d35ea4",
      "04de27eb9a3c4f53bb11b2a0a4d1bb58"
     ]
    },
    "id": "xnccTncyq1OC",
    "outputId": "d3406d08-275a-4797-fc50-2aa0ec2317c2"
   },
   "outputs": [
    {
     "name": "stdout",
     "output_type": "stream",
     "text": [
      "Tiempo de ejecución: 0.005072116851806641\n"
     ]
    },
    {
     "data": {
      "application/vnd.jupyter.widget-view+json": {
       "model_id": "f30bd9f803f0497e993c8f1cb5ae6aa0",
       "version_major": 2,
       "version_minor": 0
      },
      "text/plain": [
       "interactive(children=(IntSlider(value=50, description='t'), Output()), _dom_classes=('widget-interact',))"
      ]
     },
     "metadata": {},
     "output_type": "display_data"
    }
   ],
   "source": [
    "import numpy as np\n",
    "import ipywidgets as widgets\n",
    "import matplotlib.pyplot as plt\n",
    "from time import time\n",
    "from ipywidgets import interact\n",
    "\n",
    "\"\"\"\n",
    "Método que aproxima la ecuación de calor mediante el esquema explícito\n",
    "K, difusión de calor\n",
    "b, condición inicial T(0,0)\n",
    "c, condición de frontera T(Nx,t)\n",
    "a, valor toman todoas las x's en el tiempo cero\n",
    "Nx, variable espacial\n",
    "Nt, variable temporal\n",
    "delt, cambios en el tiempo\n",
    "\"\"\"\n",
    "\n",
    "def ec_calor_exp(K,a,b,c,Nx,delt,Nt,xmax):\n",
    "    dx=xmax/Nx #Cambios de x                       \n",
    "    D=K*delt/(dx*dx) #Constante de estabilidad\n",
    "    T=np.zeros((Nx,Nt)) #Nx renglones, Nt columnas\n",
    "    T[0][0]=b #Condición inicial\n",
    "    if (D > 0.5): #Condición de estabilidad\n",
    "        print(\"Algoritmo inestable; Terminar\") #Termina si no cumple \n",
    "    else:\n",
    "        #Si cumple con la condición encuentra aproximaciones\n",
    "        for i in range(1,Nx-1): \n",
    "            T[i][0]= a #Valores de x al tiempo 0\n",
    "        T[-1][0]= c #Condición de frontera\n",
    "        tiempo_ini=time() #Tiempo de ejecución antes de inciar el método\n",
    "        for n in range(Nt-1):\n",
    "            T[0][n+1]=b #Se llena la última entrada con la condicion inicial\n",
    "            for i in range (1,Nx-1):\n",
    "                #Cálculo de aproximaciones\n",
    "                T[i][n+1]=T[i][n] + D * (T[i+1][n] - 2*T[i][n] + T[i-1][n]) \n",
    "                T[-1][n+1]=c   \n",
    "        tiempo_fin=time() #Tiempo de ejecución después de terminar el método\n",
    "        print('Tiempo de ejecución: '+str(tiempo_fin - tiempo_ini))\n",
    "    return T     #Cada columna representa las temperaturas en el tiempo n  \n",
    "\n",
    "\"\"\"\n",
    "Método que gráfica la temperatura de cada punto a través del tiempo \n",
    "\"\"\"\n",
    "def grafica(mat, xmax, Nx,n):\n",
    "    disc=np.linspace(0,xmax,Nx) #Discretización\n",
    "    if n==0: #Gráfica para n=0\n",
    "        plt.plot(disc,np.zeros(Nx),'r')\n",
    "        plt.scatter(disc,np.zeros(Nx),c='#8c564b')\n",
    "        plt.title(\"Proyecto Final, Modelo de la Ec. de Calor, Tiempo 0\")\n",
    "        plt.show()\n",
    "    else:\n",
    "        #Grafica los puntos de cada columna de la matriz mat\n",
    "        plt.plot(disc,mat[:,n-1],'r')\n",
    "        plt.scatter(disc,mat[:,n-1],c='#8c564b')        \n",
    "        plt.title(\"Diferencias Finitas Ec. de Calor, Tiempo \"+str(n))\n",
    "        plt.show()\n",
    "\n",
    "#Declaramos las variables \n",
    "K=np.e**(-2)\n",
    "a=323\n",
    "b=273\n",
    "c=373\n",
    "Nx=25 \n",
    "delt=.001\n",
    "Nt=100\n",
    "xmax=0.5\n",
    "\n",
    "#llama a la implementación del esquema explícito\n",
    "explicito=ec_calor_exp(K,a,b,c,Nx,delt,Nt,xmax)\n",
    "@widgets.interact(t=(0, Nt, 1))\n",
    "def f2(t):\n",
    "    return grafica(explicito,xmax,Nx,t)"
   ]
  },
  {
   "cell_type": "markdown",
   "metadata": {
    "id": "ztXB4-75pbXb"
   },
   "source": [
    "# Anexo\n",
    "\n",
    "A continuación, se resolverá la siguiente ecuación diferencial, por el método explícito de diferencias finitas."
   ]
  },
  {
   "cell_type": "markdown",
   "metadata": {
    "id": "qV_YkT5epbXe"
   },
   "source": [
    "$$ \\frac{\\partial G}{\\partial t} =\\gamma   \\frac{\\partial G}{\\partial x^{2}} \\quad , \\gamma \\in \\mathbb{R}  \\tag{A.1.}$$"
   ]
  },
  {
   "cell_type": "markdown",
   "metadata": {
    "id": "7hAueCNzpbXg"
   },
   "source": [
    "Aplicando el esquema de diferencias finitas hacia delante a $\\frac{\\partial G}{\\partial t}$ y diferencias centradas a $\\frac{\\partial G}{\\partial x^{2}}$, se tiene que \n",
    "\n",
    "$$ \\frac{G \\left(x, t + \\Delta t \\right)-G \\left(x,  t \\right)}{\\Delta t} = \\gamma \\frac{G \\left(x+\\Delta x,  t \\right) -2 G \\left(x,  t \\right)+ G \\left(x -\\Delta x,  t \\right)}{\\Delta x ^{2}}$$\n",
    "\n",
    "Despejando $G \\left(x, t + \\Delta t \\right)$ se obtiene\n",
    "\n",
    "$$ G \\left(x, t + \\Delta t \\right) = \\gamma \\frac{\\Delta t}{\\Delta x^{2}} \\{ G \\left(x+\\Delta x,  t \\right)+ G \\left(x -\\Delta x,  t \\right) \\}+  \\{ 1- 2 \\gamma \\frac{\\Delta t}{\\Delta x^{2}} \\} G \\left(x,  t \\right)  $$\n",
    "\n",
    "entonces \n",
    "\n",
    "$$ G \\left(x_{i}, t_{j+1} \\right) = \\gamma \\frac{\\Delta t}{\\Delta x^{2}} \\{ G \\left(x_{i+1},  t_{j} \\right)+ G \\left(x_{i-1},  t_{j} \\right) \\}+  \\{ 1- 2 \\gamma \\frac{\\Delta t}{\\Delta x^{2}} \\} G \\left(x_{i},  t_{j} \\right)  \\tag{A.2.}$$\n",
    "\n",
    "A la ec (A.2.) se le conoce como esquema explícito.\n",
    "\n",
    "$\\color{blue}{Observaciones}$: \n",
    "\n",
    "Si $j=0$ e $i=1$\n",
    "\n",
    "$$ G \\left(x_{1}, t_{1} \\right) = \\gamma \\frac{\\Delta t}{\\Delta x^{2}} \\{ G \\left(x_{2},  t_{0} \\right)+ G \\left(x_{0},  t_{0} \\right) \\}+  \\{ 1- 2 \\gamma \\frac{\\Delta t}{\\Delta x^{2}} \\} G \\left(x_{1},  t_{0} \\right)  $$\n",
    "\n",
    "Si $j=0$ e $i=n$\n",
    "\n",
    "$$ G \\left(x_{n}, t_{1} \\right) = \\gamma \\frac{\\Delta t}{\\Delta x^{2}} \\{ G \\left(x_{n+1},  t_{0} \\right)+ G \\left(x_{n-1},  t_{0} \\right) \\}+  \\{ 1- 2 \\gamma \\frac{\\Delta t}{\\Delta x^{2}} \\} G \\left(x_{n},  t_{0} \\right)  $$\n",
    "\n"
   ]
  },
  {
   "cell_type": "markdown",
   "metadata": {
    "id": "jtMMKNM4pbXY"
   },
   "source": [
    "# Referencias\n",
    "\n",
    "1. Yuri N. Skiba: Introducción a los métodos numéricos, Dirección General de Publicaciones U.N.A.M.\n",
    "2. Ward Cheney, David Kincaid: Métodos Numéricos y Computación, Cenage Learning.\n",
    "3. Richard L. Burden, J. Douglas Faires: Análisis Numérico, Math Learning.\n",
    "4. Riswan Butt: Numerical Analysys Using Matlab, Jones and Bartlett.\n",
    "5. Quarteroni, A, Sacco R.: Numerical mathematics, Springer. 2007."
   ]
  }
 ],
 "metadata": {
  "colab": {
   "include_colab_link": true,
   "name": "01_DerivacioNumerica.ipynb",
   "provenance": [],
   "toc_visible": true
  },
  "kernelspec": {
   "display_name": "Python 3 (ipykernel)",
   "language": "python",
   "name": "python3"
  },
  "language_info": {
   "codemirror_mode": {
    "name": "ipython",
    "version": 3
   },
   "file_extension": ".py",
   "mimetype": "text/x-python",
   "name": "python",
   "nbconvert_exporter": "python",
   "pygments_lexer": "ipython3",
   "version": "3.11.6"
  },
  "widgets": {
   "application/vnd.jupyter.widget-state+json": {
    "04de27eb9a3c4f53bb11b2a0a4d1bb58": {
     "model_module": "@jupyter-widgets/base",
     "model_module_version": "1.2.0",
     "model_name": "LayoutModel",
     "state": {
      "_model_module": "@jupyter-widgets/base",
      "_model_module_version": "1.2.0",
      "_model_name": "LayoutModel",
      "_view_count": null,
      "_view_module": "@jupyter-widgets/base",
      "_view_module_version": "1.2.0",
      "_view_name": "LayoutView",
      "align_content": null,
      "align_items": null,
      "align_self": null,
      "border": null,
      "bottom": null,
      "display": null,
      "flex": null,
      "flex_flow": null,
      "grid_area": null,
      "grid_auto_columns": null,
      "grid_auto_flow": null,
      "grid_auto_rows": null,
      "grid_column": null,
      "grid_gap": null,
      "grid_row": null,
      "grid_template_areas": null,
      "grid_template_columns": null,
      "grid_template_rows": null,
      "height": null,
      "justify_content": null,
      "justify_items": null,
      "left": null,
      "margin": null,
      "max_height": null,
      "max_width": null,
      "min_height": null,
      "min_width": null,
      "object_fit": null,
      "object_position": null,
      "order": null,
      "overflow": null,
      "overflow_x": null,
      "overflow_y": null,
      "padding": null,
      "right": null,
      "top": null,
      "visibility": null,
      "width": null
     }
    },
    "1e845b91b18849648907b850fa7d345e": {
     "model_module": "@jupyter-widgets/base",
     "model_module_version": "1.2.0",
     "model_name": "LayoutModel",
     "state": {
      "_model_module": "@jupyter-widgets/base",
      "_model_module_version": "1.2.0",
      "_model_name": "LayoutModel",
      "_view_count": null,
      "_view_module": "@jupyter-widgets/base",
      "_view_module_version": "1.2.0",
      "_view_name": "LayoutView",
      "align_content": null,
      "align_items": null,
      "align_self": null,
      "border": null,
      "bottom": null,
      "display": null,
      "flex": null,
      "flex_flow": null,
      "grid_area": null,
      "grid_auto_columns": null,
      "grid_auto_flow": null,
      "grid_auto_rows": null,
      "grid_column": null,
      "grid_gap": null,
      "grid_row": null,
      "grid_template_areas": null,
      "grid_template_columns": null,
      "grid_template_rows": null,
      "height": null,
      "justify_content": null,
      "justify_items": null,
      "left": null,
      "margin": null,
      "max_height": null,
      "max_width": null,
      "min_height": null,
      "min_width": null,
      "object_fit": null,
      "object_position": null,
      "order": null,
      "overflow": null,
      "overflow_x": null,
      "overflow_y": null,
      "padding": null,
      "right": null,
      "top": null,
      "visibility": null,
      "width": null
     }
    },
    "2b44100e88654f2eb81cc91185934fd0": {
     "model_module": "@jupyter-widgets/controls",
     "model_module_version": "1.5.0",
     "model_name": "VBoxModel",
     "state": {
      "_dom_classes": [
       "widget-interact"
      ],
      "_model_module": "@jupyter-widgets/controls",
      "_model_module_version": "1.5.0",
      "_model_name": "VBoxModel",
      "_view_count": null,
      "_view_module": "@jupyter-widgets/controls",
      "_view_module_version": "1.5.0",
      "_view_name": "VBoxView",
      "box_style": "",
      "children": [
       "IPY_MODEL_b8547a1b24d84400aff04b1fbf53608d",
       "IPY_MODEL_82066abaed3e42f8b42fb2b5eeb4a4f5"
      ],
      "layout": "IPY_MODEL_1e845b91b18849648907b850fa7d345e"
     }
    },
    "6d0c08df7e264f2a9cd47d09a8d35ea4": {
     "model_module": "@jupyter-widgets/controls",
     "model_module_version": "1.5.0",
     "model_name": "SliderStyleModel",
     "state": {
      "_model_module": "@jupyter-widgets/controls",
      "_model_module_version": "1.5.0",
      "_model_name": "SliderStyleModel",
      "_view_count": null,
      "_view_module": "@jupyter-widgets/base",
      "_view_module_version": "1.2.0",
      "_view_name": "StyleView",
      "description_width": "",
      "handle_color": null
     }
    },
    "82066abaed3e42f8b42fb2b5eeb4a4f5": {
     "model_module": "@jupyter-widgets/output",
     "model_module_version": "1.0.0",
     "model_name": "OutputModel",
     "state": {
      "_dom_classes": [],
      "_model_module": "@jupyter-widgets/output",
      "_model_module_version": "1.0.0",
      "_model_name": "OutputModel",
      "_view_count": null,
      "_view_module": "@jupyter-widgets/output",
      "_view_module_version": "1.0.0",
      "_view_name": "OutputView",
      "layout": "IPY_MODEL_04de27eb9a3c4f53bb11b2a0a4d1bb58",
      "msg_id": "",
      "outputs": [
       {
        "data": {
         "image/png": "iVBORw0KGgoAAAANSUhEUgAAAigAAAGzCAYAAAAFROyYAAAAOXRFWHRTb2Z0d2FyZQBNYXRwbG90bGliIHZlcnNpb24zLjcuMSwgaHR0cHM6Ly9tYXRwbG90bGliLm9yZy/bCgiHAAAACXBIWXMAAA9hAAAPYQGoP6dpAABdOklEQVR4nO3deZyNdf/H8dc5s5vVzGAYYx/LTCZCjF3Z9yLVXbaERN3dfqlIpRRlqVRK6g4puSNKCY21bEOiNIYkso7BmM0y27l+f5zm5Jghg5lzZub9fDzO4+G6zvec63Ou2d6+1/f6fk2GYRiIiIiIOBGzowsQERERuZwCioiIiDgdBRQRERFxOgooIiIi4nQUUERERMTpKKCIiIiI01FAEREREaejgCIiIiJORwFFREREnI4CithMmDABk8lkty87O5unnnqKsLAwzGYzvXv3dkxxN8ncuXMxmUwcOnTI0aXY3EhN69evx2QysX79+pteV3F36NAhTCYTc+fOdXQpV+WM35P5KS51SsmhgFJC5f4yyX14enpSqVIlOnXqxFtvvUVaWto1vc9HH33E1KlT6du3L/PmzeM///lPIVde8gwaNMjua3HpY+XKlTf9eAsWLODNN9+86e97La70OU0mE4888ohDarrZLl68yBtvvEHTpk3x9/fH09OT2rVrM2rUKH777TdHl1cgbdu2verXLPcxYcIER5daZPbv3899991H5cqVKVOmDHXr1uWll17i/PnzedpmZmYyadIk6tati6enJxUqVKBbt24cPXrUAZWXPCatxVMyzZ07l8GDB/PSSy9RvXp1srKySEhIYP369cTExFClShWWLVtGVFSU7TXZ2dlkZ2fj6elp23ffffexcePGEvMDl5OTQ1ZWFh4eHnl6iwrLoEGDWLhwIR9++GGe5+68807Kly9/3TVZLBYyMzNxd3fHbLb+f6N79+78+uuvDvmfrslkokOHDgwYMCDPc7Vr1+b2228vsloOHTpE9erVmTNnDoMGDbop73n69Gk6d+7Mjh076N69O+3bt8fHx4d9+/axcOFCEhISyMzMLNB75v6sHjx4kGrVqt2UOq9VTEwMJ0+etG1v376dt956i3HjxlGvXj3b/qioKCIjI4v8Z6eoHTlyhKioKPz9/XnkkUcIDAxky5YtzJ07l549e/LVV1/Z2mZlZdG1a1c2b97M0KFDiYqK4uzZs8TGxvLCCy8QGRnpwE9SMrg6ugApXF26dKFx48a27bFjx7J27Vq6d+9Oz549iY+Px8vLCwBXV1dcXe2/JRITEwkICLhp9RiGwcWLF23HLGouLi64uLgU+XFdXV158MEHr/j89dZkNpvtAqUzqF279lU/a3E2aNAgdu7cyeLFi+nTp4/dcxMnTuTZZ591UGV/O3/+PGXKlLmmth06dLDb9vT05K233qJDhw60bds2T3tH/OwUpfnz55OcnMzGjRttAWPYsGFYLBY+/vhjzp49S9myZQF444032LBhAxs3bizS4F2a6BJPKXTHHXfw3HPP8eeff/LJJ5/Y9l86BiX3+v26deuIi4uzdfXmjnWwWCy8+eabREZG2ro2hw8fztmzZ+2OVa1aNbp3786qVato3LgxXl5evP/++wAkJyfzxBNPEBYWhoeHB7Vq1eK1117DYrHYXp9bx7Rp05g9ezY1a9bEw8ODJk2asH379jyfbe/evfTr149y5crh5eVFnTp17P5o5Hcd/auvvqJbt25UqlQJDw8PatasycSJE8nJybF77/3799OnTx9CQkLw9PSkcuXK3HfffaSkpFzfF+IqNeWet9xffp6entSoUYOPP/7Y7rWXj0Fp27Yty5cv588//7R9zXL/V56Zmcnzzz9Po0aN8Pf3x9vbm1atWrFu3bo8NS1cuJBGjRrh6+uLn58f9evXZ8aMGTf0OS8XGxtL165dKVu2LN7e3kRFRV33MZKTkxk0aBD+/v4EBAQwcOBAkpOT8227d+9e+vbtS2BgIJ6enjRu3Jhly5ZdU73Lly9nyJAhecIJgIeHB9OmTbNt//LLLwwaNIgaNWrg6elJSEgIDz30EGfOnLmmz/Tuu+8SGRmJh4cHlSpVYuTIkXk+U9u2bbnlllvYsWMHrVu3pkyZMowbN+6a3r+grjQGZcWKFbRq1Qpvb298fX3p1q0bcXFxdm0GDRqEj48Phw8fpnv37vj4+BAaGsrMmTMB2L17N3fccQfe3t5UrVqVBQsW5Hvs77//nuHDhxMUFISfnx8DBgzI8zsHru3c5Sc1NRWAChUq2O2vWLEiZrMZd3d3wPr7b8aMGdx1113cfvvtZGdn53sJSG6MAkop1b9/fwC+++67fJ8vV64c8+fPp27dulSuXJn58+czf/58W7fv8OHDGTNmDC1atGDGjBkMHjyYTz/9lE6dOpGVlWX3Xvv27eP++++nQ4cOzJgxgwYNGnD+/HnatGnDJ598woABA3jrrbdo0aIFY8eOZfTo0XnqWbBgAVOnTmX48OG8/PLLHDp0iLvvvtvuWL/88gtNmzZl7dq1DB06lBkzZtC7d2++/vrrq56LuXPn4uPjw+jRo5kxYwaNGjXi+eef55lnnrG1yczMpFOnTmzdupXHHnuMmTNnMmzYMP74449r+sUH1ssDlz7+Kdj8/vvv9O3blw4dOjB9+nTKli3LoEGD8vzyv9Szzz5LgwYNCA4Otn3NcsejpKam8uGHH9K2bVtee+01JkyYwKlTp+jUqRO7du2yvUdMTAz3338/ZcuW5bXXXuPVV1+lbdu2bNq06Zo+58WLF/N81tOnT9td+oiJiaF169bs2bOHf//730yfPp127drxzTffXNMxLmUYBr169WL+/Pk8+OCDvPzyyxw9epSBAwfmaRsXF0ezZs2Ij4/nmWeeYfr06Xh7e9O7d2+WLl161ePkhpjcn51/EhMTwx9//MHgwYN5++23ue+++1i4cCFdu3bln66sT5gwgZEjR1KpUiWmT59Onz59eP/99+nYsWOen68zZ87QpUsXGjRowJtvvkm7du2uqb6bYf78+XTr1g0fHx9ee+01nnvuOfbs2UPLli3zBJmcnBy6dOlCWFgYU6ZMoVq1aowaNYq5c+fSuXNnGjduzGuvvYavry8DBgzg4MGDeY43atQo4uPjmTBhAgMGDODTTz+ld+/eduezIOfucrm9RkOGDGHXrl0cOXKE//3vf7z33ns8/vjjeHt7A7Bnzx6OHz9OVFQUw4YNw9vb2xay8wv8cp0MKZHmzJljAMb27duv2Mbf399o2LChbfuFF14wLv+WaNOmjREZGWm374cffjAA49NPP7Xbv3Llyjz7q1atagDGypUr7dpOnDjR8Pb2Nn777Te7/c8884zh4uJiHD582DAMwzh48KABGEFBQUZSUpKt3VdffWUAxtdff23b17p1a8PX19f4888/7d7TYrHkOS8HDx607Tt//nyeczN8+HCjTJkyxsWLFw3DMIydO3cagLFo0aI8bf/JwIEDDSDPo02bNlesKfe8ff/997Z9iYmJhoeHh/F///d/tn3r1q0zAGPdunW2fd26dTOqVq2ap47s7GwjIyPDbt/Zs2eNChUqGA899JBt37///W/Dz8/PyM7OLvBnze9z5j4+++wzWx3Vq1c3qlatapw9e9bu9Zd+ra7Vl19+aQDGlClTbPuys7ONVq1aGYAxZ84c2/4777zTqF+/vu3rmnvM5s2bG+Hh4Vc9zl133WUAeWq+kvy+rz777LM8X9fLv/6JiYmGu7u70bFjRyMnJ8fW7p133jEA46OPPrLta9OmjQEYs2bNuqaa/smiRYvyfD9dqc60tDQjICDAGDp0qF27hIQEw9/f325/7s/ApEmTbPvOnj1reHl5GSaTyVi4cKFt/969ew3AeOGFF/Icu1GjRkZmZqZt/5QpUwzA+OqrrwzDKNi5u5KJEycaXl5edt+7zz77rF2bJUuW2H4vhYeHG3PmzDHmzJljhIeHG+7u7sbPP//8j8eRf6YelFLMx8fnmu/mudSiRYvw9/enQ4cOdv9DbtSoET4+Pnn+B1G9enU6deqU5z1atWpF2bJl7d6jffv25OTk8P3339u1v/fee23XfgFatWoFwB9//AHAqVOn+P7773nooYeoUqWK3Wv/aUDfpeNh0tLSOH36NK1ateL8+fPs3bsXAH9/fwBWrVp1XV25np6exMTE2D2mT59+1ddERETYPidYe7Xq1Klj+8wF5eLiYtdFnZSURHZ2No0bN+ann36ytQsICODcuXPExMRc13F69eqV57PGxMTY/me/c+dODh48yBNPPJFnfNP1DL789ttvcXV1ZcSIEbZ9Li4uPPbYY3btkpKSWLt2Lf369bN9nU+fPs2ZM2fo1KkT+/fv59ixY1c8Tm73v6+v7zXVden3VW6vUrNmzQDszvflVq9eTWZmJk888YRt4DPA0KFD8fPzY/ny5XbtPTw8GDx48DXVdDPFxMSQnJzM/fffb/cz7OLiQtOmTfPtSXj44Ydt/w4ICKBOnTp4e3vTr18/2/46deoQEBCQ7/f5sGHDcHNzs22PGDECV1dXvv32W6Dg5y4/1apVo3Xr1syePZsvvviChx56iEmTJvHOO+/Y2qSnpwPW3xdr1qxh0KBBDBo0iNWrV2MYBlOmTPnH48g/0yDZUiw9PZ3y5csX+HX79+8nJSXliq9NTEy0265evXq+7/HLL79Qrly5a3qPy0NHbljJvf6c+8vslltuuYZPYC8uLo7x48ezdu1a2x+hXLmXYapXr87o0aN5/fXX+fTTT2nVqhU9e/bkwQcftIWXq3FxcaF9+/YFquvyzwzWz53fNfdrNW/ePKZPn87evXvtursv/Ro9+uijfP7553Tp0oXQ0FA6duxIv3796Ny58zUdo3Llylf9rAcOHACu72uVnz///JOKFSvi4+Njt79OnTp227///juGYfDcc8/x3HPP5fteiYmJhIaG5vucn58fYP2jdC0Dx5OSknjxxRdZuHBhnu/nq13e+/PPP/Ot393dnRo1atiezxUaGmoLnkVp//79gHVMW35yz1cuT0/PPD/v/v7+VK5cOU8w9ff3z/f7PDw83G7bx8eHihUr2i4nFfTcXW7hwoUMGzaM3377jcqVKwNw9913Y7FYePrpp7n//vsJCgqyhc8WLVoQFhZme32VKlVo2bIlmzdvvupx5NoooJRSR48eJSUlhVq1ahX4tRaLhfLly/Ppp5/m+/zlv4Tyu2PHYrHQoUMHnnrqqXzfo3bt2nbbV7p7wLjBu+STk5Np06YNfn5+vPTSS9SsWRNPT09++uknnn76absBu9OnT2fQoEF89dVXfPfddzz++ONMnjyZrVu32n6Z3Uw3+zN/8sknDBo0iN69ezNmzBjKly+Pi4sLkydPtoUGgPLly7Nr1y5WrVrFihUrWLFiBXPmzGHAgAHMmzfvuo7tDHK/lk8++WSeHr1cV/t5qFu3LmAd0Hlpz9aV9OvXj82bNzNmzBgaNGiAj48PFouFzp07231f3ShH3RGX+xnmz59PSEhInucvvyPwSt/PhfWzfT3effddGjZsmOfnuWfPnsydO5edO3fSvn17KlWqBOQdTAvWn5+dO3cWSb0lnQJKKTV//nyAK/6ivpqaNWuyevVqWrRocd2/HGvWrEl6enqBexWupEaNGgD8+uuvBXrd+vXrOXPmDEuWLKF169a2/fkN0AOoX78+9evXZ/z48WzevJkWLVowa9YsXn755esv/ia70mWSxYsXU6NGDZYsWWLX5oUXXsjT1t3dnR49etCjRw8sFguPPvoo77//Ps8999x1hdpL1axZE7B+rW7G179q1aqsWbOG9PR0u16Uffv22bXL/R5xc3O7ruP26NGDyZMn88knn/xjQDl79ixr1qzhxRdf5Pnnn7ftz+11uJqqVasC1vpzawbrQO2DBw/etJ+ZG5X7dSxfvnyR1bR//367QcDp6emcOHGCrl27Ajd+7k6ePGl3KTlXbm9jdnY2YP094Obmlu8lwePHj1+xZ1gKRmNQSqG1a9cyceJEqlevzgMPPFDg1/fr14+cnBwmTpyY57ns7OxruqulX79+bNmyhVWrVuV5Ljk52faL4FqVK1eO1q1b89FHH3H48GG75672P7Hc/71d2iYzM5N3333Xrl1qamqemurXr4/ZbCYjI6NAtRY2b2/vfC8h5PdZY2Nj2bJli127y2+DNZvNtgn9bsZnve2226hevTpvvvlmnu+VS2tLSUlh7969/3i3U9euXcnOzua9996z7cvJyeHtt9+2a1e+fHnatm3L+++/z4kTJ/K8z6lTp656nOjoaDp37syHH37Il19+mef5zMxMnnzySSD/cw1c0wy/7du3x93dnbfeesvu9f/9739JSUmhW7du//geRaFTp074+fkxadKkfO+O+afzeT1mz55td6z33nuP7OxsunTpAtz4uatduzY7d+7MMyPwZ599Zvdz4Ovra5ukLXecGkB8fDybN2/OM7+MXB/1oJRwK1asYO/evWRnZ3Py5EnWrl1LTEwMVatWZdmyZdc1yVebNm0YPnw4kydPZteuXXTs2BE3Nzf279/PokWLmDFjBn379r3qe4wZM4Zly5bRvXt3Bg0aRKNGjTh37hy7d+9m8eLFHDp0iODg4ALV9dZbb9GyZUtuu+02hg0bRvXq1Tl06BDLly+3u432Us2bN6ds2bIMHDiQxx9/HJPJxPz58/P8YVm7di2jRo3innvuoXbt2mRnZzN//nxcXFzynRPDkRo1asT//vc/Ro8eTZMmTfDx8aFHjx50796dJUuWcNddd9GtWzcOHjzIrFmziIiIsA36A+tAxqSkJO644w4qV67Mn3/+ydtvv02DBg3sZhe9kt9++81ufp1cFSpUoEOHDpjNZt577z169OhBgwYNGDx4MBUrVmTv3r3ExcXZQuvSpUsZPHjwP84E26NHD1q0aMEzzzzDoUOHiIiIYMmSJfkGm5kzZ9KyZUvq16/P0KFDqVGjBidPnmTLli0cPXqUn3/++aqf7eOPP6Zjx47cfffd9OjRgzvvvBNvb2/279/PwoULOXHiBNOmTcPPz4/WrVszZcoUsrKyCA0N5bvvvrtiz9ylypUrx9ixY3nxxRfp3LkzPXv2ZN++fbz77rs0adLkmifBy52h9mbOpHspPz8/3nvvPfr3789tt93GfffdR7ly5Th8+DDLly+nRYsWdgNLb4bMzEzuvPNO+vXrZzsnLVu2pGfPnsCNn7sxY8bY5nUZNWoUQUFBfPPNN6xYsYKHH37YdmkHYNKkSaxZs4Y77riDxx9/HLD+DgoMDCy0uWhKHYfcOySFLve2vNyHu7u7ERISYnTo0MGYMWOGkZqamuc113qbca7Zs2cbjRo1Mry8vAxfX1+jfv36xlNPPWUcP37c1qZq1apGt27d8n19WlqaMXbsWKNWrVqGu7u7ERwcbDRv3tyYNm2a7VbC3NuMp06dmuf1XHYromEYxq+//mrcddddRkBAgOHp6WnUqVPHeO655/Kcl0tv6d20aZPRrFkzw8vLy6hUqZLx1FNPGatWrbK73fKPP/4wHnroIaNmzZqGp6enERgYaLRr185YvXp1vp/tUgMHDjS8vb2v+PyVbjPO77y1adPGdnuyYeR/m3F6errxr3/9ywgICDAA2y3HFovFmDRpklG1alXDw8PDaNiwofHNN98YAwcOtLstefHixUbHjh2N8uXLG+7u7kaVKlWM4cOHGydOnPjHz3rp99zlj0vrNgzD2Lhxo9GhQwfD19fX8Pb2NqKiooy33347z3m59DbhKzlz5ozRv39/w8/Pz/D39zf69+9vuzX88tcfOHDAGDBggBESEmK4ubkZoaGhRvfu3Y3Fixf/43EMw3r78LRp04wmTZoYPj4+hru7uxEeHm489thjxu+//25rd/ToUdv3or+/v3HPPfcYx48fv+IttJd+/Q3Demts3bp1DTc3N6NChQrGiBEj8tzifLWfz7fffjvfW/yvpiC3Gedat26d0alTJ8Pf39/w9PQ0atasaQwaNMj48ccfbW2u9DNwpfov//7PPfaGDRuMYcOGGWXLljV8fHyMBx54wDhz5kye11/LubuS2NhYo0uXLrbvj9q1axuvvPKKkZWVlaftjh07jPbt2xve3t6Gr6+v0atXrzxTJ8j101o8IiIlUL9+/Th06BDbtm1zdCk3LLc3aPv27XZLd0jJpks8IiIljGEYrF+/Pt9LbSLFhQKKiEgJYzKZ8sy9IlLc6C4eERERcToagyIiIiJORz0oIiIi4nQUUERERMTpFMtBshaLhePHj+Pr63tdq5+KiIhI0TMMg7S0NCpVqmS34nR+imVAOX78uN0KkiIiIlJ8HDly5B8XWS2WAcXX1xewfsDLl/QWERER55SamkpYWJjt7/jVFMuAkntZx8/PTwFFRESkmLmW4RkaJCsiIiJORwFFREREnI4CioiIiDgdBRQRERFxOgooIiIi4nQUUERERMTpKKCIiIiI01FAEREREadTLCdqExERkcJhseRwLD6O9OSz+ASUJbReJGazS5HXoYAiIiIiAOyP3czaubNJTzpt2+cTGMwdg4YR3rR5kdaiSzwiIiLC/tjNLHt9kl04AUhPOs2y1yexP3ZzkdajgCIiIlLKWSw5rJ07+6pt1s2bjcWSU0QVKaCIiIiUesfi42w9Jz7nL3LPui2UTU23a5N25jTH4uOKrCYFFBERkVIuPfksAH7p57l33WaqnEqi8/afwTDybVcUNEhWRESklPMJKEtgahp9N8TieyGDZO8yLG/WEEymPO2KigKKiIhIKRd6MZP71sfidTGD034+LG7TlHNennZtfIOCCa0XWWQ1KaCIiIiUZlu2YO7SBa+LGZws68cXrZtywcM9T7N2A4cV6XwoGoMiIiJSWq1ZAx06QEoKtGhB+qJFuFSsZNfENyiYnqPHFfk8KOpBERERKY2WLYN77oHMTOjYEZYsoaa3N9Xb3amZZEVERMQBPvsM+veHnBy46y7rtocHAGazC2GRUQ4uUJd4RERESpcPP4QHHrCGkwcfhM8/t4UTZ6KAIiIiUlq88QYMHWqd3+SRR2DePHB1zospCigiIiIlnWHAiy/C6NHW7TFj4N13wey8McA5Y5OIiIjcHIZhDSTTp1u3J06EZ5/NMwmbs1FAERERKalycuDRR2H2XwsBvvEGPPGEQ0u6VgooIiIiJVFWFgwaBAsWWHtLPvgAhgxxdFXXTAFFRESkmLNYcuznLqleE/O/HoCvvrIOgv3kE7j3XkeXWSAKKCIiIsXY/tjNrJ07m/Sk0wC4ZmfTJ/YXKh87Yb19ePFi6N7dwVUWnAKKiIhIMbU/djPLXp9k2/bIzOKuH7YTeuYsma4uJE6fSuViGE5AtxmLiIgUSxZLDmvnzrZte13M4J71Wwk9c5aLbq4sbtOUb+N2YLHkOLDK66eAIiIiUgwdi4+zXdbxOX+Re9dvpUJyKuc93Pm8bTNOBJUl7cxpjsXHObjS66NLPCIiIsVQevJZAALSztH3+1j8z10gzcuTRW2actbPJ0+74kYBRUREpBjyCShLcHIqfb/fhvfFDM76lGFxm6akepfJ0644UkAREREphkKTU7lvfSwemZkk+vvyRevbOe/ladfGNyiY0HqRDqrwxiigiIiIFDcxMZh798YjM5NjQWVZ2qoJGe5ueZq1GzgMs9nFAQXeOA2SFRERKU6WLLHOa3L+PHTsyIXFi3ALqWjXxDcomJ6jxxHetLmDirxx6kEREREpLubMgYcfBosF+vaFTz6hlocHNVq3tZ9Jtl5kse05yaWAIiIiUhy88QaMHm3995Ah8P774GINIWazC2GRUQ4s7ubTJR4RERFnZhjw/PN/h5Mnn7Qu/OdSvHtI/ol6UERERJyVxQJPPAFvv23dfuUVGDvWujpxCaeAIiIi4oyysuChh6wrEZtM8M478Oijjq6qyCigiIiIOJuLF+Hee2HZMuulnI8/hn/9y9FVFSkFFBEREWeSlga9esG6deDpCYsWWW8rLmUUUERERJzFmTPQpQts3w6+vvD119CmjaOrcggFFBEREQewWHLs5y7xC8DcuQvs2QNBQbByJTRu7OgyHUYBRUREpIjtj93M2rmzSU86DYB/+jn6/fAjfmnpEBoKMTFQr56Dq3QsBRQREZEitD92M8ten2TbDk5Opc/32/D5a0Xi5LdnUL2UhxPQRG0iIiJFxmLJYe3c2bbtimfO0m/9VnwuZpDo78vCdtHExHyNxZLjwCqdgwKKiIhIETkWH2e7rFPtRCL3rI/FKzOLY0Fl+bxdNOe9PEk7c5pj8XEOrtTxdIlHRESkiKQnnwWg3p9H6bTtF1wMg4Mh5VjW/DayXV3ztCvNFFBERESKiE9AWRrt+4O2P8cDsKdKJVY1uRWLizlPu9JOAUVERKQoWCxUnvsxYX+Fkx9rV2fDrfXyrKvjGxRMaL1IR1ToVBRQRERECltWFjz8MKaPPwZgQ1RdfqxTI99F/9oNHIbZXLJXKr4WBRok+9577xEVFYWfnx9+fn5ER0ezYsUKuzZbtmzhjjvuwNvbGz8/P1q3bs2FCxdszyclJfHAAw/g5+dHQEAAQ4YMIT09/eZ8GhEREWdz7px16vqPP7auqzN3LpVm/xefoHJ2zXyDguk5ehzhTZs7qFDnUqAelMqVK/Pqq68SHh6OYRjMmzePXr16sXPnTiIjI9myZQudO3dm7NixvP3227i6uvLzzz9jNv+dgx544AFOnDhBTEwMWVlZDB48mGHDhrFgwYKb/uFEREQc6swZ6NYNYmPBy8u6rk63boQDNZs0tZ9Jtl6kek4uYTIMw7iRNwgMDGTq1KkMGTKEZs2a0aFDByZOnJhv2/j4eCIiIti+fTuN/5q+d+XKlXTt2pWjR49SqVKlazpmamoq/v7+pKSk4OfndyPli4iIFI7Dh6FTJ9i7FwID4ZtvIDra0VU5VEH+fl/3PCg5OTksXLiQc+fOER0dTWJiIrGxsZQvX57mzZtToUIF2rRpw8aNG22v2bJlCwEBAbZwAtC+fXvMZjOxsbFXPFZGRgapqal2DxEREaf166/QvLk1nISFwcaNpT6cFFSBA8ru3bvx8fHBw8ODRx55hKVLlxIREcEff/wBwIQJExg6dCgrV67ktttu484772T//v0AJCQkUL58ebv3c3V1JTAwkISEhCsec/Lkyfj7+9seYWFhBS1bRESkaGzcCK1awbFjEBEBmzaV+nV1rkeBA0qdOnXYtWsXsbGxjBgxgoEDB7Jnzx4sFgsAw4cPZ/DgwTRs2JA33niDOnXq8NFHH91QkWPHjiUlJcX2OHLkyA29n4iISKH4+mvo0AGSk609KD/8YO1BkQIr8G3G7u7u1KpVC4BGjRqxfft2ZsyYwTPPPANARESEXft69epx+PBhAEJCQkhMTLR7Pjs7m6SkJEJCQq54TA8PDzw8PApaqoiISNH56CMYNgxycqB7d/jf/6BMGUdXVWzd8Fo8FouFjIwMqlWrRqVKldi3b5/d87/99htVq1YFIDo6muTkZHbs2GF7fu3atVgsFpo2bXqjpYiIiBQ9w4DJk2HIEGs4GTwYli5VOLlBBepBGTt2LF26dKFKlSqkpaWxYMEC1q9fz6pVqzCZTIwZM4YXXniBW2+9lQYNGjBv3jz27t3L4sWLAWtvSufOnRk6dCizZs0iKyuLUaNGcd99913zHTwiIiKOYrHk2N8aXKce5v97Et56y9pg7Fh45ZV8J2CTgilQQElMTGTAgAGcOHECf39/oqKiWLVqFR06dADgiSee4OLFi/znP/8hKSmJW2+9lZiYGGrWrGl7j08//ZRRo0Zx5513Yjab6dOnD2/lfmFFRESc1P7YzaydO9u2GrFLTg7dd+2l1oFD1gZvvgn//rfD6itpbngeFEfQPCgiIlKU9sduZtnrk2zbblnZ9Nq8g6onT5NjNpE44QUqPveCAyssHopkHhQREZHSwGLJYe3c2bZtr4sZ9Fu/laonT5Pp6sLSlk34+sRBLJYcB1ZZ8iigiIiIXMWx+DjbZZ2yaencv3YzIWdTOO/hzudtm/FnSDnSzpzmWHycgystWbSasYiIyFWkJ58FIPRUEr02/YhXZhbJ3l4saX07Z3198rSTm0MBRURE5Cp8AspS5/BxOm/7GVeLhROBASxt2ZgLnh552snNo4AiIiJyJYZB6NfLCdu6E4D9oRX4tmlDsl3tVx32DQomtF6kIyossRRQRERE8pOdDaNGYX7/fQB2hFdnw631MMx55zhpN3AYZrNLnv1y/TRIVkRE5HJpadCjB7z/vnXStRkz8Jv/Cd7B5eya+QYF03P0OMKbNndQoSWXelBEREQudeyYdS2dXbvAyws++wx69SIcqNmkqf1MsvUi1XNSSBRQREREcv3yC3TrBkePQvny1tWJb7/d9rTZ7EJYZJQDCyw9dIlHREQE4LvvoGVLazipWxe2brULJ1K0FFBEREQ++gi6drWOPWnTBjZvhurVHV1VqaaAIiIipZdhwPjxMGQI5OTAAw/AqlVQVnOaOJoCioiIlE4ZGfDgg/DKK9bt8eNh/nzw8Lj666RIaJCsiIiUaBZLTt47b1JS4a67YMMGcHGx3k48ZIijS5VLKKCIiEiJtT92M2vnzrYt9gdQ0dWDvpt24P7nn+DrC4sXQ8eODqxS8qOAIiIiJdL+2M0se32S3b6QM8n02rgd94xMssqXx231aqhf30EVytVoDIqIiJQ4FksOa+fOtttX61gC/dZvwTsjk8QAP/7XqTWWyAgHVSj/RAFFRERKnGPxcX9f1jEMGu37g56bduCWY+FgSDkWtovmZMYFjsXHObZQuSJd4hERkRInPfksAC45ObTf8Su3HDoKwM81qrDmtkgMs9munTgfBRQRESlxfALKUuZiBj037SD0zFksJtgQVY+fale3Lv53STtxTgooIiJS4oRezKT/ms34nDvPRTdXvom+jT9D8q5EHFov0kEVyj/RGBQRESlZFi3C3Ko1PufOk+TrzYL2LfKEE4B2A4dpJWInpoAiIiIlg8UCL7wA/frBhQvQqRNnl3xBVtVqds18g4LpOXoc4U2bO6ZOuSa6xCMiIsVfejoMGABLl1q3R4+G116jpqsr1e9on3cmWfWcOD0FFBERKd4OHYJeveCXX8Dd3Tpt/aBBtqfNZhfCIqMcVp5cHwUUEREpvn74Ae6+G06fhgoVYMkSaK5LNyWBxqCIiEjx9OGHcOed1nDSsCFs365wUoIooIiISPGSnQ2PPw5Dh0JWlnVQ7MaNEBbm6MrkJtIlHhERKT6SkuDee2H1auv2xInw7LN2k69JyaCAIiIiTsliybG/+wYz5t53we+/g7c3zJ8Pd93l6DKlkCigiIiI09kfu5m1c2fbFvyrfiKR8rG78MjMgqpVYdkyiNKdOSWZAoqIiDiV/bGbWfb6JOuGYdB43x+0/mUvJuBIuUCyZs2khsJJiadBsiIi4jQslhzWzp0NWFci7rztZ9r8FU5+rlGFxa2bsnrZIiyWHMcWKoVOPSgiIuI0jsXHkZ50Gv/08/TYvIMKyalYTCbWNYhgV62qYDKRduY0x+LjNPlaCaeAIiIiTiM9+Sw1jp+kS+wuPLOyOe/hzvJmDTlcIThPOynZFFBERMQ55OQQOu8T6m38EYDjQQF8E30baWW88jT1CShb1NVJEVNAERERx0tMhH/9C781awD4qVY1NtxaD4tL3qGSvkHBhNaLLOoKpYgpoIiIiGNt3mydDfbYMfD25sQzT7Fu97YrNm83cJhWIy4FdBePiIg4hmHAjBnQpo01nNSrB9u3U3H88/QcPQ6fQPtxJ75BwfQcPY7wplpvpzRQD4qIiBS9tDR4+GH4/HPr9n33wQcfgI8PAOFNm1OzSVP7mWTrRarnpBRRQBERkaIVFwd9+sC+feDmBtOnw6hRedbTMZtddCtxKaaAIiIiRWfBAusqxOfPQ2goLFoE0dGOrkqckMagiIhI4cvMhMcegwcesIaT9u1h506FE7ki9aCIiMhNk2cF4nqRmI8dh3vugdhYa6Px42HCBHDReBK5MgUUERG5KS5fgRig7rkMOm/cjktKCpQtC/PnQ7duDqxSigsFFBERuWF2KxADGAbN9vxO87jfMAEX69bBc8VKqFbNUSVKMaOAIiIiN+TSFYgBPDMy6RK7ixoJpwDrKsQ/tmrC4CphGvgo10wBRUREbkjuCsQAlU4n0W3rLvzOXyDLxczqRvXZU60ypJzVCsRSIAooIiJyQ9KTz2KyWGgW/zvN9uzHbMBZnzIsa96I0wF+du1ErpUCioiI3BD/8xe4d/1WQk9bA0hc1VDW3hZJppubXTutQCwFoYAiIiLXb+FCKj7yCKaUFDLcXFl92y3srRqap5lWIJaCUkAREZGCS0uDxx+HuXMxARfq38InYeVI9SmTb3OtQCwFpQHVIiJSMNu2QcOGMHcumM3w/PN4/bSTts+/rBWI5aZRD4qIiFybnByYOhWeew6ys6FKFfj0U2jZEtAKxHJzKaCIiMg/O3oUBgyAdeus2/36wfvvQ0CAXTOtQCw3iy7xiIjI1S1ZAlFR1nDi7Q1z5sDChXnCicjNpB4UERHJ37lzMHo0zP5rltjGjWHBAggPd2xdUioUqAflvffeIyoqCj8/P/z8/IiOjmbFihV52hmGQZcuXTCZTHz55Zd2zx0+fJhu3bpRpkwZypcvz5gxY8jOzr6hDyEiItfPYsnhSNwvxG/awJG4X7BYcmDnTmsgmT0bTCZ4+mnYtEnhRIpMgXpQKleuzKuvvkp4eDiGYTBv3jx69erFzp07iYz8+/72N998E5PJlOf1OTk5dOvWjZCQEDZv3syJEycYMGAAbm5uTJo0KU97EREpXHlWIDYMoo8m0uzHnzFnZUGlSvDxx3DnnY4tVEodk2EYxo28QWBgIFOnTmXIkCEA7Nq1i+7du/Pjjz9SsWJFli5dSu/evQFYsWIF3bt35/jx41SoUAGAWbNm8fTTT3Pq1Cnc3d3zPUZGRgYZGRm27dTUVMLCwkhJScHPzy/f14iIyNVdvgJxmQsX6bLtZ6qdtIaV9Dat8fliCQQFOapEKWFSU1Px9/e/pr/f1z1INicnh4ULF3Lu3Dmio6MBOH/+PP/617+YOXMmISEheV6zZcsW6tevbwsnAJ06dSI1NZW4uLgrHmvy5Mn4+/vbHmFhYddbtoiIkHcF4hrHTzLwux+odvI0WS5mYhrdwoJ61bCUDXBckVKqFXiQ7O7du4mOjubixYv4+PiwdOlSIiIiAPjPf/5D8+bN6dWrV76vTUhIsAsngG07ISHhisccO3Yso0ePtm3n9qCIiMj1yV2B2CMzi7a79nDLoaMAJPr7srxZQ5L8fSHpjFYgFocpcECpU6cOu3btIiUlhcWLFzNw4EA2bNjA77//ztq1a9m5c+dNL9LDwwMPD4+b/r4iIqVVevJZqp9IpMOPu/G9cBED2FG7Ohvr1yHHxcWunYgjFDiguLu7U6tWLQAaNWrE9u3bmTFjBl5eXhw4cICAy+6L79OnD61atWL9+vWEhISwbds2u+dPnjwJkO8lIRERKQTJyVSZ9jr1ftgOQJKPN981ieJYucA8TbUCsTjKDc+DYrFYyMjI4MUXX+Thhx+2e65+/fq88cYb9OjRA4Do6GheeeUVEhMTKV++PAAxMTH4+fnZLhOJiEghWrEChg7F+9gxW6/JplvqkO2adzp6rUAsjlSggDJ27Fi6dOlClSpVSEtLY8GCBaxfv55Vq1YREhKSby9IlSpVqF69OgAdO3YkIiKC/v37M2XKFBISEhg/fjwjR47UJRwRkcKUnGyddG3OHOt2eDhH/+8/bFi7/Iov0QrE4kgFCiiJiYkMGDCAEydO4O/vT1RUFKtWraJDhw7X9HoXFxe++eYbRowYQXR0NN7e3gwcOJCXXnrpuooXEZFr8FevCceOWSdde+IJePllwsqUoWeDW+3nQcHac9Ju4DCtQCwOdcPzoDhCQe6jFhEptS7vNalVy/rvv1YfzmWx5GgFYikSBfn7rbV4RERKost7Tf79b3jlFShTJk9TrUAszkgBRUSkGLpir8c19pqIODsFFBGRYibP+jmAT2Aw3WvXJ3T6G9fUayLi7BRQRESKkcvXzwHwyMyixco1hM6aZ92hXhMpARRQRESKicvXzwGodiKRjpfMBvtrVD0iN8Vi9vF1TJEiN4kCiohIMZG7fg6AV0YmrX+Ot62hc9anDKua3MqxcoEE/HlQg16l2FNAEREpJtKTz4JhcMvBo7T+JR6vzCwM4Kdw6xo6ubPBav0cKQkUUEREiomAM0ncu24rlU8nAdaVh1c3qs+JYPv1crR+jpQECigiIs7uwgV4+WVCpk7FlJVFlosLmyPD+al2dSxms11TrZ8jJYUCioiIM1u1Ch59FP74AxOQ3rIFC/zdSfPO/9ZhrZ8jJYX5n5uIiEiRS0iA+++Hzp3hjz8gNBSWLMHn+x9o99zL+AQG2zX3DQqm5+hxWj9HSgz1oIiIOBOLBd5/H8aOhZQUMJvhscdg4kTwtd46HN60OTWbNNX6OVKiKaCIiDiLn3+G4cMhNta63bixNazcdlueplo/R0o6BRQRkSJyxfVz0tNhwgR4803IybH2lLzyinXsiYt6RaR0UkARESkCV1o/p0eNelR6eyYcOWLd2bevNaiEhjqmUBEnoYAiIlLI8ls/x/f8Be7YuJJKx/9aP6daNZg5E7p2LfoCRZyQAoqISCG6fP0ck8VCw/2HaBH3G+7ZOeSYTOxuEEnU95u1fo7IJRRQREQK0aXr54Qlnqbdzj2US0mzPhdUltWNbuF0gB9BWj9HxI4CiohIIUpPPovvufO0+TmeOkcTALjg7sYP9euyu0YYmEy2diLyNwUUEZHCcv48lT5dyOCVG3DLsWAxwS81qrLpltpc9HC3a6r1c0TsKaCIiNxshgGLF8OTT+J/+DAAh8sFsq5hJKcD/PI01/o5InkpoIiI3Ey//AKPPw4bNli3q1ThxPChLNq1xXY553JaP0ckL63FIyJyM5w5AyNHQsOG1nDi6QkvvADx8VQcN56e//es1s8RKQD1oIiI3IjsbJg9G557DpKSrPv69oVp06BqVVszrZ8jUjAKKCIi/+CKU9Rv2GC9nPPLL9aG9evDjBnQrl2+76P1c0SunQKKiMhV5DdFfYibJz0TzuK7Zq11R9my1tWGhw8HV/1aFbkZ9JMkInIFl09R75qdQ+N9f3D73t9xy7FgmM2Yhg+3hpOgIAdWKlLyKKCIiOTDbop6wyD8WAJtdsXjf/4CAEfKBRLbtgV3v/O2xpGIFAIFFBGRfOROUV8hKZm2u+KpfNo6ADa1jCcbbq3Hb5UrgsnCsfg4jSsRKQQKKCIi+bi4N56uW3dS7/BxALJczPxYpybb6tYk2/XvHhNNUS9SOBRQREQulZICr75Krddfx5SZiQHsqRrKxvp1SC/jlae5pqgXKRwKKCIi8Pd8JhMmwKlTmIBjlUJYG1mLxLL++b5EU9SLFB7NJCsipZthwDffWOcwGTkSTp2COnVg2TLOf7H4iuEENEW9SGFSQBGR0mvnTmjfHnr0gL17ITgYZs6E3buhRw/Cm7Wg5+hxmqJexAF0iUdESqQrzv4KcPQojB8PH39s7UHx8IAnnoCxY8HfvsdEU9SLOIYCioiUOPnN/uoTGMyd9zxArXXfw/TpcME6nwn33w+TJkG1ald8P01RL1L0FFBEpES5fPZXAJPFQvXtP1Fx7kK4mGHd2bKlNajcfrsDqhSRf6KAIiIlht3sr3+pdiKR1r/spVxKGgAp/r74fvgR5j59wGRyRJkicg0UUESkxMid/RWgXHIqrX+Op9pJ6/YFdze2RITzc82q9K1XmzCFExGnpoAiIiVGevJZfM+dp8WvvxHx5zFMQI7ZxM5a1dgaEU6Gu5utnYg4NwUUESkZkpII/eAjHlqxAVeLBYC9YZXYWL8OKT5l7Jpq9lcR56eAIiLF28WL8PbbMGkSfsnJABwuH8T3UXU5GRiQp7lmfxUpHhRQRKR4ysmBTz6B556DI0es++rX59jggSzasvaKA2A1+6tI8aCAIiLFi2HAypXw9NPWGV8BKleGiROhf39CXVzo2Tw6zzwovkHBtBs4TLO/ihQTCigi4jSuOvsrwI4d8NRTsHatddvfH8aNg8ceA6+/VxrW7K8ixZ8Ciog4hSvN/nrHoGGElwuBZ5+FhQutT7i7W0PJuHEQGJjv+2n2V5HiTQFFRBwuv9lfAXJOHCe1/wMYB49iys62jit54AHr5ZyrTE0vIsWfAoqIOFR+s7+6Zudw228HuX3fATyysgEwOnTANGUKNGjggCpFpKgpoIiIQ106+6vJYiHy0FGax/2G7wXrmjmJAX58H1WXpm9M0yUbkVJEAUVEHCo9+SwYBjVOJNLql70Ep6YDkFLGi43167C3SiUwmYjU7K8ipYoCiog4VODhI9y7biuVTycB1jVzYuvVYletquS4/H3XjWZ/FSldFFBExDH274dx46iweDEAWS5mdoZXZ1vdmrY1c3Jp9leR0kcBRUSKVmIivPQSvP8+/HVnTmrXLiw0XSStjFe+L9HsryKlj9nRBYhIKZGebg0mNWvCzJnWcNK1K/z8M37fLKfd+In4BAbbvcQ3KJieo8dp9leRUkg9KCJSuLKz4b//hRdegJMnrfsaN4apU6FtW1szzf4qIpdSQBGRG3LF6ekNA778EsaOhX37rI1r1IBJk+Cee8CctwNXs7+KSK4CXeJ57733iIqKws/PDz8/P6Kjo1mxYgUASUlJPPbYY9SpUwcvLy+qVKnC448/TkpKit17HD58mG7dulGmTBnKly/PmDFjyM7OvnmfSESKzP7YzXwwcgifvzSOb9+ayucvjeODkUM4MnsWtGwJd99tDSfBwfDWWxAfD/fem284ERG5VIF6UCpXrsyrr75KeHg4hmEwb948evXqxc6dOzEMg+PHjzNt2jQiIiL4888/eeSRRzh+/DiL/xqln5OTQ7du3QgJCWHz5s2cOHGCAQMG4ObmxqRJeae5FhHnld/09IGp6bTc9CNhs+ZZd3h5wejR1gX+/PwcUKWIFFcmwzCMG3mDwMBApk6dypAhQ/I8t2jRIh588EHOnTuHq6srK1asoHv37hw/fpwKFSoAMGvWLJ5++mlOnTqFu7v7NR0zNTUVf39/UlJS8NMvPZEiZ7Hk8MHIIbYZYMtcuEjzuP3UP3gEs2FgMcG+uuHU+W4N5sphDq5WRJxFQf5+X/cYlJycHBYtWsS5c+eIjo7Ot01uAa6u1sNs2bKF+vXr28IJQKdOnRgxYgRxcXE0bNgw3/fJyMggIyPDtp2amnq9ZYvITZA7Pb1rdjaN9x2kyb4DuGfnAPB7pQr8UL8OSf6++KScJUwBRUSuQ4EDyu7du4mOjubixYv4+PiwdOlSIiIi8rQ7ffo0EydOZNiwYbZ9CQkJduEEsG0nJCRc8ZiTJ0/mxRdfLGipIlJI0s+cJvLgEVr8us+2Zs7xwAC+v7Uex8oF/t1O09OLyHUqcECpU6cOu3btIiUlhcWLFzNw4EA2bNhgF1JSU1Pp1q0bERERTJgw4YaLHDt2LKNHj7Z7/7Aw/a9MxCHWrKHmqJHU22u9MyfF24sf6tdlX1hFMJnsmmp6ehG5XgUOKO7u7tSqVQuARo0asX37dmbMmMH7778PQFpaGp07d8bX15elS5fi5vb3lNUhISFs27bN7v1O/jUvQkhIyBWP6eHhgYeHR0FLFZGbKT4exoyB5ctxBzLc3dhatyY7w6vZrZmTS9PTi8iNuOF7/SwWi218SGpqKh07dsTd3Z1ly5bh6elp1zY6Oprdu3eTmJho2xcTE4Ofn1++l4lExAkkJsKIEVC/PixfDq6u8NhjHF32JT/WrZlvOAFNTy8iN6ZAPShjx46lS5cuVKlShbS0NBYsWMD69etZtWqVLZycP3+eTz75hNTUVNtg1nLlyuHi4kLHjh2JiIigf//+TJkyhYSEBMaPH8/IkSPVQyLibC5cgDffhMmTIS3Nuq93b3jtNahdm5pAz4AA1s6dbbubB6w9J+0GDtP09CJyQwoUUBITExkwYAAnTpzA39+fqKgoVq1aRYcOHVi/fj2xsbEAtktAuQ4ePEi1atVwcXHhm2++YcSIEURHR+Pt7c3AgQN56aWXbt4nEpFrcsUZYC0WWLAAxo2DI0esjRs1gunToU0bu/fQ9PQiUlhueB4UR9A8KCI3Zn/s5jw9Hz6BwXSLakLl/86BHTusO8PCrD0o99+v2V9F5IYVyTwoIlI85TcDbNm0dFpv/JHKuTPA+vpa19B54gnrbLAiIkVMAUWkFLFYclg7d7Zt2ysjk2Zx+7n1wJ+4GAYWk4n4iNrUW70Oc0hFB1YqIqWdAopIKZI7A6zZYqHB/kNE79mPZ5Z1sc4DFcvz/a11SfLzxe/MKcIUUETEgRRQREqR9OSzVE04RbudcQSlnQMgMcCPDbfW43CFYLt2IiKOpIAiUlocOEC15yZQ73vrZInnPdz5oX4d4qqFYZg1A6yIOBcFFJGSLj0dJk2C6dPxyswkx2xiZ61qbI0IJ8PdLU9zzQArIs5A9w2KlFSGAZ9+CnXqWG8VzsyEjh058uknbGgQkW84Ac0AKyLOQT0oIiXRjh3w+OOwebN1u0YNeP116NmTaiYTPatX0wywIuLUFFBESpLERHj2Wfjvf609KGXKWLdHj4ZL1sbSDLAi4uwUUESKkStOT5+VBTNnwoQJkJJibfyvf1nXzalcOd/3MptdCIuMKrriRUQKQAFFpJi40vT03es1IHTWbIiPt+687TZ46y1o0cJBlYqI3DgFFJFiIL/p6f3Tz9Nm00pCc6enDw623q3z0EPgoks1IlK8KaCIOLnLp6d3zc6mafwBGu/7A1eLBYvJRNwtdYlc9z3moOCrvJOISPGhgCLi5HKnp8cwCD+WQLude/C9cBGAPysEs65BBGf8fQlIOE6YAoqIlBAKKCJOLj35LH7nznPHT3HUPJEIQIq3F+sbRPB7pQpgMtnaiYiUFAooIs4sK4uKS75k0MrvccvJIcdsYludmmyrV4tsV/txJpqeXkRKEgUUEWe1ZQsMH07A7t0AHCkXyOpGt5Dk55unqaanF5GSRgFFxNmcPQvPPAOz/xoYGxREwojhfL5vl+1yzuU0Pb2IlDRai0fEWRgGLFgAdev+HU4GD4a9ewmZ+Ao9/+9ZfALtB8H6BgXTc/Q4TU8vIiWOelBEnMHvv8OIEbB6tXW7Xj2YNQtat7Y10fT0IlKaKKCIOFJGBkyZAq+8Yv23pyeMHw9jxoC7e57mmp5eREoLBRSRQnbF9XPWr4dHHoF9+6wNO3aEd9+FmjUdWq+IiDNQQBEpRPmtnxPs5cNdp1Lx+3aFdUeFCvDmm3DvvVccBCsiUtoooIgUkjzr5xgGtxw8Sutf4vHKzMIwmTA98oh1/ZyAAIfVKSLijBRQRArB5evnBKak0WHHr1Q+nQRAYoAfm+5oSa933tYgVxGRfCigiBSC3PVzTBYLTfb+QfSe/bhaLGS5uLDpltr8FF4Nw2ziWHycBr2KiORDAUWkEKQnnyUoJY3O234m5GwKAAcqlmfNbbeQ5u1l105ERPJSQBG52bKzqfj5FzwYsxFXi4UL7m6saxhBfJXQPINgtX6OiEj+FFBEbqZff4VBgwjYsQOAA5XKE9OoPue8PPM01fo5IiJXpoAicjNkZ1snXHvxRcjMhLJlSXj8Mb7c86PWzxERuQ4KKCI3Ki4OBg2CH3+0bvfoAe+/T0jFivTMZx4U36Bg2g0cpvVzRESuQgFF5HplZ8PUqTBhgq3XhLfeggcesPWaaP0cEZHro4Aicj2u0GtCxYp5mmr9HBGRglNAEcnHFdfPubzXJCDA2mvy4IOapl5E5CZSQBG5TH7r5/gEBtO5dXuqvj7jmnpNRETkxiigiFwiz/o5gMliIWLTVkJnzweLRb0mIiJFQAFF5C+Xr58DEJSSRqftP1MxyTob7J9VKxO2aQvm0MqOKFFEpNRQQBH5S+76OQAmi0HjfX/QPO43XC0WLrq5srZhJPFVQ+mXnESYAoqISKFSQBH5S+66OD7nL9Bl289USTwDWNfQiWn892ywWj9HRKTwKaCI/MUnoCy1jibQ8cdf8MrMItPVhbUNI4mrVtlurInWzxERKXwKKCIA585RecY7hG22rqGTUNaf5c0akuzrbddM6+eIiBQNBRSRXbvg/vsx7d2LYTKxvU4NNkXWxuJiztNU6+eIiBSNvL+BRUoLiwXeeAOaNoW9e6FSJUwxMZSd+zFlypW3a+obFEzP0eO0fo6ISBFRD4qUTgkJ1qnqV62ybvfuDR9+CEFBhIPWzxERcTAFFCl9li+HwYPh1Cnw8rL2ogwbZjcQVuvniIg4lgKKlB4XL8JTT8Hbb1u3o6Lgs88gIsKxdYmISB4agyKlw6+/QpMmf4eTJ56A2FiFExERJ6UeFCkx8l2B2GSGd9+FJ5+09qCULw9z50KXLo4uV0RErkIBRUqE/FYgDvbyoc/vR/HZtMm6o0sXmDMHKlRwUJUiInKtFFCk2MtvBeKqCafovG01PhczsLi5YZ42DR57TKsPi4gUEwooUqxdvgKxOcdCy1/30WTfHwCc9vNhfad23D1qJGaFExGRYkMBRYq1S1cg9j13nh5bfqJiUgoAu2pWYcOtEWSbLByLj9NtwyIixYgCihRruSsLVzuRSNfYXXhlZnHB3Y1VTaI4EBqSp52IiBQPCihSrPn4+hH9629E79mPCesif183v41U7zL27bQCsYhIsaKAIsXX6dNUfvJpwvbsB+DnGlVY1zCCHBf7Kem1ArGISPGjgCLF07Zt0LcvpiNHsHh4sOrWuuypVjnfplqBWESk+CnQTLLvvfceUVFR+Pn54efnR3R0NCtWrLA9f/HiRUaOHElQUBA+Pj706dOHkydP2r3H4cOH6datG2XKlKF8+fKMGTOG7Ozsm/NppOQzDOvEay1bwpEjEB6Oeft2ar31Lj6BwXZNtQKxiEjxVaAelMqVK/Pqq68SHh6OYRjMmzePXr16sXPnTiIjI/nPf/7D8uXLWbRoEf7+/owaNYq7776bTX9NlJWTk0O3bt0ICQlh8+bNnDhxggEDBuDm5sakSZP+4ehS6p07Z13Ub8EC6/bdd8NHH4G/v1YgFhEpYUyGYRg38gaBgYFMnTqVvn37Uq5cORYsWEDfvn0B2Lt3L/Xq1WPLli00a9aMFStW0L17d44fP06Fv2bznDVrFk8//TSnTp3C3d39mo6ZmpqKv78/KSkp+Pn53Uj5Ulzs2wd9+kBcHLi4wGuvwejRmnhNRKQYKcjf7+teLDAnJ4eFCxdy7tw5oqOj2bFjB1lZWbRv397Wpm7dulSpUoUtW7YAsGXLFurXr28LJwCdOnUiNTWVuLi4Kx4rIyOD1NRUu4eUIosXQ+PG1nBSsSKsWwf/938KJyIiJViBA8ru3bvx8fHBw8ODRx55hKVLlxIREUFCQgLu7u4EBATYta9QoQIJCQkAJCQk2IWT3Odzn7uSyZMn4+/vb3uEhYUVtGwpjrKy4D//gXvugfR0aNMGfvoJWrVydGUiIlLIChxQ6tSpw65du4iNjWXEiBEMHDiQPXv2FEZtNmPHjiUlJcX2OHLkSKEeT4qWxZLDkbhfiN+0gSNxv2Cx5MCxY9CuHbz5prXR00/D6tUQEnLV9xIRkZKhwLcZu7u7U6tWLQAaNWrE9u3bmTFjBvfeey+ZmZkkJyfb9aKcPHmSkL/+qISEhLBt2za798u9yyfkKn94PDw88PDwKGipUgzktwpx7QtZdNm4HdezZ8HfH+bNg169HFiliIgUteseg5LLYrGQkZFBo0aNcHNzY82aNbbn9u3bx+HDh4mOjgYgOjqa3bt3k5iYaGsTExODn58fERERN1qKFDO5qxDbwolhcHv873T75jtcz54lI7wW7NihcCIiUgoVqAdl7NixdOnShSpVqpCWlsaCBQtYv349q1atwt/fnyFDhjB69GgCAwPx8/PjscceIzo6mmbNmgHQsWNHIiIi6N+/P1OmTCEhIYHx48czcuRI9ZCUMpevQuyRmUWX2F3UPGENr79Wq0xs26YMrl7txlO0iIgUOwUKKImJiQwYMIATJ07g7+9PVFQUq1atokOHDgC88cYbmM1m+vTpQ0ZGBp06deLdd9+1vd7FxYVvvvmGESNGEB0djbe3NwMHDuSll166uZ9KnN6lqxAHJ6fSa9OPBJy7QLbZzJrbIvm1RhVISdYqxCIipdQNz4PiCJoHpfiL37SBb9+aSq2jJ+iy7Wfcs3NI9vbi6+aNSCzrb2vX9fEx1GvRxoGViojIzVKQv99ai0ccwsc/gGZx+2kR9xsAhyoEs7xZQy562E/Wp1WIRURKJwUUKXrnzlH5xZcJ+yuc7AivxoZb62GY7UebaBViEZHSSwFFitbhw9C7N6adOzFcXfmuQT3reJN8aBViEZHSSzdISNHZvBmaNIGdO6FcOUzr1lHjnVlahVhERPJQD4oUjTlz4JFHIDMTbr0VvvoKqlbVKsQiIpIvBRQpXNnZ8NRT8MYb1u0+fWDuXPDxsTUxm110K7GIiNhRQJHCk5wM990Hq1ZZtydMgOeeA7OuLIqIyNUpoEjh2LcPevaE336DMmWs6+n07evoqkREpJhQQJGbb9UquPdeSEmBsDBYtgwaNHB0VSIiUoyor11uHsOwjjXp2tUaTpo3h+3bFU5ERKTA1IMi18ViybG/86ZGLcwjR1nv1gF46CF4913QIpAiInIdFFCkwPbHbmbt3Nm2xf7KXMzgrtifCTl5yjoAdvp0+Pe/wWRycKUiIlJcKaBIgeyP3cyy1yfZtsufTaH3xh/xvXCRi26unJk6hdB/P+G4AkVEpERQQJFrZrHksHbubNt27SMn6LxtF245FpJ8vfmyZWOy9/3Mw5YcTbQmIiI3RAFFrtmx+DjrZR3D4Pb4A7T6dR8AB0PKsbxZQzLc3eDMaY7Fx2niNRERuSEKKHLN0pPPYrZYuHPHr0QdPALAjvDqf61EbLJrJyIiciMUUOSa+bq6cdcP26l28jQWE6xrEMmu8Gp52vkElC364kREpERRQJFrc/QoocNGYDp5miwXF76JbsgflSrkaeYbFExovUgHFCgiIiWJAor8s127oFs3TMePkx0UxMKG9UgM9M+3abuBwzRAVkREbphmkpWrW7kSWrWC48chIgLXHTto9vJr+AQG2zXzDQqm5+hxhDdt7qBCRUSkJFEPilzZBx/AiBGQkwPt2sGSJRAQQHjVqtRs0tR+Jtl6keo5ERGRm0YBRfKyWGD8eJg82bo9YIA1rLi725qYzS66lVhERAqNAorYu3gRBg+GhQut2y+8YH1o2noRESlCCijytzNnoHdv2LgRXF3hww9h4EBHVyUiIqWQAopYHTgAXbvCb7+Bn591vMmddzq6KhERKaUUUAS2boWePeHUKahSBZYvh1tucXRVIiJSiimglCIWS07eO2++/AoeeMA69uS22+Cbb6BiRUeXKiIipZwCSimxP3Yza+fOti72B2AYRB9NJHrrDkyGAd26WQfG+vg4tlAREREUUEqF/bGbWfb6JNu2yWLQblccDX//E4Dku+8i4H+fWwfGioiIOAHNJFvCWSw5rJ0727btmp1Nr80/2sLJ+lvr8Xl5Xyxm3UYsIiLOQwGlhDsWH2e7rON1MYN7122l5vFEss1mlkXfxo46NUhLOsOx+DgHVyoiIvI39emXcOnJZwHwSz9P3+9jKZt+ngvubnzZsjHHgwPztBMREXEGCiglnE9AWcolp3L399vwuZhBShkvvmhzO2d9ffK0ExERcRYKKCVcaOJp7l2/FY/MLE75+/JF69s55+Vp18Y3KJjQepEOqlBERCQvjUEpyZYswdylKx6ZWRwpF8j/2kXnCScA7QYO00rEIiLiVBRQSqpZs6BvX8jIgLvuImPxYtxC7Cdg8w0KpufocYQ3be6gIkVERPKnSzwljWHASy/BhAnW7WHD4N13qeXiQo2WrfPOJKueExERcUIKKCVJTg6MGmXtPQF4/nlrUDFZ5zgxm10Ii4xyXH0iIiLXSAGlpLh40bqmzpIl1kDyzjvw6KOOrkpEROS6KKCUBCkp0KsXbNgA7u7w6afW8SciIiLFlAJKcXfiBHTpAj//DL6+8NVX0K6do6sSERG5IQooxdn+/dCxIxw6BBUqwIoV0LCho6sSERG5YbrNuLj68Udo0cIaTmrWhM2bFU5ERKTEUA+Kk7NYcvLeGrxmLdx9N6Snw223wbffWntQRERESggFFCe2P3Yza+fOtq1GDHBrUhp3rt+MKTsb7rzTeteOn58DqxQREbn5FFCc1P7YzSx7fZLdvoa/HeSOXXsASLvzDnyXLwcPD0eUJyIiUqg0BsUJWSw5rJ07++8dhkHLX/bawslPtarxWXhlLG7KlyIiUjIpoDihY/Fxtss6JouFjj/+QtO9BwD44ZY6rGsYQVrSGY7FxzmyTBERkUKj/4I7ofTkswC45OTQdesuah9LwGKC1Y3qs7tGlTztREREShoFFCfkE1AW1+xsem3aQbWTp8k2m1nerAG/V66Yp52IiEhJpIDihEJDKnHvpp8IOXmaTFcXvmrRmMMVgu3a+AYFE1ov0kEVioiIFC4FFGeTkIC5Y0dCTp7igrsbS1s14URQ3p6SdgOHYTa7OKBAERGRwqdBss7k0CFo2RJ274aQEBI/+i9p4eF2TXyDguk5ehzhTZs7pkYREZEioB4UZ7FnD3ToAMePQ/XqEBND1Zo1GXr/v/LOJKueExERKeEUUJzBjz9C585w5gxERMB330FoKABmswthkVEOLlBERKRo6RKPo61fD3fcYQ0nTZrA99/bwomIiEhpVaCAMnnyZJo0aYKvry/ly5end+/e7Nu3z65NQkIC/fv3JyQkBG9vb2677Ta++OILuzZJSUk88MAD+Pn5ERAQwJAhQ0hPT7/xT1PcfP21teckLQ3atYM1ayAoyNFViYiIOFyBAsqGDRsYOXIkW7duJSYmhqysLDp27Mi5c+dsbQYMGMC+fftYtmwZu3fv5u6776Zfv37s3LnT1uaBBx4gLi6OmJgYvvnmG77//nuGDRt28z5VcfDpp3DXXZCRAb16WVck9vV1dFUiIiJOwWQYhnG9Lz516hTly5dnw4YNtG7dGgAfHx/ee+89+vfvb2sXFBTEa6+9xsMPP0x8fDwRERFs376dxo0bA7By5Uq6du3K0aNHqVSp0j8eNzU1FX9/f1JSUvArjiv5zpwJo0ZZ/92/P3z0EbhqOJCIiJRsBfn7fUNjUFJSUgAIDAy07WvevDn/+9//SEpKwmKxsHDhQi5evEjbtm0B2LJlCwEBAbZwAtC+fXvMZjOxsbH5HicjI4PU1FS7R7FkGPDKK3+Hk8ceg7lzFU5EREQuc90BxWKx8MQTT9CiRQtuueUW2/7PP/+crKwsgoKC8PDwYPjw4SxdupRatWoB1jEq5cuXt3svV1dXAgMDSUhIyPdYkydPxt/f3/YICwu73rIdxzBgzBgYP966/fzzMGMGmDVOWURE5HLX/V/3kSNH8uuvv7Jx40a7/c899xzJycmsXr2a4OBgvvzyS/r168cPP/xA/fr1r+tYY8eOZfTo0bbt1NRUpw4pFkuO/dwltetiHvEo/Pe/1gZvvAFPPOHQGkVERJzZdQWUUaNG2Qa3Vq5c2bb/wIEDvPPOO/z6669ERlrXibn11lv54YcfmDlzJrNmzSIkJITExES798vOziYpKYmQkJB8j+fh4YGHh8f1lFrk9sduZu3c2aQnnQasKxL32BlPzT/+tPaWfPghDB7s4CpFREScW4GuLxiGwahRo1i6dClr166levXqds+fP3/e+qaXXbZwcXHBYrEAEB0dTXJyMjt27LA9v3btWiwWC02bNr2uD+Es9sduZtnrk2zhxDU7m94bf6TmH3+SbTZz/JWJCiciIiLXoEA9KCNHjmTBggV89dVX+Pr62saM+Pv74+XlRd26dalVqxbDhw9n2rRpBAUF8eWXX9puJwaoV68enTt3ZujQocyaNYusrCxGjRrFfffdd0138DgriyWHtXNn27Y9MrO464fthJ45a1uR+Ozh33jYkqOp6kVERP5BgXpQ3nvvPVJSUmjbti0VK1a0Pf73v/8B4Obmxrfffku5cuXo0aMHUVFRfPzxx8ybN4+uXbva3ufTTz+lbt263HnnnXTt2pWWLVsye/bsKx22WDgWH2frOfG6mEG/9VsJPXOWC+5uLG7TlMMVgkk7c5pj8XEOrlRERMT5FagH5VqmTAkPD88zc+zlAgMDWbBgQUEO7fTSk88C4HP+AvdsiCUw7RznPD1Y3Pp2Tgf45WknIiIiV6YJOG4Sn4Cy+Kef454Nsfifu0BqGS8WtWlKsq93nnYiIiJydQooN0moBe5fH4v3+Qsk+XizuE1T0ry97Nr4BgUTWi/SQRWKiIgUHwooN8OOHZg7dcL7/AVO+fuyuPXtnPfyzNOs3cBhGiArIiJyDTSN6Y3auBHuuAPOnIHbbyf1888xh1a2a+IbFEzP0eMIb9rcQUWKiIgUL+pBuRExMdaViC9cgLZtYdkyavr6Ur19B/uZZOtFqudERESkABRQrtfSpXDffZCZCV26wBdfgJd1zInZ7EJYZJSDCxQRESm+dInnenzyCdxzjzWc9O0LX35pCyciIiJy4xRQCmrWLBgwAHJyYNAg+OwzcHd3dFUiIiIligJKQUydCiNGgGHAY49ZVyd21VUyERGRm00B5VoYBjz/PDz1lHV73DiYMcO6OrGIiIjcdPrv/z8xDPjPf6yBBGDyZHjmGcfWJCIiUsIpoFzCYsmxvz24dl3MIx61XsoBmDkTHn3UsUWKiIiUAgoof9kfu5m1c2fbViQ2Wyz02BlPrQOHrJdy5syxDo4VERGRQqeAgjWcLHt9km3bNTuH7lt+ouaJRHLMJhJffomKCiciIiJFptSP8rRYclg7d7Zt2y0rm7s2bqfmiUSyXMx82aIxXx/Zj8WS48AqRURESpdSH1COxcfZLut4ZGbR9/tYqiSeIcPVlS9a386hiuVJO3OaY/FxDq5URESk9Cj1l3jSk8/a/t3i131UOpPMBXc3vmh9OycDA/JtJyIiIoWr1AcUn4Cytn//UL8uPhcusumWOpzx971iOxERESlcpf4ST2i9SHwCgwHIcnNlWYvGecKJb1AwofUiHVGeiIhIqVTqA4rZ7MIdg4ZdtU27gcMwm12KqCIREREp9QEFILxpc3qOHmfrScnlGxRMz9HjCG/a3EGViYiIlE6lfgxKrvCmzanZpKn9TLL1ItVzIiIi4gAKKJcwm10Ii4xydBkiIiKlni7xiIiIiNNRQBERERGno4AiIiIiTkcBRURERJyOAoqIiIg4HQUUERERcToKKCIiIuJ0FFBERETE6SigiIiIiNMpljPJGoYBQGpqqoMrERERkWuV+3c79+/41RTLgJKWlgZAWFiYgysRERGRgkpLS8Pf3/+qbUzGtcQYJ2OxWDh+/Di+vr6YTKab+t6pqamEhYVx5MgR/Pz8bup7y990nouGznPR0HkuGjrPRaewzrVhGKSlpVGpUiXM5quPMimWPShms5nKlSsX6jH8/Pz0A1AEdJ6Lhs5z0dB5Lho6z0WnMM71P/Wc5NIgWREREXE6CigiIiLidBRQLuPh4cELL7yAh4eHo0sp0XSei4bOc9HQeS4aOs9FxxnOdbEcJCsiIiIlm3pQRERExOkooIiIiIjTUUARERERp6OAIiIiIk5HAUVEREScTqkMKDNnzqRatWp4enrStGlTtm3bdtX2ixYtom7dunh6elK/fn2+/fbbIqq0eCvIeY6Li6NPnz5Uq1YNk8nEm2++WXSFFnMFOc8ffPABrVq1omzZspQtW5b27dv/4/e/WBXkPC9ZsoTGjRsTEBCAt7c3DRo0YP78+UVYbfFV0N/PuRYuXIjJZKJ3796FW2AJUZDzPHfuXEwmk93D09Oz8Is0SpmFCxca7u7uxkcffWTExcUZQ4cONQICAoyTJ0/m237Tpk2Gi4uLMWXKFGPPnj3G+PHjDTc3N2P37t1FXHnxUtDzvG3bNuPJJ580PvvsMyMkJMR44403irbgYqqg5/lf//qXMXPmTGPnzp1GfHy8MWjQIMPf3984evRoEVdevBT0PK9bt85YsmSJsWfPHuP333833nzzTcPFxcVYuXJlEVdevBT0POc6ePCgERoaarRq1cro1atX0RRbjBX0PM+ZM8fw8/MzTpw4YXskJCQUep2lLqDcfvvtxsiRI23bOTk5RqVKlYzJkyfn275fv35Gt27d7PY1bdrUGD58eKHWWdwV9DxfqmrVqgoo1+hGzrNhGEZ2drbh6+trzJs3r7BKLBFu9DwbhmE0bNjQGD9+fGGUV2Jcz3nOzs42mjdvbnz44YfGwIEDFVCuQUHP85w5cwx/f/8iqu5vpeoST2ZmJjt27KB9+/a2fWazmfbt27Nly5Z8X7Nlyxa79gCdOnW6Ynu5vvMsBXczzvP58+fJysoiMDCwsMos9m70PBuGwZo1a9i3bx+tW7cuzFKLtes9zy+99BLly5dnyJAhRVFmsXe95zk9PZ2qVasSFhZGr169iIuLK/RaS1VAOX36NDk5OVSoUMFuf4UKFUhISMj3NQkJCQVqL9d3nqXgbsZ5fvrpp6lUqVKeEC5/u97znJKSgo+PD+7u7nTr1o23336bDh06FHa5xdb1nOeNGzfy3//+lw8++KAoSiwRruc816lTh48++oivvvqKTz75BIvFQvPmzTl69Gih1upaqO8uIk7r1VdfZeHChaxfv75oBryVMr6+vuzatYv09HTWrFnD6NGjqVGjBm3btnV0aSVCWloa/fv354MPPiA4ONjR5ZRo0dHRREdH27abN29OvXr1eP/995k4cWKhHbdUBZTg4GBcXFw4efKk3f6TJ08SEhKS72tCQkIK1F6u7zxLwd3IeZ42bRqvvvoqq1evJioqqjDLLPau9zybzWZq1aoFQIMGDYiPj2fy5MkKKFdQ0PN84MABDh06RI8ePWz7LBYLAK6uruzbt4+aNWsWbtHF0M34/ezm5kbDhg35/fffC6NEm1J1icfd3Z1GjRqxZs0a2z6LxcKaNWvs0uGloqOj7doDxMTEXLG9XN95loK73vM8ZcoUJk6cyMqVK2ncuHFRlFqs3azvZ4vFQkZGRmGUWCIU9DzXrVuX3bt3s2vXLtujZ8+etGvXjl27dhEWFlaU5RcbN+P7OScnh927d1OxYsXCKtOqyIflOtjChQsNDw8PY+7cucaePXuMYcOGGQEBAbZbpvr3728888wztvabNm0yXF1djWnTphnx8fHGCy+8oNuMr0FBz3NGRoaxc+dOY+fOnUbFihWNJ5980ti5c6exf/9+R32EYqGg5/nVV1813N3djcWLF9vdMpiWluaoj1AsFPQ8T5o0yfjuu++MAwcOGHv27DGmTZtmuLq6Gh988IGjPkKxUNDzfDndxXNtCnqeX3zxRWPVqlXGgQMHjB07dhj33Xef4enpacTFxRVqnaUuoBiGYbz99ttGlSpVDHd3d+P22283tm7danuuTZs2xsCBA+3af/7550bt2rUNd3d3IzIy0li+fHkRV1w8FeQ8Hzx40ADyPNq0aVP0hRczBTnPVatWzfc8v/DCC0VfeDFTkPP87LPPGrVq1TI8PT2NsmXLGtHR0cbChQsdUHXxU9Dfz5dSQLl2BTnPTzzxhK1thQoVjK5duxo//fRToddoMgzDKNw+GhEREZGCKVVjUERERKR4UEARERERp6OAIiIiIk5HAUVEREScjgKKiIiIOB0FFBEREXE6CigiIiLidBRQRERExOkooIiIiIjTUUARERERp6OAIiIiIk7n/wFf5NrKx35R3gAAAABJRU5ErkJggg==\n",
         "text/plain": "<Figure size 640x480 with 1 Axes>"
        },
        "metadata": {},
        "output_type": "display_data"
       }
      ]
     }
    },
    "8db741cbba70453e85389177828591c0": {
     "model_module": "@jupyter-widgets/base",
     "model_module_version": "1.2.0",
     "model_name": "LayoutModel",
     "state": {
      "_model_module": "@jupyter-widgets/base",
      "_model_module_version": "1.2.0",
      "_model_name": "LayoutModel",
      "_view_count": null,
      "_view_module": "@jupyter-widgets/base",
      "_view_module_version": "1.2.0",
      "_view_name": "LayoutView",
      "align_content": null,
      "align_items": null,
      "align_self": null,
      "border": null,
      "bottom": null,
      "display": null,
      "flex": null,
      "flex_flow": null,
      "grid_area": null,
      "grid_auto_columns": null,
      "grid_auto_flow": null,
      "grid_auto_rows": null,
      "grid_column": null,
      "grid_gap": null,
      "grid_row": null,
      "grid_template_areas": null,
      "grid_template_columns": null,
      "grid_template_rows": null,
      "height": null,
      "justify_content": null,
      "justify_items": null,
      "left": null,
      "margin": null,
      "max_height": null,
      "max_width": null,
      "min_height": null,
      "min_width": null,
      "object_fit": null,
      "object_position": null,
      "order": null,
      "overflow": null,
      "overflow_x": null,
      "overflow_y": null,
      "padding": null,
      "right": null,
      "top": null,
      "visibility": null,
      "width": null
     }
    },
    "b8547a1b24d84400aff04b1fbf53608d": {
     "model_module": "@jupyter-widgets/controls",
     "model_module_version": "1.5.0",
     "model_name": "IntSliderModel",
     "state": {
      "_dom_classes": [],
      "_model_module": "@jupyter-widgets/controls",
      "_model_module_version": "1.5.0",
      "_model_name": "IntSliderModel",
      "_view_count": null,
      "_view_module": "@jupyter-widgets/controls",
      "_view_module_version": "1.5.0",
      "_view_name": "IntSliderView",
      "continuous_update": true,
      "description": "t",
      "description_tooltip": null,
      "disabled": false,
      "layout": "IPY_MODEL_8db741cbba70453e85389177828591c0",
      "max": 100,
      "min": 0,
      "orientation": "horizontal",
      "readout": true,
      "readout_format": "d",
      "step": 1,
      "style": "IPY_MODEL_6d0c08df7e264f2a9cd47d09a8d35ea4",
      "value": 86
     }
    }
   }
  }
 },
 "nbformat": 4,
 "nbformat_minor": 4
}
