{
 "cells": [
  {
   "cell_type": "markdown",
   "id": "359b40ce-7815-4a63-936a-0ab8fe188be1",
   "metadata": {},
   "source": [
    "# MACTI_LIB: graficación\n",
    "\n",
    "**Objetivo general.**\n",
    "\n",
    "Revisar las herramientas de graficación de la biblioteca MACTI_LIB.\n",
    "\n",
    " <p xmlns:cc=\"http://creativecommons.org/ns#\" xmlns:dct=\"http://purl.org/dc/terms/\"><a property=\"dct:title\" rel=\"cc:attributionURL\" href=\"https://github.com/repomacti/Curso_Macti/tree/main/03_Cuadernos_Interactivos/MACTI_LIB\">MACTI_LIB</a>, Diseño de cursos interactivos con la plataforma Macti by <a rel=\"cc:attributionURL dct:creator\" property=\"cc:attributionName\" href=\"https://www.macti.unam.mx\">Luis M. de la Cruz</a> is licensed under <a href=\"http://creativecommons.org/licenses/by-sa/4.0/?ref=chooser-v1\" target=\"_blank\" rel=\"license noopener noreferrer\" style=\"display:inline-block;\">Attribution-ShareAlike 4.0 International<img style=\"height:22px!important;margin-left:3px;vertical-align:text-bottom;\" src=\"https://mirrors.creativecommons.org/presskit/icons/cc.svg?ref=chooser-v1\"><img style=\"height:22px!important;margin-left:3px;vertical-align:text-bottom;\" src=\"https://mirrors.creativecommons.org/presskit/icons/by.svg?ref=chooser-v1\"><img style=\"height:22px!important;margin-left:3px;vertical-align:text-bottom;\" src=\"https://mirrors.creativecommons.org/presskit/icons/sa.svg?ref=chooser-v1\"></a></p> "
   ]
  },
  {
   "cell_type": "markdown",
   "id": "6df78d94-5956-4937-9caf-b4a9ffb3c8a3",
   "metadata": {},
   "source": [
    "## Motivación\n",
    "\n",
    "En la documentación de Matplotlib se puede observar una descripción gráfica como la siguiente:\n",
    "\n",
    "<img src=\"https://matplotlib.org/stable/_images/anatomy.png\" width=500>\n",
    "\n",
    "[<a href=\"https://matplotlib.org/stable/_images/anatomy.png\">https://matplotlib.org/stable/_images/anatomy.png</a>]\n",
    "\n",
    "\n",
    "* Es posible manipular casi cualquier elemento de la gráfica para obtener los resultados que deseamos.\n",
    "* Sin embargo, es posible que las instrucciones necesarias para realizar una gráfica se extiendan cada vez más, haciendo complicado entender todo el proceso y sobre todo la reutización.\n",
    "* Por ejemplo, para generar la siguiente gráfica:\n",
    "\n",
    "<img src=\"./TFR.png\" width=800>\n",
    "\n",
    "Se requiere de códigos bastante largos, a continuación se muestra un extracto:"
   ]
  },
  {
   "cell_type": "markdown",
   "id": "3924c03b-cf68-4c75-9be5-30405ef356d9",
   "metadata": {},
   "source": [
    "<div class=\"alert alert-info\">\n",
    "\n",
    "**Extracto de código en Python para genera la gráfica de población**\n",
    "\n",
    "```python\n",
    "def set_canvas(data, time, value, country, figsize, xstep=10, ystep = 1):   \n",
    "    p_max, y_max, p_min, y_min, x_min, x_max = maxmin(data, time, value, country)\n",
    "    print('Máximo = {}, \\t País : {}'.format(y_max, p_max))\n",
    "    print('Mínimo = {}, \\t País : {}'.format(y_min, p_min))\n",
    "    \n",
    "    # Se generan los yticks\n",
    "    yticks = [i for i in range(0, ceil(y_max)+1, ystep)]\n",
    "\n",
    "    fig = plt.figure(figsize=figsize)\n",
    "    ax = plt.gca()\n",
    "    \n",
    "    if not data.empty:\n",
    "        data.plot(x=time, y=value, color='lightgray', rot = 70, xlabel='', lw = 0.5, ax = ax, label='', legend=False)\n",
    "        \n",
    "    ax.spines.top.set_visible(False)\n",
    "    ax.spines.bottom.set_visible(False)\n",
    "    ax.spines.left.set_visible(False)\n",
    "    ax.spines.right.set_visible(False)\n",
    "    ax.set_ylim(y_min,y_max)\n",
    "    ax.set_yticks(yticks)\n",
    "    ax.set_xticks([a for a in range(x_min, x_max+1, xstep)])\n",
    "    ax.grid(lw=0.5, color='gainsboro')\n",
    "\n",
    "    return fig, ax\n",
    "\n",
    "def plot_country(ax, country, time='Year(s)', value = 'Value', color='gray', label='', maxim = 2021, ): \n",
    "    x = country[time][country[time]>=maxim-1]\n",
    "    y = country[value][country[time]>=maxim-1]\n",
    "    ax.plot(x, y, c=color, ls = '--', lw = 0.75)\n",
    "\n",
    "    x = country[time][country[time]<maxim]\n",
    "    y = country[value][country[time]<maxim]\n",
    "    ax.plot(x, y, c=color, ls = '-', lw = 2.0, label=label)\n",
    "\n",
    "# Construcción de la gráfica\n",
    "\n",
    "fig, ax = set_canvas(TFR, 'Year(s)', 'Value', 'Country or Area', (10,7))\n",
    "\n",
    "ax.plot([years[-1], years[0]],[2.1,2.1], c='dimgray', ls = 'solid', lw=0.75)\n",
    "ax.plot([years[-1], years[0]],[2.1,2.1], c='dimgray', ls = 'solid', alpha=0.25, lw=2.75) \n",
    "\n",
    "ax.set_title('Promedio de número de hijos por mujer', loc='left', color='gray', fontsize=10)\n",
    "ax.set_title('fuente: http://data.un.org', loc='right', color='gray', fontstyle='italic', fontsize=10)\n",
    "plt.suptitle('Evolución del TFR (Total Fertility Rate)', y = 0.96, color='black', fontsize=14)\n",
    "ax.annotate('Nivel de \\n reemplazo \\n promedio = 2.1', \n",
    "             xy=(2090, 2.095), xytext=(2090, 4.0),\n",
    "             bbox=dict(boxstyle='round', facecolor='whitesmoke', edgecolor='gray', alpha=0.75, linewidth=0.5),\n",
    "             arrowprops=dict(arrowstyle='->', facecolor='dimgray', edgecolor='dimgray'),\n",
    "             fontsize=8, color='black', horizontalalignment='center')\n",
    "\n",
    "c_to_plot = [('Niger', 'Nigeria', 'darkred'), \n",
    "             ('Central African Republic', 'República Centroafricana', 'red'),\n",
    "             ...,\n",
    "            ]\n",
    "\n",
    "for c in c_to_plot:\n",
    "    c_tfr = TFR_group.get_group(c[0]).dropna()\n",
    "    plot_country(ax, c_tfr, color=c[2])\n",
    "    ytext = c_tfr['Value'][c_tfr['Year(s)'] == 2020].values[0]\n",
    "    ytext_i = c_tfr['Value'][c_tfr['Year(s)'] == 1950].values[0]\n",
    "\n",
    "    ...\n",
    "\n",
    "    plt.annotate(c[1]+\": {:.2f}\".format(ytext), xy = (xy_x, ytext), xytext = (xytext_x, ytext+yoff), \n",
    "                     color = c[2], fontsize=8, fontweight='bold',\n",
    "                     bbox=dict(boxstyle='round', fc='white', ec='gainsboro', alpha=0.75, linewidth=0.25),\n",
    "                     arrowprops=dict(arrowstyle='-', color=c[2]))\n",
    "\n",
    "plt.savefig('TFR.png', dpi=300)\n",
    "plt.show()\n",
    "\n",
    "```\n",
    "\n",
    "</div>"
   ]
  },
  {
   "attachments": {},
   "cell_type": "markdown",
   "id": "6550a521-b256-4768-a5ca-dcf45f8faafa",
   "metadata": {},
   "source": [
    "* Es posible que en el proceso de desarrollo de este tipo de figuras, se vayan generando herramientas que pueden ser de utilidad a otros usuarios.\n",
    "* Para ello se pueden compartir funciones o módulos con los códigos generados.\n",
    "* También se puede construir una biblioteca que facilite el uso de las características actuales de Matplotlib y/o que agregue otras.\n",
    "\n",
    "**El módulo `macti.visual`**\n",
    "\n",
    "* Fue incentivado por la necesidad de graficar datos de simulaciones computacionales.\n",
    "* Se busca facilitar el uso de algunas características y que tenga compatibilidad con la forma en que se usan las funciones de Matplotlib.\n",
    "* Se tiene pensando agregar interactividad y otras características para graficación en 3D.\n",
    "* Se busca siempre tener actualización con las últimas versiones de matplotlib.\n",
    "* Está en constante desarrollo.\n"
   ]
  },
  {
   "cell_type": "code",
   "execution_count": null,
   "id": "e78168ea-de95-4019-998d-f189bda45083",
   "metadata": {
    "editable": true,
    "slideshow": {
     "slide_type": ""
    },
    "tags": []
   },
   "outputs": [],
   "source": [
    "import numpy as np\n",
    "import matplotlib.pyplot as plt\n",
    "import macti.visual as vis"
   ]
  },
  {
   "cell_type": "markdown",
   "id": "dd765b93-8c19-4430-84ea-87b5a2e23d37",
   "metadata": {},
   "source": [
    "## Definiendo un plotter"
   ]
  },
  {
   "cell_type": "code",
   "execution_count": null,
   "id": "57a5c013-7cc4-4a72-a5d1-188f1d1093a0",
   "metadata": {
    "scrolled": true,
    "tags": []
   },
   "outputs": [],
   "source": [
    "# Defino un plotter donde es posible realizar gráficas.\n",
    "vis.Plotter()"
   ]
  },
  {
   "cell_type": "code",
   "execution_count": null,
   "id": "29c7232c-02f8-42a5-83b5-ff3c37f18701",
   "metadata": {},
   "outputs": [],
   "source": [
    "# Puedo definir varias gráficas en un plotter.\n",
    "vis.Plotter(2,1)"
   ]
  },
  {
   "cell_type": "markdown",
   "id": "3a4edbd8-ee09-43f4-8c84-2911e8c85d30",
   "metadata": {
    "tags": []
   },
   "source": [
    "## Graficación de vectores en 2D"
   ]
  },
  {
   "cell_type": "code",
   "execution_count": null,
   "id": "8ae5f8f6-d3cf-49af-9f89-e24ae2aad31c",
   "metadata": {
    "tags": []
   },
   "outputs": [],
   "source": [
    "# Defino los vectores usando numpy\n",
    "v1 = np.array([1,2])\n",
    "v2 = np.array([5,1])\n",
    "\n",
    "print(v1, v2)\n",
    "\n",
    "# Defino un plotter\n",
    "v = vis.Plotter()\n",
    "\n",
    "# Grafico los vectores\n",
    "v.plot_vectors(1, [v1, v2], ['v1', 'v2'])\n",
    "\n",
    "# Muestro la rejilla\n",
    "v.grid()"
   ]
  },
  {
   "cell_type": "code",
   "execution_count": null,
   "id": "5c533244-5589-441a-92c4-6da7a0bfe3cd",
   "metadata": {
    "tags": []
   },
   "outputs": [],
   "source": [
    "print(v1, 5*v1)\n",
    "v = vis.Plotter()\n",
    "\n",
    "# Algunos parámetros de la función\n",
    "v.plot_vectors(1, [v1, 5*v1], ['v1', '5*v1'], w=0.020)\n",
    "\n",
    "v.grid()"
   ]
  },
  {
   "cell_type": "markdown",
   "id": "bccef7bf-f878-4ae9-88ec-656d8a3370a8",
   "metadata": {},
   "source": [
    "### Suma de vectores en 2D\n",
    "\n",
    "La función `plot_vectors_sum()` muestra gráficamente la suma de dos vectores en 2D."
   ]
  },
  {
   "cell_type": "code",
   "execution_count": null,
   "id": "e876ad17-df5c-44bd-af9b-91b6feaa8c59",
   "metadata": {
    "scrolled": true,
    "tags": []
   },
   "outputs": [],
   "source": [
    "print(v1, v2, v1+v2)\n",
    "\n",
    "v = vis.Plotter()\n",
    "\n",
    "v.plot_vectors_sum(1, [v1, v2], ['v1', 'v2'])\n",
    "v.grid()"
   ]
  },
  {
   "cell_type": "markdown",
   "id": "0d3a4101-1641-4a88-878e-b2031d380c17",
   "metadata": {},
   "source": [
    "## Varias gráficas en una figura\n",
    "\n",
    "Todas las funciones disponibles en `macti.visual` son compatibles con Matplotlib."
   ]
  },
  {
   "cell_type": "code",
   "execution_count": null,
   "id": "1af96822-1d2d-4af2-a2c4-6f02962d7db2",
   "metadata": {
    "tags": []
   },
   "outputs": [],
   "source": [
    "# Defino un plotter con un arreglo de 1 renglón y 2 columnas de gráficas.\n",
    "v = vis.Plotter(1,2)\n",
    "\n",
    "# Datos a graficar\n",
    "x = np.array([1,2,3])\n",
    "y = np.array([1,2.718281828459045,3.141592653589793])\n",
    "\n",
    "# Las funciones de graficación son un subconjunto de las de matplotlib\n",
    "# OJO con el primer parámetro en la llamada a la función:\n",
    "v.plot(1, x, y)\n",
    "\n",
    "# Se usan los mismos parámetros de las funciones de matplotlib, \n",
    "v.scatter(2, x, y, fc = 'lightskyblue', ec = 'navy')\n",
    "\n",
    "# Similar al plt.show()\n",
    "v.show()"
   ]
  },
  {
   "cell_type": "markdown",
   "id": "d93825d2-5112-4a2b-a50d-b20e3ba7caf3",
   "metadata": {},
   "source": [
    "## Parámetros de la figura y de los ejes de cada subgráfica\n",
    "\n",
    "Los parámetros para la figura y los ejes de cada subgráfica se deben pasar como diccionarios. Existen al menos dos opciones:\n",
    "\n",
    "1. Definiendo un diccionario como se hace normalmente en Python:\n",
    "```python\n",
    "d1 = {'par1':'val1', 'par2':'val2', ...}\n",
    "```\n",
    "\n",
    "2. Usando la función `dict()` para crear un diccionario: \n",
    "```python\n",
    "d1 = dict(par1 = 'val1', par2 = 'val2', ...)\n",
    "```\n",
    "Una dez definido el diccionario, se puede usar, por ejemplo, como sigue:\n",
    "\n",
    "```python\n",
    "v = vis.Plotter(1, 2, d1)\n",
    "```\n"
   ]
  },
  {
   "cell_type": "code",
   "execution_count": null,
   "id": "c40bc612-6e32-4989-bcea-8abf3234efef",
   "metadata": {},
   "outputs": [],
   "source": [
    "# Parámetros para la figura\n",
    "param_fig ={'figsize':(8,3)}\n",
    "\n",
    "# Parámetros para las subgráficas (lista de diccionarios)\n",
    "param_ejes = [\n",
    "    # Subgráfica 1\n",
    "    {'title':'Subgráfica 1', \n",
    "     'xlabel':'x', \n",
    "     'ylabel':'y'},\n",
    "    \n",
    "    # Subgráfica 2\n",
    "    {'title':'Subgráfica 2: eje $y$ escala-log', \n",
    "     'yscale':'log', 'xlabel':'$x$', \n",
    "     'ylabel':'$y$ [log]'}]\n",
    "\n",
    "# Parámetros para el título de la figura\n",
    "param_titulo = dict(color='blue', fontsize=20)\n",
    "\n",
    "# Se define un arreglo de (1 x 2) subgráficas\n",
    "v = vis.Plotter(1, 2, \n",
    "                param_ejes, \n",
    "                param_fig, \n",
    "                param_titulo, \n",
    "                \"Título de la figura\")"
   ]
  },
  {
   "cell_type": "code",
   "execution_count": null,
   "id": "e0f74c70-9241-4dba-a6ba-568ca6c3f08c",
   "metadata": {},
   "outputs": [],
   "source": [
    "# Parámetros para la figura\n",
    "param_fig =dict(figsize= (8,3))\n",
    "\n",
    "# Parámetros para las subgráficas (lista de diccionarios)\n",
    "param_ejes = [\n",
    "    # Subgráfica 1\n",
    "    dict(title='Subgráfica 1', \n",
    "         xlabel='x', \n",
    "         ylabel='y'),\n",
    "    \n",
    "    # Subgráfica 2\n",
    "    dict(title='Subgráfica 2: eje $y$ escala-log', \n",
    "         yscale='log', \n",
    "         xlabel='$x$', \n",
    "         ylabel='$y$ [log]')]\n",
    "\n",
    "# Parámetros para el título de la figura\n",
    "param_titulo = dict(color='blue', fontsize=20)\n",
    "\n",
    "titulo = \"Título de la figura\"\n",
    "\n",
    "# Se define un arreglo de (1 x 2) subgráficas\n",
    "v = vis.Plotter(1, 2, \n",
    "                fig_par = param_fig, \n",
    "                title_par = param_titulo, \n",
    "                title=titulo,\n",
    "                axis_par = param_ejes)"
   ]
  },
  {
   "cell_type": "markdown",
   "id": "b9fc43b3-0514-4eb6-b8d9-86f8e782c721",
   "metadata": {},
   "source": [
    "## Ejemplo de graficación."
   ]
  },
  {
   "cell_type": "code",
   "execution_count": null,
   "id": "2f6fe7c5-2ca6-49f5-80d0-f897ba841371",
   "metadata": {},
   "outputs": [],
   "source": [
    "# Generamos algunos datos para graficar\n",
    "x = np.linspace(0, 2 * np.pi, 50)\n",
    "y = np.sin(x)\n",
    "r = 0.9 * np.random.rand(len(x))\n",
    "print(x)\n",
    "print(y)\n",
    "print(r)"
   ]
  },
  {
   "cell_type": "code",
   "execution_count": null,
   "id": "d0a79c22-689a-4d47-b169-617f749cb066",
   "metadata": {},
   "outputs": [],
   "source": [
    "# Parámetros para la figura\n",
    "param_fig ={'figsize':(8,5)}\n",
    "\n",
    "# Parámetros para las subgráficas (lista de diccionarios)\n",
    "param_ejes = [\n",
    "    # Subgráfica 1\n",
    "    dict(title = 'plot(x,y,par)', \n",
    "         xlabel = 'x', \n",
    "         ylabel = 'y'),\n",
    "    \n",
    "    # Sibgráfica 2\n",
    "    dict(title = '$f(x) = e^x$', \n",
    "         yscale = 'log', \n",
    "         xlabel = '$x$', \n",
    "         ylabel = '$y$ [log]'),\n",
    "    \n",
    "    # Subgráfica 3\n",
    "    dict(title='Random points', \n",
    "         xlabel='n')]\n",
    "\n",
    "# Parámetros para el título\n",
    "param_titulo = dict(color='navy', fontsize=20)\n",
    "titulo = \"Tipos de gráficas\""
   ]
  },
  {
   "cell_type": "code",
   "execution_count": null,
   "id": "1a3be7ff-f460-4d97-8bc9-78ffeb74eb67",
   "metadata": {
    "tags": []
   },
   "outputs": [],
   "source": [
    "# Se define un arreglo de (2 x 2) subgráficas\n",
    "v = vis.Plotter(2, 2, param_ejes, param_fig, param_titulo, titulo)\n",
    "\n",
    "# Primera subgráfica\n",
    "v.plot(1, x, y, marker = 'x', color='green', ls='--', label='y = sin(x)')\n",
    "\n",
    "# Segunda subgráfica\n",
    "v.plot(2, x, np.exp(x), ls='--', lw=3.0, label='$e^x$')\n",
    "v.plot(2, x, np.exp(y), lw=2.0, label = '$e^y$')\n",
    "\n",
    "# Tercera subgráfica\n",
    "v.scatter(3, x, r, marker='.', label='random points')\n",
    "\n",
    "# Cuarta subgráfica\n",
    "v.scatter(4, x, r, s = x*5, c = y)\n",
    "v.plot(4, x, y*y, color = 'r', ls = '-.', lw = 0.80, label = '$sin^2(x)$')\n",
    "\n",
    "# Acciones sobre subconjuntos de subgráficas\n",
    "v.grid([2,4]) # se activa la rejilla en las subgráficas 2 y 4\n",
    "v.legend(frameon=True) # se activan las leyendas en todas las subgráficas\n",
    "v.show() # similar a plt.show()"
   ]
  },
  {
   "cell_type": "markdown",
   "id": "161a1a5d-6973-49ef-bb67-16f1030bd644",
   "metadata": {},
   "source": [
    "## Definición del sistema de coordenadas\n",
    "\n",
    "Permite tener un sistema de coordenadas con decoración similar a otros sistemas."
   ]
  },
  {
   "cell_type": "code",
   "execution_count": null,
   "id": "a05f8c78-07ec-458e-bde2-66033fb282ae",
   "metadata": {
    "editable": true,
    "slideshow": {
     "slide_type": ""
    },
    "tags": []
   },
   "outputs": [],
   "source": [
    "# Se define una sola gráfica\n",
    "v = vis.Plotter(1,1)\n",
    "\n",
    "# Algunos datos\n",
    "x = np.linspace(-10.5, 10.5, 200)\n",
    "\n",
    "# Graficación de los datos\n",
    "v.plot(1, x, np.sin(x))\n",
    "\n",
    "# Definimos el sistema de coordenadas\n",
    "v.set_coordsys(1)\n",
    "\n",
    "# Obtenemos los ticks y los ponemos en términos de pi\n",
    "ax = v.axes(1)\n",
    "xticks = ax.get_xticks()\n",
    "yticks = ax.get_yticks()\n",
    "v.set_ticks(ax, xticks, yticks, trig=True)\n",
    "\n",
    "v.grid()\n",
    "v.show()"
   ]
  },
  {
   "cell_type": "code",
   "execution_count": null,
   "id": "79b04aac-8b11-4977-849a-9458db6f8f53",
   "metadata": {},
   "outputs": [],
   "source": [
    "# Se define una sola gráfica\n",
    "v = vis.Plotter(1,2,fig_par = dict(figsize = (10,4)))\n",
    "\n",
    "# Algunos datos\n",
    "x = np.linspace(-10.5, 10.5, 200)\n",
    "\n",
    "# Gráfica con el sistema de coordenadas \n",
    "v.plot(1, x, np.sin(x))\n",
    "\n",
    "# Definimos el sistema de coordenadas\n",
    "v.set_coordsys(1)\n",
    "ax = v.axes(1)\n",
    "xticks = ax.get_xticks()\n",
    "yticks = ax.get_yticks()\n",
    "v.set_ticks(ax, xticks, yticks, trig=True)\n",
    "\n",
    "# Otra gráfica\n",
    "v.plot(2, x, np.cos(x)*np.sin(x))\n",
    "\n",
    "v.grid()\n",
    "v.show()"
   ]
  },
  {
   "cell_type": "markdown",
   "id": "e37f1edd-f9e8-4fc9-9478-e9e9b3fe493c",
   "metadata": {
    "editable": true,
    "slideshow": {
     "slide_type": ""
    },
    "tags": []
   },
   "source": [
    "## Modelación Computacional\n",
    "\n",
    "<div class=\"alert alert-success\">\n",
    "\n",
    "### Ejercicio 1. \n",
    "\n",
    "Vamos a generar datos en una rejilla rectangular para graficarlos.\n",
    "\n",
    "<img src=\"./malla2D_DF.png\"  width='300px'/>\n",
    "\n",
    "1. Define un dominio de $2 \\times 1$ con número de nodos $N_x = 15$ y $N_y = 8$. Con esta información construye una rejilla en 2D usando las funciones `np.linspace()` y `np.meshgrid()`. Finalmente grafica el dominio de estudio (el rectángulo de $2 \\times 1$).\n",
    "\n",
    "</div>"
   ]
  },
  {
   "cell_type": "code",
   "execution_count": null,
   "id": "80ddd804-d47d-429f-a488-60c7b6241da4",
   "metadata": {},
   "outputs": [],
   "source": [
    "# Tamaño del dominio\n",
    "Lx = 2.0\n",
    "Ly = 1.0\n",
    "\n",
    "# Número de nodos en cada eje\n",
    "Nx = 15\n",
    "Ny = 8\n",
    "\n",
    "# Número total de nodos incluyendo las fronteras\n",
    "NxT = Nx + 2\n",
    "NyT = Ny + 2\n",
    "\n",
    "# Coordenadas de la malla\n",
    "xn = np.linspace(0,Lx,NxT)\n",
    "yn = np.linspace(0,Ly,NyT)\n",
    "xg, yg = np.meshgrid(xn, yn, indexing='ij')\n",
    "\n",
    "print('Lx = {} \\tLy = {}'.format(Lx,Ly))\n",
    "print('Nx = {} \\tNy = {}'.format(Nx,Ny))\n",
    "print('xn = {} \\nyn = {}'.format(xn, yn))"
   ]
  },
  {
   "cell_type": "code",
   "execution_count": null,
   "id": "c7efcb5f-14aa-482d-b586-7f79b8c86828",
   "metadata": {},
   "outputs": [],
   "source": [
    "axis_par = [dict(aspect = 'equal')] \n",
    "v = vis.Plotter(1,1, axis_par, dict(figsize=(5,5)))\n",
    "\n",
    "# Definimos un canvas donde graficar\n",
    "v.set_canvas(1, Lx, Ly)\n",
    "\n",
    "# Dibujamos el dominio sobre el canvas\n",
    "v.draw_domain(1, xg, yg)\n",
    "\n",
    "# Ponemos un titulo a la gráfica\n",
    "ax1 = v.axes(1)\n",
    "ax1.set_title('Dominio de estudio', fontsize=15)\n",
    "\n",
    "v.show()"
   ]
  },
  {
   "cell_type": "markdown",
   "id": "2b9c3b32-5a40-433a-aa65-a5ae950439f7",
   "metadata": {},
   "source": [
    "<div class=\"alert alert-success\">\n",
    "\n",
    "2. Usando la misma información del punto 1, ahora grafica la malla del dominio.\n",
    "\n",
    "</div>"
   ]
  },
  {
   "cell_type": "code",
   "execution_count": null,
   "id": "cd8d47c3-a941-46a6-8f5a-b1f3ee05ace7",
   "metadata": {},
   "outputs": [],
   "source": [
    "axis_par = [dict(aspect = 'equal')] \n",
    "v = vis.Plotter(1,1, axis_par, dict(figsize=(5,5)))\n",
    "\n",
    "# Definimos un canvas donde graficar\n",
    "v.set_canvas(1, Lx, Ly)\n",
    "\n",
    "# Dibujamos la malla y un marco alrededor\n",
    "v.plot_mesh2D(1, xg, yg, nodeson = True)\n",
    "v.plot_frame(1, xg, yg, ticks=False)\n",
    "\n",
    "# Ponemos un titulo a la gráfica\n",
    "ax1 = v.axes(1)\n",
    "ax1.set_title('Malla del dominio', fontsize=15)\n",
    "\n",
    "v.show()"
   ]
  },
  {
   "cell_type": "markdown",
   "id": "39750941-8055-41b5-91e3-ffa261c7de83",
   "metadata": {},
   "source": [
    "<div class=\"alert alert-success\">\n",
    "\n",
    "3. Genera un campo escalar en los puntos de la malla usando la siguiente función: $T(x,y) = \\sin(\\pi * x) * \\cos(\\pi * y)$ y grafica el resultado usando un mapa de color.\n",
    "\n",
    "</div>"
   ]
  },
  {
   "cell_type": "code",
   "execution_count": null,
   "id": "4a763e06-e022-4e32-b07d-a534595382a8",
   "metadata": {},
   "outputs": [],
   "source": [
    "# Generación del campo escalar\n",
    "T =  np.sin(np.pi * xg) * np.cos(np.pi*yg)\n",
    "\n",
    "axis_par = [dict(aspect = 'equal')] \n",
    "v = vis.Plotter(1,1, axis_par, dict(figsize=(5,5)))\n",
    "\n",
    "# Definimos un canvas donde graficar\n",
    "cax = v.set_canvas(1, Lx, Ly)\n",
    "\n",
    "# Graficamos usando contourf()\n",
    "c = v.contourf(1, xg, yg, T, ticks = False, levels = 50, cmap = 'gist_earth')\n",
    "\n",
    "# Se define una barra de colores\n",
    "v.fig.colorbar(c, cax=cax, ticks = [T.min(), T.max()], shrink=0.5, orientation='vertical')\n",
    "\n",
    "# Se grafica un marco\n",
    "v.plot_frame(1, xg, yg, ticks=False)\n",
    "\n",
    "# Se agrega una título a la gráfica\n",
    "v.axes(1).set_title('Campo escalar', fontsize=15)\n",
    "\n",
    "v.show()"
   ]
  },
  {
   "cell_type": "markdown",
   "id": "ed94c85d-27db-4bb6-be8d-f3b5e8d05494",
   "metadata": {},
   "source": [
    "<div class=\"alert alert-success\">\n",
    "\n",
    "4. Genera un campo vectorial en los puntos de la malla usando la siguientes funciones para las componentes:\n",
    "\n",
    "$$\n",
    "\\begin{eqnarray}\n",
    "U(x,y) & = & -A * \\cos(\\pi \\alpha y) * \\sin(\\pi \\alpha x) \\\\\n",
    "V(x,y) & = & A * \\sin(\\pi \\alpha y) * \\cos(\\pi \\alpha x)\n",
    "\\end{eqnarray}\n",
    "$$\n",
    "\n",
    "donde $A = 1$ y $\\alpha = 1.25$. Posteriormente grafica el resultado.\n",
    "\n",
    "</div>"
   ]
  },
  {
   "cell_type": "code",
   "execution_count": null,
   "id": "0382f45c-e1a5-43f6-82b6-c88c085deaed",
   "metadata": {},
   "outputs": [],
   "source": [
    "# Generación del campo vectorial\n",
    "A = 1.0\n",
    "alpha = 1.25\n",
    "U = -A * np.cos(np.pi * alpha * yg) * np.sin(np.pi * alpha * xg)\n",
    "V =  A * np.sin(np.pi * alpha * yg) * np.cos(np.pi * alpha * xg)"
   ]
  },
  {
   "cell_type": "code",
   "execution_count": null,
   "id": "28e755ca-bdae-47f6-97b5-61240221a1f5",
   "metadata": {},
   "outputs": [],
   "source": [
    "axis_par = [dict(aspect = 'equal')] \n",
    "v = vis.Plotter(1,1, axis_par, dict(figsize=(5,5)))\n",
    "\n",
    "# Definimos un canvas donde graficar\n",
    "v.set_canvas(1, Lx, Ly)\n",
    "\n",
    "# Dibujamos el campo vectorial en forma de vectores\n",
    "v.quiver(1, xg, yg, U, V, ticks = True)\n",
    "\n",
    "# Se grafica un marco\n",
    "v.plot_frame(1, xg, yg, ticks=False)\n",
    "\n",
    "# Se agrega una título a la gráfica\n",
    "v.axes(1).set_title('Campo vectorial', fontsize=15)\n",
    "\n",
    "v.show()"
   ]
  },
  {
   "cell_type": "markdown",
   "id": "1a0da48b-857f-49cc-9e2a-67c7b0a407e1",
   "metadata": {},
   "source": [
    "<div class=\"alert alert-success\">\n",
    "\n",
    "5. Construye una figura con dos gráficas ($1 \\times 2$) y en la primera dibuja el campo escalar usando líneas de contornos con el mapa de color `Greys` y en la segunda el campo vectorial usando líneas de flujo (*streamslines*) \n",
    "\n",
    "</div>"
   ]
  },
  {
   "cell_type": "code",
   "execution_count": null,
   "id": "ccb9712a-2ba2-4ef7-b026-2a1822ccb167",
   "metadata": {},
   "outputs": [],
   "source": [
    "axis_par = [dict(aspect = 'equal')] \n",
    "axis_par = [a_p for i in range(0,2)]\n",
    "\n",
    "v = vis.Plotter(1,2, axis_par, dict(figsize=(8,6)))\n",
    "\n",
    "# Definimos un canvas y un marco para la primera gráfica\n",
    "cax = v.set_canvas(1, Lx, Ly)\n",
    "v.plot_frame(1, xg, yg, ticks=False)\n",
    "\n",
    "# Graficamos con líneas de contornos\n",
    "c = v.contour(1, xg, yg, T, ticks = True, levels = 10, cmap = 'Greys')\n",
    "v.fig.colorbar(c, cax=cax, ticks = [], shrink=0.5, orientation='vertical')\n",
    "\n",
    "# A traves de los ejes hacemos algunas operaciones\n",
    "ax1 = v.axes(1)\n",
    "ax1.clabel(c, fontsize=9, inline=True)\n",
    "ax1.set_title('Campo escalar', fontsize=10)\n",
    "\n",
    "# Definimos un canvas para la segunda gráfica\n",
    "v.set_canvas(2, Lx, Ly)\n",
    "\n",
    "# Graficamos el campo vectorial usando líneas de flujo\n",
    "v.streamplot(2, xg, yg, U, V, ticks = False)\n",
    "\n",
    "# Se grafica un marco\n",
    "v.plot_frame(2, xg, yg, ticks=False)\n",
    "\n",
    "# Se agrega una título a la gráfica\n",
    "v.axes(2).set_title('Campo vectorial', fontsize=15)\n",
    "\n",
    "v.show()"
   ]
  },
  {
   "cell_type": "markdown",
   "id": "54c888f6-fef9-4ca2-9d2d-a1d2ff0b25f7",
   "metadata": {},
   "source": [
    "<div class=\"alert alert-success\">\n",
    "\n",
    "6. Dibuja las seis gráficas anteriores en un solo `Plotter`.\n",
    "\n",
    "</div>"
   ]
  },
  {
   "cell_type": "code",
   "execution_count": null,
   "id": "c533f3d5-72c9-446b-aab6-cb9050bc8d1e",
   "metadata": {
    "tags": []
   },
   "outputs": [],
   "source": [
    "a_p = dict(aspect = 'equal')\n",
    "axis_par = [a_p for i in range(0,6)]\n",
    "\n",
    "v = vis.Plotter(3,2, axis_par, dict(figsize=(8,6)))\n",
    "\n",
    "v.set_canvas(1, Lx, Ly)\n",
    "v.draw_domain(1, xg, yg)\n",
    "v.axes(1).set_title('Dominio de estudio', fontsize=10)\n",
    "\n",
    "v.set_canvas(2, Lx, Ly)\n",
    "v.plot_mesh2D(2, xg, yg, nodeson = True)\n",
    "v.plot_frame(2, xg, yg, ticks=False)\n",
    "v.axes(2).set_title('Malla del dominio', fontsize=10)\n",
    "\n",
    "cax = v.set_canvas(3, Lx, Ly)\n",
    "c = v.contourf(3, xg, yg, T, ticks = False, levels = 50, cmap = 'gist_earth')\n",
    "v.fig.colorbar(c, cax=cax, ticks = [T.min(), T.max()], shrink=0.5, orientation='vertical')\n",
    "v.plot_frame(3, xg, yg, ticks=False)\n",
    "v.axes(3).set_title('Campo escalar', fontsize=10)\n",
    "\n",
    "v.set_canvas(4, Lx, Ly)\n",
    "v.quiver(4, xg, yg, U, V, ticks = True)\n",
    "v.plot_frame(4, xg, yg, ticks=False)\n",
    "v.axes(4).set_title('Campo vectorial', fontsize=10)\n",
    "\n",
    "cax = v.set_canvas(5, Lx, Ly)\n",
    "\n",
    "v.plot_frame(5, xg, yg, ticks=False)\n",
    "\n",
    "c = v.contour(5, xg, yg, T, ticks = True, levels = 10, cmap = 'Greys')\n",
    "v.fig.colorbar(c, cax=cax, ticks = [], shrink=0.5, orientation='vertical')\n",
    "ax3 = v.axes(3)\n",
    "ax3.clabel(c, fontsize=9, inline=True)\n",
    "ax3.set_title('Campo escalar', fontsize=10)\n",
    "\n",
    "v.set_canvas(6, Lx, Ly)\n",
    "v.streamplot(6, xg, yg, U, V, ticks = False)\n",
    "v.plot_frame(6, xg, yg, ticks=False)\n",
    "v.axes(6).set_title('Campo vectorial', fontsize=10)\n",
    "\n",
    "v.fig.tight_layout(h_pad=0.5, w_pad=2.0)\n",
    "v.show()"
   ]
  },
  {
   "cell_type": "markdown",
   "id": "4b9ffea9-7dfc-4c57-9e56-7485be0511dd",
   "metadata": {},
   "source": [
    "<div class=\"alert alert-success\">\n",
    "\n",
    "7. Construye un plotter de $1 \\times 2$ y dibuja en la primera gráfica el campo escalar usando un mapa de color y líneas de contorno sobrepuestas, y en la segunda gráfica dibuja el mismo campo escalar en 3D.\n",
    "\n",
    "</div>"
   ]
  },
  {
   "cell_type": "code",
   "execution_count": null,
   "id": "a3b54a0c-58e2-46cb-88bf-865d5eb2247c",
   "metadata": {},
   "outputs": [],
   "source": [
    "axis_par = [dict(aspect = 'equal'), dict(projection='3d', aspect='auto')]\n",
    "v = vis.Plotter(1,2, axis_par, dict(figsize=(8,6)))\n",
    "\n",
    "# Primera gráfica\n",
    "cax = v.set_canvas(1, Lx, Ly)\n",
    "c = v.contourf(1, xg, yg, U, levels = 100, cmap='viridis')\n",
    "v.contour(1, xg, yg, U, levels=10, cmap='Greys')\n",
    "v.fig.colorbar(c, cax=cax, ticks = [], shrink=0.5, orientation='vertical')\n",
    "v.plot_frame(1, xg, yg, ticks=False)\n",
    "v.axes(1).set_title('Campo escalar', fontsize=15)\n",
    "\n",
    "# Segunda gráfica\n",
    "v.plot_surface(2, xg, yg, U, cmap='viridis')\n",
    "v.axes(2).set_title('Campo escalar', fontsize=15)\n",
    "\n",
    "v.fig.tight_layout(h_pad=0.5, w_pad=2.0)\n",
    "v.show()"
   ]
  },
  {
   "cell_type": "markdown",
   "id": "35fe03de-77b8-43e3-bfe1-a9cd3c500795",
   "metadata": {},
   "source": [
    "<div class=\"alert alert-success\">\n",
    "\n",
    "8. Ejectua la siguiente celda de código.\n",
    "\n",
    "</div>"
   ]
  },
  {
   "cell_type": "code",
   "execution_count": null,
   "id": "f248d7e1-0ba5-4dcd-965f-9fbf2a27982b",
   "metadata": {
    "tags": []
   },
   "outputs": [],
   "source": [
    "%run \"./interactivo_test.ipynb\""
   ]
  },
  {
   "cell_type": "code",
   "execution_count": null,
   "id": "649363f9-e717-4bc7-b6b1-8f743e4365e9",
   "metadata": {
    "editable": true,
    "slideshow": {
     "slide_type": ""
    },
    "tags": []
   },
   "outputs": [],
   "source": []
  }
 ],
 "metadata": {
  "kernelspec": {
   "display_name": "Python 3 (ipykernel)",
   "language": "python",
   "name": "python3"
  },
  "language_info": {
   "codemirror_mode": {
    "name": "ipython",
    "version": 3
   },
   "file_extension": ".py",
   "mimetype": "text/x-python",
   "name": "python",
   "nbconvert_exporter": "python",
   "pygments_lexer": "ipython3",
   "version": "3.11.6"
  }
 },
 "nbformat": 4,
 "nbformat_minor": 5
}
