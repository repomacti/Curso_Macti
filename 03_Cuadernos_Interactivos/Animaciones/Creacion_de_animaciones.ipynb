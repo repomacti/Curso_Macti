{
 "cells": [
  {
   "cell_type": "markdown",
   "id": "bcbedecb",
   "metadata": {},
   "source": [
    "# Creación de animaciones en Jupyter Notebooks\n",
    "\n",
    "**Objetivo general**. \n",
    "\n",
    "Mostrar ejemplos sencillos y llamativos de gráficos animados con un enfoque científico e ingenieril.\n",
    "\n",
    "<p xmlns:cc=\"http://creativecommons.org/ns#\" xmlns:dct=\"http://purl.org/dc/terms/\"><a property=\"dct:title\" rel=\"cc:attributionURL\" href=\"https://github.com/repomacti/Curso_Macti/tree/main/03_Cuadernos_Interactivos/Animaciones\">Animaciones</a>, Diseño de cursos interactivos con la plataforma Macti by Eduardo Beltrán y <a rel=\"cc:attributionURL dct:creator\" property=\"cc:attributionName\" href=\"https://www.macti.unam.mx\">Luis M. de la Cruz</a> is licensed under <a href=\"http://creativecommons.org/licenses/by-sa/4.0/?ref=chooser-v1\" target=\"_blank\" rel=\"license noopener noreferrer\" style=\"display:inline-block;\">Attribution-ShareAlike 4.0 International<img style=\"height:22px!important;margin-left:3px;vertical-align:text-bottom;\" src=\"https://mirrors.creativecommons.org/presskit/icons/cc.svg?ref=chooser-v1\"><img style=\"height:22px!important;margin-left:3px;vertical-align:text-bottom;\" src=\"https://mirrors.creativecommons.org/presskit/icons/by.svg?ref=chooser-v1\"><img style=\"height:22px!important;margin-left:3px;vertical-align:text-bottom;\" src=\"https://mirrors.creativecommons.org/presskit/icons/sa.svg?ref=chooser-v1\"></a></p> "
   ]
  },
  {
   "cell_type": "markdown",
   "id": "c39aaac4",
   "metadata": {},
   "source": [
    "<a name='1'></a>\n",
    "## Animaciones en 1D\n",
    "\n",
    "Se describirá el procedimiento para generar animaciones en una dimensión. Ya sea en coordenadas cartesianas o polares.\n",
    "\n",
    "<a name='1-1'></a>\n",
    "### ¿Cómo se generan estas animaciones? \n",
    "Primero se importan los módulos y bibliotecas necesarias. Posteriormente se definen las dimensiones del gráfico y por medio de funciones auxiliares se logra el gráfico animado. La animación se puede mostrar como un elemento HTML dentro del Jupyter Notebook.\n",
    "\n",
    "<img src=\"./fig_1.PNG\" width=\"800px\" />"
   ]
  },
  {
   "cell_type": "markdown",
   "id": "d6746f64",
   "metadata": {},
   "source": [
    "<a name='1-2'></a>\n",
    "### Animaciones para coordenadas cartesianas - Función `np.sin()`\n",
    "\n",
    "Se generará una animación con el uso de la función `np.sin()` y se propondrán parámetros que modifiquen el comportamiento del gráfico."
   ]
  },
  {
   "cell_type": "code",
   "execution_count": 8,
   "id": "57423ceb",
   "metadata": {},
   "outputs": [],
   "source": [
    "# 1- importamos las bibliotecas\n",
    "import numpy as np\n",
    "import matplotlib.pyplot as plt\n",
    "from matplotlib import animation\n",
    "from IPython.display import HTML"
   ]
  },
  {
   "cell_type": "code",
   "execution_count": 9,
   "id": "4cdac284",
   "metadata": {},
   "outputs": [
    {
     "data": {
      "image/png": "[encoded data removed]",
      "text/plain": [
       "<Figure size 640x480 with 1 Axes>"
      ]
     },
     "metadata": {},
     "output_type": "display_data"
    }
   ],
   "source": [
    "# 2 - tamaño del gráfico\n",
    "fig, ax = plt.subplots()\n",
    "ax.set_xlim(( 0, 4))\n",
    "ax.set_ylim((-2, 2))\n",
    "line, = ax.plot([], [], 'r-', lw=4)"
   ]
  },
  {
   "cell_type": "code",
   "execution_count": 3,
   "id": "192d60f7",
   "metadata": {},
   "outputs": [],
   "source": [
    "# 3- funciones de inicio / actualización\n",
    "\n",
    "def init():\n",
    "    line.set_data([], [])\n",
    "    return (line,)\n",
    "\n",
    "\n",
    "def animate(i):\n",
    "    x = np.linspace(0, 4, 1000)\n",
    "    y = i*0.01*np.sin(np.pi*x)\n",
    "    line.set_data(x, y)\n",
    "    return (line,)"
   ]
  },
  {
   "cell_type": "code",
   "execution_count": 7,
   "id": "ca55607f",
   "metadata": {},
   "outputs": [
    {
     "ename": "KeyError",
     "evalue": "'MPEG'",
     "output_type": "error",
     "traceback": [
      "\u001b[0;31m---------------------------------------------------------------------------\u001b[0m",
      "\u001b[0;31mKeyError\u001b[0m                                  Traceback (most recent call last)",
      "Cell \u001b[0;32mIn[7], line 5\u001b[0m\n\u001b[1;32m      1\u001b[0m \u001b[38;5;66;03m# 4- animación final\u001b[39;00m\n\u001b[1;32m      2\u001b[0m anim \u001b[38;5;241m=\u001b[39m animation\u001b[38;5;241m.\u001b[39mFuncAnimation(fig, animate, init_func\u001b[38;5;241m=\u001b[39minit,\n\u001b[1;32m      3\u001b[0m                                frames\u001b[38;5;241m=\u001b[39m\u001b[38;5;241m100\u001b[39m, interval\u001b[38;5;241m=\u001b[39m\u001b[38;5;241m30\u001b[39m, \n\u001b[1;32m      4\u001b[0m                                blit\u001b[38;5;241m=\u001b[39m\u001b[38;5;28;01mTrue\u001b[39;00m)\n\u001b[0;32m----> 5\u001b[0m \u001b[43manim\u001b[49m\u001b[38;5;241;43m.\u001b[39;49m\u001b[43msave\u001b[49m\u001b[43m(\u001b[49m\u001b[38;5;124;43m'\u001b[39;49m\u001b[38;5;124;43manimation.mpeg\u001b[39;49m\u001b[38;5;124;43m'\u001b[39;49m\u001b[43m,\u001b[49m\u001b[43m \u001b[49m\u001b[43mwriter\u001b[49m\u001b[38;5;241;43m=\u001b[39;49m\u001b[38;5;124;43m\"\u001b[39;49m\u001b[38;5;124;43mpillow\u001b[39;49m\u001b[38;5;124;43m\"\u001b[39;49m\u001b[43m,\u001b[49m\u001b[43m \u001b[49m\u001b[43mfps\u001b[49m\u001b[38;5;241;43m=\u001b[39;49m\u001b[38;5;241;43m60\u001b[39;49m\u001b[43m)\u001b[49m \u001b[38;5;66;03m# se puede salvar la animación en un GIF\u001b[39;00m\n\u001b[1;32m      6\u001b[0m HTML(anim\u001b[38;5;241m.\u001b[39mto_jshtml())\n",
      "File \u001b[0;32m/opt/conda/lib/python3.11/site-packages/matplotlib/animation.py:1089\u001b[0m, in \u001b[0;36mAnimation.save\u001b[0;34m(self, filename, writer, fps, dpi, codec, bitrate, extra_args, metadata, extra_anim, savefig_kwargs, progress_callback)\u001b[0m\n\u001b[1;32m   1085\u001b[0m savefig_kwargs[\u001b[38;5;124m'\u001b[39m\u001b[38;5;124mtransparent\u001b[39m\u001b[38;5;124m'\u001b[39m] \u001b[38;5;241m=\u001b[39m \u001b[38;5;28;01mFalse\u001b[39;00m   \u001b[38;5;66;03m# just to be safe!\u001b[39;00m\n\u001b[1;32m   1086\u001b[0m \u001b[38;5;66;03m# canvas._is_saving = True makes the draw_event animation-starting\u001b[39;00m\n\u001b[1;32m   1087\u001b[0m \u001b[38;5;66;03m# callback a no-op; canvas.manager = None prevents resizing the GUI\u001b[39;00m\n\u001b[1;32m   1088\u001b[0m \u001b[38;5;66;03m# widget (both are likewise done in savefig()).\u001b[39;00m\n\u001b[0;32m-> 1089\u001b[0m \u001b[43m\u001b[49m\u001b[38;5;28;43;01mwith\u001b[39;49;00m\u001b[43m \u001b[49m\u001b[43mwriter\u001b[49m\u001b[38;5;241;43m.\u001b[39;49m\u001b[43msaving\u001b[49m\u001b[43m(\u001b[49m\u001b[38;5;28;43mself\u001b[39;49m\u001b[38;5;241;43m.\u001b[39;49m\u001b[43m_fig\u001b[49m\u001b[43m,\u001b[49m\u001b[43m \u001b[49m\u001b[43mfilename\u001b[49m\u001b[43m,\u001b[49m\u001b[43m \u001b[49m\u001b[43mdpi\u001b[49m\u001b[43m)\u001b[49m\u001b[43m,\u001b[49m\u001b[43m \u001b[49m\u001b[43m\\\u001b[49m\n\u001b[1;32m   1090\u001b[0m \u001b[43m     \u001b[49m\u001b[43mcbook\u001b[49m\u001b[38;5;241;43m.\u001b[39;49m\u001b[43m_setattr_cm\u001b[49m\u001b[43m(\u001b[49m\u001b[38;5;28;43mself\u001b[39;49m\u001b[38;5;241;43m.\u001b[39;49m\u001b[43m_fig\u001b[49m\u001b[38;5;241;43m.\u001b[39;49m\u001b[43mcanvas\u001b[49m\u001b[43m,\u001b[49m\u001b[43m \u001b[49m\u001b[43m_is_saving\u001b[49m\u001b[38;5;241;43m=\u001b[39;49m\u001b[38;5;28;43;01mTrue\u001b[39;49;00m\u001b[43m,\u001b[49m\u001b[43m \u001b[49m\u001b[43mmanager\u001b[49m\u001b[38;5;241;43m=\u001b[39;49m\u001b[38;5;28;43;01mNone\u001b[39;49;00m\u001b[43m)\u001b[49m\u001b[43m:\u001b[49m\n\u001b[1;32m   1091\u001b[0m \u001b[43m    \u001b[49m\u001b[38;5;28;43;01mfor\u001b[39;49;00m\u001b[43m \u001b[49m\u001b[43manim\u001b[49m\u001b[43m \u001b[49m\u001b[38;5;129;43;01min\u001b[39;49;00m\u001b[43m \u001b[49m\u001b[43mall_anim\u001b[49m\u001b[43m:\u001b[49m\n\u001b[1;32m   1092\u001b[0m \u001b[43m        \u001b[49m\u001b[43manim\u001b[49m\u001b[38;5;241;43m.\u001b[39;49m\u001b[43m_init_draw\u001b[49m\u001b[43m(\u001b[49m\u001b[43m)\u001b[49m\u001b[43m  \u001b[49m\u001b[38;5;66;43;03m# Clear the initial frame\u001b[39;49;00m\n",
      "File \u001b[0;32m/opt/conda/lib/python3.11/contextlib.py:144\u001b[0m, in \u001b[0;36m_GeneratorContextManager.__exit__\u001b[0;34m(self, typ, value, traceback)\u001b[0m\n\u001b[1;32m    142\u001b[0m \u001b[38;5;28;01mif\u001b[39;00m typ \u001b[38;5;129;01mis\u001b[39;00m \u001b[38;5;28;01mNone\u001b[39;00m:\n\u001b[1;32m    143\u001b[0m     \u001b[38;5;28;01mtry\u001b[39;00m:\n\u001b[0;32m--> 144\u001b[0m         \u001b[38;5;28mnext\u001b[39m(\u001b[38;5;28mself\u001b[39m\u001b[38;5;241m.\u001b[39mgen)\n\u001b[1;32m    145\u001b[0m     \u001b[38;5;28;01mexcept\u001b[39;00m \u001b[38;5;167;01mStopIteration\u001b[39;00m:\n\u001b[1;32m    146\u001b[0m         \u001b[38;5;28;01mreturn\u001b[39;00m \u001b[38;5;28;01mFalse\u001b[39;00m\n",
      "File \u001b[0;32m/opt/conda/lib/python3.11/site-packages/matplotlib/animation.py:245\u001b[0m, in \u001b[0;36mAbstractMovieWriter.saving\u001b[0;34m(self, fig, outfile, dpi, *args, **kwargs)\u001b[0m\n\u001b[1;32m    243\u001b[0m     \u001b[38;5;28;01myield\u001b[39;00m \u001b[38;5;28mself\u001b[39m\n\u001b[1;32m    244\u001b[0m \u001b[38;5;28;01mfinally\u001b[39;00m:\n\u001b[0;32m--> 245\u001b[0m     \u001b[38;5;28;43mself\u001b[39;49m\u001b[38;5;241;43m.\u001b[39;49m\u001b[43mfinish\u001b[49m\u001b[43m(\u001b[49m\u001b[43m)\u001b[49m\n",
      "File \u001b[0;32m/opt/conda/lib/python3.11/site-packages/matplotlib/animation.py:515\u001b[0m, in \u001b[0;36mPillowWriter.finish\u001b[0;34m(self)\u001b[0m\n\u001b[1;32m    514\u001b[0m \u001b[38;5;28;01mdef\u001b[39;00m \u001b[38;5;21mfinish\u001b[39m(\u001b[38;5;28mself\u001b[39m):\n\u001b[0;32m--> 515\u001b[0m     \u001b[38;5;28;43mself\u001b[39;49m\u001b[38;5;241;43m.\u001b[39;49m\u001b[43m_frames\u001b[49m\u001b[43m[\u001b[49m\u001b[38;5;241;43m0\u001b[39;49m\u001b[43m]\u001b[49m\u001b[38;5;241;43m.\u001b[39;49m\u001b[43msave\u001b[49m\u001b[43m(\u001b[49m\n\u001b[1;32m    516\u001b[0m \u001b[43m        \u001b[49m\u001b[38;5;28;43mself\u001b[39;49m\u001b[38;5;241;43m.\u001b[39;49m\u001b[43moutfile\u001b[49m\u001b[43m,\u001b[49m\u001b[43m \u001b[49m\u001b[43msave_all\u001b[49m\u001b[38;5;241;43m=\u001b[39;49m\u001b[38;5;28;43;01mTrue\u001b[39;49;00m\u001b[43m,\u001b[49m\u001b[43m \u001b[49m\u001b[43mappend_images\u001b[49m\u001b[38;5;241;43m=\u001b[39;49m\u001b[38;5;28;43mself\u001b[39;49m\u001b[38;5;241;43m.\u001b[39;49m\u001b[43m_frames\u001b[49m\u001b[43m[\u001b[49m\u001b[38;5;241;43m1\u001b[39;49m\u001b[43m:\u001b[49m\u001b[43m]\u001b[49m\u001b[43m,\u001b[49m\n\u001b[1;32m    517\u001b[0m \u001b[43m        \u001b[49m\u001b[43mduration\u001b[49m\u001b[38;5;241;43m=\u001b[39;49m\u001b[38;5;28;43mint\u001b[39;49m\u001b[43m(\u001b[49m\u001b[38;5;241;43m1000\u001b[39;49m\u001b[43m \u001b[49m\u001b[38;5;241;43m/\u001b[39;49m\u001b[43m \u001b[49m\u001b[38;5;28;43mself\u001b[39;49m\u001b[38;5;241;43m.\u001b[39;49m\u001b[43mfps\u001b[49m\u001b[43m)\u001b[49m\u001b[43m,\u001b[49m\u001b[43m \u001b[49m\u001b[43mloop\u001b[49m\u001b[38;5;241;43m=\u001b[39;49m\u001b[38;5;241;43m0\u001b[39;49m\u001b[43m)\u001b[49m\n",
      "File \u001b[0;32m/opt/conda/lib/python3.11/site-packages/PIL/Image.py:2423\u001b[0m, in \u001b[0;36mImage.save\u001b[0;34m(self, fp, format, **params)\u001b[0m\n\u001b[1;32m   2421\u001b[0m     init()\n\u001b[1;32m   2422\u001b[0m \u001b[38;5;28;01mif\u001b[39;00m save_all:\n\u001b[0;32m-> 2423\u001b[0m     save_handler \u001b[38;5;241m=\u001b[39m \u001b[43mSAVE_ALL\u001b[49m\u001b[43m[\u001b[49m\u001b[38;5;28;43mformat\u001b[39;49m\u001b[38;5;241;43m.\u001b[39;49m\u001b[43mupper\u001b[49m\u001b[43m(\u001b[49m\u001b[43m)\u001b[49m\u001b[43m]\u001b[49m\n\u001b[1;32m   2424\u001b[0m \u001b[38;5;28;01melse\u001b[39;00m:\n\u001b[1;32m   2425\u001b[0m     save_handler \u001b[38;5;241m=\u001b[39m SAVE[\u001b[38;5;28mformat\u001b[39m\u001b[38;5;241m.\u001b[39mupper()]\n",
      "\u001b[0;31mKeyError\u001b[0m: 'MPEG'"
     ]
    }
   ],
   "source": [
    "# 4- animación final\n",
    "anim = animation.FuncAnimation(fig, animate, init_func=init,\n",
    "                               frames=100, interval=30, \n",
    "                               blit=True)\n",
    "anim.save('animation.gif', writer=\"pillow\", fps=60) # se puede salvar la animación en un GIF\n",
    "HTML(anim.to_jshtml())"
   ]
  },
  {
   "cell_type": "markdown",
   "id": "85563847",
   "metadata": {},
   "source": [
    "<a name='1-3'></a>\n",
    "### Animaciones para coordenadas polares - Rosa Polar\n",
    "\n",
    "Mediante algunas funciones matemáticas se generarán los pétalos de una rosa."
   ]
  },
  {
   "cell_type": "code",
   "execution_count": null,
   "id": "a0e90c13",
   "metadata": {},
   "outputs": [],
   "source": [
    "# 2 - tamaño del gráfico\n",
    "fig2, ax2 = plt.subplots(subplot_kw={'projection': 'polar'})\n",
    "ax2.set_rlim(0,4)\n",
    "rosa, = ax2.plot([], [], 'y-', lw=2)"
   ]
  },
  {
   "cell_type": "code",
   "execution_count": null,
   "id": "7add998e",
   "metadata": {},
   "outputs": [],
   "source": [
    "# 3- funciones de inicio / actualización\n",
    "def initRosa():\n",
    "    rosa.set_data([], [])\n",
    "    return (rosa,)\n",
    "\n",
    "\n",
    "def animateRosa(i):\n",
    "    petalos = 5\n",
    "    theta = np.linspace(0, 2*np.pi, 500)\n",
    "    r = (i*0.1)* np.sin(petalos * theta)\n",
    "    rosa.set_data(theta, r)\n",
    "    return (rosa,)"
   ]
  },
  {
   "cell_type": "code",
   "execution_count": null,
   "id": "0663f471",
   "metadata": {},
   "outputs": [],
   "source": [
    "# 4- animación final\n",
    "animRosa = animation.FuncAnimation(fig2, animateRosa, init_func=initRosa,\n",
    "                               frames=40, interval=100, \n",
    "                               blit=True)\n",
    "#animRosa.save('animation2.gif', writer=\"pillow\", fps=60)\n",
    "HTML(animRosa.to_jshtml())"
   ]
  },
  {
   "cell_type": "markdown",
   "id": "42208a5a",
   "metadata": {},
   "source": [
    "<a name='1-4'></a>\n",
    "### Uso de SciPy en animaciones - Interpolador Cúbico\n",
    "\n",
    "Haciendo uso de la biblioteca SciPy se emulará el movimiento de una serpiente."
   ]
  },
  {
   "cell_type": "code",
   "execution_count": null,
   "id": "e3de1592",
   "metadata": {},
   "outputs": [],
   "source": [
    "#1 - importar bibliotecas\n",
    "from scipy.interpolate import interp1d\n",
    "import random"
   ]
  },
  {
   "cell_type": "code",
   "execution_count": null,
   "id": "5ab5b38c",
   "metadata": {},
   "outputs": [],
   "source": [
    "# 2 - tamaño del gráfico\n",
    "fig3, ax3 = plt.subplots()\n",
    "ax3.set_xlim(( 0, 20))\n",
    "ax3.set_ylim(( -10, 10))\n",
    "snake, = ax3.plot([], [], 'bo-', lw=2, markerfacecolor='red')"
   ]
  },
  {
   "cell_type": "code",
   "execution_count": null,
   "id": "7e5c88bf",
   "metadata": {},
   "outputs": [],
   "source": [
    "# 3- funciones de inicio / actualización\n",
    "\n",
    "def initSnake():\n",
    "    snake.set_data([], [])\n",
    "    return (snake,)\n",
    "\n",
    "xn = []\n",
    "yn = []\n",
    "\n",
    "def animateSnake(i):\n",
    "    xn.append(i)\n",
    "    yn.append(round(random.uniform(-5, 5), 3))\n",
    "    \n",
    "    x = np.array(xn)\n",
    "    y = np.array(yn)\n",
    "    \n",
    "    interpolar = False\n",
    "    \n",
    "    if(len(x) > 3 and interpolar):\n",
    "        xnew = np.linspace(0, i, num=i*10, endpoint=True)\n",
    "        f = interp1d(x, y)\n",
    "        f2 = interp1d(x, y, kind='cubic')\n",
    "        snake.set_data(xnew, f2(xnew))\n",
    "        return (snake,)\n",
    "    \n",
    "    else :\n",
    "        snake.set_data(xn, yn)\n",
    "        return (snake,)"
   ]
  },
  {
   "cell_type": "code",
   "execution_count": null,
   "id": "79d4aa29",
   "metadata": {},
   "outputs": [],
   "source": [
    "# 4- animación final\n",
    "animSnake = animation.FuncAnimation(fig3, animateSnake, init_func=initSnake,\n",
    "                               frames=20, interval=1000, \n",
    "                               blit=True)\n",
    "#anim.save('animation2.gif', writer=\"pillow\", fps=60)\n",
    "HTML(animSnake.to_jshtml())"
   ]
  },
  {
   "cell_type": "markdown",
   "id": "8b058025",
   "metadata": {},
   "source": [
    "<a name='2'></a>\n",
    "## Animaciones en 2D\n",
    "\n",
    "Este tipo de animaciones son ideales para representar procesos científicos y de ingeniería, debido a que son más visuales y llamativas. Para la elaboración de este tipo de animaciones se partirá de la metodología usada en la elaboración de animaciones 1D. Con ligeras variaciones, por ejemplo, el uso de mallas geométricas."
   ]
  },
  {
   "cell_type": "markdown",
   "id": "86a47d6f",
   "metadata": {},
   "source": [
    "<a name='2-1'></a>\n",
    "### La importancia de las mallas para animaciones 2D\n",
    "\n",
    "Una malla geométrica 2D actua como el lienzo sobre el cual se puede plasmar el resultado de una simulación númerica, proceso de ML, inteligencia artificial, u otros.  "
   ]
  },
  {
   "cell_type": "code",
   "execution_count": null,
   "id": "63c0756e",
   "metadata": {},
   "outputs": [],
   "source": [
    "# Generación de la malla rectangular\n",
    "nodos_x, nodos_y = 20, 20\n",
    "x = np.linspace(0, 100, nodos_x)\n",
    "y = np.linspace(0, 100, nodos_y)\n",
    "xg, yg = np.meshgrid(x, y)\n",
    "\n",
    "plt.plot(xg, yg, '-', c='gray') # líneas verticales\n",
    "plt.plot(xg.transpose(), yg.transpose(), '-', c='gray') # líneas horizontales\n",
    "plt.show()"
   ]
  },
  {
   "cell_type": "code",
   "execution_count": null,
   "id": "a7558f16",
   "metadata": {},
   "outputs": [],
   "source": [
    "# 2 - tamaño del gráfico\n",
    "fig4, ax4 = plt.subplots(figsize=(6,6))"
   ]
  },
  {
   "cell_type": "code",
   "execution_count": null,
   "id": "73beabf6",
   "metadata": {},
   "outputs": [],
   "source": [
    "# 3 - función de animación\n",
    "def animate2D(i):\n",
    "    ax4.clear()\n",
    "    propiedad = np.random.normal(100, 25, size=(nodos_x, nodos_y))\n",
    "    colorPlot = ax4.contourf(xg, yg, propiedad, alpha=.85, cmap='plasma')\n",
    "    C = ax4.contour(xg, yg, propiedad, 10, colors='white', linewidths =0.5)\n",
    "    #ax4.clabel(C, inline=1, fontsize=6)\n",
    "    return (colorPlot)"
   ]
  },
  {
   "cell_type": "code",
   "execution_count": null,
   "id": "457eff71",
   "metadata": {},
   "outputs": [],
   "source": [
    "#4 - correr animación\n",
    "anim2D = animation.FuncAnimation(fig4, animate2D, interval=200, frames=25)\n",
    "HTML(anim2D.to_jshtml())"
   ]
  },
  {
   "cell_type": "markdown",
   "id": "d6881a2b",
   "metadata": {},
   "source": [
    "<a name='2-2'></a>\n",
    "### Animaciones 2D con pcolormesh\n",
    "\n",
    "La función `pcolormesh()`, a diferencia de `contourf()`, nos permite un mayor control de los elementos gráficos auxiliares, tales como leyendas, etiquetas, títulos, paleta de colores, etc."
   ]
  },
  {
   "cell_type": "code",
   "execution_count": null,
   "id": "ede0f626",
   "metadata": {},
   "outputs": [],
   "source": [
    "# 1- definir malla\n",
    "nodos = 50\n",
    "xy = np.linspace(-3, 3, nodos)\n",
    "xg, yg = np.meshgrid(xy, xy)\n",
    "prop = np.ones((nodos, nodos)) \n",
    "\n",
    "# 2 - definir tamaño del grafico\n",
    "fig5 = plt.figure(figsize=(6,6))\n",
    "ax5 = plt.axes(xlim=(-3, 3), ylim=(-3, 3))\n",
    "cax = ax5.pcolormesh(xg, yg, prop, cmap='cividis',vmin=-1, vmax=1, shading='auto')\n",
    "fig5.colorbar(cax)"
   ]
  },
  {
   "cell_type": "code",
   "execution_count": null,
   "id": "a0229d2f",
   "metadata": {},
   "outputs": [],
   "source": [
    "def funcion2D(x,y,t):\n",
    "    A = np.sin(2 * np.pi * t / 25)\n",
    "#    return A * (x**2 + y**2)\n",
    "#    return A * np.sin(x**2 + y**2)\n",
    "    return A * np.sin(x) * np.cos(y)"
   ]
  },
  {
   "cell_type": "code",
   "execution_count": null,
   "id": "a66bff93",
   "metadata": {},
   "outputs": [],
   "source": [
    "def animate2D(i, x, y):\n",
    "    z = funcion2D(x,y,i)\n",
    "    cax.set_array(z.flatten())\n",
    "    return (cax)\n",
    "\n",
    "anim = animation.FuncAnimation(fig5, animate2D, fargs=(xg, yg), interval=100, frames=25)\n",
    "HTML(anim.to_jshtml())"
   ]
  },
  {
   "cell_type": "markdown",
   "id": "38359e78",
   "metadata": {},
   "source": [
    "### Generación de animaciones con ayuda de PANDAS\n",
    "\n",
    "Generar una animacion 2D a partir de los datos de simulación matematica de yacimientos almacenados en el archivo `oil_flow.csv`. "
   ]
  },
  {
   "cell_type": "code",
   "execution_count": null,
   "id": "d2efbcb1",
   "metadata": {},
   "outputs": [],
   "source": [
    "import pandas as pd\n",
    "df = pd.read_csv('./oil_flow.csv')"
   ]
  },
  {
   "cell_type": "code",
   "execution_count": null,
   "id": "35eb6a04",
   "metadata": {},
   "outputs": [],
   "source": [
    "nxGrid = 21\n",
    "nyGrid = 21\n",
    "datax, datay= np.array(df.iloc[:,0]), np.array(df.iloc[:,1])\n",
    "gridx, gridy = (datax.reshape(nxGrid, nyGrid)), (datay.reshape(nxGrid, nyGrid))\n",
    "\n",
    "def getSwFromDataframe(i):\n",
    "    column = i + 2\n",
    "    dataSw = np.array(df.iloc[:, column])\n",
    "    sw = (dataSw.reshape(nxGrid, nyGrid))\n",
    "    return sw\n",
    "\n",
    "sw = getSwFromDataframe(0)\n",
    "\n",
    "fig6 = plt.figure(figsize=(6,6))\n",
    "ax6 = plt.axes(xlim=(0, 1000), ylim=(150, 900))\n",
    "cax2 = ax6.pcolormesh(gridx, gridy, sw, cmap='viridis',vmin=0.21, vmax=0.79, shading='gouraud')\n",
    "fig6.colorbar(cax2)"
   ]
  },
  {
   "cell_type": "code",
   "execution_count": null,
   "id": "08759d81",
   "metadata": {},
   "outputs": [],
   "source": [
    "def animate2D(i):\n",
    "    sw = getSwFromDataframe(i)\n",
    "    cax2.set_array(sw.flatten())\n",
    "    return (cax2)\n",
    "\n",
    "anim = animation.FuncAnimation(fig6, animate2D, interval=300, frames=40)\n",
    "HTML(anim.to_jshtml())"
   ]
  },
  {
   "cell_type": "code",
   "execution_count": null,
   "id": "71e16173",
   "metadata": {},
   "outputs": [],
   "source": []
  }
 ],
 "metadata": {
  "kernelspec": {
   "display_name": "Python 3 (ipykernel)",
   "language": "python",
   "name": "python3"
  },
  "language_info": {
   "codemirror_mode": {
    "name": "ipython",
    "version": 3
   },
   "file_extension": ".py",
   "mimetype": "text/x-python",
   "name": "python",
   "nbconvert_exporter": "python",
   "pygments_lexer": "ipython3",
   "version": "3.11.6"
  }
 },
 "nbformat": 4,
 "nbformat_minor": 5
}
