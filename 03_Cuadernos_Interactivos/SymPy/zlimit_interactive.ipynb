{
 "cells": [
  {
   "cell_type": "code",
   "execution_count": 8,
   "id": "ba6e31d4-f72c-46d0-8643-7d7eded500d1",
   "metadata": {
    "tags": []
   },
   "outputs": [],
   "source": [
    "import numpy as np\n",
    "import matplotlib.pyplot as plt\n",
    "import ipywidgets as widgets\n",
    "import macti.visual\n",
    "import sympy\n",
    "\n",
    "def limite_grafico(funcion, x0p, x0m):\n",
    "    \n",
    "    x = sympy.symbols('x')\n",
    "    if funcion == 'Heaviside':\n",
    "        f = sympy.Heaviside(x)\n",
    "    elif funcion == 'Logística':\n",
    "        f = 1 / (1 + sympy.exp(-x))\n",
    "    \n",
    "    limiteP = sympy.Limit(f, x, x0p, dir='+')  \n",
    "    limiteM = sympy.Limit(f, x, x0m, dir='-')\n",
    "    val_limiteP = limiteP.doit()\n",
    "    val_limiteM = limiteM.doit()\n",
    "    print(limiteP, val_limiteP)\n",
    "    print(limiteM, val_limiteM)\n",
    "\n",
    "    fg = sympy.lambdify(x, f)\n",
    "    xcoord = np.linspace(-10, 10, 100)  \n",
    "    plt.figure(figsize=(4,2))\n",
    "    plt.plot(xcoord, fg(xcoord))\n",
    "    plt.scatter(x0p, val_limiteP, fc = 'C1', ec='C0', alpha=0.75, s = 75, zorder=5)\n",
    "    plt.scatter(x0m, val_limiteM, fc = 'C2', ec='C0', alpha=0.75, s = 75, zorder=5)\n",
    "    plt.grid()\n",
    "    plt.show()\n",
    "\n",
    "w = widgets.interactive(limite_grafico,\n",
    "                    funcion = widgets.Dropdown(options = ['Heaviside', 'Logística'], description='Función'),\n",
    "                    x0p = widgets.FloatSlider(min=0.0, max=7.0, value=7.0, step=1.0, description='x+'),\n",
    "                    x0m = widgets.FloatSlider(min=-7.0, max=-0.0, value=-7.0, step=1.0, description='x-')\n",
    "                   )"
   ]
  },
  {
   "cell_type": "code",
   "execution_count": 7,
   "id": "ce9d1d60-e3dd-4b50-8e97-c7fc1a95288c",
   "metadata": {
    "tags": []
   },
   "outputs": [
    {
     "data": {
      "application/vnd.jupyter.widget-view+json": {
       "model_id": "d84d5a2e543446cf98ed16ca06b0deb3",
       "version_major": 2,
       "version_minor": 0
      },
      "text/plain": [
       "interactive(children=(FloatSlider(value=7.01, description='$x_0^+$', max=7.01, min=0.01, step=0.05), FloatSlid…"
      ]
     },
     "metadata": {},
     "output_type": "display_data"
    }
   ],
   "source": [
    "display(w)"
   ]
  },
  {
   "cell_type": "code",
   "execution_count": null,
   "id": "fc77e69d-f8bc-41d0-9533-8ffce634a1a8",
   "metadata": {},
   "outputs": [],
   "source": []
  }
 ],
 "metadata": {
  "kernelspec": {
   "display_name": "Python 3 (ipykernel)",
   "language": "python",
   "name": "python3"
  },
  "language_info": {
   "codemirror_mode": {
    "name": "ipython",
    "version": 3
   },
   "file_extension": ".py",
   "mimetype": "text/x-python",
   "name": "python",
   "nbconvert_exporter": "python",
   "pygments_lexer": "ipython3",
   "version": "3.11.6"
  }
 },
 "nbformat": 4,
 "nbformat_minor": 5
}
