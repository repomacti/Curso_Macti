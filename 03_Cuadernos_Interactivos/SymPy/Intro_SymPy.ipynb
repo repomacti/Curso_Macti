{
 "cells": [
  {
   "cell_type": "markdown",
   "metadata": {},
   "source": [
    "# SymPy\n",
    "**Autor:** Luis Miguel de la Cruz Salas\n",
    "\n",
    "<a href=\"https://github.com/luiggix/Python_cero_a_experto\">Python de cero a experto</a> by Luis M. de la Cruz Salas is licensed under <a href=\"https://creativecommons.org/licenses/by-nc-nd/4.0?ref=chooser-v1\">Attribution-NonCommercial-NoDerivatives 4.0 International</a>"
   ]
  },
  {
   "cell_type": "markdown",
   "metadata": {},
   "source": [
    "# Introducción \n",
    "\n",
    "SymPy, es una biblioteca que permite realizar cálculo símbolico. Este tipo de sistemas se conocen también como de álgebra computacional (CAS por sus siglas en inglés). Es un proyecto de software libre, cuenta con una gran documentación y una excelente comunidad. Está escrita por completo en Python, por lo tanto no tiene dependencias externas. La documentación completa la puede consultar <a href=\"http://docs.sympy.org/latest/index.html\"> aquí </a>.\n",
    "\n",
    "Entre otras cosas, con SymPy es posible realizar lo siguiente:\n",
    "\n",
    "* Simplificación de expresiones.\n",
    "* Cálculo de integrales.\n",
    "* Cálculo de derivadas.\n",
    "* Cálculo de límites.\n",
    "* Solución de ecuaciones.\n",
    "* Álgebra Lineal. \n",
    "* Estadística.\n",
    "* Combinatoria.\n",
    "* Física.\n",
    "* Teoría de números.\n",
    "* Geometría.\n",
    "* Lógica.\n",
    "\n",
    "Es posible evaluar expresiones de SymPy en internet en el sitio: http://gamma.sympy.org/ de manera similar al proyecto [*Wolfram Alpha*](https://www.wolframalpha.com/).\n",
    "\n",
    "## Importar la biblioteca"
   ]
  },
  {
   "cell_type": "code",
   "execution_count": 244,
   "metadata": {},
   "outputs": [],
   "source": [
    "import sympy "
   ]
  },
  {
   "cell_type": "markdown",
   "metadata": {},
   "source": [
    "## Símbolos\n",
    "\n",
    "Son etiquetas que se usan en operaciones simbólicas. Se deben definir antes de usarse. Se definen usando la función `sympy.symbols`. Las operaciones entre símbolos devuelven símbolos."
   ]
  },
  {
   "cell_type": "code",
   "execution_count": 2,
   "metadata": {},
   "outputs": [],
   "source": [
    "x = sympy.symbols('x') # símbolo x"
   ]
  },
  {
   "cell_type": "code",
   "execution_count": 4,
   "metadata": {},
   "outputs": [
    {
     "name": "stdout",
     "output_type": "stream",
     "text": [
      "x\n",
      "<class 'sympy.core.symbol.Symbol'>\n"
     ]
    }
   ],
   "source": [
    "print(x)\n",
    "print(type(x)) # Vemos de qué tipo es x "
   ]
  },
  {
   "cell_type": "code",
   "execution_count": 5,
   "metadata": {},
   "outputs": [],
   "source": [
    "# Se pueden definir varios símbolos a la vez\n",
    "alpha, gamma = sympy.symbols('alpha gamma') "
   ]
  },
  {
   "cell_type": "code",
   "execution_count": 6,
   "metadata": {},
   "outputs": [],
   "source": [
    "# Símbolos con subíndices estilo matemático\n",
    "T_1 = sympy.symbols('T_1')   "
   ]
  },
  {
   "cell_type": "code",
   "execution_count": 7,
   "metadata": {},
   "outputs": [],
   "source": [
    "# Operadores sobre símbolos\n",
    "raiz = sympy.sqrt(x) "
   ]
  },
  {
   "cell_type": "markdown",
   "metadata": {},
   "source": [
    "<div class=\"alert alert-info\">\n",
    "\n",
    "Siempre es importante que las etiquetas y los símbolos coincidan: \n",
    "```python\n",
    "x = sympy.symbols('x') # Correcto\n",
    "Temperatura = sympy.symbols('T') # No recomendable\n",
    "```\n",
    "\n",
    "</div>"
   ]
  },
  {
   "cell_type": "markdown",
   "metadata": {},
   "source": [
    "Es posible definir símbolos de cierto tipo, por ejemplo:"
   ]
  },
  {
   "cell_type": "code",
   "execution_count": 8,
   "metadata": {},
   "outputs": [],
   "source": [
    "a = sympy.symbols(\"a\", real=True)\n",
    "i = sympy.symbols(\"i\", integer=True)\n",
    "f = sympy.symbols(\"f\", cls=sympy.Function)"
   ]
  },
  {
   "cell_type": "code",
   "execution_count": 9,
   "metadata": {},
   "outputs": [
    {
     "name": "stdout",
     "output_type": "stream",
     "text": [
      "a <class 'sympy.core.symbol.Symbol'>\n",
      "i <class 'sympy.core.symbol.Symbol'>\n",
      "f <class 'sympy.core.function.UndefinedFunction'>\n"
     ]
    }
   ],
   "source": [
    "print(a, type(a))\n",
    "print(i, type(i))\n",
    "print(f, type(f))"
   ]
  },
  {
   "cell_type": "code",
   "execution_count": null,
   "metadata": {},
   "outputs": [],
   "source": [
    "a.is_real"
   ]
  },
  {
   "cell_type": "code",
   "execution_count": null,
   "metadata": {},
   "outputs": [],
   "source": [
    "i.is_integer"
   ]
  },
  {
   "cell_type": "markdown",
   "metadata": {},
   "source": [
    "## Impresión de expresiones\n",
    "\n",
    "* Existen varias maneras de imprimir los resultados que obtiene SymPy, la idea es que la salida de los cálculos sea visualmente atractiva y simple de entender, lo que se conoce como *pretty printing*. \n",
    "\n",
    "* Dependiendo del ambiente es posible definir el tipo de salida usando la función `sympy.init_printing()`. En el ambiente de Jupyter Lab el *pretty printing* está activado por omisión. \n",
    "\n",
    "* Más información la puedes encontrar <a href source=\"https://docs.sympy.org/latest/tutorials/intro-tutorial/printing.html\">aquí</a> .\n",
    "\n",
    "Por ejemplo, para imprimir los símbolos `x`, `alpha`, `gamma`, `T_1` y `raiz` antes definidos podemos hacer lo siguiente:"
   ]
  },
  {
   "cell_type": "code",
   "execution_count": 10,
   "metadata": {},
   "outputs": [
    {
     "name": "stdout",
     "output_type": "stream",
     "text": [
      "x alpha gamma T_1 sqrt(x)\n"
     ]
    }
   ],
   "source": [
    "print(x, alpha, gamma, T_1, raiz) # Imprime la cadena que representa al símbolo"
   ]
  },
  {
   "cell_type": "code",
   "execution_count": 11,
   "metadata": {},
   "outputs": [
    {
     "data": {
      "text/plain": [
       "'x'"
      ]
     },
     "execution_count": 11,
     "metadata": {},
     "output_type": "execute_result"
    }
   ],
   "source": [
    "str(x) # Salida similar a print()"
   ]
  },
  {
   "cell_type": "code",
   "execution_count": 12,
   "metadata": {},
   "outputs": [
    {
     "data": {
      "text/plain": [
       "'x'"
      ]
     },
     "execution_count": 12,
     "metadata": {},
     "output_type": "execute_result"
    }
   ],
   "source": [
    "repr(x)"
   ]
  },
  {
   "cell_type": "code",
   "execution_count": 13,
   "metadata": {},
   "outputs": [
    {
     "data": {
      "text/plain": [
       "\"Symbol('x')\""
      ]
     },
     "execution_count": 13,
     "metadata": {},
     "output_type": "execute_result"
    }
   ],
   "source": [
    "sympy.srepr(x) # Muestra la forma exacta de una expresión"
   ]
  },
  {
   "cell_type": "code",
   "execution_count": 14,
   "metadata": {},
   "outputs": [
    {
     "name": "stdout",
     "output_type": "stream",
     "text": [
      "x**2\n"
     ]
    },
    {
     "data": {
      "text/plain": [
       "\"Pow(Symbol('x'), Integer(2))\""
      ]
     },
     "execution_count": 14,
     "metadata": {},
     "output_type": "execute_result"
    }
   ],
   "source": [
    "# Une ejemplo más complicada\n",
    "print(x**2)\n",
    "sympy.srepr(x**2) "
   ]
  },
  {
   "cell_type": "code",
   "execution_count": 16,
   "metadata": {},
   "outputs": [
    {
     "data": {
      "text/latex": [
       "$\\displaystyle x$"
      ],
      "text/plain": [
       "x"
      ]
     },
     "metadata": {},
     "output_type": "display_data"
    },
    {
     "data": {
      "text/latex": [
       "$\\displaystyle \\alpha$"
      ],
      "text/plain": [
       "alpha"
      ]
     },
     "metadata": {},
     "output_type": "display_data"
    },
    {
     "data": {
      "text/latex": [
       "$\\displaystyle \\gamma$"
      ],
      "text/plain": [
       "gamma"
      ]
     },
     "metadata": {},
     "output_type": "display_data"
    },
    {
     "data": {
      "text/latex": [
       "$\\displaystyle T_{1}$"
      ],
      "text/plain": [
       "T_1"
      ]
     },
     "metadata": {},
     "output_type": "display_data"
    },
    {
     "data": {
      "text/latex": [
       "$\\displaystyle \\sqrt{x}$"
      ],
      "text/plain": [
       "sqrt(x)"
      ]
     },
     "metadata": {},
     "output_type": "display_data"
    },
    {
     "data": {
      "text/latex": [
       "$\\displaystyle x^{2}$"
      ],
      "text/plain": [
       "x**2"
      ]
     },
     "metadata": {},
     "output_type": "display_data"
    }
   ],
   "source": [
    "# Imprime el símbolo en formato \"pretty\"\n",
    "display(x, alpha, gamma, T_1, raiz, x**2) "
   ]
  },
  {
   "cell_type": "markdown",
   "metadata": {},
   "source": [
    "<div class=\"alert alert-info\">\n",
    "\n",
    "La función `display()` está disponible por omisión en el ambiente Jupyter. En otros ambientes se debe importar: `from IPython.display import display`\n",
    "\n",
    "</div>"
   ]
  },
  {
   "cell_type": "markdown",
   "metadata": {},
   "source": [
    "Se puede obtener el formato $\\LaTeX$ de cada expresión usando la función `sympy.latex()`.\n",
    "\n",
    "$\\LaTeX$ es una herramienta que provee de comandos para formatear textos, particularmente para textos científicos. Puedes encontrar más información en: [CTAN](https://www.ctan.org/pkg/latex) y [Overleaf](https://es.overleaf.com/)."
   ]
  },
  {
   "cell_type": "code",
   "execution_count": 17,
   "metadata": {},
   "outputs": [
    {
     "name": "stdout",
     "output_type": "stream",
     "text": [
      "\\sqrt{x}\n"
     ]
    }
   ],
   "source": [
    "print(sympy.latex(sympy.sqrt(x)))"
   ]
  },
  {
   "cell_type": "markdown",
   "metadata": {},
   "source": [
    "Luego, puedo usar ese formato en una celda tipo Markdown, como esta en la que estamos, usando símbolos de `$` para que sea procesado: `$\\sqrt{x}$`, con ello obtenemos: $\\sqrt{x}$"
   ]
  },
  {
   "cell_type": "markdown",
   "metadata": {},
   "source": [
    "## Números especiales  \n",
    "\n",
    "Python evalúa las operaciones aritméticas usando una representación numérica que introduce errores de redondeo. Se puede trabajar directamente con la representación matemática de algunos números, por ejemplo:"
   ]
  },
  {
   "cell_type": "code",
   "execution_count": 18,
   "metadata": {},
   "outputs": [],
   "source": [
    "pi = sympy.pi     # representación del número Pi\n",
    "E = sympy.E       # Número de Euler\n",
    "I = sympy.I       # Parte compleja de un número\n",
    "infty = sympy.oo  # Infinito"
   ]
  },
  {
   "cell_type": "code",
   "execution_count": 19,
   "metadata": {},
   "outputs": [
    {
     "data": {
      "text/latex": [
       "$\\displaystyle \\pi$"
      ],
      "text/plain": [
       "pi"
      ]
     },
     "metadata": {},
     "output_type": "display_data"
    },
    {
     "data": {
      "text/latex": [
       "$\\displaystyle e$"
      ],
      "text/plain": [
       "E"
      ]
     },
     "metadata": {},
     "output_type": "display_data"
    },
    {
     "data": {
      "text/latex": [
       "$\\displaystyle i$"
      ],
      "text/plain": [
       "I"
      ]
     },
     "metadata": {},
     "output_type": "display_data"
    },
    {
     "data": {
      "text/latex": [
       "$\\displaystyle \\infty$"
      ],
      "text/plain": [
       "oo"
      ]
     },
     "metadata": {},
     "output_type": "display_data"
    }
   ],
   "source": [
    "display(pi, E, I, infty)"
   ]
  },
  {
   "cell_type": "markdown",
   "metadata": {},
   "source": [
    "## Números complejos\n",
    "Podemos definir un números complejos y hacer operaciones:"
   ]
  },
  {
   "cell_type": "code",
   "execution_count": 25,
   "metadata": {},
   "outputs": [],
   "source": [
    "c1 = 3 + 4 * I \n",
    "c2 = 2 - 3 * I"
   ]
  },
  {
   "cell_type": "code",
   "execution_count": 26,
   "metadata": {},
   "outputs": [
    {
     "name": "stdout",
     "output_type": "stream",
     "text": [
      "3 + 4*I \n",
      " 2 - 3*I\n"
     ]
    }
   ],
   "source": [
    "print(c1,'\\n',c2)"
   ]
  },
  {
   "cell_type": "code",
   "execution_count": 27,
   "metadata": {},
   "outputs": [
    {
     "data": {
      "text/latex": [
       "$\\displaystyle 3 + 4 i$"
      ],
      "text/plain": [
       "3 + 4*I"
      ]
     },
     "metadata": {},
     "output_type": "display_data"
    },
    {
     "data": {
      "text/latex": [
       "$\\displaystyle 2 - 3 i$"
      ],
      "text/plain": [
       "2 - 3*I"
      ]
     },
     "metadata": {},
     "output_type": "display_data"
    }
   ],
   "source": [
    "display(c1, c2)"
   ]
  },
  {
   "cell_type": "code",
   "execution_count": 28,
   "metadata": {},
   "outputs": [
    {
     "name": "stdout",
     "output_type": "stream",
     "text": [
      "(2 - 3*I)*(3 + 4*I)\n"
     ]
    },
    {
     "data": {
      "text/latex": [
       "$\\displaystyle \\left(2 - 3 i\\right) \\left(3 + 4 i\\right)$"
      ],
      "text/plain": [
       "(2 - 3*I)*(3 + 4*I)"
      ]
     },
     "metadata": {},
     "output_type": "display_data"
    }
   ],
   "source": [
    "prod_complejos = c1 * c2\n",
    "print(prod_complejos)\n",
    "display(prod_complejos)"
   ]
  },
  {
   "cell_type": "markdown",
   "metadata": {},
   "source": [
    "## Evaluación `.evalf()` y `sympy.N()`\n",
    "\n",
    "Se puede evaluar numéricamente una operación usando el método `.evalf()` (el método `.n()` es equivalente). Por ejemplo para la multiplicación de complejos tenemos:"
   ]
  },
  {
   "cell_type": "code",
   "execution_count": 22,
   "metadata": {},
   "outputs": [
    {
     "name": "stdout",
     "output_type": "stream",
     "text": [
      "pi\n",
      "3.14159265358979\n"
     ]
    }
   ],
   "source": [
    "print(pi)\n",
    "print(pi.evalf())"
   ]
  },
  {
   "cell_type": "code",
   "execution_count": 23,
   "metadata": {
    "scrolled": true
   },
   "outputs": [
    {
     "data": {
      "text/latex": [
       "$\\displaystyle \\pi$"
      ],
      "text/plain": [
       "pi"
      ]
     },
     "metadata": {},
     "output_type": "display_data"
    },
    {
     "data": {
      "text/latex": [
       "$\\displaystyle 3.14159265358979$"
      ],
      "text/plain": [
       "3.14159265358979"
      ]
     },
     "metadata": {},
     "output_type": "display_data"
    }
   ],
   "source": [
    "display(pi)\n",
    "display(pi.evalf())"
   ]
  },
  {
   "cell_type": "code",
   "execution_count": 33,
   "metadata": {},
   "outputs": [
    {
     "data": {
      "text/latex": [
       "$\\displaystyle \\left(2 - 3 i\\right) \\left(3 + 4 i\\right)$"
      ],
      "text/plain": [
       "(2 - 3*I)*(3 + 4*I)"
      ]
     },
     "metadata": {},
     "output_type": "display_data"
    },
    {
     "data": {
      "text/latex": [
       "$\\displaystyle 18.0 - 1.0 i$"
      ],
      "text/plain": [
       "18.0 - 1.0*I"
      ]
     },
     "metadata": {},
     "output_type": "display_data"
    }
   ],
   "source": [
    "display(prod_complejos)\n",
    "display(prod_complejos.evalf())"
   ]
  },
  {
   "cell_type": "code",
   "execution_count": 34,
   "metadata": {},
   "outputs": [
    {
     "data": {
      "text/latex": [
       "$\\displaystyle 18.0 - 1.0 i$"
      ],
      "text/plain": [
       "18.0 - 1.0*I"
      ]
     },
     "execution_count": 34,
     "metadata": {},
     "output_type": "execute_result"
    }
   ],
   "source": [
    "prod_complejos.n()"
   ]
  },
  {
   "cell_type": "markdown",
   "metadata": {},
   "source": [
    "También es posible usar el función `sympy.N()` para evaluar:"
   ]
  },
  {
   "cell_type": "code",
   "execution_count": 35,
   "metadata": {},
   "outputs": [
    {
     "data": {
      "text/latex": [
       "$\\displaystyle 18.0 - 1.0 i$"
      ],
      "text/plain": [
       "18.0 - 1.0*I"
      ]
     },
     "execution_count": 35,
     "metadata": {},
     "output_type": "execute_result"
    }
   ],
   "source": [
    "sympy.N(prod_complejos)"
   ]
  },
  {
   "cell_type": "code",
   "execution_count": 36,
   "metadata": {},
   "outputs": [
    {
     "data": {
      "text/latex": [
       "$\\displaystyle \\sqrt{2} \\pi$"
      ],
      "text/plain": [
       "sqrt(2)*pi"
      ]
     },
     "execution_count": 36,
     "metadata": {},
     "output_type": "execute_result"
    }
   ],
   "source": [
    "# Otro ejemplo:\n",
    "operacion = sympy.sqrt(2) * pi\n",
    "operacion"
   ]
  },
  {
   "cell_type": "code",
   "execution_count": 37,
   "metadata": {},
   "outputs": [
    {
     "data": {
      "text/latex": [
       "$\\displaystyle 4.44288293815837$"
      ],
      "text/plain": [
       "4.44288293815837"
      ]
     },
     "metadata": {},
     "output_type": "display_data"
    },
    {
     "data": {
      "text/latex": [
       "$\\displaystyle 4.44288293815837$"
      ],
      "text/plain": [
       "4.44288293815837"
      ]
     },
     "metadata": {},
     "output_type": "display_data"
    },
    {
     "data": {
      "text/latex": [
       "$\\displaystyle 4.44288293815837$"
      ],
      "text/plain": [
       "4.44288293815837"
      ]
     },
     "metadata": {},
     "output_type": "display_data"
    }
   ],
   "source": [
    "display(operacion.evalf())\n",
    "display(operacion.n())\n",
    "display(sympy.N(operacion))"
   ]
  },
  {
   "cell_type": "markdown",
   "metadata": {},
   "source": [
    "Se pueden agregar parámetros para la evaluación:"
   ]
  },
  {
   "cell_type": "code",
   "execution_count": 38,
   "metadata": {},
   "outputs": [
    {
     "data": {
      "text/latex": [
       "$\\displaystyle 4.4429$"
      ],
      "text/plain": [
       "4.4429"
      ]
     },
     "metadata": {},
     "output_type": "display_data"
    },
    {
     "data": {
      "text/latex": [
       "$\\displaystyle 4.4428829$"
      ],
      "text/plain": [
       "4.4428829"
      ]
     },
     "metadata": {},
     "output_type": "display_data"
    },
    {
     "data": {
      "text/latex": [
       "$\\displaystyle 4.442882938$"
      ],
      "text/plain": [
       "4.442882938"
      ]
     },
     "metadata": {},
     "output_type": "display_data"
    }
   ],
   "source": [
    "display(operacion.evalf(n = 5))\n",
    "display(operacion.n(n = 8))\n",
    "display(sympy.N(operacion, 10))"
   ]
  },
  {
   "cell_type": "markdown",
   "metadata": {},
   "source": [
    "## Simplificación `.simplify()`\n",
    "\n",
    "SymPy tiene muchas funciones para realizar diferentes tipos de simplificación. Una de ellas es `.simplify()` que intenta aplicar todas estas funciones de forma inteligente para llegar a la forma más simple de una expresión.\n",
    "\r\n"
   ]
  },
  {
   "cell_type": "code",
   "execution_count": 41,
   "metadata": {},
   "outputs": [
    {
     "data": {
      "text/latex": [
       "$\\displaystyle \\left(2 - 3 i\\right) \\left(3 + 4 i\\right)$"
      ],
      "text/plain": [
       "(2 - 3*I)*(3 + 4*I)"
      ]
     },
     "metadata": {},
     "output_type": "display_data"
    },
    {
     "data": {
      "text/latex": [
       "$\\displaystyle 18 - i$"
      ],
      "text/plain": [
       "18 - I"
      ]
     },
     "execution_count": 41,
     "metadata": {},
     "output_type": "execute_result"
    }
   ],
   "source": [
    "display(prod_complejos)\n",
    "prod_complejos.simplify()"
   ]
  },
  {
   "cell_type": "code",
   "execution_count": 44,
   "metadata": {},
   "outputs": [
    {
     "data": {
      "text/latex": [
       "$\\displaystyle \\sqrt{2} \\pi$"
      ],
      "text/plain": [
       "sqrt(2)*pi"
      ]
     },
     "execution_count": 44,
     "metadata": {},
     "output_type": "execute_result"
    }
   ],
   "source": [
    "operacion.simplify() # Algunas expresiones ya no se pueden simplificar más"
   ]
  },
  {
   "cell_type": "code",
   "execution_count": 45,
   "metadata": {},
   "outputs": [
    {
     "data": {
      "text/latex": [
       "$\\displaystyle \\left(- a + x\\right) \\left(a + x\\right)$"
      ],
      "text/plain": [
       "(-a + x)*(a + x)"
      ]
     },
     "execution_count": 45,
     "metadata": {},
     "output_type": "execute_result"
    }
   ],
   "source": [
    "expr1 = (x + a) * (x - a)\n",
    "expr1"
   ]
  },
  {
   "cell_type": "code",
   "execution_count": 46,
   "metadata": {},
   "outputs": [
    {
     "data": {
      "text/latex": [
       "$\\displaystyle - a^{2} + x^{2}$"
      ],
      "text/plain": [
       "-a**2 + x**2"
      ]
     },
     "execution_count": 46,
     "metadata": {},
     "output_type": "execute_result"
    }
   ],
   "source": [
    "expr1.simplify()"
   ]
  },
  {
   "cell_type": "code",
   "execution_count": 47,
   "metadata": {},
   "outputs": [
    {
     "data": {
      "text/latex": [
       "$\\displaystyle i \\sin{\\left(x \\right)} + \\cos{\\left(x \\right)}$"
      ],
      "text/plain": [
       "I*sin(x) + cos(x)"
      ]
     },
     "execution_count": 47,
     "metadata": {},
     "output_type": "execute_result"
    }
   ],
   "source": [
    "euler = sympy.cos(x) + sympy.sin(x) * I\n",
    "euler"
   ]
  },
  {
   "cell_type": "code",
   "execution_count": 48,
   "metadata": {},
   "outputs": [
    {
     "data": {
      "text/latex": [
       "$\\displaystyle e^{i x}$"
      ],
      "text/plain": [
       "exp(I*x)"
      ]
     },
     "execution_count": 48,
     "metadata": {},
     "output_type": "execute_result"
    }
   ],
   "source": [
    "euler.simplify()"
   ]
  },
  {
   "cell_type": "markdown",
   "metadata": {},
   "source": [
    "En algunos casos la simplificación se realiza de manera automática:"
   ]
  },
  {
   "cell_type": "code",
   "execution_count": 49,
   "metadata": {},
   "outputs": [
    {
     "name": "stdout",
     "output_type": "stream",
     "text": [
      "-3*a + 4*x\n"
     ]
    },
    {
     "data": {
      "text/latex": [
       "$\\displaystyle - 3 a + 4 x$"
      ],
      "text/plain": [
       "-3*a + 4*x"
      ]
     },
     "metadata": {},
     "output_type": "display_data"
    },
    {
     "data": {
      "text/latex": [
       "$\\displaystyle - 3 a + 4 x$"
      ],
      "text/plain": [
       "-3*a + 4*x"
      ]
     },
     "metadata": {},
     "output_type": "display_data"
    }
   ],
   "source": [
    "expr = x + x - 3*a + 2*x\n",
    "print(expr)\n",
    "display(expr)\n",
    "display(expr.simplify())"
   ]
  },
  {
   "cell_type": "markdown",
   "metadata": {},
   "source": [
    "En otros casos la simplificación puede llevarnos a un número:"
   ]
  },
  {
   "cell_type": "code",
   "execution_count": 50,
   "metadata": {},
   "outputs": [
    {
     "data": {
      "text/latex": [
       "$\\displaystyle 1$"
      ],
      "text/plain": [
       "1"
      ]
     },
     "execution_count": 50,
     "metadata": {},
     "output_type": "execute_result"
    }
   ],
   "source": [
    "sympy.simplify(sympy.cos(x)**2 + sympy.sin(x)**2)"
   ]
  },
  {
   "cell_type": "markdown",
   "metadata": {},
   "source": [
    "## `Rational`\n",
    "\n",
    "Con esta función se puede definir la forma racional de cualquier número de la forma `p/q`:"
   ]
  },
  {
   "cell_type": "code",
   "execution_count": 51,
   "metadata": {},
   "outputs": [
    {
     "data": {
      "text/latex": [
       "$\\displaystyle \\frac{1}{3}$"
      ],
      "text/plain": [
       "1/3"
      ]
     },
     "metadata": {},
     "output_type": "display_data"
    },
    {
     "data": {
      "text/latex": [
       "$\\displaystyle 0.333333333333333$"
      ],
      "text/plain": [
       "0.333333333333333"
      ]
     },
     "metadata": {},
     "output_type": "display_data"
    }
   ],
   "source": [
    "un_tercio = sympy.Rational(1,3) # Define un numero racional\n",
    "display(un_tercio)\n",
    "display(un_tercio.evalf())"
   ]
  },
  {
   "cell_type": "code",
   "execution_count": 52,
   "metadata": {},
   "outputs": [
    {
     "data": {
      "text/plain": [
       "1"
      ]
     },
     "execution_count": 52,
     "metadata": {},
     "output_type": "execute_result"
    }
   ],
   "source": [
    "un_tercio.p # Numerador"
   ]
  },
  {
   "cell_type": "code",
   "execution_count": 53,
   "metadata": {},
   "outputs": [
    {
     "data": {
      "text/plain": [
       "3"
      ]
     },
     "execution_count": 53,
     "metadata": {},
     "output_type": "execute_result"
    }
   ],
   "source": [
    "un_tercio.q # Denominador"
   ]
  },
  {
   "cell_type": "code",
   "execution_count": 54,
   "metadata": {},
   "outputs": [
    {
     "data": {
      "text/latex": [
       "$\\displaystyle \\frac{3602879701896397}{36028797018963968}$"
      ],
      "text/plain": [
       "3602879701896397/36028797018963968"
      ]
     },
     "execution_count": 54,
     "metadata": {},
     "output_type": "execute_result"
    }
   ],
   "source": [
    "sympy.Rational(.1)"
   ]
  },
  {
   "cell_type": "code",
   "execution_count": 55,
   "metadata": {},
   "outputs": [
    {
     "data": {
      "text/latex": [
       "$\\displaystyle \\frac{3602879701896397}{36028797018963968}$"
      ],
      "text/plain": [
       "3602879701896397/36028797018963968"
      ]
     },
     "execution_count": 55,
     "metadata": {},
     "output_type": "execute_result"
    }
   ],
   "source": [
    "sympy.Rational(1/10)"
   ]
  },
  {
   "cell_type": "code",
   "execution_count": 57,
   "metadata": {},
   "outputs": [
    {
     "data": {
      "text/latex": [
       "$\\displaystyle \\frac{1}{10}$"
      ],
      "text/plain": [
       "1/10"
      ]
     },
     "execution_count": 57,
     "metadata": {},
     "output_type": "execute_result"
    }
   ],
   "source": [
    "sympy.Rational(1,10)"
   ]
  },
  {
   "cell_type": "code",
   "execution_count": 56,
   "metadata": {},
   "outputs": [
    {
     "data": {
      "text/latex": [
       "$\\displaystyle \\frac{1}{2}$"
      ],
      "text/plain": [
       "1/2"
      ]
     },
     "execution_count": 56,
     "metadata": {},
     "output_type": "execute_result"
    }
   ],
   "source": [
    "sympy.Rational(\"0.5\")"
   ]
  },
  {
   "cell_type": "markdown",
   "metadata": {},
   "source": [
    "# Expresiones\n",
    "\n",
    "Una vez que se han definido símbolos, es posible usarlos para definir expresiones y/o ecuaciones de todo tipo. Veamos algunos ejemplos:"
   ]
  },
  {
   "cell_type": "code",
   "execution_count": 59,
   "metadata": {},
   "outputs": [
    {
     "data": {
      "text/latex": [
       "$\\displaystyle x^{2} + x y$"
      ],
      "text/plain": [
       "x**2 + x*y"
      ]
     },
     "execution_count": 59,
     "metadata": {},
     "output_type": "execute_result"
    }
   ],
   "source": [
    "x, y = sympy.symbols('x y') # Definimos dos símbolos\n",
    "# Definimos una expresión:\n",
    "expr1 = x**2 + x*y\n",
    "expr1"
   ]
  },
  {
   "cell_type": "code",
   "execution_count": 60,
   "metadata": {},
   "outputs": [
    {
     "data": {
      "text/plain": [
       "\"Add(Pow(Symbol('x'), Integer(2)), Mul(Symbol('x'), Symbol('y')))\""
      ]
     },
     "execution_count": 60,
     "metadata": {},
     "output_type": "execute_result"
    }
   ],
   "source": [
    "# Vemos la representación de la expresión\n",
    "sympy.srepr(expr1)"
   ]
  },
  {
   "cell_type": "markdown",
   "metadata": {},
   "source": [
    "Para entender la representación veamos la siguiente figura:\n",
    "\n",
    "<img src=\"arbol_eval_expr_sympy.png\" width=500px>"
   ]
  },
  {
   "cell_type": "code",
   "execution_count": 61,
   "metadata": {},
   "outputs": [
    {
     "name": "stdout",
     "output_type": "stream",
     "text": [
      "x**2 + x*y\n",
      "<class 'sympy.core.add.Add'>\n"
     ]
    }
   ],
   "source": [
    "print(expr1)\n",
    "print(type(expr1)) # Imprime el tipo de la raíz del árbol"
   ]
  },
  {
   "cell_type": "code",
   "execution_count": 62,
   "metadata": {},
   "outputs": [
    {
     "name": "stdout",
     "output_type": "stream",
     "text": [
      "a*(a + x*y)\n",
      "<class 'sympy.core.mul.Mul'>\n",
      "Mul(Symbol('a', real=True), Add(Symbol('a', real=True), Mul(Symbol('x'), Symbol('y'))))\n"
     ]
    },
    {
     "data": {
      "text/latex": [
       "$\\displaystyle a \\left(a + x y\\right)$"
      ],
      "text/plain": [
       "a*(a + x*y)"
      ]
     },
     "metadata": {},
     "output_type": "display_data"
    }
   ],
   "source": [
    "# Otro ejemplo\n",
    "expr2 = (x * y + a ) * a\n",
    "print(expr2)\n",
    "print(type(expr2))\n",
    "print(sympy.srepr(expr2))\n",
    "display(expr2)"
   ]
  },
  {
   "cell_type": "markdown",
   "metadata": {},
   "source": [
    "### Expansión de expresiones\n",
    "\n",
    "Es posible expandir expresiones usando la función `sympy.expand()`:"
   ]
  },
  {
   "cell_type": "code",
   "execution_count": 63,
   "metadata": {},
   "outputs": [
    {
     "data": {
      "text/latex": [
       "$\\displaystyle x^{3} + 3 x^{2} y + 3 x y^{2} + y^{3}$"
      ],
      "text/plain": [
       "x**3 + 3*x**2*y + 3*x*y**2 + y**3"
      ]
     },
     "execution_count": 63,
     "metadata": {},
     "output_type": "execute_result"
    }
   ],
   "source": [
    "sympy.expand((x+y)**3) "
   ]
  },
  {
   "cell_type": "code",
   "execution_count": 64,
   "metadata": {},
   "outputs": [
    {
     "data": {
      "text/latex": [
       "$\\displaystyle \\left(x + \\pi\\right)^{2}$"
      ],
      "text/plain": [
       "(x + pi)**2"
      ]
     },
     "metadata": {},
     "output_type": "display_data"
    },
    {
     "data": {
      "text/latex": [
       "$\\displaystyle x^{2} + 2 \\pi x + \\pi^{2}$"
      ],
      "text/plain": [
       "x**2 + 2*pi*x + pi**2"
      ]
     },
     "metadata": {},
     "output_type": "display_data"
    }
   ],
   "source": [
    "t = (x + pi)**2\n",
    "display(t)\n",
    "display(sympy.expand(t))"
   ]
  },
  {
   "cell_type": "markdown",
   "metadata": {},
   "source": [
    "### Factorización de expresiones.\n",
    "\n",
    "Se puede factorizar una expresión usando la función `sympy.factor()`:"
   ]
  },
  {
   "cell_type": "code",
   "execution_count": 65,
   "metadata": {},
   "outputs": [
    {
     "data": {
      "text/latex": [
       "$\\displaystyle x^{2} + 2 \\pi x + \\pi^{2}$"
      ],
      "text/plain": [
       "x**2 + 2*pi*x + pi**2"
      ]
     },
     "metadata": {},
     "output_type": "display_data"
    },
    {
     "data": {
      "text/latex": [
       "$\\displaystyle \\left(x + \\pi\\right)^{2}$"
      ],
      "text/plain": [
       "(x + pi)**2"
      ]
     },
     "metadata": {},
     "output_type": "display_data"
    }
   ],
   "source": [
    "expr  = sympy.expand(t)\n",
    "display(expr)\n",
    "display(sympy.factor(expr))"
   ]
  },
  {
   "cell_type": "code",
   "execution_count": 66,
   "metadata": {
    "scrolled": true
   },
   "outputs": [
    {
     "data": {
      "text/latex": [
       "$\\displaystyle \\left(x - 1\\right) \\left(x^{2} + 1\\right)$"
      ],
      "text/plain": [
       "(x - 1)*(x**2 + 1)"
      ]
     },
     "execution_count": 66,
     "metadata": {},
     "output_type": "execute_result"
    }
   ],
   "source": [
    "sympy.factor(x**3 - x**2 + x - 1)"
   ]
  },
  {
   "cell_type": "markdown",
   "metadata": {},
   "source": [
    "# Fracciones Parciales\n",
    "\n",
    "Usando la función `sympy.apart()` es posible calcular la descomposición en fracciones parciales de una función racional.\n"
   ]
  },
  {
   "cell_type": "code",
   "execution_count": 67,
   "metadata": {},
   "outputs": [
    {
     "data": {
      "text/latex": [
       "$\\displaystyle \\frac{4 x^{3} + 21 x^{2} + 10 x + 12}{x^{4} + 5 x^{3} + 5 x^{2} + 4 x}$"
      ],
      "text/plain": [
       "(4*x**3 + 21*x**2 + 10*x + 12)/(x**4 + 5*x**3 + 5*x**2 + 4*x)"
      ]
     },
     "execution_count": 67,
     "metadata": {},
     "output_type": "execute_result"
    }
   ],
   "source": [
    "expr = (4*x**3 + 21*x**2 + 10*x + 12)/(x**4 + 5*x**3 + 5*x**2 + 4*x)\n",
    "expr"
   ]
  },
  {
   "cell_type": "code",
   "execution_count": 68,
   "metadata": {},
   "outputs": [
    {
     "data": {
      "text/latex": [
       "$\\displaystyle \\frac{2 x - 1}{x^{2} + x + 1} - \\frac{1}{x + 4} + \\frac{3}{x}$"
      ],
      "text/plain": [
       "(2*x - 1)/(x**2 + x + 1) - 1/(x + 4) + 3/x"
      ]
     },
     "execution_count": 68,
     "metadata": {},
     "output_type": "execute_result"
    }
   ],
   "source": [
    "sympy.apart(expr)"
   ]
  },
  {
   "cell_type": "markdown",
   "metadata": {},
   "source": [
    "# Substitución\n",
    "\n",
    "El método `.subs()` sustituye un elemento por otro en una expresión. Véase también `.replace()`\n"
   ]
  },
  {
   "cell_type": "code",
   "execution_count": 69,
   "metadata": {},
   "outputs": [
    {
     "data": {
      "text/latex": [
       "$\\displaystyle \\sin^{2}{\\left(x \\right)} + \\cos^{2}{\\left(x \\right)}$"
      ],
      "text/plain": [
       "sin(x)**2 + cos(x)**2"
      ]
     },
     "execution_count": 69,
     "metadata": {},
     "output_type": "execute_result"
    }
   ],
   "source": [
    "expr1 = sympy.sin(x)**2 + sympy.cos(x)**2\n",
    "expr1"
   ]
  },
  {
   "cell_type": "code",
   "execution_count": 70,
   "metadata": {},
   "outputs": [
    {
     "data": {
      "text/latex": [
       "$\\displaystyle e^{2 x} + \\sin^{2}{\\left(x \\right)}$"
      ],
      "text/plain": [
       "exp(2*x) + sin(x)**2"
      ]
     },
     "execution_count": 70,
     "metadata": {},
     "output_type": "execute_result"
    }
   ],
   "source": [
    "expr1.subs(sympy.cos, sympy.exp)  # Sustitucion de código."
   ]
  },
  {
   "cell_type": "markdown",
   "metadata": {},
   "source": [
    "El siguiente ejemplo es una expresión que proviene de la versión discreta de la ecuación de calor en 2D usando diferencias finitas centradas:"
   ]
  },
  {
   "cell_type": "code",
   "execution_count": 78,
   "metadata": {},
   "outputs": [
    {
     "data": {
      "text/latex": [
       "$\\displaystyle - \\frac{T_{i+1j} k_{x}}{h_{x}^{2}} - \\frac{T_{i-1j} k_{x}}{h_{x}^{2}} + T_{ij} \\left(\\frac{2 k_{y}}{h_{y}^{2}} + \\frac{2 k_{x}}{h_{x}^{2}}\\right) - \\frac{T_{ij+1} k_{y}}{h_{y}^{2}} - \\frac{T_{ij-1} k_{y}}{h_{y}^{2}}$"
      ],
      "text/plain": [
       "-T_i+1j*k_x/h_x**2 - T_i-1j*k_x/h_x**2 + T_ij*(2*k_y/h_y**2 + 2*k_x/h_x**2) - T_ij+1*k_y/h_y**2 - T_ij-1*k_y/h_y**2"
      ]
     },
     "execution_count": 78,
     "metadata": {},
     "output_type": "execute_result"
    }
   ],
   "source": [
    "# Definimos los símbolos\n",
    "a, b, c = sympy.symbols('a b c')\n",
    "k_x, h_x, k_y, h_y = sympy.symbols('k_x h_x k_y h_y')\n",
    "T_ij, T_ip1j, T_im1j, T_ijp1, T_ijm1 = sympy.symbols('T_ij T_i+1j T_i-1j T_ij+1 T_ij-1')\n",
    "\n",
    "# Construimos la expresión\n",
    "expr2 = 2 * (k_x / h_x**2 +  k_y / h_y**2) * T_ij - \\\n",
    "        (k_x / h_x**2) * T_ip1j - (k_x / h_x**2) * T_im1j - \\\n",
    "        (k_y / h_y**2) * T_ijp1 - (k_y / h_y**2) * T_ijm1 \n",
    "expr2"
   ]
  },
  {
   "cell_type": "markdown",
   "metadata": {},
   "source": [
    "Simplificamos mediante la definición de coeficientes:\n",
    "$a = 2 * (b + c)$, $b = \\dfrac{k_x}{h_x^2}$ y $c =\\dfrac{k_x}{h_x^2}$"
   ]
  },
  {
   "cell_type": "code",
   "execution_count": 81,
   "metadata": {},
   "outputs": [
    {
     "data": {
      "text/latex": [
       "$\\displaystyle - T_{i+1j} b - T_{i-1j} b + T_{ij} a - T_{ij+1} c - T_{ij-1} c$"
      ],
      "text/plain": [
       "-T_i+1j*b - T_i-1j*b + T_ij*a - T_ij+1*c - T_ij-1*c"
      ]
     },
     "execution_count": 81,
     "metadata": {},
     "output_type": "execute_result"
    }
   ],
   "source": [
    "expr2.subs({k_x / h_x**2 : b, k_y / h_y**2: c, 2 * (k_x / h_x**2 +  k_y / h_y**2) : a})"
   ]
  },
  {
   "cell_type": "markdown",
   "metadata": {},
   "source": [
    "## Resolución de ecuaciones\n",
    "\n",
    "Se pueden definir ecuaciones con la función `sympy.Eq()` y resolverlas con `sympy.solve()`:"
   ]
  },
  {
   "cell_type": "code",
   "execution_count": 82,
   "metadata": {},
   "outputs": [
    {
     "data": {
      "text/latex": [
       "$\\displaystyle a x^{2} + b x + c = 0$"
      ],
      "text/plain": [
       "Eq(a*x**2 + b*x + c, 0)"
      ]
     },
     "execution_count": 82,
     "metadata": {},
     "output_type": "execute_result"
    }
   ],
   "source": [
    "# Definimos la ecuación de segundo grado\n",
    "segundo_grado = sympy.Eq(a*x**2 + b*x + c, 0)\n",
    "segundo_grado"
   ]
  },
  {
   "cell_type": "code",
   "execution_count": 83,
   "metadata": {},
   "outputs": [
    {
     "name": "stdout",
     "output_type": "stream",
     "text": [
      "[(-b - sqrt(-4*a*c + b**2))/(2*a), (-b + sqrt(-4*a*c + b**2))/(2*a)]\n",
      "<class 'list'>\n"
     ]
    },
    {
     "data": {
      "text/latex": [
       "$\\displaystyle \\frac{- b - \\sqrt{- 4 a c + b^{2}}}{2 a}$"
      ],
      "text/plain": [
       "(-b - sqrt(-4*a*c + b**2))/(2*a)"
      ]
     },
     "metadata": {},
     "output_type": "display_data"
    },
    {
     "data": {
      "text/latex": [
       "$\\displaystyle \\frac{- b + \\sqrt{- 4 a c + b^{2}}}{2 a}$"
      ],
      "text/plain": [
       "(-b + sqrt(-4*a*c + b**2))/(2*a)"
      ]
     },
     "metadata": {},
     "output_type": "display_data"
    }
   ],
   "source": [
    "# Resolvemos la ecuación\n",
    "sol = sympy.solve(segundo_grado, x)\n",
    "\n",
    "# Imprimimos el resultado\n",
    "print(sol)\n",
    "print(type(sol))\n",
    "for i in sol:\n",
    "    display(i)"
   ]
  },
  {
   "cell_type": "code",
   "execution_count": 84,
   "metadata": {},
   "outputs": [
    {
     "data": {
      "text/latex": [
       "$\\displaystyle \\frac{- b - \\sqrt{- 4 a c + b^{2}}}{2 a}$"
      ],
      "text/plain": [
       "(-b - sqrt(-4*a*c + b**2))/(2*a)"
      ]
     },
     "metadata": {},
     "output_type": "display_data"
    },
    {
     "data": {
      "text/latex": [
       "$\\displaystyle \\frac{- b + \\sqrt{- 4 a c + b^{2}}}{2 a}$"
      ],
      "text/plain": [
       "(-b + sqrt(-4*a*c + b**2))/(2*a)"
      ]
     },
     "metadata": {},
     "output_type": "display_data"
    }
   ],
   "source": [
    "display(sol[0], sol[1])"
   ]
  },
  {
   "cell_type": "markdown",
   "metadata": {},
   "source": [
    "Veamos otros ejemplos:"
   ]
  },
  {
   "cell_type": "code",
   "execution_count": 99,
   "metadata": {},
   "outputs": [
    {
     "data": {
      "text/latex": [
       "$\\displaystyle x^{4} - 1 = 0$"
      ],
      "text/plain": [
       "Eq(x**4 - 1, 0)"
      ]
     },
     "metadata": {},
     "output_type": "display_data"
    },
    {
     "data": {
      "text/plain": [
       "[-1, 1, -I, I]"
      ]
     },
     "metadata": {},
     "output_type": "display_data"
    }
   ],
   "source": [
    "cuarto_grado = sympy.Eq(x**4 - 1, 0)\n",
    "\n",
    "display(cuarto_grado)\n",
    "sympy.solve(cuarto_grado, x) # Una sola variable"
   ]
  },
  {
   "cell_type": "code",
   "execution_count": 97,
   "metadata": {},
   "outputs": [
    {
     "data": {
      "text/latex": [
       "$\\displaystyle x + 5 y - 2 = 0$"
      ],
      "text/plain": [
       "Eq(x + 5*y - 2, 0)"
      ]
     },
     "metadata": {},
     "output_type": "display_data"
    },
    {
     "data": {
      "text/latex": [
       "$\\displaystyle - 3 x + 6 y - 15 = 0$"
      ],
      "text/plain": [
       "Eq(-3*x + 6*y - 15, 0)"
      ]
     },
     "metadata": {},
     "output_type": "display_data"
    },
    {
     "data": {
      "text/plain": [
       "{x: -3, y: 1}"
      ]
     },
     "execution_count": 97,
     "metadata": {},
     "output_type": "execute_result"
    }
   ],
   "source": [
    "# Sistema de ecuaciones\n",
    "eq1 = sympy.Eq(x + 5*y - 2, 0)     # Ecuación 1\n",
    "eq2 = sympy.Eq(-3*x + 6*y - 15, 0) # Ecuación 2\n",
    "\n",
    "display(eq1, eq2)\n",
    "sympy.solve([eq1, eq2], [x, y]) # Solución"
   ]
  },
  {
   "cell_type": "code",
   "execution_count": 98,
   "metadata": {},
   "outputs": [
    {
     "data": {
      "text/latex": [
       "$\\displaystyle e^{x} + 1 = 0$"
      ],
      "text/plain": [
       "Eq(exp(x) + 1, 0)"
      ]
     },
     "metadata": {},
     "output_type": "display_data"
    },
    {
     "data": {
      "text/plain": [
       "[I*pi]"
      ]
     },
     "execution_count": 98,
     "metadata": {},
     "output_type": "execute_result"
    }
   ],
   "source": [
    "eq3 = sympy.Eq(sympy.exp(x) + 1, 0)\n",
    "\n",
    "display(eq3)\n",
    "sympy.solve(eq3, x)"
   ]
  },
  {
   "cell_type": "code",
   "execution_count": 107,
   "metadata": {},
   "outputs": [
    {
     "data": {
      "text/latex": [
       "$\\displaystyle x^{2} + 2 x = 1$"
      ],
      "text/plain": [
       "Eq(x**2 + 2*x, 1)"
      ]
     },
     "metadata": {},
     "output_type": "display_data"
    },
    {
     "data": {
      "text/latex": [
       "$\\displaystyle -1 + \\sqrt{2}$"
      ],
      "text/plain": [
       "-1 + sqrt(2)"
      ]
     },
     "metadata": {},
     "output_type": "display_data"
    },
    {
     "data": {
      "text/latex": [
       "$\\displaystyle - \\sqrt{2} - 1$"
      ],
      "text/plain": [
       "-sqrt(2) - 1"
      ]
     },
     "metadata": {},
     "output_type": "display_data"
    }
   ],
   "source": [
    "eq4 = sympy.Eq(x**2 + 2*x, 1)\n",
    "\n",
    "display(eq4)\n",
    "_ = [display(s) for s in sympy.solve(eq4,x)]"
   ]
  },
  {
   "cell_type": "code",
   "execution_count": 109,
   "metadata": {},
   "outputs": [
    {
     "data": {
      "text/latex": [
       "$\\displaystyle x^{2} + 2 x = c$"
      ],
      "text/plain": [
       "Eq(x**2 + 2*x, c)"
      ]
     },
     "metadata": {},
     "output_type": "display_data"
    },
    {
     "data": {
      "text/latex": [
       "$\\displaystyle - \\sqrt{c + 1} - 1$"
      ],
      "text/plain": [
       "-sqrt(c + 1) - 1"
      ]
     },
     "metadata": {},
     "output_type": "display_data"
    },
    {
     "data": {
      "text/latex": [
       "$\\displaystyle \\sqrt{c + 1} - 1$"
      ],
      "text/plain": [
       "sqrt(c + 1) - 1"
      ]
     },
     "metadata": {},
     "output_type": "display_data"
    }
   ],
   "source": [
    "c = sympy.symbols('c', real=True)\n",
    "eq5 = sympy.Eq(x**2 + 2*x, c)\n",
    "\n",
    "display(eq5)\n",
    "sol5 = sympy.solve(eq5,x)\n",
    "display(sol5[0], sol5[1])"
   ]
  },
  {
   "cell_type": "markdown",
   "metadata": {},
   "source": [
    "# Cálculo\n",
    "\n",
    "## Funciones\n",
    "---\n",
    "**Definición**:\n",
    "Una relación donde a cada elemento de un conjunto $A$ le corresponde un único elemento de un conjunto $B$, se denomina una **función** de $A$ en $B$. \n",
    "\n",
    "---\n",
    "\n",
    "La notación que se usa es: $f:A \\rightarrow B$. Dado un elemento $x \\in A$ existe un elemento $y \\in B$ de tal manera que escribimos $f(x) = y$, es decir, $f$ transforma $x$ en $y$. Al conjunto $A$ se le conoce como **dominio** de $f$ y al conjunto $B$ se le conoce como **codominio** de $f$. \n"
   ]
  },
  {
   "cell_type": "code",
   "execution_count": 130,
   "metadata": {},
   "outputs": [
    {
     "data": {
      "text/latex": [
       "$\\displaystyle x^{3} + x^{2} + x$"
      ],
      "text/plain": [
       "x**3 + x**2 + x"
      ]
     },
     "execution_count": 130,
     "metadata": {},
     "output_type": "execute_result"
    }
   ],
   "source": [
    "# Definimos un símbolo para usarlo en las expresiones siguientes\n",
    "x = sympy.symbols('x')\n",
    "\n",
    "# Definimos la siguiente función\n",
    "pol = x + x**2 + x**3\n",
    "pol"
   ]
  },
  {
   "cell_type": "markdown",
   "metadata": {},
   "source": [
    "## Graficación con `sympy.plot()`\n",
    "Es posible graficar usando la función `sympy.plot()`:"
   ]
  },
  {
   "cell_type": "code",
   "execution_count": 136,
   "metadata": {},
   "outputs": [
    {
     "data": {
      "image/png": "[encoded data removed]",
      "text/plain": [
       "<Figure size 640x480 with 1 Axes>"
      ]
     },
     "metadata": {},
     "output_type": "display_data"
    },
    {
     "data": {
      "text/plain": [
       "<sympy.plotting.plot.Plot at 0x7f769cfb6850>"
      ]
     },
     "execution_count": 136,
     "metadata": {},
     "output_type": "execute_result"
    }
   ],
   "source": [
    "sympy.plot(pol)"
   ]
  },
  {
   "cell_type": "code",
   "execution_count": 138,
   "metadata": {},
   "outputs": [
    {
     "data": {
      "image/png": "[encoded data removed]",
      "text/plain": [
       "<Figure size 300x300 with 1 Axes>"
      ]
     },
     "metadata": {},
     "output_type": "display_data"
    },
    {
     "data": {
      "text/plain": [
       "<sympy.plotting.plot.Plot at 0x7f769a69f610>"
      ]
     },
     "execution_count": 138,
     "metadata": {},
     "output_type": "execute_result"
    }
   ],
   "source": [
    "# Se puede personalizar la gráfica\n",
    "sympy.plot(pol, (x, -5.0, 5.0), size = (3,3), ylabel='$P(x)$')"
   ]
  },
  {
   "cell_type": "markdown",
   "metadata": {},
   "source": [
    "## Funciones continuas.\n",
    "\n",
    "---\n",
    "**Definición.**\n",
    "Una función $f:\\mathbb{R} \\rightarrow \\mathbb{R}$ es continua si para cada $x_0 \\in \\mathbb{R}$ satisface la propiedad siguiente:\n",
    "\n",
    "$$\n",
    "f(x) \\cong f(x_0) \\; \\; \\forall x \\; \\text{suficientemente próximo a $x_0$}\n",
    "$$\n",
    "\n",
    "*\"La función es continua si puedes dibujarla sin levantar el lápiz del papel\"*.\n",
    "\n",
    "---\n",
    "\n",
    "Las funciones que no cumplen con esta propiedad son discontinuas."
   ]
  },
  {
   "cell_type": "markdown",
   "metadata": {},
   "source": [
    "<div class=\"alert alert-info\">\n",
    "\n",
    "### Ejemplo 1.\n",
    "\n",
    "La *función logística* es ejemplo de una función continua\n",
    "\n",
    "$$\n",
    "f(x) = \\frac{1}{1+e^{-k x}}\n",
    "$$\n",
    "\n",
    "La *función de Heaviside* es una función discontinua en $x=0$.\n",
    "\n",
    "$$\n",
    "H(x) = \n",
    "\\begin{cases}\n",
    "1, x > 0 \\\\\n",
    "0, x \\leq 0\n",
    "\\end{cases}\n",
    "$$\n",
    "\n",
    "</div>\n",
    "\n",
    "Graficamos ambas funciones:"
   ]
  },
  {
   "cell_type": "code",
   "execution_count": 151,
   "metadata": {},
   "outputs": [
    {
     "data": {
      "text/latex": [
       "$\\displaystyle \\theta\\left(x\\right)$"
      ],
      "text/plain": [
       "Heaviside(x)"
      ]
     },
     "metadata": {},
     "output_type": "display_data"
    },
    {
     "data": {
      "text/latex": [
       "$\\displaystyle \\frac{1}{1 + e^{- x}}$"
      ],
      "text/plain": [
       "1/(1 + exp(-x))"
      ]
     },
     "metadata": {},
     "output_type": "display_data"
    },
    {
     "data": {
      "image/png": "[encoded data removed]",
      "text/plain": [
       "<Figure size 400x200 with 1 Axes>"
      ]
     },
     "metadata": {},
     "output_type": "display_data"
    }
   ],
   "source": [
    "x = sympy.symbols('x')\n",
    "H = sympy.Heaviside(x)\n",
    "\n",
    "k = 1\n",
    "logistica = 1 / (1 + sympy.exp(-k*x))\n",
    "\n",
    "display(H, logistica)\n",
    "\n",
    "ph = sympy.plot(H, logistica, show = False)\n",
    "ph.size = (4,2)\n",
    "ph.show()"
   ]
  },
  {
   "cell_type": "markdown",
   "metadata": {},
   "source": [
    "## Limites\n",
    "\n",
    "Un límite se calcula con la función `sympy.limit()`.\n",
    "\n",
    "### Función logística"
   ]
  },
  {
   "cell_type": "code",
   "execution_count": 155,
   "metadata": {},
   "outputs": [
    {
     "data": {
      "text/latex": [
       "$\\displaystyle \\frac{1}{2}$"
      ],
      "text/plain": [
       "1/2"
      ]
     },
     "execution_count": 155,
     "metadata": {},
     "output_type": "execute_result"
    }
   ],
   "source": [
    "sympy.limit(logistica, x, 0)"
   ]
  },
  {
   "cell_type": "code",
   "execution_count": 156,
   "metadata": {},
   "outputs": [
    {
     "data": {
      "text/latex": [
       "$\\displaystyle \\frac{1}{2}$"
      ],
      "text/plain": [
       "1/2"
      ]
     },
     "execution_count": 156,
     "metadata": {},
     "output_type": "execute_result"
    }
   ],
   "source": [
    "# Límite por la izquierda\n",
    "sympy.limit(logistica, x, 0, dir = '-') "
   ]
  },
  {
   "cell_type": "code",
   "execution_count": 157,
   "metadata": {},
   "outputs": [
    {
     "data": {
      "text/latex": [
       "$\\displaystyle \\frac{1}{2}$"
      ],
      "text/plain": [
       "1/2"
      ]
     },
     "execution_count": 157,
     "metadata": {},
     "output_type": "execute_result"
    }
   ],
   "source": [
    "# Límite por la derecha\n",
    "sympy.limit(logistica, x, 0, dir = '+') "
   ]
  },
  {
   "cell_type": "markdown",
   "metadata": {},
   "source": [
    "### Función Heaviside"
   ]
  },
  {
   "cell_type": "code",
   "execution_count": 159,
   "metadata": {},
   "outputs": [
    {
     "data": {
      "text/latex": [
       "$\\displaystyle 0$"
      ],
      "text/plain": [
       "0"
      ]
     },
     "execution_count": 159,
     "metadata": {},
     "output_type": "execute_result"
    }
   ],
   "source": [
    "sympy.limit(H, x, 0, dir='-')  # Aplicamos un límite"
   ]
  },
  {
   "cell_type": "code",
   "execution_count": 160,
   "metadata": {},
   "outputs": [
    {
     "data": {
      "text/latex": [
       "$\\displaystyle 1$"
      ],
      "text/plain": [
       "1"
      ]
     },
     "execution_count": 160,
     "metadata": {},
     "output_type": "execute_result"
    }
   ],
   "source": [
    "sympy.limit(H, x, 0, dir='+')  # Aplicamos un límite"
   ]
  },
  {
   "cell_type": "code",
   "execution_count": 169,
   "metadata": {},
   "outputs": [
    {
     "name": "stdout",
     "output_type": "stream",
     "text": [
      "¿Existe el límite de H(x) cuando x tiende a cero? False\n"
     ]
    }
   ],
   "source": [
    "limite = sympy.limit(H, x, 0, dir='-') == sympy.limit(H, x, 0, dir='+')\n",
    "\n",
    "print('¿Existe el límite de H(x) cuando x tiende a cero? {}'.format(limite))"
   ]
  },
  {
   "cell_type": "code",
   "execution_count": 209,
   "metadata": {},
   "outputs": [
    {
     "data": {
      "application/vnd.jupyter.widget-view+json": {
       "model_id": "f592a23ca0ef4a89943251ea28a39f33",
       "version_major": 2,
       "version_minor": 0
      },
      "text/plain": [
       "interactive(children=(Dropdown(description='Función', options=('Heaviside', 'Logística'), value='Heaviside'), …"
      ]
     },
     "metadata": {},
     "output_type": "display_data"
    }
   ],
   "source": [
    "%run \"./zlimit_interactive.ipynb\""
   ]
  },
  {
   "cell_type": "markdown",
   "metadata": {},
   "source": [
    "### Límite como una expresión\n",
    "\n",
    "En este caso usamos la función `sympy.Limit()` (con la L mayúscula):"
   ]
  },
  {
   "cell_type": "code",
   "execution_count": 172,
   "metadata": {},
   "outputs": [
    {
     "data": {
      "text/latex": [
       "$\\displaystyle \\lim_{x \\to 0^+} \\frac{1}{1 + e^{- x}}$"
      ],
      "text/plain": [
       "Limit(1/(1 + exp(-x)), x, 0, dir='+')"
      ]
     },
     "execution_count": 172,
     "metadata": {},
     "output_type": "execute_result"
    }
   ],
   "source": [
    "# Definimos y desplegamos el límite\n",
    "limite = sympy.Limit(logistica, x, 0, dir = '+') \n",
    "limite"
   ]
  },
  {
   "cell_type": "code",
   "execution_count": 195,
   "metadata": {},
   "outputs": [
    {
     "data": {
      "text/latex": [
       "$\\displaystyle \\infty$"
      ],
      "text/plain": [
       "oo"
      ]
     },
     "execution_count": 195,
     "metadata": {},
     "output_type": "execute_result"
    }
   ],
   "source": [
    "# Calculamos el límite\n",
    "limite.doit()"
   ]
  },
  {
   "cell_type": "markdown",
   "metadata": {},
   "source": [
    "### Otros ejemplos"
   ]
  },
  {
   "cell_type": "code",
   "execution_count": 175,
   "metadata": {},
   "outputs": [
    {
     "data": {
      "text/latex": [
       "$\\displaystyle \\lim_{x \\to 0^+}\\left(\\frac{\\sin{\\left(x \\right)}}{x}\\right)$"
      ],
      "text/plain": [
       "Limit(sin(x)/x, x, 0, dir='+')"
      ]
     },
     "metadata": {},
     "output_type": "display_data"
    },
    {
     "data": {
      "text/latex": [
       "$\\displaystyle 1$"
      ],
      "text/plain": [
       "1"
      ]
     },
     "execution_count": 175,
     "metadata": {},
     "output_type": "execute_result"
    }
   ],
   "source": [
    "limite = sympy.Limit(sympy.sin(x)/x, x, 0)\n",
    "display(limite)\n",
    "limite.doit()"
   ]
  },
  {
   "cell_type": "code",
   "execution_count": 182,
   "metadata": {},
   "outputs": [
    {
     "data": {
      "text/latex": [
       "$\\displaystyle \\lim_{x \\to \\infty} 1$"
      ],
      "text/plain": [
       "Limit(1, x, oo, dir='-')"
      ]
     },
     "metadata": {},
     "output_type": "display_data"
    },
    {
     "data": {
      "text/latex": [
       "$\\displaystyle 1$"
      ],
      "text/plain": [
       "1"
      ]
     },
     "execution_count": 182,
     "metadata": {},
     "output_type": "execute_result"
    }
   ],
   "source": [
    "limite = sympy.Limit(x/x, x, sympy.oo)       # Limites al infinito\n",
    "display(limite)\n",
    "limite.doit()"
   ]
  },
  {
   "cell_type": "code",
   "execution_count": 183,
   "metadata": {},
   "outputs": [
    {
     "data": {
      "text/latex": [
       "$\\displaystyle \\lim_{x \\to \\infty} \\frac{1}{x}$"
      ],
      "text/plain": [
       "Limit(1/x, x, oo, dir='-')"
      ]
     },
     "metadata": {},
     "output_type": "display_data"
    },
    {
     "data": {
      "text/latex": [
       "$\\displaystyle 0$"
      ],
      "text/plain": [
       "0"
      ]
     },
     "execution_count": 183,
     "metadata": {},
     "output_type": "execute_result"
    }
   ],
   "source": [
    "limite = sympy.Limit(1 / x, x, sympy.oo) \n",
    "display(limite)\n",
    "limite.doit()"
   ]
  },
  {
   "cell_type": "code",
   "execution_count": 185,
   "metadata": {},
   "outputs": [
    {
     "data": {
      "text/latex": [
       "$\\displaystyle \\lim_{x \\to \\infty}\\left(\\frac{\\left(x + 1\\right) \\left(x + 2\\right) \\left(x + 3\\right)}{x^{3}}\\right)$"
      ],
      "text/plain": [
       "Limit((x + 1)*(x + 2)*(x + 3)/x**3, x, oo, dir='-')"
      ]
     },
     "metadata": {},
     "output_type": "display_data"
    },
    {
     "data": {
      "text/latex": [
       "$\\displaystyle 1$"
      ],
      "text/plain": [
       "1"
      ]
     },
     "execution_count": 185,
     "metadata": {},
     "output_type": "execute_result"
    }
   ],
   "source": [
    "limite = sympy.Limit((x + 1)*(x + 2)*(x + 3)/x**3, x, sympy.oo)\n",
    "display(limite)\n",
    "limite.doit()"
   ]
  },
  {
   "cell_type": "code",
   "execution_count": 186,
   "metadata": {},
   "outputs": [
    {
     "data": {
      "text/latex": [
       "$\\displaystyle \\lim_{x \\to \\frac{\\pi}{2}^+} \\tan{\\left(x \\right)}$"
      ],
      "text/plain": [
       "Limit(tan(x), x, pi/2, dir='+')"
      ]
     },
     "metadata": {},
     "output_type": "display_data"
    },
    {
     "data": {
      "text/latex": [
       "$\\displaystyle -\\infty$"
      ],
      "text/plain": [
       "-oo"
      ]
     },
     "execution_count": 186,
     "metadata": {},
     "output_type": "execute_result"
    }
   ],
   "source": [
    "limite = sympy.Limit(sympy.tan(x), x, pi / 2, dir='+')\n",
    "display(limite)\n",
    "limite.doit()"
   ]
  },
  {
   "cell_type": "code",
   "execution_count": 187,
   "metadata": {},
   "outputs": [
    {
     "data": {
      "text/latex": [
       "$\\displaystyle \\lim_{x \\to \\frac{\\pi}{2}^-} \\tan{\\left(x \\right)}$"
      ],
      "text/plain": [
       "Limit(tan(x), x, pi/2, dir='-')"
      ]
     },
     "metadata": {},
     "output_type": "display_data"
    },
    {
     "data": {
      "text/latex": [
       "$\\displaystyle \\infty$"
      ],
      "text/plain": [
       "oo"
      ]
     },
     "execution_count": 187,
     "metadata": {},
     "output_type": "execute_result"
    }
   ],
   "source": [
    "limite  = sympy.Limit(sympy.tan(x), x, pi / 2, dir='-')\n",
    "display(limite)\n",
    "limite.doit()"
   ]
  },
  {
   "cell_type": "markdown",
   "metadata": {},
   "source": [
    "## Derivadas\n",
    "\n",
    "En casi todos los libros de cálculo encontrarás la siguiente notación para la derivada de la función $f(x)$:\n",
    "\n",
    "$$ \n",
    "\\frac{d f}{dx} = f^\\prime(x)=\\lim_{h \\to 0} \\frac{f(x + h) - f(x)}{h} \\tag{5}\n",
    "$$\n",
    "\n",
    "La derivada existe siempre y cuando exista este límite. ¿Puedes imaginar cuando este límite no existe? \n",
    "\n",
    "Observe que en la definición anterior se está calculando la pendiente de la función $f(x)$ en $x$."
   ]
  },
  {
   "cell_type": "code",
   "execution_count": 210,
   "metadata": {},
   "outputs": [
    {
     "data": {
      "application/vnd.jupyter.widget-view+json": {
       "model_id": "754fc0e80d0741e8a35c03d8e2121fa1",
       "version_major": 2,
       "version_minor": 0
      },
      "text/plain": [
       "interactive(children=(FloatSlider(value=1.0, description='h', max=2.0, min=0.1), FloatSlider(value=6.0, descri…"
      ]
     },
     "metadata": {},
     "output_type": "display_data"
    },
    {
     "data": {
      "text/plain": [
       "<function __main__.derivada(h, x0, back)>"
      ]
     },
     "metadata": {},
     "output_type": "display_data"
    }
   ],
   "source": [
    "%run \"./zDerivadaNumerica.ipynb\""
   ]
  },
  {
   "cell_type": "markdown",
   "metadata": {},
   "source": [
    "En SymPy es posible calcular las derivadas numéricas usando las funciones `sympy.diff()` o `sympy.Derivative()`, veamos como:"
   ]
  },
  {
   "cell_type": "code",
   "execution_count": 214,
   "metadata": {},
   "outputs": [
    {
     "data": {
      "text/latex": [
       "$\\displaystyle \\frac{1}{x^{2} + x + 1}$"
      ],
      "text/plain": [
       "1/(x**2 + x + 1)"
      ]
     },
     "metadata": {},
     "output_type": "display_data"
    },
    {
     "data": {
      "text/latex": [
       "$\\displaystyle \\frac{- 2 x - 1}{\\left(x^{2} + x + 1\\right)^{2}}$"
      ],
      "text/plain": [
       "(-2*x - 1)/(x**2 + x + 1)**2"
      ]
     },
     "execution_count": 214,
     "metadata": {},
     "output_type": "execute_result"
    }
   ],
   "source": [
    "# Función de una variable\n",
    "f = 1/(x**2+x+1)\n",
    "display(f)\n",
    "sympy.diff(1/(x**2+x+1),x)    # Derivada con respecto a x"
   ]
  },
  {
   "cell_type": "code",
   "execution_count": 219,
   "metadata": {},
   "outputs": [
    {
     "data": {
      "text/latex": [
       "$\\displaystyle \\frac{\\partial}{\\partial y} \\frac{1}{x^{2} + y + 1}$"
      ],
      "text/plain": [
       "Derivative(1/(x**2 + y + 1), y)"
      ]
     },
     "metadata": {},
     "output_type": "display_data"
    },
    {
     "data": {
      "text/latex": [
       "$\\displaystyle - \\frac{1}{\\left(x^{2} + y + 1\\right)^{2}}$"
      ],
      "text/plain": [
       "-1/(x**2 + y + 1)**2"
      ]
     },
     "execution_count": 219,
     "metadata": {},
     "output_type": "execute_result"
    }
   ],
   "source": [
    "# Función de dos variables\n",
    "y = sympy.symbols('y')\n",
    "f = 1/(x**2+y+1)\n",
    "derivada = sympy.Derivative(f,y) # Derivada parcial con respecto a y\n",
    "display(derivada)\n",
    "derivada.doit()"
   ]
  },
  {
   "cell_type": "code",
   "execution_count": 218,
   "metadata": {},
   "outputs": [
    {
     "data": {
      "text/latex": [
       "$\\displaystyle \\frac{d^{2}}{d x^{2}} x^{2}$"
      ],
      "text/plain": [
       "Derivative(x**2, (x, 2))"
      ]
     },
     "metadata": {},
     "output_type": "display_data"
    },
    {
     "data": {
      "text/latex": [
       "$\\displaystyle 2$"
      ],
      "text/plain": [
       "2"
      ]
     },
     "execution_count": 218,
     "metadata": {},
     "output_type": "execute_result"
    }
   ],
   "source": [
    "# Derivadas de alto orden\n",
    "f = x**2\n",
    "derivada = sympy.Derivative(f,x,2) # Segunda derivada con respecto a x\n",
    "display(derivada)\n",
    "derivada.doit()"
   ]
  },
  {
   "cell_type": "code",
   "execution_count": 220,
   "metadata": {},
   "outputs": [
    {
     "data": {
      "text/latex": [
       "$\\displaystyle \\frac{\\partial^{3}}{\\partial y^{3}} \\frac{1}{x^{2} + y + 1}$"
      ],
      "text/plain": [
       "Derivative(1/(x**2 + y + 1), (y, 3))"
      ]
     },
     "metadata": {},
     "output_type": "display_data"
    },
    {
     "data": {
      "text/latex": [
       "$\\displaystyle - \\frac{6}{\\left(x^{2} + y + 1\\right)^{4}}$"
      ],
      "text/plain": [
       "-6/(x**2 + y + 1)**4"
      ]
     },
     "execution_count": 220,
     "metadata": {},
     "output_type": "execute_result"
    }
   ],
   "source": [
    "# Derivadas parciales de alto orden\n",
    "f = 1/(x**2+y+1)\n",
    "derivada = sympy.Derivative(f,y,3) # Tercera derivada con respecto a y\n",
    "display(derivada)\n",
    "derivada.doit()"
   ]
  },
  {
   "cell_type": "code",
   "execution_count": 222,
   "metadata": {},
   "outputs": [
    {
     "data": {
      "text/latex": [
       "$\\displaystyle \\frac{\\partial^{2}}{\\partial y\\partial x} x y \\log{\\left(x y \\right)}$"
      ],
      "text/plain": [
       "Derivative(x*y*log(x*y), x, y)"
      ]
     },
     "metadata": {},
     "output_type": "display_data"
    },
    {
     "data": {
      "text/latex": [
       "$\\displaystyle \\log{\\left(x y \\right)} + 2$"
      ],
      "text/plain": [
       "log(x*y) + 2"
      ]
     },
     "execution_count": 222,
     "metadata": {},
     "output_type": "execute_result"
    }
   ],
   "source": [
    "# Derivadas parciales mezcladas\n",
    "f = x * y * sympy.log(x * y)\n",
    "derivada = sympy.Derivative(f,x,y) # Derivada parcial con respecto a x, luego con respecto a y\n",
    "display(derivada)\n",
    "derivada.doit()"
   ]
  },
  {
   "cell_type": "markdown",
   "metadata": {},
   "source": [
    "## Series de Taylor\n",
    "\n",
    "Es posible calcular la serie de Taylor de una función usando la funciòn `sympy.series()`:"
   ]
  },
  {
   "cell_type": "code",
   "execution_count": 223,
   "metadata": {},
   "outputs": [
    {
     "data": {
      "text/latex": [
       "$\\displaystyle 1 - \\frac{x^{2}}{2} + \\frac{x^{4}}{24} + O\\left(x^{6}\\right)$"
      ],
      "text/plain": [
       "1 - x**2/2 + x**4/24 + O(x**6)"
      ]
     },
     "execution_count": 223,
     "metadata": {},
     "output_type": "execute_result"
    }
   ],
   "source": [
    "sympy.series(sympy.cos(x))   # Punto central en cero"
   ]
  },
  {
   "cell_type": "code",
   "execution_count": 224,
   "metadata": {
    "scrolled": true
   },
   "outputs": [
    {
     "data": {
      "text/latex": [
       "$\\displaystyle 1 - \\frac{x^{2}}{2} + \\frac{x^{4}}{24} - \\frac{x^{6}}{720} + \\frac{x^{8}}{40320} + O\\left(x^{10}\\right)$"
      ],
      "text/plain": [
       "1 - x**2/2 + x**4/24 - x**6/720 + x**8/40320 + O(x**10)"
      ]
     },
     "execution_count": 224,
     "metadata": {},
     "output_type": "execute_result"
    }
   ],
   "source": [
    "sympy.series(sympy.cos(x),n=10) # Calcula hasta orden 10 de la variable x"
   ]
  },
  {
   "cell_type": "code",
   "execution_count": 225,
   "metadata": {},
   "outputs": [
    {
     "data": {
      "text/latex": [
       "$\\displaystyle \\frac{x^{8}}{40320} - \\frac{x^{6}}{720} + \\frac{x^{4}}{24} - \\frac{x^{2}}{2} + 1$"
      ],
      "text/plain": [
       "x**8/40320 - x**6/720 + x**4/24 - x**2/2 + 1"
      ]
     },
     "execution_count": 225,
     "metadata": {},
     "output_type": "execute_result"
    }
   ],
   "source": [
    "sympy.series(sympy.cos(x),n=10).removeO() # "
   ]
  },
  {
   "cell_type": "code",
   "execution_count": 228,
   "metadata": {},
   "outputs": [
    {
     "data": {
      "text/latex": [
       "$\\displaystyle \\frac{\\pi}{2} + \\frac{\\left(x - \\frac{\\pi}{2}\\right)^{3}}{6} - x + O\\left(\\left(x - \\frac{\\pi}{2}\\right)^{5}; x\\rightarrow \\frac{\\pi}{2}\\right)$"
      ],
      "text/plain": [
       "pi/2 + (x - pi/2)**3/6 - x + O((x - pi/2)**5, (x, pi/2))"
      ]
     },
     "execution_count": 228,
     "metadata": {},
     "output_type": "execute_result"
    }
   ],
   "source": [
    "T5 = sympy.series(sympy.cos(x), n=5, x0=pi/2)\n",
    "T5"
   ]
  },
  {
   "cell_type": "markdown",
   "metadata": {},
   "source": [
    "Podemos comparar la función original, $\\cos(x)$, con el resultado de la aproximación con la serie de Taylor de manera gráfica: "
   ]
  },
  {
   "cell_type": "code",
   "execution_count": 239,
   "metadata": {},
   "outputs": [
    {
     "data": {
      "text/latex": [
       "$\\displaystyle - x + \\frac{\\left(x - \\frac{\\pi}{2}\\right)^{3}}{6} + \\frac{\\pi}{2}$"
      ],
      "text/plain": [
       "-x + (x - pi/2)**3/6 + pi/2"
      ]
     },
     "metadata": {},
     "output_type": "display_data"
    },
    {
     "data": {
      "image/png": "[encoded data removed]",
      "text/plain": [
       "<Figure size 480x240 with 1 Axes>"
      ]
     },
     "metadata": {},
     "output_type": "display_data"
    }
   ],
   "source": [
    "P5 = T5.removeO()\n",
    "display(P5)\n",
    "\n",
    "ph = sympy.plot((sympy.cos(x), (x, 0, sympy.pi)), \n",
    "                (P5, (x, 0, sympy.pi)), \n",
    "                legend = True, show=False)\n",
    "ph.size = (6,3)\n",
    "ph.ylabel = '$P_5(x)$'\n",
    "ph[1].label = '$P_5(x)$' # Se puede cambiar la etiqueta a la gráfica\n",
    "ph.show()"
   ]
  },
  {
   "cell_type": "markdown",
   "metadata": {},
   "source": [
    "## Integración\n",
    "\n",
    "La integral de una función se calcula con las funciones `sympy.integrate()` o  `sympy.Integral()`  "
   ]
  },
  {
   "cell_type": "code",
   "execution_count": 240,
   "metadata": {},
   "outputs": [
    {
     "data": {
      "text/latex": [
       "$\\displaystyle 6 x^{5}$"
      ],
      "text/plain": [
       "6*x**5"
      ]
     },
     "metadata": {},
     "output_type": "display_data"
    },
    {
     "data": {
      "text/latex": [
       "$\\displaystyle x^{6}$"
      ],
      "text/plain": [
       "x**6"
      ]
     },
     "execution_count": 240,
     "metadata": {},
     "output_type": "execute_result"
    }
   ],
   "source": [
    "f = 6*x**5\n",
    "display(f)\n",
    "sympy.integrate(6*x**5, x)"
   ]
  },
  {
   "cell_type": "code",
   "execution_count": 241,
   "metadata": {},
   "outputs": [
    {
     "data": {
      "text/latex": [
       "$\\displaystyle \\int \\sin{\\left(x \\right)}\\, dx$"
      ],
      "text/plain": [
       "Integral(sin(x), x)"
      ]
     },
     "metadata": {},
     "output_type": "display_data"
    },
    {
     "data": {
      "text/latex": [
       "$\\displaystyle - \\cos{\\left(x \\right)}$"
      ],
      "text/plain": [
       "-cos(x)"
      ]
     },
     "execution_count": 241,
     "metadata": {},
     "output_type": "execute_result"
    }
   ],
   "source": [
    "f = sympy.sin(x)\n",
    "integral = sympy.Integral(f) # Integrales indefinidas\n",
    "display(integral)\n",
    "integral.doit()"
   ]
  },
  {
   "cell_type": "code",
   "execution_count": 242,
   "metadata": {},
   "outputs": [
    {
     "data": {
      "text/latex": [
       "$\\displaystyle \\int\\limits_{- \\frac{\\pi}{2}}^{\\frac{\\pi}{2}} \\cos{\\left(x \\right)}\\, dx$"
      ],
      "text/plain": [
       "Integral(cos(x), (x, -pi/2, pi/2))"
      ]
     },
     "metadata": {},
     "output_type": "display_data"
    },
    {
     "data": {
      "text/latex": [
       "$\\displaystyle 2$"
      ],
      "text/plain": [
       "2"
      ]
     },
     "execution_count": 242,
     "metadata": {},
     "output_type": "execute_result"
    }
   ],
   "source": [
    "f = sympy.cos(x)\n",
    "integral = sympy.Integral(f, (x, -sympy.pi/2, sympy.pi/2)) # Integrales definidas\n",
    "display(integral)\n",
    "integral.doit()"
   ]
  },
  {
   "cell_type": "code",
   "execution_count": 243,
   "metadata": {},
   "outputs": [
    {
     "data": {
      "text/latex": [
       "$\\displaystyle \\int\\limits_{0}^{\\infty} e^{- x}\\, dx$"
      ],
      "text/plain": [
       "Integral(exp(-x), (x, 0, oo))"
      ]
     },
     "metadata": {},
     "output_type": "display_data"
    },
    {
     "data": {
      "text/latex": [
       "$\\displaystyle 1$"
      ],
      "text/plain": [
       "1"
      ]
     },
     "execution_count": 243,
     "metadata": {},
     "output_type": "execute_result"
    }
   ],
   "source": [
    "f = sympy.exp(-x)\n",
    "integral = sympy.Integral(f, (x, 0, sympy.oo)) # Integrales impropias\n",
    "display(integral)\n",
    "integral.doit()"
   ]
  },
  {
   "cell_type": "code",
   "execution_count": 245,
   "metadata": {},
   "outputs": [
    {
     "data": {
      "text/latex": [
       "$\\displaystyle \\int\\limits_{-\\infty}^{\\infty} e^{- x^{2}}\\, dx$"
      ],
      "text/plain": [
       "Integral(exp(-x**2), (x, -oo, oo))"
      ]
     },
     "metadata": {},
     "output_type": "display_data"
    },
    {
     "data": {
      "text/latex": [
       "$\\displaystyle \\sqrt{\\pi}$"
      ],
      "text/plain": [
       "sqrt(pi)"
      ]
     },
     "execution_count": 245,
     "metadata": {},
     "output_type": "execute_result"
    }
   ],
   "source": [
    "f = sympy.exp(-x**2)\n",
    "integral = sympy.Integral(f, (x, -sympy.oo, sympy.oo)) # Integrales impropias\n",
    "display(integral)\n",
    "integral.doit()"
   ]
  },
  {
   "cell_type": "markdown",
   "metadata": {
    "tags": []
   },
   "source": [
    "## Teorema fundamental"
   ]
  },
  {
   "cell_type": "code",
   "execution_count": 252,
   "metadata": {
    "tags": []
   },
   "outputs": [
    {
     "name": "stdout",
     "output_type": "stream",
     "text": [
      "Función original:\n"
     ]
    },
    {
     "data": {
      "text/latex": [
       "$\\displaystyle x^{2} \\log{\\left(x^{2} \\right)} + \\cos{\\left(x \\right)}$"
      ],
      "text/plain": [
       "x**2*log(x**2) + cos(x)"
      ]
     },
     "metadata": {},
     "output_type": "display_data"
    },
    {
     "name": "stdout",
     "output_type": "stream",
     "text": [
      "\n",
      "Derivada de la función original:\n"
     ]
    },
    {
     "data": {
      "text/latex": [
       "$\\displaystyle \\frac{d}{d x} \\left(x^{2} \\log{\\left(x^{2} \\right)} + \\cos{\\left(x \\right)}\\right)$"
      ],
      "text/plain": [
       "Derivative(x**2*log(x**2) + cos(x), x)"
      ]
     },
     "metadata": {},
     "output_type": "display_data"
    },
    {
     "data": {
      "text/latex": [
       "$\\displaystyle 2 x \\log{\\left(x^{2} \\right)} + 2 x - \\sin{\\left(x \\right)}$"
      ],
      "text/plain": [
       "2*x*log(x**2) + 2*x - sin(x)"
      ]
     },
     "metadata": {},
     "output_type": "display_data"
    },
    {
     "name": "stdout",
     "output_type": "stream",
     "text": [
      "\n",
      "Integral de la Derivada de la función original:\n"
     ]
    },
    {
     "data": {
      "text/latex": [
       "$\\displaystyle \\int \\left(2 x \\log{\\left(x^{2} \\right)} + 2 x - \\sin{\\left(x \\right)}\\right)\\, dx$"
      ],
      "text/plain": [
       "Integral(2*x*log(x**2) + 2*x - sin(x), x)"
      ]
     },
     "metadata": {},
     "output_type": "display_data"
    },
    {
     "name": "stdout",
     "output_type": "stream",
     "text": [
      "\n",
      "¿Se cumple el Teorema ? True\n"
     ]
    }
   ],
   "source": [
    "print('Función original:')\n",
    "f = x * x * sympy.log(x**2) + sympy.cos(x)\n",
    "display(f)\n",
    "\n",
    "print('\\nDerivada de la función original:')\n",
    "derivada = sympy.Derivative(f,x)\n",
    "display(derivada)\n",
    "fp = derivada.doit()\n",
    "display(fp)\n",
    "\n",
    "print('\\nIntegral de la Derivada de la función original:')\n",
    "integral = sympy.Integral(fp, x) \n",
    "display(integral)\n",
    "fi = integral.doit()\n",
    "\n",
    "print('\\n¿Se cumple el Teorema ? {}'.format(f == fi))"
   ]
  },
  {
   "cell_type": "markdown",
   "metadata": {},
   "source": [
    "# Ecuaciones diferenciales ordinarias\n",
    "\n",
    "Una ecuación diferencial ordinaria se expresa como:\n",
    "\n",
    "$$\n",
    "\\frac{d}{d x} y{\\left(x \\right)} = f(x)\n",
    "$$\n",
    "\n",
    "Junto con sus condiciones iniciales.\n",
    "\n",
    "En SymPy podemos definir la ecuación y resolverla."
   ]
  },
  {
   "cell_type": "code",
   "execution_count": 259,
   "metadata": {},
   "outputs": [],
   "source": [
    "# Definimos la x y la y(x)\n",
    "x = sympy.Symbol('x')\n",
    "y = sympy.Function('y')"
   ]
  },
  {
   "cell_type": "code",
   "execution_count": 261,
   "metadata": {},
   "outputs": [
    {
     "data": {
      "text/latex": [
       "$\\displaystyle - 3 x^{2} y{\\left(x \\right)} + 6 x^{2}$"
      ],
      "text/plain": [
       "-3*x**2*y(x) + 6*x**2"
      ]
     },
     "execution_count": 261,
     "metadata": {},
     "output_type": "execute_result"
    }
   ],
   "source": [
    "# Definimos la función f(x)\n",
    "f = 6*x**2 - 3*x**2*(y(x))\n",
    "f"
   ]
  },
  {
   "cell_type": "code",
   "execution_count": 267,
   "metadata": {},
   "outputs": [
    {
     "data": {
      "text/latex": [
       "$\\displaystyle \\frac{d}{d x} y{\\left(x \\right)} = - 3 x^{2} y{\\left(x \\right)} + 6 x^{2}$"
      ],
      "text/plain": [
       "Eq(Derivative(y(x), x), -3*x**2*y(x) + 6*x**2)"
      ]
     },
     "execution_count": 267,
     "metadata": {},
     "output_type": "execute_result"
    }
   ],
   "source": [
    "# Definimos la ecuación diferencial\n",
    "sympy.Eq(y(x).diff(x), f)"
   ]
  },
  {
   "cell_type": "code",
   "execution_count": 264,
   "metadata": {},
   "outputs": [
    {
     "data": {
      "text/latex": [
       "$\\displaystyle y{\\left(x \\right)} = C_{1} e^{- x^{3}} + 2$"
      ],
      "text/plain": [
       "Eq(y(x), C1*exp(-x**3) + 2)"
      ]
     },
     "execution_count": 264,
     "metadata": {},
     "output_type": "execute_result"
    }
   ],
   "source": [
    "# Resolvemos la ecuación diferencial\n",
    "sympy.dsolve(y(x).diff(x) - f)"
   ]
  },
  {
   "cell_type": "markdown",
   "metadata": {},
   "source": [
    "### Condiciones iniciales"
   ]
  },
  {
   "cell_type": "code",
   "execution_count": 273,
   "metadata": {},
   "outputs": [
    {
     "data": {
      "text/latex": [
       "$\\displaystyle - 4 y{\\left(x \\right)} + \\frac{d^{2}}{d x^{2}} y{\\left(x \\right)} = 2 e^{2 x} + 5 e^{- 2 x}$"
      ],
      "text/plain": [
       "Eq(-4*y(x) + Derivative(y(x), (x, 2)), 2*exp(2*x) + 5*exp(-2*x))"
      ]
     },
     "execution_count": 273,
     "metadata": {},
     "output_type": "execute_result"
    }
   ],
   "source": [
    "# Definimos la ecuación diferencial ordinaria usando sympy.Eq()\n",
    "edo = sympy.Eq(y(x).diff(x, 2) - 4 * y(x), # lhs\n",
    "               2 * sympy.exp(2 * x) + 5 * sympy.exp(-2 * x)) # rhs\n",
    "edo"
   ]
  },
  {
   "cell_type": "code",
   "execution_count": 275,
   "metadata": {},
   "outputs": [
    {
     "data": {
      "text/latex": [
       "$\\displaystyle - 4 y{\\left(x \\right)} + \\frac{d^{2}}{d x^{2}} y{\\left(x \\right)}$"
      ],
      "text/plain": [
       "-4*y(x) + Derivative(y(x), (x, 2))"
      ]
     },
     "execution_count": 275,
     "metadata": {},
     "output_type": "execute_result"
    }
   ],
   "source": [
    "edo.lhs"
   ]
  },
  {
   "cell_type": "code",
   "execution_count": 276,
   "metadata": {},
   "outputs": [
    {
     "data": {
      "text/latex": [
       "$\\displaystyle 2 e^{2 x} + 5 e^{- 2 x}$"
      ],
      "text/plain": [
       "2*exp(2*x) + 5*exp(-2*x)"
      ]
     },
     "execution_count": 276,
     "metadata": {},
     "output_type": "execute_result"
    }
   ],
   "source": [
    "edo.rhs"
   ]
  },
  {
   "cell_type": "code",
   "execution_count": 278,
   "metadata": {},
   "outputs": [
    {
     "data": {
      "text/latex": [
       "$\\displaystyle y{\\left(x \\right)} = \\left(C_{1} - \\frac{5 x}{4}\\right) e^{- 2 x} + \\left(C_{2} + \\frac{x}{2}\\right) e^{2 x}$"
      ],
      "text/plain": [
       "Eq(y(x), (C1 - 5*x/4)*exp(-2*x) + (C2 + x/2)*exp(2*x))"
      ]
     },
     "execution_count": 278,
     "metadata": {},
     "output_type": "execute_result"
    }
   ],
   "source": [
    "# Ahora resolvemos la ecuación diferencial ordinaria\n",
    "sympy.dsolve(edo, y(x))"
   ]
  },
  {
   "cell_type": "markdown",
   "metadata": {},
   "source": [
    "Cuando tenemos las condiciones iniciales, las podemos agregar como sigue:\n",
    "\n",
    "$$\n",
    "\\begin{eqnarray}\n",
    "y & = & -6, \\;\\; \\text{para} \\;\\; x = 0 \\\\\n",
    "\\dfrac{d y}{d x} & = & 8, \\;\\; \\text{para} \\;\\; x = 0 \n",
    "\\end{eqnarray}\n",
    "$$"
   ]
  },
  {
   "cell_type": "code",
   "execution_count": 279,
   "metadata": {},
   "outputs": [],
   "source": [
    "ics = {y(0): -6, \n",
    "       y(x).diff(x).subs(x, 0): 8}"
   ]
  },
  {
   "cell_type": "code",
   "execution_count": 280,
   "metadata": {},
   "outputs": [
    {
     "data": {
      "text/latex": [
       "$\\displaystyle y{\\left(x \\right)} = \\left(- \\frac{5 x}{4} - \\frac{83}{16}\\right) e^{- 2 x} + \\left(\\frac{x}{2} - \\frac{13}{16}\\right) e^{2 x}$"
      ],
      "text/plain": [
       "Eq(y(x), (-5*x/4 - 83/16)*exp(-2*x) + (x/2 - 13/16)*exp(2*x))"
      ]
     },
     "execution_count": 280,
     "metadata": {},
     "output_type": "execute_result"
    }
   ],
   "source": [
    "sympy.dsolve(edo, y(x), ics=ics)"
   ]
  },
  {
   "cell_type": "markdown",
   "metadata": {},
   "source": [
    "# Algebra lineal\n",
    "\n",
    "http://docs.sympy.org/latest/modules/matrices/matrices.html#creating-matrices"
   ]
  },
  {
   "cell_type": "code",
   "execution_count": 286,
   "metadata": {},
   "outputs": [
    {
     "data": {
      "text/latex": [
       "$\\displaystyle \\left[\\begin{matrix}3 & 1\\\\0 & 1\\end{matrix}\\right]$"
      ],
      "text/plain": [
       "Matrix([\n",
       "[3, 1],\n",
       "[0, 1]])"
      ]
     },
     "execution_count": 286,
     "metadata": {},
     "output_type": "execute_result"
    }
   ],
   "source": [
    "M = sympy.Matrix([[3,1], [0,1]])\n",
    "M"
   ]
  },
  {
   "cell_type": "code",
   "execution_count": 287,
   "metadata": {},
   "outputs": [
    {
     "data": {
      "text/plain": [
       "{1: 1, 3: 1}"
      ]
     },
     "execution_count": 287,
     "metadata": {},
     "output_type": "execute_result"
    }
   ],
   "source": [
    "M.eigenvals()"
   ]
  },
  {
   "cell_type": "code",
   "execution_count": 288,
   "metadata": {},
   "outputs": [
    {
     "data": {
      "text/latex": [
       "$\\displaystyle \\left[\\begin{matrix}\\frac{1}{3} & - \\frac{1}{3}\\\\0 & 1\\end{matrix}\\right]$"
      ],
      "text/plain": [
       "Matrix([\n",
       "[1/3, -1/3],\n",
       "[  0,    1]])"
      ]
     },
     "execution_count": 288,
     "metadata": {},
     "output_type": "execute_result"
    }
   ],
   "source": [
    "M.inv()"
   ]
  },
  {
   "cell_type": "code",
   "execution_count": 289,
   "metadata": {},
   "outputs": [
    {
     "data": {
      "text/latex": [
       "$\\displaystyle \\left[\\begin{matrix}1 & 0\\\\0 & 1\\end{matrix}\\right]$"
      ],
      "text/plain": [
       "Matrix([\n",
       "[1, 0],\n",
       "[0, 1]])"
      ]
     },
     "execution_count": 289,
     "metadata": {},
     "output_type": "execute_result"
    }
   ],
   "source": [
    "M*M.inv()"
   ]
  },
  {
   "cell_type": "code",
   "execution_count": 291,
   "metadata": {},
   "outputs": [],
   "source": []
  },
  {
   "cell_type": "code",
   "execution_count": 293,
   "metadata": {},
   "outputs": [
    {
     "data": {
      "text/latex": [
       "$\\displaystyle \\left[\\begin{matrix}1 & x\\\\y & 1\\end{matrix}\\right]$"
      ],
      "text/plain": [
       "Matrix([\n",
       "[1, x],\n",
       "[y, 1]])"
      ]
     },
     "execution_count": 293,
     "metadata": {},
     "output_type": "execute_result"
    }
   ],
   "source": [
    "x, y = sympy.symbols('x y')\n",
    "A = sympy.Matrix([[1,x], [y,1]])\n",
    "A"
   ]
  },
  {
   "cell_type": "code",
   "execution_count": 294,
   "metadata": {},
   "outputs": [
    {
     "data": {
      "text/latex": [
       "$\\displaystyle \\left[\\begin{matrix}\\cos{\\left(\\phi \\right)} & - \\sin{\\left(\\phi \\right)}\\\\\\sin{\\left(\\phi \\right)} & \\cos{\\left(\\phi \\right)}\\end{matrix}\\right]$"
      ],
      "text/plain": [
       "Matrix([\n",
       "[cos(phi), -sin(phi)],\n",
       "[sin(phi),  cos(phi)]])"
      ]
     },
     "execution_count": 294,
     "metadata": {},
     "output_type": "execute_result"
    }
   ],
   "source": [
    "phi = sympy.symbols('phi')\n",
    "rotation = sympy.Matrix([[sympy.cos(phi), -sympy.sin(phi)],\n",
    "                        [sympy.sin(phi), sympy.cos(phi)]])\n",
    "rotation"
   ]
  },
  {
   "cell_type": "code",
   "execution_count": 295,
   "metadata": {},
   "outputs": [
    {
     "data": {
      "text/latex": [
       "$\\displaystyle \\left[\\begin{matrix}-0.41614683654714 & -0.90929742682568\\\\0.90929742682568 & -0.41614683654714\\end{matrix}\\right]$"
      ],
      "text/plain": [
       "Matrix([\n",
       "[-0.41614683654714, -0.90929742682568],\n",
       "[ 0.90929742682568, -0.41614683654714]])"
      ]
     },
     "execution_count": 295,
     "metadata": {},
     "output_type": "execute_result"
    }
   ],
   "source": [
    "rotation.subs('phi',2).evalf(14)"
   ]
  },
  {
   "cell_type": "code",
   "execution_count": 296,
   "metadata": {},
   "outputs": [
    {
     "data": {
      "text/latex": [
       "$\\displaystyle \\left[\\begin{matrix}\\cos{\\left(\\phi \\right)} & \\sin{\\left(\\phi \\right)}\\\\- \\sin{\\left(\\phi \\right)} & \\cos{\\left(\\phi \\right)}\\end{matrix}\\right]$"
      ],
      "text/plain": [
       "Matrix([\n",
       "[ cos(phi), sin(phi)],\n",
       "[-sin(phi), cos(phi)]])"
      ]
     },
     "execution_count": 296,
     "metadata": {},
     "output_type": "execute_result"
    }
   ],
   "source": [
    "rotation.T # Transpuestarotation.T*rotation"
   ]
  },
  {
   "cell_type": "code",
   "execution_count": 297,
   "metadata": {},
   "outputs": [
    {
     "data": {
      "text/latex": [
       "$\\displaystyle \\left[\\begin{matrix}\\sin^{2}{\\left(\\phi \\right)} + \\cos^{2}{\\left(\\phi \\right)} & 0\\\\0 & \\sin^{2}{\\left(\\phi \\right)} + \\cos^{2}{\\left(\\phi \\right)}\\end{matrix}\\right]$"
      ],
      "text/plain": [
       "Matrix([\n",
       "[sin(phi)**2 + cos(phi)**2,                         0],\n",
       "[                        0, sin(phi)**2 + cos(phi)**2]])"
      ]
     },
     "execution_count": 297,
     "metadata": {},
     "output_type": "execute_result"
    }
   ],
   "source": [
    "rotation.T*rotation"
   ]
  },
  {
   "cell_type": "code",
   "execution_count": 298,
   "metadata": {},
   "outputs": [
    {
     "data": {
      "text/latex": [
       "$\\displaystyle \\left[\\begin{matrix}0 & 0\\\\0 & 0\\end{matrix}\\right]$"
      ],
      "text/plain": [
       "Matrix([\n",
       "[0, 0],\n",
       "[0, 0]])"
      ]
     },
     "execution_count": 298,
     "metadata": {},
     "output_type": "execute_result"
    }
   ],
   "source": [
    "sympy.simplify(rotation.T*rotation - sympy.eye(2))"
   ]
  },
  {
   "cell_type": "code",
   "execution_count": 299,
   "metadata": {},
   "outputs": [
    {
     "data": {
      "text/latex": [
       "$\\displaystyle \\left[\\begin{matrix}- \\frac{\\sin^{2}{\\left(\\phi \\right)}}{\\cos{\\left(\\phi \\right)}} + \\frac{1}{\\cos{\\left(\\phi \\right)}} & \\sin{\\left(\\phi \\right)}\\\\- \\sin{\\left(\\phi \\right)} & \\cos{\\left(\\phi \\right)}\\end{matrix}\\right]$"
      ],
      "text/plain": [
       "Matrix([\n",
       "[-sin(phi)**2/cos(phi) + 1/cos(phi), sin(phi)],\n",
       "[                         -sin(phi), cos(phi)]])"
      ]
     },
     "execution_count": 299,
     "metadata": {},
     "output_type": "execute_result"
    }
   ],
   "source": [
    "rotation.inv()"
   ]
  },
  {
   "cell_type": "code",
   "execution_count": 300,
   "metadata": {},
   "outputs": [
    {
     "data": {
      "text/latex": [
       "$\\displaystyle \\left[\\begin{matrix}0 & 0\\\\0 & 0\\end{matrix}\\right]$"
      ],
      "text/plain": [
       "Matrix([\n",
       "[0, 0],\n",
       "[0, 0]])"
      ]
     },
     "execution_count": 300,
     "metadata": {},
     "output_type": "execute_result"
    }
   ],
   "source": [
    "sympy.simplify(rotation.T - rotation.inv())"
   ]
  },
  {
   "cell_type": "code",
   "execution_count": 301,
   "metadata": {},
   "outputs": [
    {
     "data": {
      "text/latex": [
       "$\\displaystyle \\left[\\begin{matrix}1 & 2 & 3\\\\3 & 6 & 2\\\\2 & 0 & 1\\end{matrix}\\right]$"
      ],
      "text/plain": [
       "Matrix([\n",
       "[1, 2, 3],\n",
       "[3, 6, 2],\n",
       "[2, 0, 1]])"
      ]
     },
     "execution_count": 301,
     "metadata": {},
     "output_type": "execute_result"
    }
   ],
   "source": [
    "M = sympy.Matrix(( [1, 2, 3], [3, 6, 2], [2, 0, 1] ))\n",
    "M"
   ]
  },
  {
   "cell_type": "code",
   "execution_count": 302,
   "metadata": {},
   "outputs": [
    {
     "data": {
      "text/latex": [
       "$\\displaystyle -28$"
      ],
      "text/plain": [
       "-28"
      ]
     },
     "execution_count": 302,
     "metadata": {},
     "output_type": "execute_result"
    }
   ],
   "source": [
    "M.det()"
   ]
  },
  {
   "cell_type": "code",
   "execution_count": 303,
   "metadata": {},
   "outputs": [
    {
     "data": {
      "text/latex": [
       "$\\displaystyle \\left[\\begin{matrix}- \\frac{3}{14} & \\frac{1}{14} & \\frac{1}{2}\\\\- \\frac{1}{28} & \\frac{5}{28} & - \\frac{1}{4}\\\\\\frac{3}{7} & - \\frac{1}{7} & 0\\end{matrix}\\right]$"
      ],
      "text/plain": [
       "Matrix([\n",
       "[-3/14, 1/14,  1/2],\n",
       "[-1/28, 5/28, -1/4],\n",
       "[  3/7, -1/7,    0]])"
      ]
     },
     "execution_count": 303,
     "metadata": {},
     "output_type": "execute_result"
    }
   ],
   "source": [
    "M.inv(method=\"LU\")"
   ]
  },
  {
   "cell_type": "code",
   "execution_count": 304,
   "metadata": {},
   "outputs": [],
   "source": [
    "Q, R = M.QRdecomposition()"
   ]
  },
  {
   "cell_type": "code",
   "execution_count": 305,
   "metadata": {},
   "outputs": [
    {
     "data": {
      "text/latex": [
       "$\\displaystyle \\left[\\begin{matrix}\\frac{\\sqrt{14}}{14} & \\frac{\\sqrt{35}}{35} & \\frac{3 \\sqrt{10}}{10}\\\\\\frac{3 \\sqrt{14}}{14} & \\frac{3 \\sqrt{35}}{35} & - \\frac{\\sqrt{10}}{10}\\\\\\frac{\\sqrt{14}}{7} & - \\frac{\\sqrt{35}}{7} & 0\\end{matrix}\\right]$"
      ],
      "text/plain": [
       "Matrix([\n",
       "[  sqrt(14)/14,   sqrt(35)/35, 3*sqrt(10)/10],\n",
       "[3*sqrt(14)/14, 3*sqrt(35)/35,  -sqrt(10)/10],\n",
       "[   sqrt(14)/7,   -sqrt(35)/7,             0]])"
      ]
     },
     "execution_count": 305,
     "metadata": {},
     "output_type": "execute_result"
    }
   ],
   "source": [
    "Q"
   ]
  },
  {
   "cell_type": "code",
   "execution_count": 306,
   "metadata": {},
   "outputs": [
    {
     "data": {
      "text/latex": [
       "$\\displaystyle \\left[\\begin{matrix}\\sqrt{14} & \\frac{10 \\sqrt{14}}{7} & \\frac{11 \\sqrt{14}}{14}\\\\0 & \\frac{4 \\sqrt{35}}{7} & \\frac{4 \\sqrt{35}}{35}\\\\0 & 0 & \\frac{7 \\sqrt{10}}{10}\\end{matrix}\\right]$"
      ],
      "text/plain": [
       "Matrix([\n",
       "[sqrt(14), 10*sqrt(14)/7, 11*sqrt(14)/14],\n",
       "[       0,  4*sqrt(35)/7,  4*sqrt(35)/35],\n",
       "[       0,             0,  7*sqrt(10)/10]])"
      ]
     },
     "execution_count": 306,
     "metadata": {},
     "output_type": "execute_result"
    }
   ],
   "source": [
    "R"
   ]
  },
  {
   "cell_type": "code",
   "execution_count": 307,
   "metadata": {},
   "outputs": [
    {
     "data": {
      "text/latex": [
       "$\\displaystyle \\left[\\begin{matrix}1 & 2 & 3\\\\3 & 6 & 2\\\\2 & 0 & 1\\end{matrix}\\right]$"
      ],
      "text/plain": [
       "Matrix([\n",
       "[1, 2, 3],\n",
       "[3, 6, 2],\n",
       "[2, 0, 1]])"
      ]
     },
     "execution_count": 307,
     "metadata": {},
     "output_type": "execute_result"
    }
   ],
   "source": [
    "Q * R"
   ]
  },
  {
   "cell_type": "code",
   "execution_count": 308,
   "metadata": {},
   "outputs": [
    {
     "data": {
      "text/latex": [
       "$\\displaystyle \\left[\\begin{matrix}2 & 3 & 5\\\\3 & 6 & 2\\\\8 & 3 & 6\\end{matrix}\\right]$"
      ],
      "text/plain": [
       "Matrix([\n",
       "[2, 3, 5],\n",
       "[3, 6, 2],\n",
       "[8, 3, 6]])"
      ]
     },
     "execution_count": 308,
     "metadata": {},
     "output_type": "execute_result"
    }
   ],
   "source": [
    "A = sympy.Matrix([ [2, 3, 5], [3, 6, 2], [8, 3, 6] ])\n",
    "A"
   ]
  },
  {
   "cell_type": "code",
   "execution_count": 309,
   "metadata": {},
   "outputs": [
    {
     "data": {
      "text/latex": [
       "$\\displaystyle \\left[\\begin{matrix}3\\\\7\\\\5\\end{matrix}\\right]$"
      ],
      "text/plain": [
       "Matrix([\n",
       "[3],\n",
       "[7],\n",
       "[5]])"
      ]
     },
     "execution_count": 309,
     "metadata": {},
     "output_type": "execute_result"
    }
   ],
   "source": [
    "x = sympy.Matrix(3,1,[3,7,5])\n",
    "x"
   ]
  },
  {
   "cell_type": "code",
   "execution_count": 310,
   "metadata": {},
   "outputs": [
    {
     "data": {
      "text/latex": [
       "$\\displaystyle \\left[\\begin{matrix}52\\\\61\\\\75\\end{matrix}\\right]$"
      ],
      "text/plain": [
       "Matrix([\n",
       "[52],\n",
       "[61],\n",
       "[75]])"
      ]
     },
     "execution_count": 310,
     "metadata": {},
     "output_type": "execute_result"
    }
   ],
   "source": [
    "b = A*x\n",
    "b"
   ]
  },
  {
   "cell_type": "code",
   "execution_count": 311,
   "metadata": {},
   "outputs": [],
   "source": [
    "soln = A.LUsolve(b)"
   ]
  },
  {
   "cell_type": "code",
   "execution_count": 312,
   "metadata": {},
   "outputs": [
    {
     "data": {
      "text/latex": [
       "$\\displaystyle \\left[\\begin{matrix}3\\\\7\\\\5\\end{matrix}\\right]$"
      ],
      "text/plain": [
       "Matrix([\n",
       "[3],\n",
       "[7],\n",
       "[5]])"
      ]
     },
     "execution_count": 312,
     "metadata": {},
     "output_type": "execute_result"
    }
   ],
   "source": [
    "soln"
   ]
  },
  {
   "cell_type": "code",
   "execution_count": null,
   "metadata": {},
   "outputs": [],
   "source": []
  }
 ],
 "metadata": {
  "kernelspec": {
   "display_name": "Python 3 (ipykernel)",
   "language": "python",
   "name": "python3"
  },
  "language_info": {
   "codemirror_mode": {
    "name": "ipython",
    "version": 3
   },
   "file_extension": ".py",
   "mimetype": "text/x-python",
   "name": "python",
   "nbconvert_exporter": "python",
   "pygments_lexer": "ipython3",
   "version": "3.11.6"
  }
 },
 "nbformat": 4,
 "nbformat_minor": 4
}
