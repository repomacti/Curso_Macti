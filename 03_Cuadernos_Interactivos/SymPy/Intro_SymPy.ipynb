{
 "cells": [
  {
   "cell_type": "markdown",
   "metadata": {},
   "source": [
    "# SymPy\n",
    "\n",
    " <p xmlns:cc=\"http://creativecommons.org/ns#\" xmlns:dct=\"http://purl.org/dc/terms/\"><a property=\"dct:title\" rel=\"cc:attributionURL\" href=\"https://github.com/repomacti/Curso_Macti/tree/main/03_Cuadernos_Interactivos/SymPy\">Introducción a Sympy</a>, Diseño de cursos interactivos con la plataforma Macti by <a rel=\"cc:attributionURL dct:creator\" property=\"cc:attributionName\" href=\"https://www.macti.unam.mx\">Luis M. de la Cruz</a> is licensed under <a href=\"http://creativecommons.org/licenses/by-sa/4.0/?ref=chooser-v1\" target=\"_blank\" rel=\"license noopener noreferrer\" style=\"display:inline-block;\">Attribution-ShareAlike 4.0 International<img style=\"height:22px!important;margin-left:3px;vertical-align:text-bottom;\" src=\"https://mirrors.creativecommons.org/presskit/icons/cc.svg?ref=chooser-v1\"><img style=\"height:22px!important;margin-left:3px;vertical-align:text-bottom;\" src=\"https://mirrors.creativecommons.org/presskit/icons/by.svg?ref=chooser-v1\"><img style=\"height:22px!important;margin-left:3px;vertical-align:text-bottom;\" src=\"https://mirrors.creativecommons.org/presskit/icons/sa.svg?ref=chooser-v1\"></a></p> "
   ]
  },
  {
   "cell_type": "markdown",
   "metadata": {},
   "source": [
    "# Introducción \n",
    "\n",
    "SymPy, es una biblioteca que permite realizar cálculo símbolico. Este tipo de sistemas se conocen también como de álgebra computacional (CAS por sus siglas en inglés). Es un proyecto de software libre, cuenta con una gran documentación y una excelente comunidad. Está escrita por completo en Python, por lo tanto no tiene dependencias externas. La documentación completa la puedes consultar <a href=\"http://docs.sympy.org/latest/index.html\"> aquí </a>.\n",
    "\n",
    "Entre otras cosas, con SymPy es posible realizar lo siguiente:\n",
    "\n",
    "* Simplificación de expresiones.\n",
    "* Cálculo de integrales.\n",
    "* Cálculo de derivadas.\n",
    "* Cálculo de límites.\n",
    "* Solución de ecuaciones.\n",
    "* Álgebra Lineal. \n",
    "* Estadística.\n",
    "* Combinatoria.\n",
    "* Física.\n",
    "* Teoría de números.\n",
    "* Geometría.\n",
    "* Lógica.\n",
    "\n",
    "Es posible evaluar expresiones de SymPy en internet en el sitio: http://gamma.sympy.org/ de manera similar al proyecto [*Wolfram Alpha*](https://www.wolframalpha.com/).\n",
    "\n",
    "## Importar la biblioteca"
   ]
  },
  {
   "cell_type": "code",
   "execution_count": 1,
   "metadata": {
    "tags": []
   },
   "outputs": [],
   "source": [
    "import sympy "
   ]
  },
  {
   "cell_type": "markdown",
   "metadata": {},
   "source": [
    "## Símbolos\n",
    "\n",
    "Son etiquetas que se usan en operaciones simbólicas. Se deben definir antes de usarse. Se definen usando la función `sympy.symbols()`. Las operaciones entre símbolos devuelven símbolos."
   ]
  },
  {
   "cell_type": "code",
   "execution_count": 2,
   "metadata": {},
   "outputs": [],
   "source": [
    "x = sympy.symbols('x') # símbolo x"
   ]
  },
  {
   "cell_type": "code",
   "execution_count": 3,
   "metadata": {},
   "outputs": [
    {
     "name": "stdout",
     "output_type": "stream",
     "text": [
      "x\n",
      "<class 'sympy.core.symbol.Symbol'>\n"
     ]
    }
   ],
   "source": [
    "print(x)\n",
    "print(type(x)) # Vemos de qué tipo es x "
   ]
  },
  {
   "cell_type": "code",
   "execution_count": 4,
   "metadata": {},
   "outputs": [],
   "source": [
    "# Se pueden definir varios símbolos a la vez\n",
    "alpha, gamma = sympy.symbols('alpha gamma') "
   ]
  },
  {
   "cell_type": "code",
   "execution_count": 5,
   "metadata": {},
   "outputs": [],
   "source": [
    "# Símbolos con subíndices estilo matemático\n",
    "T_1 = sympy.symbols('T_1')   "
   ]
  },
  {
   "cell_type": "code",
   "execution_count": 6,
   "metadata": {},
   "outputs": [],
   "source": [
    "# Operadores sobre símbolos\n",
    "raiz = sympy.sqrt(x) "
   ]
  },
  {
   "cell_type": "markdown",
   "metadata": {},
   "source": [
    "<div class=\"alert alert-info\">\n",
    "\n",
    "Siempre es importante que las etiquetas y los símbolos coincidan: \n",
    "```python\n",
    "x = sympy.symbols('x') # Correcto\n",
    "Temperatura = sympy.symbols('T') # No recomendable\n",
    "```\n",
    "\n",
    "</div>"
   ]
  },
  {
   "cell_type": "markdown",
   "metadata": {},
   "source": [
    "Es posible definir símbolos de cierto tipo, por ejemplo:"
   ]
  },
  {
   "cell_type": "code",
   "execution_count": 7,
   "metadata": {},
   "outputs": [],
   "source": [
    "a = sympy.symbols(\"a\", real=True)\n",
    "i = sympy.symbols(\"i\", integer=True)\n",
    "f = sympy.symbols(\"f\", cls=sympy.Function)"
   ]
  },
  {
   "cell_type": "code",
   "execution_count": 8,
   "metadata": {},
   "outputs": [
    {
     "name": "stdout",
     "output_type": "stream",
     "text": [
      "a <class 'sympy.core.symbol.Symbol'>\n",
      "i <class 'sympy.core.symbol.Symbol'>\n",
      "f <class 'sympy.core.function.UndefinedFunction'>\n"
     ]
    }
   ],
   "source": [
    "print(a, type(a))\n",
    "print(i, type(i))\n",
    "print(f, type(f))"
   ]
  },
  {
   "cell_type": "code",
   "execution_count": 9,
   "metadata": {},
   "outputs": [
    {
     "data": {
      "text/plain": [
       "True"
      ]
     },
     "execution_count": 9,
     "metadata": {},
     "output_type": "execute_result"
    }
   ],
   "source": [
    "a.is_real"
   ]
  },
  {
   "cell_type": "code",
   "execution_count": 10,
   "metadata": {},
   "outputs": [
    {
     "data": {
      "text/plain": [
       "True"
      ]
     },
     "execution_count": 10,
     "metadata": {},
     "output_type": "execute_result"
    }
   ],
   "source": [
    "i.is_integer"
   ]
  },
  {
   "cell_type": "markdown",
   "metadata": {},
   "source": [
    "## Impresión de expresiones\n",
    "\n",
    "* Existen varias maneras de imprimir los resultados que obtiene SymPy, la idea es que la salida de los cálculos sea visualmente atractiva y simple de entender, lo que se conoce como *pretty printing*. \n",
    "\n",
    "* Dependiendo del ambiente es posible definir el tipo de salida usando la función `sympy.init_printing()`. En el ambiente de Jupyter Lab el *pretty printing* está activado por omisión. \n",
    "\n",
    "* Más información la puedes encontrar <a href source=\"https://docs.sympy.org/latest/tutorials/intro-tutorial/printing.html\">aquí</a> .\n",
    "\n",
    "Por ejemplo, para imprimir los símbolos `x`, `alpha`, `gamma`, `T_1` y `raiz` antes definidos podemos hacer lo siguiente:"
   ]
  },
  {
   "cell_type": "code",
   "execution_count": 11,
   "metadata": {},
   "outputs": [
    {
     "name": "stdout",
     "output_type": "stream",
     "text": [
      "x alpha gamma T_1 sqrt(x)\n"
     ]
    }
   ],
   "source": [
    "print(x, alpha, gamma, T_1, raiz) # Imprime la cadena que representa al símbolo"
   ]
  },
  {
   "cell_type": "code",
   "execution_count": 16,
   "metadata": {},
   "outputs": [
    {
     "data": {
      "text/plain": [
       "'x'"
      ]
     },
     "execution_count": 16,
     "metadata": {},
     "output_type": "execute_result"
    }
   ],
   "source": [
    "# Representación en forma de cadena de caracteres de un objeto. \n",
    "str(x)"
   ]
  },
  {
   "cell_type": "code",
   "execution_count": 17,
   "metadata": {},
   "outputs": [
    {
     "data": {
      "text/plain": [
       "'x'"
      ]
     },
     "execution_count": 17,
     "metadata": {},
     "output_type": "execute_result"
    }
   ],
   "source": [
    "# Devuelve una cadena que contiene una representación imprimible de un objeto. \n",
    "repr(x)"
   ]
  },
  {
   "cell_type": "code",
   "execution_count": 18,
   "metadata": {},
   "outputs": [
    {
     "data": {
      "text/plain": [
       "\"Symbol('x')\""
      ]
     },
     "execution_count": 18,
     "metadata": {},
     "output_type": "execute_result"
    }
   ],
   "source": [
    "# Muestra la forma exacta de una expresión\n",
    "sympy.srepr(x) "
   ]
  },
  {
   "cell_type": "code",
   "execution_count": 19,
   "metadata": {},
   "outputs": [
    {
     "name": "stdout",
     "output_type": "stream",
     "text": [
      "x**2\n"
     ]
    },
    {
     "data": {
      "text/plain": [
       "\"Pow(Symbol('x'), Integer(2))\""
      ]
     },
     "execution_count": 19,
     "metadata": {},
     "output_type": "execute_result"
    }
   ],
   "source": [
    "# Une ejemplo más complicado\n",
    "print(x**2)\n",
    "sympy.srepr(x**2) "
   ]
  },
  {
   "cell_type": "code",
   "execution_count": 20,
   "metadata": {},
   "outputs": [
    {
     "data": {
      "text/latex": [
       "$\\displaystyle x$"
      ],
      "text/plain": [
       "x"
      ]
     },
     "metadata": {},
     "output_type": "display_data"
    },
    {
     "data": {
      "text/latex": [
       "$\\displaystyle \\alpha$"
      ],
      "text/plain": [
       "alpha"
      ]
     },
     "metadata": {},
     "output_type": "display_data"
    },
    {
     "data": {
      "text/latex": [
       "$\\displaystyle \\gamma$"
      ],
      "text/plain": [
       "gamma"
      ]
     },
     "metadata": {},
     "output_type": "display_data"
    },
    {
     "data": {
      "text/latex": [
       "$\\displaystyle T_{1}$"
      ],
      "text/plain": [
       "T_1"
      ]
     },
     "metadata": {},
     "output_type": "display_data"
    },
    {
     "data": {
      "text/latex": [
       "$\\displaystyle \\sqrt{x}$"
      ],
      "text/plain": [
       "sqrt(x)"
      ]
     },
     "metadata": {},
     "output_type": "display_data"
    },
    {
     "data": {
      "text/latex": [
       "$\\displaystyle x^{2}$"
      ],
      "text/plain": [
       "x**2"
      ]
     },
     "metadata": {},
     "output_type": "display_data"
    }
   ],
   "source": [
    "# Imprime el símbolo en formato \"pretty\"\n",
    "display(x, alpha, gamma, T_1, raiz, x**2) "
   ]
  },
  {
   "cell_type": "markdown",
   "metadata": {},
   "source": [
    "<div class=\"alert alert-info\">\n",
    "\n",
    "La función `display()` está disponible por omisión en el ambiente Jupyter. En otros ambientes se debe importar: `from IPython.display import display`\n",
    "\n",
    "</div>"
   ]
  },
  {
   "cell_type": "markdown",
   "metadata": {},
   "source": [
    "Se puede obtener el formato $\\LaTeX$ de cada expresión usando la función `sympy.latex()`.\n",
    "\n",
    "$\\LaTeX$ es una herramienta que provee de comandos para formatear textos, particularmente para textos científicos. Puedes encontrar más información en: [CTAN](https://www.ctan.org/pkg/latex) y [Overleaf](https://es.overleaf.com/)."
   ]
  },
  {
   "cell_type": "code",
   "execution_count": 22,
   "metadata": {},
   "outputs": [
    {
     "data": {
      "text/plain": [
       "'\\\\sqrt{x}'"
      ]
     },
     "execution_count": 22,
     "metadata": {},
     "output_type": "execute_result"
    }
   ],
   "source": [
    "sympy.latex(sympy.sqrt(x))"
   ]
  },
  {
   "cell_type": "code",
   "execution_count": 21,
   "metadata": {},
   "outputs": [
    {
     "name": "stdout",
     "output_type": "stream",
     "text": [
      "\\sqrt{x}\n"
     ]
    }
   ],
   "source": [
    "print(sympy.latex(sympy.sqrt(x)))"
   ]
  },
  {
   "cell_type": "markdown",
   "metadata": {},
   "source": [
    "Luego, puedo usar ese formato en una celda tipo Markdown, como esta en la que estamos, usando símbolos de `$` para que sea procesado: `$\\sqrt{x}$`, con ello obtenemos: $\\sqrt{x}$"
   ]
  },
  {
   "cell_type": "markdown",
   "metadata": {},
   "source": [
    "## Números especiales  \n",
    "\n",
    "Python evalúa las operaciones aritméticas usando una representación numérica que introduce errores de redondeo. Se puede trabajar directamente con la representación matemática de algunos números, por ejemplo:"
   ]
  },
  {
   "cell_type": "code",
   "execution_count": 23,
   "metadata": {},
   "outputs": [],
   "source": [
    "pi = sympy.pi     # representación del número Pi\n",
    "E = sympy.E       # Número de Euler\n",
    "I = sympy.I       # Parte compleja de un número\n",
    "infty = sympy.oo  # Infinito"
   ]
  },
  {
   "cell_type": "code",
   "execution_count": 24,
   "metadata": {},
   "outputs": [
    {
     "data": {
      "text/latex": [
       "$\\displaystyle \\pi$"
      ],
      "text/plain": [
       "pi"
      ]
     },
     "metadata": {},
     "output_type": "display_data"
    },
    {
     "data": {
      "text/latex": [
       "$\\displaystyle e$"
      ],
      "text/plain": [
       "E"
      ]
     },
     "metadata": {},
     "output_type": "display_data"
    },
    {
     "data": {
      "text/latex": [
       "$\\displaystyle i$"
      ],
      "text/plain": [
       "I"
      ]
     },
     "metadata": {},
     "output_type": "display_data"
    },
    {
     "data": {
      "text/latex": [
       "$\\displaystyle \\infty$"
      ],
      "text/plain": [
       "oo"
      ]
     },
     "metadata": {},
     "output_type": "display_data"
    }
   ],
   "source": [
    "display(pi, E, I, infty)"
   ]
  },
  {
   "cell_type": "markdown",
   "metadata": {},
   "source": [
    "## Números complejos\n",
    "Podemos definir un números complejos y hacer operaciones:"
   ]
  },
  {
   "cell_type": "code",
   "execution_count": 25,
   "metadata": {},
   "outputs": [],
   "source": [
    "c1 = 3 + 4 * I \n",
    "c2 = 2 - 3 * I"
   ]
  },
  {
   "cell_type": "code",
   "execution_count": 28,
   "metadata": {},
   "outputs": [
    {
     "name": "stdout",
     "output_type": "stream",
     "text": [
      "3 + 4*I\n",
      "2 - 3*I\n"
     ]
    }
   ],
   "source": [
    "print(c1)\n",
    "print(c2)"
   ]
  },
  {
   "cell_type": "code",
   "execution_count": 27,
   "metadata": {},
   "outputs": [
    {
     "data": {
      "text/latex": [
       "$\\displaystyle 3 + 4 i$"
      ],
      "text/plain": [
       "3 + 4*I"
      ]
     },
     "metadata": {},
     "output_type": "display_data"
    },
    {
     "data": {
      "text/latex": [
       "$\\displaystyle 2 - 3 i$"
      ],
      "text/plain": [
       "2 - 3*I"
      ]
     },
     "metadata": {},
     "output_type": "display_data"
    }
   ],
   "source": [
    "display(c1, c2)"
   ]
  },
  {
   "cell_type": "code",
   "execution_count": 29,
   "metadata": {},
   "outputs": [
    {
     "name": "stdout",
     "output_type": "stream",
     "text": [
      "(2 - 3*I)*(3 + 4*I)\n"
     ]
    },
    {
     "data": {
      "text/latex": [
       "$\\displaystyle \\left(2 - 3 i\\right) \\left(3 + 4 i\\right)$"
      ],
      "text/plain": [
       "(2 - 3*I)*(3 + 4*I)"
      ]
     },
     "metadata": {},
     "output_type": "display_data"
    }
   ],
   "source": [
    "prod_complejos = c1 * c2\n",
    "print(prod_complejos)\n",
    "display(prod_complejos)"
   ]
  },
  {
   "cell_type": "markdown",
   "metadata": {},
   "source": [
    "## Evaluación `.evalf()` y `sympy.N()`\n",
    "\n",
    "Se puede evaluar numéricamente una operación usando el método `.evalf()` (el método `.n()` es equivalente). Por ejemplo para la multiplicación de complejos tenemos:"
   ]
  },
  {
   "cell_type": "code",
   "execution_count": 30,
   "metadata": {},
   "outputs": [
    {
     "name": "stdout",
     "output_type": "stream",
     "text": [
      "pi\n",
      "3.14159265358979\n"
     ]
    }
   ],
   "source": [
    "print(pi)\n",
    "print(pi.evalf())"
   ]
  },
  {
   "cell_type": "code",
   "execution_count": 31,
   "metadata": {
    "scrolled": true
   },
   "outputs": [
    {
     "data": {
      "text/latex": [
       "$\\displaystyle \\pi$"
      ],
      "text/plain": [
       "pi"
      ]
     },
     "metadata": {},
     "output_type": "display_data"
    },
    {
     "data": {
      "text/latex": [
       "$\\displaystyle 3.14159265358979$"
      ],
      "text/plain": [
       "3.14159265358979"
      ]
     },
     "metadata": {},
     "output_type": "display_data"
    }
   ],
   "source": [
    "display(pi)\n",
    "display(pi.evalf())"
   ]
  },
  {
   "cell_type": "code",
   "execution_count": 32,
   "metadata": {},
   "outputs": [
    {
     "data": {
      "text/latex": [
       "$\\displaystyle \\left(2 - 3 i\\right) \\left(3 + 4 i\\right)$"
      ],
      "text/plain": [
       "(2 - 3*I)*(3 + 4*I)"
      ]
     },
     "metadata": {},
     "output_type": "display_data"
    },
    {
     "data": {
      "text/latex": [
       "$\\displaystyle 18.0 - 1.0 i$"
      ],
      "text/plain": [
       "18.0 - 1.0*I"
      ]
     },
     "metadata": {},
     "output_type": "display_data"
    }
   ],
   "source": [
    "display(prod_complejos)\n",
    "display(prod_complejos.evalf())"
   ]
  },
  {
   "cell_type": "code",
   "execution_count": 33,
   "metadata": {},
   "outputs": [
    {
     "data": {
      "text/latex": [
       "$\\displaystyle 18.0 - 1.0 i$"
      ],
      "text/plain": [
       "18.0 - 1.0*I"
      ]
     },
     "execution_count": 33,
     "metadata": {},
     "output_type": "execute_result"
    }
   ],
   "source": [
    "prod_complejos.n()"
   ]
  },
  {
   "cell_type": "markdown",
   "metadata": {},
   "source": [
    "También es posible usar el función `sympy.N()` para evaluar:"
   ]
  },
  {
   "cell_type": "code",
   "execution_count": 34,
   "metadata": {},
   "outputs": [
    {
     "data": {
      "text/latex": [
       "$\\displaystyle 18.0 - 1.0 i$"
      ],
      "text/plain": [
       "18.0 - 1.0*I"
      ]
     },
     "execution_count": 34,
     "metadata": {},
     "output_type": "execute_result"
    }
   ],
   "source": [
    "sympy.N(prod_complejos)"
   ]
  },
  {
   "cell_type": "code",
   "execution_count": 35,
   "metadata": {},
   "outputs": [
    {
     "data": {
      "text/latex": [
       "$\\displaystyle \\sqrt{2} \\pi$"
      ],
      "text/plain": [
       "sqrt(2)*pi"
      ]
     },
     "execution_count": 35,
     "metadata": {},
     "output_type": "execute_result"
    }
   ],
   "source": [
    "# Otro ejemplo:\n",
    "operacion = sympy.sqrt(2) * pi\n",
    "operacion"
   ]
  },
  {
   "cell_type": "code",
   "execution_count": 36,
   "metadata": {},
   "outputs": [
    {
     "data": {
      "text/latex": [
       "$\\displaystyle 4.44288293815837$"
      ],
      "text/plain": [
       "4.44288293815837"
      ]
     },
     "metadata": {},
     "output_type": "display_data"
    },
    {
     "data": {
      "text/latex": [
       "$\\displaystyle 4.44288293815837$"
      ],
      "text/plain": [
       "4.44288293815837"
      ]
     },
     "metadata": {},
     "output_type": "display_data"
    },
    {
     "data": {
      "text/latex": [
       "$\\displaystyle 4.44288293815837$"
      ],
      "text/plain": [
       "4.44288293815837"
      ]
     },
     "metadata": {},
     "output_type": "display_data"
    }
   ],
   "source": [
    "display(operacion.evalf())\n",
    "display(operacion.n())\n",
    "display(sympy.N(operacion))"
   ]
  },
  {
   "cell_type": "markdown",
   "metadata": {},
   "source": [
    "Se pueden agregar parámetros para la evaluación:"
   ]
  },
  {
   "cell_type": "code",
   "execution_count": 37,
   "metadata": {},
   "outputs": [
    {
     "data": {
      "text/latex": [
       "$\\displaystyle 4.4429$"
      ],
      "text/plain": [
       "4.4429"
      ]
     },
     "metadata": {},
     "output_type": "display_data"
    },
    {
     "data": {
      "text/latex": [
       "$\\displaystyle 4.4428829$"
      ],
      "text/plain": [
       "4.4428829"
      ]
     },
     "metadata": {},
     "output_type": "display_data"
    },
    {
     "data": {
      "text/latex": [
       "$\\displaystyle 4.442882938$"
      ],
      "text/plain": [
       "4.442882938"
      ]
     },
     "metadata": {},
     "output_type": "display_data"
    }
   ],
   "source": [
    "display(operacion.evalf(n = 5))\n",
    "display(operacion.n(n = 8))\n",
    "display(sympy.N(operacion, 10))"
   ]
  },
  {
   "cell_type": "markdown",
   "metadata": {},
   "source": [
    "## Simplificación `.simplify()`\n",
    "\n",
    "SymPy tiene muchas herramientas para realizar diferentes tipos de simplificación. Una de ellas es el método `.simplify()` que intenta aplicar todas estas funciones de forma inteligente para llegar a la forma más simple de una expresión.\n",
    "\n"
   ]
  },
  {
   "cell_type": "code",
   "execution_count": 38,
   "metadata": {},
   "outputs": [
    {
     "data": {
      "text/latex": [
       "$\\displaystyle \\left(2 - 3 i\\right) \\left(3 + 4 i\\right)$"
      ],
      "text/plain": [
       "(2 - 3*I)*(3 + 4*I)"
      ]
     },
     "metadata": {},
     "output_type": "display_data"
    },
    {
     "data": {
      "text/latex": [
       "$\\displaystyle 18 - i$"
      ],
      "text/plain": [
       "18 - I"
      ]
     },
     "execution_count": 38,
     "metadata": {},
     "output_type": "execute_result"
    }
   ],
   "source": [
    "display(prod_complejos)\n",
    "prod_complejos.simplify()"
   ]
  },
  {
   "cell_type": "code",
   "execution_count": 39,
   "metadata": {},
   "outputs": [
    {
     "data": {
      "text/latex": [
       "$\\displaystyle \\sqrt{2} \\pi$"
      ],
      "text/plain": [
       "sqrt(2)*pi"
      ]
     },
     "execution_count": 39,
     "metadata": {},
     "output_type": "execute_result"
    }
   ],
   "source": [
    "operacion.simplify() # Algunas expresiones ya no se pueden simplificar más"
   ]
  },
  {
   "cell_type": "code",
   "execution_count": 47,
   "metadata": {},
   "outputs": [
    {
     "data": {
      "text/latex": [
       "$\\displaystyle \\left(- a + x\\right) \\left(a + x\\right)$"
      ],
      "text/plain": [
       "(-a + x)*(a + x)"
      ]
     },
     "execution_count": 47,
     "metadata": {},
     "output_type": "execute_result"
    }
   ],
   "source": [
    "expr = (x + a) * (x - a)\n",
    "expr"
   ]
  },
  {
   "cell_type": "code",
   "execution_count": 48,
   "metadata": {},
   "outputs": [
    {
     "data": {
      "text/latex": [
       "$\\displaystyle - a^{2} + x^{2}$"
      ],
      "text/plain": [
       "-a**2 + x**2"
      ]
     },
     "execution_count": 48,
     "metadata": {},
     "output_type": "execute_result"
    }
   ],
   "source": [
    "expr.simplify()"
   ]
  },
  {
   "cell_type": "code",
   "execution_count": 49,
   "metadata": {},
   "outputs": [
    {
     "data": {
      "text/latex": [
       "$\\displaystyle i \\sin{\\left(x \\right)} + \\cos{\\left(x \\right)}$"
      ],
      "text/plain": [
       "I*sin(x) + cos(x)"
      ]
     },
     "execution_count": 49,
     "metadata": {},
     "output_type": "execute_result"
    }
   ],
   "source": [
    "euler = sympy.cos(x) + sympy.sin(x) * I\n",
    "euler"
   ]
  },
  {
   "cell_type": "code",
   "execution_count": 50,
   "metadata": {},
   "outputs": [
    {
     "data": {
      "text/latex": [
       "$\\displaystyle e^{i x}$"
      ],
      "text/plain": [
       "exp(I*x)"
      ]
     },
     "execution_count": 50,
     "metadata": {},
     "output_type": "execute_result"
    }
   ],
   "source": [
    "euler.simplify()"
   ]
  },
  {
   "cell_type": "markdown",
   "metadata": {},
   "source": [
    "En algunos casos la simplificación se realiza de manera automática:"
   ]
  },
  {
   "cell_type": "code",
   "execution_count": 51,
   "metadata": {},
   "outputs": [
    {
     "name": "stdout",
     "output_type": "stream",
     "text": [
      "-3*a + 4*x\n"
     ]
    },
    {
     "data": {
      "text/latex": [
       "$\\displaystyle - 3 a + 4 x$"
      ],
      "text/plain": [
       "-3*a + 4*x"
      ]
     },
     "metadata": {},
     "output_type": "display_data"
    },
    {
     "data": {
      "text/latex": [
       "$\\displaystyle - 3 a + 4 x$"
      ],
      "text/plain": [
       "-3*a + 4*x"
      ]
     },
     "metadata": {},
     "output_type": "display_data"
    }
   ],
   "source": [
    "expr = x + x - 3*a + 2*x\n",
    "print(expr)\n",
    "display(expr)\n",
    "display(expr.simplify())"
   ]
  },
  {
   "cell_type": "markdown",
   "metadata": {},
   "source": [
    "En otros casos la simplificación puede llevarnos a un número:"
   ]
  },
  {
   "cell_type": "code",
   "execution_count": 52,
   "metadata": {},
   "outputs": [
    {
     "data": {
      "text/latex": [
       "$\\displaystyle \\sin^{2}{\\left(x \\right)} + \\cos^{2}{\\left(x \\right)}$"
      ],
      "text/plain": [
       "sin(x)**2 + cos(x)**2"
      ]
     },
     "metadata": {},
     "output_type": "display_data"
    },
    {
     "data": {
      "text/latex": [
       "$\\displaystyle 1$"
      ],
      "text/plain": [
       "1"
      ]
     },
     "execution_count": 52,
     "metadata": {},
     "output_type": "execute_result"
    }
   ],
   "source": [
    "expr = sympy.cos(x)**2 + sympy.sin(x)**2\n",
    "display(expr)\n",
    "sympy.simplify(expr)"
   ]
  },
  {
   "cell_type": "markdown",
   "metadata": {},
   "source": [
    "## `Rational`\n",
    "\n",
    "Con esta función se puede definir la forma racional de cualquier número de la forma `p/q`:"
   ]
  },
  {
   "cell_type": "code",
   "execution_count": 53,
   "metadata": {},
   "outputs": [
    {
     "data": {
      "text/latex": [
       "$\\displaystyle \\frac{1}{3}$"
      ],
      "text/plain": [
       "1/3"
      ]
     },
     "metadata": {},
     "output_type": "display_data"
    },
    {
     "data": {
      "text/latex": [
       "$\\displaystyle 0.333333333333333$"
      ],
      "text/plain": [
       "0.333333333333333"
      ]
     },
     "metadata": {},
     "output_type": "display_data"
    }
   ],
   "source": [
    "un_tercio = sympy.Rational(1,3) # Define un numero racional\n",
    "display(un_tercio)\n",
    "display(un_tercio.evalf())"
   ]
  },
  {
   "cell_type": "code",
   "execution_count": 54,
   "metadata": {},
   "outputs": [
    {
     "data": {
      "text/plain": [
       "1"
      ]
     },
     "execution_count": 54,
     "metadata": {},
     "output_type": "execute_result"
    }
   ],
   "source": [
    "un_tercio.p # Numerador"
   ]
  },
  {
   "cell_type": "code",
   "execution_count": 55,
   "metadata": {},
   "outputs": [
    {
     "data": {
      "text/plain": [
       "3"
      ]
     },
     "execution_count": 55,
     "metadata": {},
     "output_type": "execute_result"
    }
   ],
   "source": [
    "un_tercio.q # Denominador"
   ]
  },
  {
   "cell_type": "code",
   "execution_count": 56,
   "metadata": {},
   "outputs": [
    {
     "data": {
      "text/latex": [
       "$\\displaystyle \\frac{3602879701896397}{36028797018963968}$"
      ],
      "text/plain": [
       "3602879701896397/36028797018963968"
      ]
     },
     "execution_count": 56,
     "metadata": {},
     "output_type": "execute_result"
    }
   ],
   "source": [
    "sympy.Rational(.1)"
   ]
  },
  {
   "cell_type": "code",
   "execution_count": 57,
   "metadata": {},
   "outputs": [
    {
     "data": {
      "text/latex": [
       "$\\displaystyle \\frac{3602879701896397}{36028797018963968}$"
      ],
      "text/plain": [
       "3602879701896397/36028797018963968"
      ]
     },
     "execution_count": 57,
     "metadata": {},
     "output_type": "execute_result"
    }
   ],
   "source": [
    "sympy.Rational(1/10)"
   ]
  },
  {
   "cell_type": "code",
   "execution_count": 58,
   "metadata": {},
   "outputs": [
    {
     "data": {
      "text/latex": [
       "$\\displaystyle \\frac{1}{10}$"
      ],
      "text/plain": [
       "1/10"
      ]
     },
     "execution_count": 58,
     "metadata": {},
     "output_type": "execute_result"
    }
   ],
   "source": [
    "sympy.Rational(1,10)"
   ]
  },
  {
   "cell_type": "code",
   "execution_count": 59,
   "metadata": {},
   "outputs": [
    {
     "data": {
      "text/latex": [
       "$\\displaystyle \\frac{1}{2}$"
      ],
      "text/plain": [
       "1/2"
      ]
     },
     "execution_count": 59,
     "metadata": {},
     "output_type": "execute_result"
    }
   ],
   "source": [
    "sympy.Rational(\"0.5\")"
   ]
  },
  {
   "cell_type": "markdown",
   "metadata": {},
   "source": [
    "## Series"
   ]
  },
  {
   "cell_type": "code",
   "execution_count": 60,
   "metadata": {},
   "outputs": [],
   "source": [
    "x = sympy.symbols('x')\n",
    "i, n = sympy.symbols('i n', integer=True)"
   ]
  },
  {
   "cell_type": "code",
   "execution_count": 61,
   "metadata": {},
   "outputs": [
    {
     "data": {
      "text/latex": [
       "$\\displaystyle \\sum_{i=1}^{n} x^{i}$"
      ],
      "text/plain": [
       "Sum(x**i, (i, 1, n))"
      ]
     },
     "execution_count": 61,
     "metadata": {},
     "output_type": "execute_result"
    }
   ],
   "source": [
    "suma = sympy.Sum(x**i, (i, 1, n))\n",
    "suma"
   ]
  },
  {
   "cell_type": "code",
   "execution_count": 62,
   "metadata": {},
   "outputs": [
    {
     "data": {
      "text/latex": [
       "$\\displaystyle \\begin{cases} n & \\text{for}\\: x = 1 \\\\\\frac{x - x^{n + 1}}{1 - x} & \\text{otherwise} \\end{cases}$"
      ],
      "text/plain": [
       "Piecewise((n, Eq(x, 1)), ((x - x**(n + 1))/(1 - x), True))"
      ]
     },
     "execution_count": 62,
     "metadata": {},
     "output_type": "execute_result"
    }
   ],
   "source": [
    "suma.doit()"
   ]
  },
  {
   "cell_type": "code",
   "execution_count": 63,
   "metadata": {},
   "outputs": [
    {
     "data": {
      "text/latex": [
       "$\\displaystyle \\prod_{i=1}^{n} \\left(i + x\\right)$"
      ],
      "text/plain": [
       "Product(i + x, (i, 1, n))"
      ]
     },
     "execution_count": 63,
     "metadata": {},
     "output_type": "execute_result"
    }
   ],
   "source": [
    "prod = sympy.Product(x+i, (i, 1, n))\n",
    "prod"
   ]
  },
  {
   "cell_type": "code",
   "execution_count": 64,
   "metadata": {},
   "outputs": [
    {
     "data": {
      "text/latex": [
       "$\\displaystyle {\\left(x + 1\\right)}^{\\left(n\\right)}$"
      ],
      "text/plain": [
       "RisingFactorial(x + 1, n)"
      ]
     },
     "execution_count": 64,
     "metadata": {},
     "output_type": "execute_result"
    }
   ],
   "source": [
    "prod.doit()"
   ]
  },
  {
   "cell_type": "markdown",
   "metadata": {},
   "source": [
    "# Expresiones\n",
    "\n",
    "Una vez que se han definido símbolos, es posible usarlos para definir expresiones y/o ecuaciones de todo tipo. Veamos algunos ejemplos:"
   ]
  },
  {
   "cell_type": "code",
   "execution_count": 65,
   "metadata": {},
   "outputs": [
    {
     "data": {
      "text/latex": [
       "$\\displaystyle x^{2} + x y$"
      ],
      "text/plain": [
       "x**2 + x*y"
      ]
     },
     "execution_count": 65,
     "metadata": {},
     "output_type": "execute_result"
    }
   ],
   "source": [
    "x, y = sympy.symbols('x y') # Definimos dos símbolos\n",
    "# Definimos una expresión:\n",
    "expr1 = x**2 + x*y\n",
    "expr1"
   ]
  },
  {
   "cell_type": "code",
   "execution_count": 66,
   "metadata": {},
   "outputs": [
    {
     "data": {
      "text/plain": [
       "\"Add(Pow(Symbol('x'), Integer(2)), Mul(Symbol('x'), Symbol('y')))\""
      ]
     },
     "execution_count": 66,
     "metadata": {},
     "output_type": "execute_result"
    }
   ],
   "source": [
    "# Vemos la representación de la expresión\n",
    "sympy.srepr(expr1)"
   ]
  },
  {
   "cell_type": "markdown",
   "metadata": {},
   "source": [
    "Para entender la representación veamos la siguiente figura:\n",
    "\n",
    "<img src=\"arbol_eval_expr_sympy.png\" width=500px>"
   ]
  },
  {
   "cell_type": "code",
   "execution_count": 67,
   "metadata": {},
   "outputs": [
    {
     "name": "stdout",
     "output_type": "stream",
     "text": [
      "x**2 + x*y\n",
      "<class 'sympy.core.add.Add'>\n"
     ]
    }
   ],
   "source": [
    "print(expr1)\n",
    "print(type(expr1)) # Imprime el tipo de la raíz del árbol"
   ]
  },
  {
   "cell_type": "code",
   "execution_count": 68,
   "metadata": {},
   "outputs": [
    {
     "name": "stdout",
     "output_type": "stream",
     "text": [
      "a*(a + x*y)\n",
      "<class 'sympy.core.mul.Mul'>\n",
      "Mul(Symbol('a', real=True), Add(Symbol('a', real=True), Mul(Symbol('x'), Symbol('y'))))\n"
     ]
    },
    {
     "data": {
      "text/latex": [
       "$\\displaystyle a \\left(a + x y\\right)$"
      ],
      "text/plain": [
       "a*(a + x*y)"
      ]
     },
     "metadata": {},
     "output_type": "display_data"
    }
   ],
   "source": [
    "# Otro ejemplo\n",
    "expr2 = (x * y + a ) * a\n",
    "print(expr2)\n",
    "print(type(expr2))\n",
    "print(sympy.srepr(expr2))\n",
    "display(expr2)"
   ]
  },
  {
   "cell_type": "markdown",
   "metadata": {},
   "source": [
    "### Expansión de expresiones\n",
    "\n",
    "Es posible expandir expresiones usando la función `sympy.expand()`:"
   ]
  },
  {
   "cell_type": "code",
   "execution_count": null,
   "metadata": {},
   "outputs": [],
   "source": [
    "sympy.expand((x+y)**3) "
   ]
  },
  {
   "cell_type": "code",
   "execution_count": null,
   "metadata": {},
   "outputs": [],
   "source": [
    "t = (x + pi)**2\n",
    "display(t)\n",
    "display(sympy.expand(t))"
   ]
  },
  {
   "cell_type": "markdown",
   "metadata": {},
   "source": [
    "### Factorización de expresiones.\n",
    "\n",
    "Se puede factorizar una expresión usando la función `sympy.factor()`:"
   ]
  },
  {
   "cell_type": "code",
   "execution_count": null,
   "metadata": {},
   "outputs": [],
   "source": [
    "expr  = sympy.expand(t)\n",
    "display(expr)\n",
    "display(sympy.factor(expr))"
   ]
  },
  {
   "cell_type": "code",
   "execution_count": null,
   "metadata": {
    "scrolled": true
   },
   "outputs": [],
   "source": [
    "sympy.factor(x**3 - x**2 + x - 1)"
   ]
  },
  {
   "cell_type": "markdown",
   "metadata": {},
   "source": [
    "# Fracciones Parciales\n",
    "\n",
    "Usando la función `sympy.apart()` es posible calcular la descomposición en fracciones parciales de una función racional.\n"
   ]
  },
  {
   "cell_type": "code",
   "execution_count": null,
   "metadata": {},
   "outputs": [],
   "source": [
    "expr = (4*x**3 + 21*x**2 + 10*x + 12)/(x**4 + 5*x**3 + 5*x**2 + 4*x)\n",
    "expr"
   ]
  },
  {
   "cell_type": "code",
   "execution_count": null,
   "metadata": {},
   "outputs": [],
   "source": [
    "sympy.apart(expr)"
   ]
  },
  {
   "cell_type": "markdown",
   "metadata": {},
   "source": [
    "# Substitución\n",
    "\n",
    "El método `.subs()` sustituye un elemento por otro en una expresión. Véase también `.replace()`\n"
   ]
  },
  {
   "cell_type": "code",
   "execution_count": null,
   "metadata": {},
   "outputs": [],
   "source": [
    "expr1 = sympy.sin(x)**2 + sympy.cos(x)**2\n",
    "expr1"
   ]
  },
  {
   "cell_type": "code",
   "execution_count": null,
   "metadata": {},
   "outputs": [],
   "source": [
    "expr1.subs(sympy.cos, sympy.exp)  # Sustitucion de código."
   ]
  },
  {
   "cell_type": "markdown",
   "metadata": {},
   "source": [
    "Para la serie `suma` definida antes podemos hacer lo siguiente:"
   ]
  },
  {
   "cell_type": "code",
   "execution_count": null,
   "metadata": {},
   "outputs": [],
   "source": [
    "display(suma)"
   ]
  },
  {
   "cell_type": "code",
   "execution_count": null,
   "metadata": {},
   "outputs": [],
   "source": [
    "suma.subs(x,3) # Sustituimos x = 3"
   ]
  },
  {
   "cell_type": "code",
   "execution_count": null,
   "metadata": {},
   "outputs": [],
   "source": [
    "suma.subs(x:3).doit() # Realizamos la suma con x = 3"
   ]
  },
  {
   "cell_type": "code",
   "execution_count": null,
   "metadata": {},
   "outputs": [],
   "source": [
    "suma.subs({x:3, n:6}) # Sustituimos x = 3 y n = 6"
   ]
  },
  {
   "cell_type": "code",
   "execution_count": null,
   "metadata": {},
   "outputs": [],
   "source": [
    "suma.subs({x:3, n:6}).doit() # Realizamos la suma con x = 3 y n = 6"
   ]
  },
  {
   "cell_type": "markdown",
   "metadata": {},
   "source": [
    "Para el producto se puede hacer algo similar:"
   ]
  },
  {
   "cell_type": "code",
   "execution_count": null,
   "metadata": {},
   "outputs": [],
   "source": [
    "display(prod)"
   ]
  },
  {
   "cell_type": "code",
   "execution_count": null,
   "metadata": {},
   "outputs": [],
   "source": [
    "prod.subs({x:4, n:10}).doit()"
   ]
  },
  {
   "cell_type": "markdown",
   "metadata": {},
   "source": [
    "El siguiente ejemplo es una expresión que proviene de la versión discreta de la ecuación de calor en 2D usando diferencias finitas centradas:"
   ]
  },
  {
   "cell_type": "code",
   "execution_count": null,
   "metadata": {},
   "outputs": [],
   "source": [
    "# Definimos los símbolos\n",
    "a, b, c = sympy.symbols('a b c')\n",
    "k_x, h_x, k_y, h_y = sympy.symbols('k_x h_x k_y h_y')\n",
    "T_ij, T_ip1j, T_im1j, T_ijp1, T_ijm1 = sympy.symbols('T_ij T_i+1j T_i-1j T_ij+1 T_ij-1')\n",
    "\n",
    "# Construimos la expresión\n",
    "expr2 = 2 * (k_x / h_x**2 +  k_y / h_y**2) * T_ij - \\\n",
    "        (k_x / h_x**2) * T_ip1j - (k_x / h_x**2) * T_im1j - \\\n",
    "        (k_y / h_y**2) * T_ijp1 - (k_y / h_y**2) * T_ijm1 \n",
    "expr2"
   ]
  },
  {
   "cell_type": "markdown",
   "metadata": {},
   "source": [
    "Simplificamos mediante la definición de coeficientes:\n",
    "$a = 2 * (b + c)$, $b = \\dfrac{k_x}{h_x^2}$ y $c =\\dfrac{k_x}{h_x^2}$"
   ]
  },
  {
   "cell_type": "code",
   "execution_count": null,
   "metadata": {},
   "outputs": [],
   "source": [
    "expr2.subs({k_x / h_x**2 : b, k_y / h_y**2: c, 2 * (k_x / h_x**2 +  k_y / h_y**2) : a})"
   ]
  },
  {
   "cell_type": "markdown",
   "metadata": {},
   "source": [
    "## Resolución de ecuaciones\n",
    "\n",
    "Se pueden definir ecuaciones con la función `sympy.Eq()` y resolverlas con `sympy.solve()`:"
   ]
  },
  {
   "cell_type": "code",
   "execution_count": null,
   "metadata": {},
   "outputs": [],
   "source": [
    "# Definimos la ecuación de segundo grado\n",
    "segundo_grado = sympy.Eq(a*x**2 + b*x + c, 0)\n",
    "segundo_grado"
   ]
  },
  {
   "cell_type": "code",
   "execution_count": null,
   "metadata": {},
   "outputs": [],
   "source": [
    "# Resolvemos la ecuación\n",
    "sol = sympy.solve(segundo_grado, x)\n",
    "\n",
    "# Imprimimos el resultado\n",
    "print(sol)\n",
    "print(type(sol))\n",
    "for i in sol:\n",
    "    display(i)"
   ]
  },
  {
   "cell_type": "code",
   "execution_count": null,
   "metadata": {},
   "outputs": [],
   "source": [
    "display(sol[0], sol[1])"
   ]
  },
  {
   "cell_type": "markdown",
   "metadata": {},
   "source": [
    "Veamos otros ejemplos:"
   ]
  },
  {
   "cell_type": "code",
   "execution_count": null,
   "metadata": {},
   "outputs": [],
   "source": [
    "cuarto_grado = sympy.Eq(x**4 - 1, 0)\n",
    "\n",
    "display(cuarto_grado)\n",
    "sympy.solve(cuarto_grado, x) # Una sola variable"
   ]
  },
  {
   "cell_type": "code",
   "execution_count": null,
   "metadata": {},
   "outputs": [],
   "source": [
    "# Sistema de ecuaciones\n",
    "eq1 = sympy.Eq(x + 5*y - 2, 0)     # Ecuación 1\n",
    "eq2 = sympy.Eq(-3*x + 6*y - 15, 0) # Ecuación 2\n",
    "\n",
    "display(eq1, eq2)\n",
    "sympy.solve([eq1, eq2], [x, y]) # Solución"
   ]
  },
  {
   "cell_type": "code",
   "execution_count": null,
   "metadata": {},
   "outputs": [],
   "source": [
    "eq3 = sympy.Eq(sympy.exp(x) + 1, 0)\n",
    "\n",
    "display(eq3)\n",
    "sympy.solve(eq3, x)"
   ]
  },
  {
   "cell_type": "code",
   "execution_count": null,
   "metadata": {},
   "outputs": [],
   "source": [
    "eq4 = sympy.Eq(x**2 + 2*x, 1)\n",
    "\n",
    "display(eq4)\n",
    "_ = [display(s) for s in sympy.solve(eq4,x)]"
   ]
  },
  {
   "cell_type": "code",
   "execution_count": null,
   "metadata": {},
   "outputs": [],
   "source": [
    "c = sympy.symbols('c', real=True)\n",
    "eq5 = sympy.Eq(x**2 + 2*x, c)\n",
    "\n",
    "display(eq5)\n",
    "sol5 = sympy.solve(eq5,x)\n",
    "display(sol5[0], sol5[1])"
   ]
  },
  {
   "cell_type": "markdown",
   "metadata": {},
   "source": [
    "# Cálculo\n",
    "\n",
    "## Funciones\n",
    "---\n",
    "**Definición**:\n",
    "Una relación donde a cada elemento de un conjunto $A$ le corresponde un único elemento de un conjunto $B$, se denomina una **función** de $A$ en $B$. \n",
    "\n",
    "---\n",
    "\n",
    "La notación que se usa es: $f:A \\rightarrow B$. Dado un elemento $x \\in A$ existe un elemento $y \\in B$ de tal manera que escribimos $f(x) = y$, es decir, $f$ transforma $x$ en $y$. Al conjunto $A$ se le conoce como **dominio** de $f$ y al conjunto $B$ se le conoce como **codominio** de $f$. \n"
   ]
  },
  {
   "cell_type": "code",
   "execution_count": null,
   "metadata": {},
   "outputs": [],
   "source": [
    "# Definimos un símbolo para usarlo en las expresiones siguientes\n",
    "x = sympy.symbols('x')\n",
    "\n",
    "# Definimos la siguiente función\n",
    "pol = x + x**2 + x**3\n",
    "pol"
   ]
  },
  {
   "cell_type": "markdown",
   "metadata": {},
   "source": [
    "## Graficación con `sympy.plot()`\n",
    "Es posible graficar usando la función `sympy.plot()`:"
   ]
  },
  {
   "cell_type": "code",
   "execution_count": null,
   "metadata": {},
   "outputs": [],
   "source": [
    "sympy.plot(pol)"
   ]
  },
  {
   "cell_type": "code",
   "execution_count": null,
   "metadata": {},
   "outputs": [],
   "source": [
    "# Se puede personalizar la gráfica\n",
    "sympy.plot(pol, (x, -5.0, 5.0), size = (3,3), ylabel='$P(x)$')"
   ]
  },
  {
   "cell_type": "markdown",
   "metadata": {},
   "source": [
    "## Funciones continuas.\n",
    "\n",
    "---\n",
    "**Definición.**\n",
    "Una función $f:\\mathbb{R} \\rightarrow \\mathbb{R}$ es continua si para cada $x_0 \\in \\mathbb{R}$ satisface la propiedad siguiente:\n",
    "\n",
    "$$\n",
    "f(x) \\cong f(x_0) \\; \\; \\forall x \\; \\text{suficientemente próximo a $x_0$}\n",
    "$$\n",
    "\n",
    "*\"La función es continua si puedes dibujarla sin levantar el lápiz del papel\"*.\n",
    "\n",
    "---\n",
    "\n",
    "Las funciones que no cumplen con esta propiedad son discontinuas."
   ]
  },
  {
   "cell_type": "markdown",
   "metadata": {},
   "source": [
    "<div class=\"alert alert-info\">\n",
    "\n",
    "### Ejemplo 1.\n",
    "\n",
    "La *función logística* es ejemplo de una función continua\n",
    "\n",
    "$$\n",
    "f(x) = \\frac{1}{1+e^{-k x}}\n",
    "$$\n",
    "\n",
    "La *función de Heaviside* es una función discontinua en $x=0$.\n",
    "\n",
    "$$\n",
    "H(x) = \n",
    "\\begin{cases}\n",
    "1, x > 0 \\\\\n",
    "0, x \\leq 0\n",
    "\\end{cases}\n",
    "$$\n",
    "\n",
    "</div>\n",
    "\n",
    "Graficamos ambas funciones:"
   ]
  },
  {
   "cell_type": "code",
   "execution_count": null,
   "metadata": {},
   "outputs": [],
   "source": [
    "x = sympy.symbols('x')\n",
    "H = sympy.Heaviside(x)\n",
    "\n",
    "k = 1\n",
    "logistica = 1 / (1 + sympy.exp(-k*x))\n",
    "\n",
    "display(H, logistica)\n",
    "\n",
    "ph = sympy.plot(H, logistica, show = False)\n",
    "ph.size = (4,2)\n",
    "ph.show()"
   ]
  },
  {
   "cell_type": "markdown",
   "metadata": {},
   "source": [
    "## Limites\n",
    "\n",
    "Un límite se calcula con la función `sympy.limit()`.\n",
    "\n",
    "### Función logística"
   ]
  },
  {
   "cell_type": "code",
   "execution_count": null,
   "metadata": {},
   "outputs": [],
   "source": [
    "sympy.limit(logistica, x, 0)"
   ]
  },
  {
   "cell_type": "code",
   "execution_count": null,
   "metadata": {},
   "outputs": [],
   "source": [
    "# Límite por la izquierda\n",
    "sympy.limit(logistica, x, 0, dir = '-') "
   ]
  },
  {
   "cell_type": "code",
   "execution_count": null,
   "metadata": {},
   "outputs": [],
   "source": [
    "# Límite por la derecha\n",
    "sympy.limit(logistica, x, 0, dir = '+') "
   ]
  },
  {
   "cell_type": "markdown",
   "metadata": {},
   "source": [
    "### Función Heaviside"
   ]
  },
  {
   "cell_type": "code",
   "execution_count": null,
   "metadata": {},
   "outputs": [],
   "source": [
    "sympy.limit(H, x, 0, dir='-')  # Aplicamos un límite"
   ]
  },
  {
   "cell_type": "code",
   "execution_count": null,
   "metadata": {},
   "outputs": [],
   "source": [
    "sympy.limit(H, x, 0, dir='+')  # Aplicamos un límite"
   ]
  },
  {
   "cell_type": "code",
   "execution_count": null,
   "metadata": {},
   "outputs": [],
   "source": [
    "limite = sympy.limit(H, x, 0, dir='-') == sympy.limit(H, x, 0, dir='+')\n",
    "\n",
    "print('¿Existe el límite de H(x) cuando x tiende a cero? {}'.format(limite))"
   ]
  },
  {
   "cell_type": "code",
   "execution_count": null,
   "metadata": {},
   "outputs": [],
   "source": [
    "%run \"./zlimit_interactive.ipynb\""
   ]
  },
  {
   "cell_type": "markdown",
   "metadata": {},
   "source": [
    "### Límite como una expresión\n",
    "\n",
    "En este caso usamos la función `sympy.Limit()` (con la L mayúscula):"
   ]
  },
  {
   "cell_type": "code",
   "execution_count": null,
   "metadata": {},
   "outputs": [],
   "source": [
    "# Definimos y desplegamos el límite\n",
    "limite = sympy.Limit(logistica, x, 0, dir = '+') \n",
    "limite"
   ]
  },
  {
   "cell_type": "code",
   "execution_count": null,
   "metadata": {},
   "outputs": [],
   "source": [
    "# Calculamos el límite\n",
    "limite.doit()"
   ]
  },
  {
   "cell_type": "markdown",
   "metadata": {},
   "source": [
    "### Otros ejemplos"
   ]
  },
  {
   "cell_type": "code",
   "execution_count": null,
   "metadata": {},
   "outputs": [],
   "source": [
    "limite = sympy.Limit(sympy.sin(x)/x, x, 0)\n",
    "display(limite)\n",
    "limite.doit()"
   ]
  },
  {
   "cell_type": "code",
   "execution_count": null,
   "metadata": {},
   "outputs": [],
   "source": [
    "limite = sympy.Limit(x/x, x, sympy.oo)       # Limites al infinito\n",
    "display(limite)\n",
    "limite.doit()"
   ]
  },
  {
   "cell_type": "code",
   "execution_count": null,
   "metadata": {},
   "outputs": [],
   "source": [
    "limite = sympy.Limit(1 / x, x, sympy.oo) \n",
    "display(limite)\n",
    "limite.doit()"
   ]
  },
  {
   "cell_type": "code",
   "execution_count": null,
   "metadata": {},
   "outputs": [],
   "source": [
    "limite = sympy.Limit((x + 1)*(x + 2)*(x + 3)/x**3, x, sympy.oo)\n",
    "display(limite)\n",
    "limite.doit()"
   ]
  },
  {
   "cell_type": "code",
   "execution_count": null,
   "metadata": {},
   "outputs": [],
   "source": [
    "limite = sympy.Limit(sympy.tan(x), x, pi / 2, dir='+')\n",
    "display(limite)\n",
    "limite.doit()"
   ]
  },
  {
   "cell_type": "code",
   "execution_count": null,
   "metadata": {},
   "outputs": [],
   "source": [
    "limite  = sympy.Limit(sympy.tan(x), x, pi / 2, dir='-')\n",
    "display(limite)\n",
    "limite.doit()"
   ]
  },
  {
   "cell_type": "markdown",
   "metadata": {},
   "source": [
    "## Derivadas\n",
    "\n",
    "En casi todos los libros de cálculo encontrarás la siguiente notación para la derivada de la función $f(x)$:\n",
    "\n",
    "$$ \n",
    "\\frac{d f}{dx} = f^\\prime(x)=\\lim_{h \\to 0} \\frac{f(x + h) - f(x)}{h} \\tag{5}\n",
    "$$\n",
    "\n",
    "La derivada existe siempre y cuando exista este límite. ¿Puedes imaginar cuando este límite no existe? \n",
    "\n",
    "Observe que en la definición anterior se está calculando la pendiente de la función $f(x)$ en $x$."
   ]
  },
  {
   "cell_type": "code",
   "execution_count": null,
   "metadata": {},
   "outputs": [],
   "source": [
    "%run \"./zDerivadaNumerica.ipynb\""
   ]
  },
  {
   "cell_type": "markdown",
   "metadata": {},
   "source": [
    "En SymPy es posible calcular las derivadas numéricas usando las funciones `sympy.diff()` o `sympy.Derivative()`, veamos como:"
   ]
  },
  {
   "cell_type": "code",
   "execution_count": null,
   "metadata": {},
   "outputs": [],
   "source": [
    "# Función de una variable\n",
    "f = 1/(x**2+x+1)\n",
    "display(f)\n",
    "sympy.diff(1/(x**2+x+1),x)    # Derivada con respecto a x"
   ]
  },
  {
   "cell_type": "code",
   "execution_count": null,
   "metadata": {},
   "outputs": [],
   "source": [
    "# Función de dos variables\n",
    "y = sympy.symbols('y')\n",
    "f = 1/(x**2+y+1)\n",
    "derivada = sympy.Derivative(f,y) # Derivada parcial con respecto a y\n",
    "display(derivada)\n",
    "derivada.doit()"
   ]
  },
  {
   "cell_type": "code",
   "execution_count": null,
   "metadata": {},
   "outputs": [],
   "source": [
    "# Derivadas de alto orden\n",
    "f = x**2\n",
    "derivada = sympy.Derivative(f,x,2) # Segunda derivada con respecto a x\n",
    "display(derivada)\n",
    "derivada.doit()"
   ]
  },
  {
   "cell_type": "code",
   "execution_count": null,
   "metadata": {},
   "outputs": [],
   "source": [
    "# Derivadas parciales de alto orden\n",
    "f = 1/(x**2+y+1)\n",
    "derivada = sympy.Derivative(f,y,3) # Tercera derivada con respecto a y\n",
    "display(derivada)\n",
    "derivada.doit()"
   ]
  },
  {
   "cell_type": "code",
   "execution_count": null,
   "metadata": {},
   "outputs": [],
   "source": [
    "# Derivadas parciales mezcladas\n",
    "f = x * y * sympy.log(x * y)\n",
    "derivada = sympy.Derivative(f,x,y) # Derivada parcial con respecto a x, luego con respecto a y\n",
    "display(derivada)\n",
    "derivada.doit()"
   ]
  },
  {
   "cell_type": "markdown",
   "metadata": {},
   "source": [
    "## Series de Taylor\n",
    "\n",
    "Es posible calcular la serie de Taylor de una función usando la funciòn `sympy.series()`:"
   ]
  },
  {
   "cell_type": "code",
   "execution_count": null,
   "metadata": {},
   "outputs": [],
   "source": [
    "sympy.series(sympy.cos(x))   # Punto central en cero"
   ]
  },
  {
   "cell_type": "code",
   "execution_count": null,
   "metadata": {
    "scrolled": true
   },
   "outputs": [],
   "source": [
    "sympy.series(sympy.cos(x),n=10) # Calcula hasta orden 10 de la variable x"
   ]
  },
  {
   "cell_type": "code",
   "execution_count": null,
   "metadata": {},
   "outputs": [],
   "source": [
    "sympy.series(sympy.cos(x),n=10).removeO() # "
   ]
  },
  {
   "cell_type": "code",
   "execution_count": null,
   "metadata": {},
   "outputs": [],
   "source": [
    "T5 = sympy.series(sympy.cos(x), n=5, x0=pi/2)\n",
    "T5"
   ]
  },
  {
   "cell_type": "markdown",
   "metadata": {},
   "source": [
    "Podemos comparar la función original, $\\cos(x)$, con el resultado de la aproximación con la serie de Taylor de manera gráfica: "
   ]
  },
  {
   "cell_type": "code",
   "execution_count": null,
   "metadata": {},
   "outputs": [],
   "source": [
    "P5 = T5.removeO()\n",
    "display(P5)\n",
    "\n",
    "ph = sympy.plot((sympy.cos(x), (x, 0, sympy.pi)), \n",
    "                (P5, (x, 0, sympy.pi)), \n",
    "                legend = True, show=False)\n",
    "ph.size = (6,3)\n",
    "ph.ylabel = '$P_5(x)$'\n",
    "ph[1].label = '$P_5(x)$' # Se puede cambiar la etiqueta a la gráfica\n",
    "ph.show()"
   ]
  },
  {
   "cell_type": "markdown",
   "metadata": {},
   "source": [
    "## Integración\n",
    "\n",
    "La integral de una función se calcula con las funciones `sympy.integrate()` o  `sympy.Integral()`  "
   ]
  },
  {
   "cell_type": "code",
   "execution_count": null,
   "metadata": {},
   "outputs": [],
   "source": [
    "f = 6*x**5\n",
    "display(f)\n",
    "sympy.integrate(6*x**5, x)"
   ]
  },
  {
   "cell_type": "code",
   "execution_count": null,
   "metadata": {},
   "outputs": [],
   "source": [
    "f = sympy.sin(x)\n",
    "integral = sympy.Integral(f) # Integrales indefinidas\n",
    "display(integral)\n",
    "integral.doit()"
   ]
  },
  {
   "cell_type": "code",
   "execution_count": null,
   "metadata": {},
   "outputs": [],
   "source": [
    "f = sympy.cos(x)\n",
    "integral = sympy.Integral(f, (x, -sympy.pi/2, sympy.pi/2)) # Integrales definidas\n",
    "display(integral)\n",
    "integral.doit()"
   ]
  },
  {
   "cell_type": "code",
   "execution_count": null,
   "metadata": {},
   "outputs": [],
   "source": [
    "f = sympy.exp(-x)\n",
    "integral = sympy.Integral(f, (x, 0, sympy.oo)) # Integrales impropias\n",
    "display(integral)\n",
    "integral.doit()"
   ]
  },
  {
   "cell_type": "code",
   "execution_count": null,
   "metadata": {},
   "outputs": [],
   "source": [
    "f = sympy.exp(-x**2)\n",
    "integral = sympy.Integral(f, (x, -sympy.oo, sympy.oo)) # Integrales impropias\n",
    "display(integral)\n",
    "integral.doit()"
   ]
  },
  {
   "cell_type": "markdown",
   "metadata": {
    "tags": []
   },
   "source": [
    "## Teorema fundamental"
   ]
  },
  {
   "cell_type": "code",
   "execution_count": null,
   "metadata": {
    "tags": []
   },
   "outputs": [],
   "source": [
    "print('Función original:')\n",
    "f = x * x * sympy.log(x**2) + sympy.cos(x)\n",
    "display(f)\n",
    "\n",
    "print('\\nDerivada de la función original:')\n",
    "derivada = sympy.Derivative(f,x)\n",
    "display(derivada)\n",
    "fp = derivada.doit()\n",
    "display(fp)\n",
    "\n",
    "print('\\nIntegral de la Derivada de la función original:')\n",
    "integral = sympy.Integral(fp, x) \n",
    "display(integral)\n",
    "fi = integral.doit()\n",
    "\n",
    "print('\\n¿Se cumple el Teorema ? {}'.format(f == fi))"
   ]
  },
  {
   "cell_type": "markdown",
   "metadata": {},
   "source": [
    "# Ecuaciones diferenciales ordinarias\n",
    "\n",
    "Una ecuación diferencial ordinaria se expresa como:\n",
    "\n",
    "$$\n",
    "\\frac{d}{d x} y{\\left(x \\right)} = f(x, y)\n",
    "$$\n",
    "\n",
    "Junto con sus condiciones iniciales.\n",
    "\n",
    "En SymPy podemos definir la ecuación y resolverla."
   ]
  },
  {
   "cell_type": "code",
   "execution_count": null,
   "metadata": {
    "tags": []
   },
   "outputs": [],
   "source": [
    "# Definimos la x y la y(x)\n",
    "x = sympy.Symbol('x')\n",
    "y = sympy.Function('y')"
   ]
  },
  {
   "cell_type": "code",
   "execution_count": null,
   "metadata": {
    "tags": []
   },
   "outputs": [],
   "source": [
    "# Definimos la función f(x,y)\n",
    "f = 6*x**2 - 3*x**2*(y(x))\n",
    "f"
   ]
  },
  {
   "cell_type": "code",
   "execution_count": null,
   "metadata": {},
   "outputs": [],
   "source": [
    "# Definimos la ecuación diferencial\n",
    "sympy.Eq(y(x).diff(x), f)"
   ]
  },
  {
   "cell_type": "code",
   "execution_count": null,
   "metadata": {},
   "outputs": [],
   "source": [
    "# Resolvemos la ecuación diferencial\n",
    "sympy.dsolve(y(x).diff(x) - f)"
   ]
  },
  {
   "cell_type": "markdown",
   "metadata": {},
   "source": [
    "### Condiciones iniciales"
   ]
  },
  {
   "cell_type": "code",
   "execution_count": null,
   "metadata": {},
   "outputs": [],
   "source": [
    "# Definimos la ecuación diferencial ordinaria usando sympy.Eq()\n",
    "edo = sympy.Eq(y(x).diff(x, 2) - 4 * y(x), # lhs\n",
    "               2 * sympy.exp(2 * x) + 5 * sympy.exp(-2 * x)) # rhs\n",
    "edo"
   ]
  },
  {
   "cell_type": "code",
   "execution_count": null,
   "metadata": {},
   "outputs": [],
   "source": [
    "edo.lhs"
   ]
  },
  {
   "cell_type": "code",
   "execution_count": null,
   "metadata": {},
   "outputs": [],
   "source": [
    "edo.rhs"
   ]
  },
  {
   "cell_type": "code",
   "execution_count": null,
   "metadata": {},
   "outputs": [],
   "source": [
    "# Ahora resolvemos la ecuación diferencial ordinaria\n",
    "sympy.dsolve(edo, y(x))"
   ]
  },
  {
   "cell_type": "markdown",
   "metadata": {},
   "source": [
    "Cuando tenemos las condiciones iniciales, las podemos agregar como sigue:\n",
    "\n",
    "$$\n",
    "\\begin{eqnarray}\n",
    "y & = & -6, \\;\\; \\text{para} \\;\\; x = 0 \\\\\n",
    "\\dfrac{d y}{d x} & = & 8, \\;\\; \\text{para} \\;\\; x = 0 \n",
    "\\end{eqnarray}\n",
    "$$"
   ]
  },
  {
   "cell_type": "code",
   "execution_count": null,
   "metadata": {},
   "outputs": [],
   "source": [
    "ics = {y(0): -6, \n",
    "       y(x).diff(x).subs(x, 0): 8}"
   ]
  },
  {
   "cell_type": "code",
   "execution_count": null,
   "metadata": {},
   "outputs": [],
   "source": [
    "sympy.dsolve(edo, y(x), ics=ics)"
   ]
  },
  {
   "cell_type": "markdown",
   "metadata": {},
   "source": [
    "# Algebra lineal\n",
    "\n",
    "http://docs.sympy.org/latest/modules/matrices/matrices.html#creating-matrices"
   ]
  },
  {
   "cell_type": "code",
   "execution_count": null,
   "metadata": {},
   "outputs": [],
   "source": [
    "M = sympy.Matrix([[3,1], [0,1]])\n",
    "M"
   ]
  },
  {
   "cell_type": "code",
   "execution_count": null,
   "metadata": {},
   "outputs": [],
   "source": [
    "M.eigenvals()"
   ]
  },
  {
   "cell_type": "code",
   "execution_count": null,
   "metadata": {},
   "outputs": [],
   "source": [
    "M.inv()"
   ]
  },
  {
   "cell_type": "code",
   "execution_count": null,
   "metadata": {},
   "outputs": [],
   "source": [
    "M*M.inv()"
   ]
  },
  {
   "cell_type": "code",
   "execution_count": null,
   "metadata": {},
   "outputs": [],
   "source": []
  },
  {
   "cell_type": "code",
   "execution_count": null,
   "metadata": {},
   "outputs": [],
   "source": [
    "x, y = sympy.symbols('x y')\n",
    "A = sympy.Matrix([[1,x], [y,1]])\n",
    "A"
   ]
  },
  {
   "cell_type": "code",
   "execution_count": null,
   "metadata": {},
   "outputs": [],
   "source": [
    "phi = sympy.symbols('phi')\n",
    "rotation = sympy.Matrix([[sympy.cos(phi), -sympy.sin(phi)],\n",
    "                        [sympy.sin(phi), sympy.cos(phi)]])\n",
    "rotation"
   ]
  },
  {
   "cell_type": "code",
   "execution_count": null,
   "metadata": {},
   "outputs": [],
   "source": [
    "rotation.subs('phi',2).evalf(14)"
   ]
  },
  {
   "cell_type": "code",
   "execution_count": null,
   "metadata": {},
   "outputs": [],
   "source": [
    "rotation.T # Transpuestarotation.T*rotation"
   ]
  },
  {
   "cell_type": "code",
   "execution_count": null,
   "metadata": {},
   "outputs": [],
   "source": [
    "rotation.T*rotation"
   ]
  },
  {
   "cell_type": "code",
   "execution_count": null,
   "metadata": {},
   "outputs": [],
   "source": [
    "sympy.simplify(rotation.T*rotation - sympy.eye(2))"
   ]
  },
  {
   "cell_type": "code",
   "execution_count": null,
   "metadata": {},
   "outputs": [],
   "source": [
    "rotation.inv()"
   ]
  },
  {
   "cell_type": "code",
   "execution_count": null,
   "metadata": {},
   "outputs": [],
   "source": [
    "sympy.simplify(rotation.T - rotation.inv())"
   ]
  },
  {
   "cell_type": "code",
   "execution_count": null,
   "metadata": {},
   "outputs": [],
   "source": [
    "M = sympy.Matrix(( [1, 2, 3], [3, 6, 2], [2, 0, 1] ))\n",
    "M"
   ]
  },
  {
   "cell_type": "code",
   "execution_count": null,
   "metadata": {},
   "outputs": [],
   "source": [
    "M.det()"
   ]
  },
  {
   "cell_type": "code",
   "execution_count": null,
   "metadata": {},
   "outputs": [],
   "source": [
    "M.inv(method=\"LU\")"
   ]
  },
  {
   "cell_type": "code",
   "execution_count": null,
   "metadata": {},
   "outputs": [],
   "source": [
    "Q, R = M.QRdecomposition()"
   ]
  },
  {
   "cell_type": "code",
   "execution_count": null,
   "metadata": {},
   "outputs": [],
   "source": [
    "Q"
   ]
  },
  {
   "cell_type": "code",
   "execution_count": null,
   "metadata": {},
   "outputs": [],
   "source": [
    "R"
   ]
  },
  {
   "cell_type": "code",
   "execution_count": null,
   "metadata": {},
   "outputs": [],
   "source": [
    "Q * R"
   ]
  },
  {
   "cell_type": "code",
   "execution_count": null,
   "metadata": {},
   "outputs": [],
   "source": [
    "A = sympy.Matrix([ [2, 3, 5], [3, 6, 2], [8, 3, 6] ])\n",
    "A"
   ]
  },
  {
   "cell_type": "code",
   "execution_count": null,
   "metadata": {},
   "outputs": [],
   "source": [
    "x = sympy.Matrix(3,1,[3,7,5])\n",
    "x"
   ]
  },
  {
   "cell_type": "code",
   "execution_count": null,
   "metadata": {},
   "outputs": [],
   "source": [
    "b = A*x\n",
    "b"
   ]
  },
  {
   "cell_type": "code",
   "execution_count": null,
   "metadata": {},
   "outputs": [],
   "source": [
    "soln = A.LUsolve(b)"
   ]
  },
  {
   "cell_type": "code",
   "execution_count": null,
   "metadata": {},
   "outputs": [],
   "source": [
    "soln"
   ]
  },
  {
   "cell_type": "code",
   "execution_count": null,
   "metadata": {},
   "outputs": [],
   "source": []
  }
 ],
 "metadata": {
  "kernelspec": {
   "display_name": "Python 3 (ipykernel)",
   "language": "python",
   "name": "python3"
  },
  "language_info": {
   "codemirror_mode": {
    "name": "ipython",
    "version": 3
   },
   "file_extension": ".py",
   "mimetype": "text/x-python",
   "name": "python",
   "nbconvert_exporter": "python",
   "pygments_lexer": "ipython3",
   "version": "3.11.6"
  }
 },
 "nbformat": 4,
 "nbformat_minor": 4
}
