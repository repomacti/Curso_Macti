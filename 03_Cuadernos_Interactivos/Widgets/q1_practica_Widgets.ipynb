{
 "cells": [
  {
   "cell_type": "code",
   "execution_count": 3,
   "id": "400b519b-d548-4563-bcd2-49d3342feeb8",
   "metadata": {},
   "outputs": [],
   "source": [
    "import numpy as np\n",
    "import matplotlib.pyplot as plt\n",
    "import ipywidgets as widgets\n",
    "import sympy"
   ]
  },
  {
   "cell_type": "code",
   "execution_count": 5,
   "id": "ec77e903-79ba-4379-87d7-c8afc9499391",
   "metadata": {},
   "outputs": [],
   "source": [
    "# Definimos los símbolos\n",
    "x, y = sympy.symbols('x y')\n",
    "\n",
    "# Definimos la función\n",
    "f = 5 * x**2 + 5 * y**2\n",
    "\n",
    "# Cálculo del gradiente\n",
    "Df = sympy.Matrix([f]).jacobian([x,y])"
   ]
  },
  {
   "cell_type": "code",
   "execution_count": 7,
   "id": "2778695e-b1a2-4e08-bf43-72b1b0cf3f06",
   "metadata": {},
   "outputs": [],
   "source": [
    "# Malla de coordenadas\n",
    "xg, yg = np.meshgrid(np.linspace(-3,3,20), np.linspace(-3,3,20))\n",
    "\n",
    "# Función para evaluar f en (x,y)\n",
    "f0 = sympy.lambdify([x, y], f)\n",
    "\n",
    "# Evaluación de f en la malla\n",
    "z = np.array([f0(x1, y1) for x1, y1 in zip(xg,yg)])\n",
    "\n",
    "# El gradiente es un vector, necesitamos evaluar cada componente como sigue:\n",
    "f1 = sympy.lambdify([x, y], Df[0])\n",
    "f2 = sympy.lambdify([x, y], Df[1])\n",
    "\n",
    "U = np.array([f1(x1, y1) for x1,y1 in zip(xg,yg)])\n",
    "V = np.array([f2(x1, y1) for x1,y1 in zip(xg,yg)])"
   ]
  },
  {
   "cell_type": "code",
   "execution_count": 8,
   "id": "80c920b8-afc6-4259-b4b1-ac9eb9bbb758",
   "metadata": {},
   "outputs": [
    {
     "data": {
      "application/vnd.jupyter.widget-view+json": {
       "model_id": "ab4f456b16b84d079c8144c6e2d40f44",
       "version_major": 2,
       "version_minor": 0
      },
      "text/plain": [
       "interactive(children=(FloatSlider(value=5.0, description='elev', max=180.0, step=5.0), FloatSlider(value=0.0, …"
      ]
     },
     "execution_count": 8,
     "metadata": {},
     "output_type": "execute_result"
    }
   ],
   "source": [
    "# Ahora creamos un interactivo con ipywidgets\n",
    "import matplotlib.pyplot as plt\n",
    "\n",
    "# Necesitamos una tercer componente para el gradiente\n",
    "W = np.zeros(U.shape)\n",
    "\n",
    "# Definimos la función para graficar\n",
    "def grafica(xg, yg, z, elev, azim, roll):\n",
    "    ax = plt.axes(projection='3d')\n",
    "    ax.plot_surface(xg,yg,z, alpha=0.75, cmap='viridis')\n",
    "    ax.contour3D(xg, yg, z, 20, linewidths=1.0)\n",
    "    ax.quiver(xg, yg, z, U, V, W,length=0.5, colors='k', linewidths=0.5,normalize=True)\n",
    "    ax.set_xlabel('x')\n",
    "    ax.set_ylabel('y')\n",
    "    ax.view_init(elev, azim, roll)\n",
    "    \n",
    "# Definimos el interactivo\n",
    "widgets.interactive(grafica,\n",
    "                    xg = widgets.fixed(xg), yg = widgets.fixed(yg), z = widgets.fixed(z), \n",
    "                    elev = widgets.FloatSlider(min=0, max=180, value = 5, step=5),\n",
    "                    azim = widgets.FloatSlider(min=0, max=180, value = -30, step=5),\n",
    "                    roll = widgets.FloatSlider(min=0, max=180, value = -30, step=5))"
   ]
  },
  {
   "cell_type": "code",
   "execution_count": null,
   "id": "11f0f9ff-f562-4b9c-932b-5cdcfcfcdb81",
   "metadata": {},
   "outputs": [],
   "source": []
  }
 ],
 "metadata": {
  "kernelspec": {
   "display_name": "Python 3 (ipykernel)",
   "language": "python",
   "name": "python3"
  },
  "language_info": {
   "codemirror_mode": {
    "name": "ipython",
    "version": 3
   },
   "file_extension": ".py",
   "mimetype": "text/x-python",
   "name": "python",
   "nbconvert_exporter": "python",
   "pygments_lexer": "ipython3",
   "version": "3.11.6"
  }
 },
 "nbformat": 4,
 "nbformat_minor": 5
}
