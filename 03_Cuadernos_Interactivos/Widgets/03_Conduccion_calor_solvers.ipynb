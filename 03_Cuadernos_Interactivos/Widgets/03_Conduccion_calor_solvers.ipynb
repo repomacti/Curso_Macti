{
 "cells": [
  {
   "cell_type": "markdown",
   "id": "f6487842-9ff7-42ee-97ff-3d9a303fea6c",
   "metadata": {},
   "source": [
    " <p xmlns:cc=\"http://creativecommons.org/ns#\" xmlns:dct=\"http://purl.org/dc/terms/\"><a property=\"dct:title\" rel=\"cc:attributionURL\" href=\"https://github.com/repomacti/Curso_Macti/tree/main/03_Cuadernos_Interactivos/Widgets\">Ipywidgets</a>, Diseño de cursos interactivos con la plataforma Macti by <a rel=\"cc:attributionURL dct:creator\" property=\"cc:attributionName\" href=\"https://www.macti.unam.mx\">Luis M. de la Cruz</a> is licensed under <a href=\"http://creativecommons.org/licenses/by-sa/4.0/?ref=chooser-v1\" target=\"_blank\" rel=\"license noopener noreferrer\" style=\"display:inline-block;\">Attribution-ShareAlike 4.0 International<img style=\"height:22px!important;margin-left:3px;vertical-align:text-bottom;\" src=\"https://mirrors.creativecommons.org/presskit/icons/cc.svg?ref=chooser-v1\"><img style=\"height:22px!important;margin-left:3px;vertical-align:text-bottom;\" src=\"https://mirrors.creativecommons.org/presskit/icons/by.svg?ref=chooser-v1\"><img style=\"height:22px!important;margin-left:3px;vertical-align:text-bottom;\" src=\"https://mirrors.creativecommons.org/presskit/icons/sa.svg?ref=chooser-v1\"></a></p> "
   ]
  },
  {
   "cell_type": "code",
   "execution_count": 1,
   "id": "d5b6a890-ca10-44b8-9aa8-a1fceafd090d",
   "metadata": {
    "tags": []
   },
   "outputs": [],
   "source": [
    "from cond_calor_solvers import solucion\n",
    "from ipywidgets import interact, interactive, fixed, interact_manual\n",
    "import ipywidgets as widgets"
   ]
  },
  {
   "cell_type": "code",
   "execution_count": 2,
   "id": "f1ff83ab-964d-4dce-86a1-59cf6e1a40ac",
   "metadata": {
    "tags": []
   },
   "outputs": [
    {
     "data": {
      "application/vnd.jupyter.widget-view+json": {
       "model_id": "d8c2a4a8788941bbb3604c08275c2bf1",
       "version_major": 2,
       "version_minor": 0
      },
      "text/plain": [
       "VBox(children=(HBox(children=(Dropdown(description='Método', layout=Layout(height='auto', width='auto'), optio…"
      ]
     },
     "metadata": {},
     "output_type": "display_data"
    },
    {
     "data": {
      "application/vnd.jupyter.widget-view+json": {
       "model_id": "f5980dbf74c0420aacd107c493e0e6e7",
       "version_major": 2,
       "version_minor": 0
      },
      "text/plain": [
       "Output()"
      ]
     },
     "metadata": {},
     "output_type": "display_data"
    }
   ],
   "source": [
    "metodos = ['LU (linalg)', 'Jacobi', 'Gauss-Seidel', 'SOR', 'Steepest', 'CGM']\n",
    "\n",
    "w_metodo = widgets.Dropdown(\n",
    "    options=metodos, \n",
    "    description=\"Método\",\n",
    "    layout=widgets.Layout(height='auto', width='auto')\n",
    ")\n",
    "\n",
    "w_N = widgets.IntSlider(\n",
    "    min=5, max=18, step=1, value=3,\n",
    "    description='N',\n",
    "    layout=widgets.Layout(width='300px')\n",
    ")\n",
    "\n",
    "button = widgets.Button(\n",
    "    description=\"\", icon='play',\n",
    "    layout=widgets.Layout(width='50px')    \n",
    ")\n",
    "\n",
    "ui = widgets.VBox([widgets.HBox([w_metodo, w_N, button])])\n",
    "\n",
    "ui.layout = widgets.Layout(border='solid 1px black')\n",
    "ui.layout.width = '500px'\n",
    "\n",
    "output = widgets.Output()\n",
    "\n",
    "display(ui, output)\n",
    "\n",
    "def on_button_clicked(b):\n",
    "    output.clear_output(wait=True)\n",
    "    with output:\n",
    "        solucion(B = 100, T =0, L=34, R = 7, metodo = w_metodo.value, N = w_N.value)\n",
    "\n",
    "button.on_click(on_button_clicked)"
   ]
  },
  {
   "cell_type": "code",
   "execution_count": null,
   "id": "326be6d6-dc95-416e-b83b-a3d44398cbca",
   "metadata": {},
   "outputs": [],
   "source": []
  },
  {
   "cell_type": "code",
   "execution_count": null,
   "id": "ca354f8e-ae67-4e83-85ad-42e08109642f",
   "metadata": {},
   "outputs": [],
   "source": []
  }
 ],
 "metadata": {
  "kernelspec": {
   "display_name": "Python 3 (ipykernel)",
   "language": "python",
   "name": "python3"
  },
  "language_info": {
   "codemirror_mode": {
    "name": "ipython",
    "version": 3
   },
   "file_extension": ".py",
   "mimetype": "text/x-python",
   "name": "python",
   "nbconvert_exporter": "python",
   "pygments_lexer": "ipython3",
   "version": "3.11.6"
  }
 },
 "nbformat": 4,
 "nbformat_minor": 5
}
