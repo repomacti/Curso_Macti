{
  "cells": [
    {
      "cell_type": "markdown",
      "id": "33b938c8-a493-40f2-9993-9262527661ab",
      "metadata": {
        "id": "33b938c8-a493-40f2-9993-9262527661ab"
      },
      "source": [
        "# Evaluación\n",
        "\n",
        "<a href=\"https://github.com/luiggix/Python_cero_a_experto\">Python de cero a experto</a> by Luis M. de la Cruz Salas and Miguel Angel Pérez León is licensed under <a href=\"https://creativecommons.org/licenses/by-nc-nd/4.0?ref=chooser-v1\">Attribution-NonCommercial-NoDerivatives 4.0 International</a>"
      ]
    },
    {
      "cell_type": "markdown",
      "id": "f762b69a-7bef-445d-baf0-edd709dc9a98",
      "metadata": {
        "id": "f762b69a-7bef-445d-baf0-edd709dc9a98"
      },
      "source": [
        "# *NBGrader*\n",
        "\n",
        "**Objetivo general**\n",
        "- Conocer las ventajas de la bibliotecas de evaluación MACTI_lib y *NBGrader* y cómo usarlas para evaluar de manera automatizada los conocimientos.\n",
        "\n",
        "**Objetivos particulares**\n",
        "- Familiarizarse con la estructura y herramientas de MACTI_lin, asi como *NBGrader*.\n",
        "- Generar notebooks que puedan ser evaluados de manera automatizada.\n",
        "- Integrar la evaluación automatizada a los materiales generados de manera propia.\n"
      ]
    },
    {
      "cell_type": "markdown",
      "id": "698ef1ff-5f6b-4951-8a77-36dcca56e486",
      "metadata": {
        "id": "698ef1ff-5f6b-4951-8a77-36dcca56e486"
      },
      "source": [
        "## Introducción\n",
        "\n",
        "La labor de evaluar el conocimiento frecuentemente se convierte en una labor repetitiva y tediosa, sin embargo hoy en día existen herramientas que facilitan en gran media esta tarea. Tareas repetitivas como, descargar tareas o revisar el mismo código se facilitan mucho con estas herramientas."
      ]
    },
    {
      "cell_type": "markdown",
      "id": "1803a4a2-8f8a-40eb-918c-75d67fae7117",
      "metadata": {
        "id": "1803a4a2-8f8a-40eb-918c-75d67fae7117"
      },
      "source": [
        "## Biblioteca *macti_lib*\n",
        "\n",
        "La biblioteca *macti_lib* ha sido desarrollada dentro del marco del proyecto MACTI misma que ya se encuentra instalada en el servidor de MACTI y únicamente tenemos que importarla para hacer uso de ella, sin embargo vale la pena mencionar los siguientes detalles.\n",
        "\n",
        "Primero es necesario importar las bibliotecas necesarias, en particular la clase `FileAnswer`."
      ]
    },
    {
      "cell_type": "code",
      "execution_count": null,
      "id": "e5f6cbc7-872b-4682-afe2-ce63de9822cf",
      "metadata": {
        "editable": true,
        "tags": [],
        "id": "e5f6cbc7-872b-4682-afe2-ce63de9822cf"
      },
      "outputs": [],
      "source": [
        "import pandas as pd\n",
        "import numpy as np\n",
        "import sympy as sy\n",
        "\n",
        "from macti.evaluation import FileAnswer\n",
        "file_answer = FileAnswer()"
      ]
    },
    {
      "cell_type": "markdown",
      "id": "8d44c2ca-2dd8-41bc-9169-01f6da30a31b",
      "metadata": {
        "editable": true,
        "tags": [],
        "id": "8d44c2ca-2dd8-41bc-9169-01f6da30a31b"
      },
      "source": [
        "### Construcción de las respuestas\n",
        "\n",
        "Una vez que ya creamos un objeto de la clase `FileAnswer`, ya podemos comenzar a crear las respuestas.\n",
        "\n",
        "Imaginemos que ya tenemos un *notebook* en el cual las respuestas a algunos ejercicios son las que se definen a continuación."
      ]
    },
    {
      "cell_type": "code",
      "execution_count": null,
      "id": "e9fc27b3-bc75-4176-994e-27f4aefd6d04",
      "metadata": {
        "editable": true,
        "tags": [],
        "id": "e9fc27b3-bc75-4176-994e-27f4aefd6d04",
        "outputId": "d416089a-edb4-4403-91f1-843503109380"
      },
      "outputs": [
        {
          "name": "stdout",
          "output_type": "stream",
          "text": [
            "[ 1.  2.  3.  4.  5.  6.  7.  8.  9. 10.]\n"
          ]
        }
      ],
      "source": [
        "opcion = 'c'\n",
        "derivada = 'x**2'\n",
        "\n",
        "t = np.linspace(1,10,10)\n",
        "print(t)\n",
        "w = np.sin(t)\n",
        "\n",
        "matriz_np = np.array([[0.10, -1.],[0.30,-1.]] )\n",
        "array_np = np.array([-200, 20])\n",
        "\n",
        "flotante = 0.0\n",
        "entero = 1\n",
        "complejo = 1 + 5j\n",
        "logico = True\n",
        "\n",
        "lista_num = [0, 1, 3.4]\n",
        "tupla_num = (1.2, 3.1416, np.pi)\n",
        "conjunto_num = {3, 5, 6, 2, 9,8}\n",
        "\n",
        "lista = ['luis', 'miguel', 'delacruz']\n",
        "tupla = ('a', 'b', 'c')\n",
        "conjunto = {'a', 'b', 'c'}\n",
        "diccionario = {'k1':3.446, 'k2':5.6423, 'k3':2.234324}\n",
        "array_no_num = np.array(['a', 'x', 'w'])\n",
        "\n",
        "x = sy.Symbol('x')\n",
        "y = sy.Symbol('y')\n",
        "A, B, C = matriz_np, array_np, flotante\n",
        "forma_cuadratica = 0.5 * A[0,0] * x**2 + 0.5 * A[1,1] * y**2 + 0.5 * (A[0,1]+A[1,0])* x * y - B[0] * x - B[1] * y + C"
      ]
    },
    {
      "cell_type": "markdown",
      "id": "68c650cc-e0a4-4618-8cfd-3214015dff0d",
      "metadata": {
        "editable": true,
        "tags": [],
        "id": "68c650cc-e0a4-4618-8cfd-3214015dff0d"
      },
      "source": [
        "### Almacenamiento de las respuestas\n",
        "\n",
        "Ya con las respuestas creadas, lo siguiente es hacer uso del método `write`, para guardar las respuestas dentro del objeto `file_answer`. El método `write` nos pide indicar el número (carater en general), la respuesta y una ayuda en texto.\n",
        "\n",
        "Veamos la siguiente celda."
      ]
    },
    {
      "cell_type": "code",
      "execution_count": null,
      "id": "34460d0d-e66d-4f72-b42b-f863bad75a13",
      "metadata": {
        "editable": true,
        "tags": [],
        "id": "34460d0d-e66d-4f72-b42b-f863bad75a13",
        "outputId": "f7230b9d-73b6-449a-b073-98e9163f2326"
      },
      "outputs": [
        {
          "name": "stdout",
          "output_type": "stream",
          "text": [
            "El directorio :/home/jovyan/TallerMACTI/.ans/Evaluacion/ ya existe\n",
            "Respuestas y retroalimentación almacenadas.\n"
          ]
        }
      ],
      "source": [
        "file_answer.write('1', opcion, 'Las opciones válidas son ...')\n",
        "file_answer.write('2', derivada, 'Checa las reglas de derivación')\n",
        "\n",
        "file_answer.write('3a', t, 'Deberías checar ...')\n",
        "\n",
        "mensaje =\"\"\"Puedes poner mucho texto y ver que sucede en la impresión del hint,\n",
        "quizá es necesario usar triples comillas\"\"\"\n",
        "file_answer.write('3b', w, mensaje)\n",
        "\n",
        "file_answer.write('4', matriz_np, 'Checa las entradas de la matriz A')\n",
        "file_answer.write('5', array_np, 'Checa las entradas del vector B')\n",
        "\n",
        "file_answer.write('6', flotante, 'Checa el valor de flotante')\n",
        "file_answer.write('7', entero, 'Checa el valor de entero')\n",
        "file_answer.write('8', complejo, 'Checa el valor de complejo')\n",
        "file_answer.write('9', logico, 'Checa  logico')\n",
        "\n",
        "file_answer.write('10', lista_num, 'Checa la lista numérica')\n",
        "file_answer.write('11', tupla_num, 'Checa la tupla numérica')\n",
        "file_answer.write('12', conjunto_num, 'No es posible usar conjuntos numéricos')\n",
        "\n",
        "file_answer.write('13', lista, 'Checa la lista')\n",
        "file_answer.write('14', tupla, 'Checa la tupla')\n",
        "file_answer.write('15', conjunto, 'Checa la conjunto')\n",
        "file_answer.write('16', diccionario, 'Checa la diccionario')\n",
        "file_answer.write('17', array_no_num, 'Checa el nd.array')\n",
        "\n",
        "file_answer.write('18', str(forma_cuadratica),'Revisa tus operaciones algebráicas para calcular f(x)')\n",
        "file_answer.to_file('1')"
      ]
    },
    {
      "cell_type": "markdown",
      "id": "f97d543a-a685-440c-aa32-b4f18bea17f6",
      "metadata": {
        "id": "f97d543a-a685-440c-aa32-b4f18bea17f6"
      },
      "source": [
        "Finalmente el método `to_file` con el parámetro '1', **almacena en la ruta mostrada** las respuestas generadas para este *notebook*. Vale la pena mencionar que el parámetro que recibe este método nos permite indicar a que bloque pertenecen estas respuestas, ya que puede haber más de un bloque por *notebook*\n",
        "\n",
        "También es posible cambiar la *verbosidad* de las respuestas, es decir, que tanta ayuda vamos a dar cuando la respuesta sea incorrecta."
      ]
    },
    {
      "cell_type": "code",
      "execution_count": null,
      "id": "91e224eb-cf57-480c-9e07-7eae95f80873",
      "metadata": {
        "id": "91e224eb-cf57-480c-9e07-7eae95f80873",
        "outputId": "e1c10a22-370a-48dd-dde5-3bc8c7b86284"
      },
      "outputs": [
        {
          "name": "stdout",
          "output_type": "stream",
          "text": [
            "El directorio :/home/jovyan/TallerMACTI/.ans/Evaluacion/ ya existe\n",
            "Respuestas y retroalimentación almacenadas.\n"
          ]
        }
      ],
      "source": [
        "# Cambiando la verbosidad de la retroalimentación\n",
        "file_answer.verb = 2 # (Default) se da toda la retroalimentación posible.\n",
        "#file_answer.verb = 1 # Se proporciona poca ayuda.\n",
        "#file_answer.verb = 0 # No se da nada de ayuda\n",
        "file_answer.to_file('1') # Se debe escribir el archivo nuevamente."
      ]
    },
    {
      "cell_type": "markdown",
      "id": "0eafe447-05fd-457d-8f40-5d9494d3ea60",
      "metadata": {
        "editable": true,
        "tags": [],
        "id": "0eafe447-05fd-457d-8f40-5d9494d3ea60"
      },
      "source": [
        "### Evaluación de las respuestas\n",
        "\n",
        "Una vez almacenadas las respuestas, lo siguiente es hacer uso de la clase `Quizz` para evaluar las respuestas.\n",
        "\n",
        "La clase `Quizz`, recibe como parámetros, el bloque de respuestas, el nombre del tema (en este caso TallerMACTI) y finalmente `local` nos sirve para indicar que las respuestas se van a buscar en la ruta local del usuario, este parámetro nos permite realizar pruebas y una vez que el *notebook* se encuentre en su versión final, para ser liberada, es necesario eliminar este parámetro."
      ]
    },
    {
      "cell_type": "code",
      "execution_count": null,
      "id": "44f739e6-2692-4b8c-8317-1a793e80a0e3",
      "metadata": {
        "editable": true,
        "tags": [],
        "id": "44f739e6-2692-4b8c-8317-1a793e80a0e3"
      },
      "outputs": [],
      "source": [
        "from macti.evaluation import *\n",
        "\n",
        "# Usamos un objeto de la clase Quizz para evaluar las respuestas\n",
        "# El primer parámetro debe ser igual al parámetro usado en file_answer.to_file()\n",
        "quizz = Quizz('1', 'TallerMACTI', 'local')"
      ]
    },
    {
      "cell_type": "markdown",
      "id": "37074239-8448-423f-9197-be081dade5f2",
      "metadata": {
        "editable": true,
        "tags": [],
        "id": "37074239-8448-423f-9197-be081dade5f2"
      },
      "source": [
        "#### Pregunta 1. `eval_option()`\n",
        "\n",
        "Esta función nos permite evaluar una opción, por ejemplo un caracter."
      ]
    },
    {
      "cell_type": "code",
      "execution_count": null,
      "id": "5e53cb86-445f-4fd1-bd2e-122530621dfe",
      "metadata": {
        "editable": true,
        "tags": [],
        "id": "5e53cb86-445f-4fd1-bd2e-122530621dfe",
        "outputId": "c6901093-28e8-4ba6-fc7a-bd1960706d67"
      },
      "outputs": [
        {
          "name": "stdout",
          "output_type": "stream",
          "text": [
            "\u001b[39m----------------------------------------\n",
            "\u001b[32mTu respuesta: \u001b[39mC\u001b[32m, es correcta.\n",
            "\u001b[39m----------------------------------------\n"
          ]
        }
      ],
      "source": [
        "quizz.eval_option('1', 'C')"
      ]
    },
    {
      "cell_type": "code",
      "execution_count": null,
      "id": "ede3f924-3944-4602-a4b8-c88915b26e5b",
      "metadata": {
        "id": "ede3f924-3944-4602-a4b8-c88915b26e5b"
      },
      "outputs": [],
      "source": [
        "# Respuesta incorrecta\n",
        "#quizz.eval_option('1', 'a')"
      ]
    },
    {
      "cell_type": "markdown",
      "id": "d5079031-5d34-4cef-afa1-54f92d34dce0",
      "metadata": {
        "id": "d5079031-5d34-4cef-afa1-54f92d34dce0"
      },
      "source": [
        "#### Pregunta 2. `eval_expression()`\n",
        "\n",
        "Podémos evaluar una expresión usando `SymPy`."
      ]
    },
    {
      "cell_type": "markdown",
      "id": "d93d3ae1-cd47-4453-a3e7-acdfdc6640b7",
      "metadata": {
        "editable": true,
        "tags": [],
        "id": "d93d3ae1-cd47-4453-a3e7-acdfdc6640b7"
      },
      "source": [
        "¿Cuál es la derivada de $f(x) = \\frac{x^3}{3}$?"
      ]
    },
    {
      "cell_type": "code",
      "execution_count": null,
      "id": "8d59342a-bdc7-4d05-a301-e69cf1b5649e",
      "metadata": {
        "editable": true,
        "tags": [],
        "id": "8d59342a-bdc7-4d05-a301-e69cf1b5649e",
        "outputId": "c9bee1fc-7313-4b47-fa31-d68b942b790c"
      },
      "outputs": [
        {
          "name": "stdout",
          "output_type": "stream",
          "text": [
            "\u001b[39m----------------------------------------\n",
            "\u001b[32mTu respuesta:\n"
          ]
        },
        {
          "data": {
            "text/latex": [
              "$\\displaystyle x^{2}$"
            ],
            "text/plain": [
              "x**2"
            ]
          },
          "metadata": {},
          "output_type": "display_data"
        },
        {
          "name": "stdout",
          "output_type": "stream",
          "text": [
            "\u001b[32mes correcta.\n",
            "\u001b[39m----------------------------------------\n"
          ]
        }
      ],
      "source": [
        "x = sy.Symbol('x')\n",
        "resultado = x**2\n",
        "quizz.eval_expression('2', resultado)"
      ]
    },
    {
      "cell_type": "code",
      "execution_count": null,
      "id": "9208d7ab-9d76-4b1b-b55b-aed0634efed0",
      "metadata": {
        "id": "9208d7ab-9d76-4b1b-b55b-aed0634efed0"
      },
      "outputs": [],
      "source": [
        "# Respuesta incorrecta\n",
        "#x = sy.Symbol('x')\n",
        "#resultado = x**3\n",
        "#quizz.eval_expression('2', resultado)"
      ]
    },
    {
      "cell_type": "markdown",
      "id": "e9adf163-7d01-4da8-b908-5f3db75949f2",
      "metadata": {
        "id": "e9adf163-7d01-4da8-b908-5f3db75949f2"
      },
      "source": [
        "#### Pregunta 3a. `eval_numeric()` (arreglo)\n",
        "\n",
        "Frecuentemente es necesario evaluar un arreglo y la función `eval_numeric()` nos permite hacer esto."
      ]
    },
    {
      "cell_type": "code",
      "execution_count": null,
      "id": "7b707a25-436d-4151-9f0e-7edf724821fc",
      "metadata": {
        "editable": true,
        "tags": [],
        "id": "7b707a25-436d-4151-9f0e-7edf724821fc",
        "outputId": "702f9101-7b16-41b4-c26a-b7dd5a6753bf"
      },
      "outputs": [
        {
          "name": "stdout",
          "output_type": "stream",
          "text": [
            "\u001b[39m----------------------------------------\n",
            "\u001b[32mTu resultado es correcto.\n",
            "\u001b[39m----------------------------------------\n"
          ]
        }
      ],
      "source": [
        "quizz.eval_numeric('3a', t)"
      ]
    },
    {
      "cell_type": "code",
      "execution_count": null,
      "id": "9ffe1759-2f0f-4848-8ee8-fb59af2501ba",
      "metadata": {
        "id": "9ffe1759-2f0f-4848-8ee8-fb59af2501ba"
      },
      "outputs": [],
      "source": [
        "# Respuesta incorrecta\n",
        "#quizz.eval_numeric('3a', t * 0.3)"
      ]
    },
    {
      "cell_type": "markdown",
      "id": "15a0328c-21a3-4fdd-8a39-ae4c7c282174",
      "metadata": {
        "id": "15a0328c-21a3-4fdd-8a39-ae4c7c282174"
      },
      "source": [
        "#### Pregunta 3b. `eval_numeric()` (arreglo)"
      ]
    },
    {
      "cell_type": "code",
      "execution_count": null,
      "id": "89047e4d-2a7f-4559-8d02-7a4afa500f79",
      "metadata": {
        "editable": true,
        "tags": [],
        "id": "89047e4d-2a7f-4559-8d02-7a4afa500f79",
        "outputId": "e845d1f5-2c10-4b69-9c45-ba6fed211693"
      },
      "outputs": [
        {
          "name": "stdout",
          "output_type": "stream",
          "text": [
            "\u001b[39m----------------------------------------\n",
            "\u001b[32mTu resultado es correcto.\n",
            "\u001b[39m----------------------------------------\n"
          ]
        }
      ],
      "source": [
        "quizz.eval_numeric('3b', w)"
      ]
    },
    {
      "cell_type": "code",
      "execution_count": null,
      "id": "a6c98edb-25a9-4db6-8db3-fd069d313dd7",
      "metadata": {
        "id": "a6c98edb-25a9-4db6-8db3-fd069d313dd7"
      },
      "outputs": [],
      "source": [
        "# Respuesta incorrecta\n",
        "#quizz.eval_numeric('3b', w * 2.0)"
      ]
    },
    {
      "cell_type": "markdown",
      "id": "68d317b9-96a6-4c56-99bd-d4e793c7d22a",
      "metadata": {
        "id": "68d317b9-96a6-4c56-99bd-d4e793c7d22a"
      },
      "source": [
        "#### Pregunta 4. `eval_numeric()` (matriz)\n",
        "\n",
        "También es posible evaluar matrices."
      ]
    },
    {
      "cell_type": "code",
      "execution_count": null,
      "id": "eb87f8ba-0e8e-43a8-889f-3766c21b68d5",
      "metadata": {
        "editable": true,
        "tags": [],
        "id": "eb87f8ba-0e8e-43a8-889f-3766c21b68d5",
        "outputId": "0fc16344-8d93-4d6c-a621-2455f16b13ec"
      },
      "outputs": [
        {
          "name": "stdout",
          "output_type": "stream",
          "text": [
            "\u001b[39m----------------------------------------\n",
            "\u001b[32mTu resultado es correcto.\n",
            "\u001b[39m----------------------------------------\n"
          ]
        }
      ],
      "source": [
        "quizz.eval_numeric('4', matriz_np)"
      ]
    },
    {
      "cell_type": "code",
      "execution_count": null,
      "id": "fe50941d-a7dc-44a2-959d-330af7b549f1",
      "metadata": {
        "id": "fe50941d-a7dc-44a2-959d-330af7b549f1"
      },
      "outputs": [],
      "source": [
        "# Respuesta incorrecta\n",
        "#quizz.eval_numeric('4', np.array([[1,2],[3,4]]))"
      ]
    },
    {
      "cell_type": "markdown",
      "id": "955e81da-d885-4bf3-820e-24e607b551c8",
      "metadata": {
        "id": "955e81da-d885-4bf3-820e-24e607b551c8"
      },
      "source": [
        "#### Pregunta 5. `eval_numeric()` (arreglo)"
      ]
    },
    {
      "cell_type": "code",
      "execution_count": null,
      "id": "c82508ba-b67a-417c-80de-6bf39b9ee9c9",
      "metadata": {
        "editable": true,
        "tags": [],
        "id": "c82508ba-b67a-417c-80de-6bf39b9ee9c9",
        "outputId": "1d47f263-2b8f-4849-e150-fa226e22c627"
      },
      "outputs": [
        {
          "name": "stdout",
          "output_type": "stream",
          "text": [
            "\u001b[39m----------------------------------------\n",
            "\u001b[32mTu resultado es correcto.\n",
            "\u001b[39m----------------------------------------\n"
          ]
        }
      ],
      "source": [
        "quizz.eval_numeric('5', array_np)"
      ]
    },
    {
      "cell_type": "code",
      "execution_count": null,
      "id": "ff16bf36-4752-4e9a-a827-6ea0feadd976",
      "metadata": {
        "id": "ff16bf36-4752-4e9a-a827-6ea0feadd976"
      },
      "outputs": [],
      "source": [
        "# Respuesta incorrecta\n",
        "#quizz.eval_numeric('5', array_np*0.1)"
      ]
    },
    {
      "cell_type": "markdown",
      "id": "479abb93-56ad-409a-90f8-a757ea15d5b4",
      "metadata": {
        "id": "479abb93-56ad-409a-90f8-a757ea15d5b4"
      },
      "source": [
        "#### Pregunta 6. `eval_numeric()` (flotante)"
      ]
    },
    {
      "cell_type": "code",
      "execution_count": null,
      "id": "20b1358c-e528-4396-b195-99b884e8f99c",
      "metadata": {
        "editable": true,
        "tags": [],
        "id": "20b1358c-e528-4396-b195-99b884e8f99c",
        "outputId": "644ecb86-1dab-4b5c-d8b8-6a466856e12b"
      },
      "outputs": [
        {
          "name": "stdout",
          "output_type": "stream",
          "text": [
            "\u001b[39m----------------------------------------\n",
            "\u001b[32mTu resultado es correcto.\n",
            "\u001b[39m----------------------------------------\n"
          ]
        }
      ],
      "source": [
        "quizz.eval_numeric('6', flotante)"
      ]
    },
    {
      "cell_type": "code",
      "execution_count": null,
      "id": "32dc76f6-4128-4ab2-bdb9-3bf27caa14bd",
      "metadata": {
        "id": "32dc76f6-4128-4ab2-bdb9-3bf27caa14bd"
      },
      "outputs": [],
      "source": [
        "# Respuesta incorrecta\n",
        "#quizz.eval_numeric('6', 3.1516)"
      ]
    },
    {
      "cell_type": "markdown",
      "id": "56bd4af3-9344-4e6e-af3c-3da91f792b65",
      "metadata": {
        "id": "56bd4af3-9344-4e6e-af3c-3da91f792b65"
      },
      "source": [
        "#### Pregunta 7. `eval_numeric()` (entero)"
      ]
    },
    {
      "cell_type": "code",
      "execution_count": null,
      "id": "6115956f-9c41-4bdc-a7c3-b0dbb71309da",
      "metadata": {
        "tags": [],
        "id": "6115956f-9c41-4bdc-a7c3-b0dbb71309da",
        "outputId": "85adaea6-754c-4954-a8e7-9c6fd00495d2"
      },
      "outputs": [
        {
          "name": "stdout",
          "output_type": "stream",
          "text": [
            "\u001b[39m----------------------------------------\n",
            "\u001b[32mTu resultado es correcto.\n",
            "\u001b[39m----------------------------------------\n"
          ]
        }
      ],
      "source": [
        "quizz.eval_numeric('7', entero)"
      ]
    },
    {
      "cell_type": "code",
      "execution_count": null,
      "id": "6d82405f-567a-422e-a727-fb1d3933dd08",
      "metadata": {
        "id": "6d82405f-567a-422e-a727-fb1d3933dd08"
      },
      "outputs": [],
      "source": [
        "# Respuesta incorrecta\n",
        "#quizz.eval_numeric('7', 1000)"
      ]
    },
    {
      "cell_type": "markdown",
      "id": "fb1c29d8-06f5-455a-bb2d-f3f4fdc5e1d8",
      "metadata": {
        "id": "fb1c29d8-06f5-455a-bb2d-f3f4fdc5e1d8"
      },
      "source": [
        "#### Pregunta 8. `eval_numeric()` (complejo)"
      ]
    },
    {
      "cell_type": "code",
      "execution_count": null,
      "id": "dad036af-0af1-4e14-8d96-c8006b4439d7",
      "metadata": {
        "id": "dad036af-0af1-4e14-8d96-c8006b4439d7",
        "outputId": "fdd0b64f-900f-4f4c-b464-922bc7ccb1a9"
      },
      "outputs": [
        {
          "name": "stdout",
          "output_type": "stream",
          "text": [
            "\u001b[39m----------------------------------------\n",
            "\u001b[32mTu resultado es correcto.\n",
            "\u001b[39m----------------------------------------\n"
          ]
        }
      ],
      "source": [
        "quizz.eval_numeric('8', complejo)"
      ]
    },
    {
      "cell_type": "code",
      "execution_count": null,
      "id": "bd45fd4d-2c89-4ee1-a4fc-49e137b7b5d7",
      "metadata": {
        "id": "bd45fd4d-2c89-4ee1-a4fc-49e137b7b5d7"
      },
      "outputs": [],
      "source": [
        "# Respuesta incorrecta\n",
        "#quizz.eval_numeric('8', complejo*2)"
      ]
    },
    {
      "cell_type": "markdown",
      "id": "de56e881-22ea-4199-a7f6-0f8c5efa2603",
      "metadata": {
        "id": "de56e881-22ea-4199-a7f6-0f8c5efa2603"
      },
      "source": [
        "#### Pregunta 9. `eval_numeric()` (lógico)"
      ]
    },
    {
      "cell_type": "code",
      "execution_count": null,
      "id": "97d1e32a-ac82-484c-a414-c51adbc90cdf",
      "metadata": {
        "id": "97d1e32a-ac82-484c-a414-c51adbc90cdf",
        "outputId": "a88f85ee-6c51-4ed1-8da2-1d65517e818a"
      },
      "outputs": [
        {
          "name": "stdout",
          "output_type": "stream",
          "text": [
            "\u001b[39m----------------------------------------\n",
            "\u001b[32mTu resultado es correcto.\n",
            "\u001b[39m----------------------------------------\n"
          ]
        }
      ],
      "source": [
        "quizz.eval_numeric('9', logico)"
      ]
    },
    {
      "cell_type": "code",
      "execution_count": null,
      "id": "0339b00a-53c8-4bd7-906e-8fe6665890ea",
      "metadata": {
        "id": "0339b00a-53c8-4bd7-906e-8fe6665890ea"
      },
      "outputs": [],
      "source": [
        "# Respuesta incorrecta\n",
        "#quizz.eval_numeric('9', False)"
      ]
    },
    {
      "cell_type": "markdown",
      "id": "f92c35eb-ee41-4812-b8fa-224126ca0f92",
      "metadata": {
        "id": "f92c35eb-ee41-4812-b8fa-224126ca0f92"
      },
      "source": [
        "#### Pregunta 10. `eval_numeric()` (lista numérica)"
      ]
    },
    {
      "cell_type": "code",
      "execution_count": null,
      "id": "5ed8a093-11c4-4144-97af-d20a51ac839b",
      "metadata": {
        "id": "5ed8a093-11c4-4144-97af-d20a51ac839b",
        "outputId": "d138ed1c-717f-4138-f1b6-1b676e05531d"
      },
      "outputs": [
        {
          "name": "stdout",
          "output_type": "stream",
          "text": [
            "\u001b[39m----------------------------------------\n",
            "\u001b[32mTu resultado es correcto.\n",
            "\u001b[39m----------------------------------------\n"
          ]
        }
      ],
      "source": [
        "quizz.eval_numeric('10', lista_num)"
      ]
    },
    {
      "cell_type": "code",
      "execution_count": null,
      "id": "f335ed70-e939-4f08-8523-ccc3ad278de8",
      "metadata": {
        "id": "f335ed70-e939-4f08-8523-ccc3ad278de8"
      },
      "outputs": [],
      "source": [
        "# Respuesta incorrecta\n",
        "#quizz.eval_numeric('10', [3, 4, 5])"
      ]
    },
    {
      "cell_type": "markdown",
      "id": "285a78de-b4f4-4c6c-bb18-f96d06a7d866",
      "metadata": {
        "editable": true,
        "tags": [],
        "id": "285a78de-b4f4-4c6c-bb18-f96d06a7d866"
      },
      "source": [
        "#### Pregunta 11. `eval_numeric()` (tupla numérica)"
      ]
    },
    {
      "cell_type": "code",
      "execution_count": null,
      "id": "f791b32b-8ff6-43ce-a676-0925d771ac6f",
      "metadata": {
        "editable": true,
        "tags": [],
        "id": "f791b32b-8ff6-43ce-a676-0925d771ac6f",
        "outputId": "b53767fc-baab-4c49-ca57-9d0a8df2a16b"
      },
      "outputs": [
        {
          "name": "stdout",
          "output_type": "stream",
          "text": [
            "\u001b[39m----------------------------------------\n",
            "\u001b[32mTu resultado es correcto.\n",
            "\u001b[39m----------------------------------------\n"
          ]
        }
      ],
      "source": [
        "quizz.eval_numeric('11', tupla_num)"
      ]
    },
    {
      "cell_type": "code",
      "execution_count": null,
      "id": "c449b563-1b64-4685-ad5d-7d4b56f903be",
      "metadata": {
        "editable": true,
        "tags": [],
        "id": "c449b563-1b64-4685-ad5d-7d4b56f903be"
      },
      "outputs": [],
      "source": [
        "# Respuesta incorrecta\n",
        "#quizz.eval_numeric('11', (8, 6, 7))"
      ]
    },
    {
      "cell_type": "markdown",
      "id": "320327b0-7598-4c6b-8ff9-494c2449878f",
      "metadata": {
        "id": "320327b0-7598-4c6b-8ff9-494c2449878f"
      },
      "source": [
        "## Pregunta 13. `eval_datastruct()` (lista)\n",
        "\n",
        "También es posible evaluar estructuras de datos, por ejemplo una lista.\n",
        "\n",
        "**Ojo**: nos saltamos el índice 12, no es necesario que estén todos los números en secuencia para los ejercicios."
      ]
    },
    {
      "cell_type": "code",
      "execution_count": null,
      "id": "76098022-7e62-472a-918c-f9bc68aa008d",
      "metadata": {
        "id": "76098022-7e62-472a-918c-f9bc68aa008d",
        "outputId": "0b7ad03c-5095-4853-ad76-cb0dba472d7f"
      },
      "outputs": [
        {
          "name": "stdout",
          "output_type": "stream",
          "text": [
            "\u001b[39m----------------------------------------\n",
            "\u001b[32mTu resultado es correcto.\n",
            "\u001b[39m----------------------------------------\n"
          ]
        }
      ],
      "source": [
        "quizz.eval_datastruct('13', lista)"
      ]
    },
    {
      "cell_type": "code",
      "execution_count": null,
      "id": "be86d0b0-63df-40b0-84d1-57319c1fb0bf",
      "metadata": {
        "id": "be86d0b0-63df-40b0-84d1-57319c1fb0bf",
        "outputId": "57e8c193-6bc1-4992-b077-8a9f6f1eddc6"
      },
      "outputs": [
        {
          "name": "stdout",
          "output_type": "stream",
          "text": [
            "['luis', 'miguel', 'delacruz']\n",
            "\u001b[39m----------------------------------------\n",
            "\u001b[32mTu resultado es correcto.\n",
            "\u001b[39m----------------------------------------\n"
          ]
        }
      ],
      "source": [
        "# La lista puede estar en desorden\n",
        "print(lista)\n",
        "quizz.eval_datastruct('13', ['delacruz', 'luis', 'miguel'])"
      ]
    },
    {
      "cell_type": "code",
      "execution_count": null,
      "id": "4508e27b-762d-446d-8269-11d80186168b",
      "metadata": {
        "id": "4508e27b-762d-446d-8269-11d80186168b"
      },
      "outputs": [],
      "source": [
        "# Respuesta incorrecta\n",
        "#print(lista)\n",
        "#quizz.eval_datastruct('13', ['delacruz', 'miguel'])"
      ]
    },
    {
      "cell_type": "markdown",
      "id": "101e46d0-c9a0-4879-8299-701cd3fb6b9a",
      "metadata": {
        "id": "101e46d0-c9a0-4879-8299-701cd3fb6b9a"
      },
      "source": [
        "## Pregunta 14. `eval_datastruct()` (lista)"
      ]
    },
    {
      "cell_type": "code",
      "execution_count": null,
      "id": "98301d4a-5c3d-41f6-b377-df49aacff9c2",
      "metadata": {
        "editable": true,
        "tags": [],
        "id": "98301d4a-5c3d-41f6-b377-df49aacff9c2",
        "outputId": "b46654e8-b56f-4459-fef5-5d432ee4eed1"
      },
      "outputs": [
        {
          "name": "stdout",
          "output_type": "stream",
          "text": [
            "\u001b[39m----------------------------------------\n",
            "\u001b[32mTu resultado es correcto.\n",
            "\u001b[39m----------------------------------------\n"
          ]
        }
      ],
      "source": [
        "quizz.eval_datastruct('14', tupla)"
      ]
    },
    {
      "cell_type": "code",
      "execution_count": null,
      "id": "e561f0d1-ff56-4766-b16b-1d8f4b94be7a",
      "metadata": {
        "id": "e561f0d1-ff56-4766-b16b-1d8f4b94be7a",
        "outputId": "f967765d-7483-4d1c-92d7-ad164351f38c"
      },
      "outputs": [
        {
          "name": "stdout",
          "output_type": "stream",
          "text": [
            "('a', 'b', 'c')\n",
            "\u001b[39m----------------------------------------\n",
            "\u001b[32mTu resultado es correcto.\n",
            "\u001b[39m----------------------------------------\n"
          ]
        }
      ],
      "source": [
        "# La tupla puede estar en desorden\n",
        "print(tupla)\n",
        "quizz.eval_datastruct('14', ('c', 'b', 'a'))"
      ]
    },
    {
      "cell_type": "code",
      "execution_count": null,
      "id": "848e0b9d-f0c1-4828-b4a4-7c5c96bdceac",
      "metadata": {
        "id": "848e0b9d-f0c1-4828-b4a4-7c5c96bdceac"
      },
      "outputs": [],
      "source": [
        "# Respuesta incorrecta\n",
        "#print(tupla)\n",
        "#quizz.eval_datastruct('14', ('c', 'b', 'd'))"
      ]
    },
    {
      "cell_type": "markdown",
      "id": "bc27fbf8-6f13-4fc3-a705-13a3daf0aa38",
      "metadata": {
        "id": "bc27fbf8-6f13-4fc3-a705-13a3daf0aa38"
      },
      "source": [
        "## Pregunta 15. `eval_datastruct()` (conjunto)"
      ]
    },
    {
      "cell_type": "code",
      "execution_count": null,
      "id": "d4886a3f-d371-4ebc-b552-585bf45eaea5",
      "metadata": {
        "id": "d4886a3f-d371-4ebc-b552-585bf45eaea5",
        "outputId": "8748efb8-3f9d-4319-f09a-e17348293c4d"
      },
      "outputs": [
        {
          "name": "stdout",
          "output_type": "stream",
          "text": [
            "\u001b[39m----------------------------------------\n",
            "\u001b[32mTu resultado es correcto.\n",
            "\u001b[39m----------------------------------------\n"
          ]
        }
      ],
      "source": [
        "quizz.eval_datastruct('15', conjunto)"
      ]
    },
    {
      "cell_type": "code",
      "execution_count": null,
      "id": "6a103039-b08d-4a87-95d3-0b2257310d33",
      "metadata": {
        "id": "6a103039-b08d-4a87-95d3-0b2257310d33",
        "outputId": "af12dcfe-9d03-47a3-c22b-7aac17aa95fa"
      },
      "outputs": [
        {
          "name": "stdout",
          "output_type": "stream",
          "text": [
            "{'b', 'c', 'a'}\n",
            "\u001b[39m----------------------------------------\n",
            "\u001b[32mTu resultado es correcto.\n",
            "\u001b[39m----------------------------------------\n"
          ]
        }
      ],
      "source": [
        "# En un conjunto no importa el orden\n",
        "print(conjunto)\n",
        "quizz.eval_datastruct('15', {'c', 'b', 'a'})"
      ]
    },
    {
      "cell_type": "code",
      "execution_count": null,
      "id": "d07c6c58-8dde-4ac1-ae05-f9629beffec7",
      "metadata": {
        "id": "d07c6c58-8dde-4ac1-ae05-f9629beffec7"
      },
      "outputs": [],
      "source": [
        "# Respuesta incorrecta\n",
        "#print(conjunto)\n",
        "#quizz.eval_datastruct('15', {'c', 'b', 'a', 'd'})"
      ]
    },
    {
      "cell_type": "markdown",
      "id": "0b37faed-1796-45e9-a55e-4be84dff408c",
      "metadata": {
        "id": "0b37faed-1796-45e9-a55e-4be84dff408c"
      },
      "source": [
        "## Pregunta 16. `eval_datastruct()` (diccionario)"
      ]
    },
    {
      "cell_type": "code",
      "execution_count": null,
      "id": "a7579213-cbe6-48f8-b8a5-91fed3ce9354",
      "metadata": {
        "id": "a7579213-cbe6-48f8-b8a5-91fed3ce9354",
        "outputId": "3bf5e027-2839-46f1-d883-5d62e17ef1cf"
      },
      "outputs": [
        {
          "name": "stdout",
          "output_type": "stream",
          "text": [
            "\u001b[39m----------------------------------------\n",
            "\u001b[32mTu resultado es correcto.\n",
            "\u001b[39m----------------------------------------\n"
          ]
        }
      ],
      "source": [
        "quizz.eval_datastruct('16', diccionario)"
      ]
    },
    {
      "cell_type": "code",
      "execution_count": null,
      "id": "ae7c7ee6-a853-436f-88cb-c49220f4968c",
      "metadata": {
        "id": "ae7c7ee6-a853-436f-88cb-c49220f4968c"
      },
      "outputs": [],
      "source": [
        "# Respuesta incorrecta\n",
        "# En esta versión un diccionario necesariamente debe estar en orden\n",
        "#print(diccionario)\n",
        "#quizz.eval_datastruct('16', {'k1':3.446,  'k3':2.234324, 'k2':5.6423})"
      ]
    },
    {
      "cell_type": "code",
      "execution_count": null,
      "id": "51abf1d8-8c48-4aa4-b835-6d83ef22f292",
      "metadata": {
        "id": "51abf1d8-8c48-4aa4-b835-6d83ef22f292"
      },
      "outputs": [],
      "source": [
        "# Respuesta incorrecta\n",
        "#print(diccionario)\n",
        "#quizz.eval_datastruct('16', {'k1':3.446,  'k2':5.6423, 'k4':2.234324, })"
      ]
    },
    {
      "cell_type": "markdown",
      "id": "0ff4657d-2632-4c00-8cf5-7db53fbfce74",
      "metadata": {
        "id": "0ff4657d-2632-4c00-8cf5-7db53fbfce74"
      },
      "source": [
        "## Pregunta 17. `eval_datastruct()` (nd.array no numérico)"
      ]
    },
    {
      "cell_type": "code",
      "execution_count": null,
      "id": "1d0ae00e-2067-481e-898c-539f793b6499",
      "metadata": {
        "id": "1d0ae00e-2067-481e-898c-539f793b6499",
        "outputId": "f5375c93-ec58-4833-baaa-3d1d1e0d2301"
      },
      "outputs": [
        {
          "name": "stdout",
          "output_type": "stream",
          "text": [
            "\u001b[39m----------------------------------------\n",
            "\u001b[32mTu resultado es correcto.\n",
            "\u001b[39m----------------------------------------\n"
          ]
        }
      ],
      "source": [
        "quizz.eval_datastruct('17', array_no_num)"
      ]
    },
    {
      "cell_type": "code",
      "execution_count": null,
      "id": "721a712f-48a4-46bd-94c4-8d97512bfe02",
      "metadata": {
        "id": "721a712f-48a4-46bd-94c4-8d97512bfe02",
        "outputId": "ae39a35b-9131-4e75-fbc8-9b9ba5256bff"
      },
      "outputs": [
        {
          "name": "stdout",
          "output_type": "stream",
          "text": [
            "['a' 'x' 'w']\n",
            "\u001b[39m----------------------------------------\n",
            "\u001b[32mTu resultado es correcto.\n",
            "\u001b[39m----------------------------------------\n"
          ]
        }
      ],
      "source": [
        "# El arreglo puede estar en desorden\n",
        "print(array_no_num)\n",
        "quizz.eval_datastruct('17', np.array(['x', 'a', 'w']))"
      ]
    },
    {
      "cell_type": "code",
      "execution_count": null,
      "id": "e629e751-03db-4433-a6e4-0739ce12c80b",
      "metadata": {
        "id": "e629e751-03db-4433-a6e4-0739ce12c80b"
      },
      "outputs": [],
      "source": [
        "# Respuesta incorrecta\n",
        "#print(array_no_num)\n",
        "#quizz.eval_datastruct('17', np.array(['x', 'z', 'w']))"
      ]
    },
    {
      "cell_type": "markdown",
      "id": "61d888e8-0fde-4687-b896-e1bf0db2ab2d",
      "metadata": {
        "id": "61d888e8-0fde-4687-b896-e1bf0db2ab2d"
      },
      "source": [
        "## Pregunta 18. `eval_expression()`\n",
        "**Forma cuadrática**\n",
        "\n",
        "$$ f(\\mathbf{x}) = \\dfrac{1}{2} \\mathbf{x}^T A \\mathbf{x} - \\mathbf{b}^T \\mathbf{x} + c $$\n",
        "\n",
        "Usando los valores de $A$, $B$ y $C$ calcula la forma de $f(\\mathbf{x})$"
      ]
    },
    {
      "cell_type": "code",
      "execution_count": null,
      "id": "e176ae33-2a4b-4cb6-b24d-daf789b18390",
      "metadata": {
        "id": "e176ae33-2a4b-4cb6-b24d-daf789b18390"
      },
      "outputs": [],
      "source": [
        "# Construimos la forma cuadrática\n",
        "x = sy.Symbol('x')\n",
        "y = sy.Symbol('y')\n",
        "A, B, C = matriz_np, array_np, flotante\n",
        "mi_respuesta = 0.5 * A[0,0] * x**2 + 0.5 * A[1,1] * y**2 + 0.5 * (A[0,1]+A[1,0])* x * y - B[0] * x - B[1] * y + C"
      ]
    },
    {
      "cell_type": "code",
      "execution_count": null,
      "id": "bcb8a5a5-5f30-4e48-9026-b06f3ad9e018",
      "metadata": {
        "id": "bcb8a5a5-5f30-4e48-9026-b06f3ad9e018",
        "outputId": "2f66449d-848d-4ce9-f243-80809f900a50"
      },
      "outputs": [
        {
          "name": "stdout",
          "output_type": "stream",
          "text": [
            "0.05*x**2 - 0.35*x*y + 200*x - 0.5*y**2 - 20*y\n",
            "0.05*x**2 - 0.35*x*y + 200*x - 0.5*y**2 - 20*y\n"
          ]
        },
        {
          "data": {
            "text/latex": [
              "$\\displaystyle 0.05 x^{2} - 0.35 x y + 200 x - 0.5 y^{2} - 20 y$"
            ],
            "text/plain": [
              "0.05*x**2 - 0.35*x*y + 200*x - 0.5*y**2 - 20*y"
            ]
          },
          "metadata": {},
          "output_type": "display_data"
        },
        {
          "data": {
            "text/latex": [
              "$\\displaystyle 0.05 x^{2} - 0.35 x y + 200 x - 0.5 y^{2} - 20 y$"
            ],
            "text/plain": [
              "0.05*x**2 - 0.35*x*y + 200*x - 0.5*y**2 - 20*y"
            ]
          },
          "metadata": {},
          "output_type": "display_data"
        }
      ],
      "source": [
        "print(forma_cuadratica)\n",
        "print(mi_respuesta)\n",
        "display(forma_cuadratica)\n",
        "display(mi_respuesta)"
      ]
    },
    {
      "cell_type": "code",
      "execution_count": null,
      "id": "a4b18966-de87-44da-bfee-1c19114edb6b",
      "metadata": {
        "editable": true,
        "tags": [],
        "id": "a4b18966-de87-44da-bfee-1c19114edb6b",
        "outputId": "ed763cf2-40d3-4cfe-f382-8c15328eb645"
      },
      "outputs": [
        {
          "name": "stdout",
          "output_type": "stream",
          "text": [
            "\u001b[39m----------------------------------------\n",
            "\u001b[32mTu respuesta:\n"
          ]
        },
        {
          "data": {
            "text/latex": [
              "$\\displaystyle 0.05 x^{2} - 0.35 x y + 200 x - 0.5 y^{2} - 20 y$"
            ],
            "text/plain": [
              "0.05*x**2 - 0.35*x*y + 200*x - 0.5*y**2 - 20*y"
            ]
          },
          "metadata": {},
          "output_type": "display_data"
        },
        {
          "name": "stdout",
          "output_type": "stream",
          "text": [
            "\u001b[32mes correcta.\n",
            "\u001b[39m----------------------------------------\n"
          ]
        }
      ],
      "source": [
        "quizz.eval_expression('18', mi_respuesta)"
      ]
    },
    {
      "cell_type": "code",
      "execution_count": null,
      "id": "77caacb5-dd01-4e3f-a52f-4940f439a06e",
      "metadata": {
        "id": "77caacb5-dd01-4e3f-a52f-4940f439a06e"
      },
      "outputs": [],
      "source": [
        "# Respuesta incorrecta\n",
        "#otra_respuesta = 0.25 * A[0,0] * x**2 + 0.5 * A[1,1] * y**2 + 0.5 * (A[0,1]+A[1,0])* x * y - B[0] * x - B[1] * y + C\n",
        "#quizz.eval_expression('18', otra_respuesta)"
      ]
    },
    {
      "cell_type": "markdown",
      "id": "0e81be9e-4529-4f55-8c8a-b6a07e3964d3",
      "metadata": {
        "id": "0e81be9e-4529-4f55-8c8a-b6a07e3964d3"
      },
      "source": [
        "## *NBGrader*\n",
        "\n",
        "*NBGrader* es una biblioteca que nos permite automatizar y organizar de mejor manera la evaluación de los conocimientos generados mediante notebooks.\n",
        "\n",
        "En general podemos decir que *NBGrader* es un conjunto de herramientas escritas para el lenguaje *Python* que nos permiten automatizar la evaluación de los contenidos. De manera práctica *NBGrader* agrega elementos al proyecto *Jupyter Notebook* para aligerar la tarea de evaluar a los alumnos.\n",
        "\n",
        "En este <a href=\"https://youtu.be/5WUm0QuJdFw\">link</a> puedes ver un video muy completo sobre el proyecto *NBGrader* y como se usa."
      ]
    },
    {
      "cell_type": "markdown",
      "id": "e3dc9816-e553-4225-b713-c6c91b18c3cd",
      "metadata": {
        "id": "e3dc9816-e553-4225-b713-c6c91b18c3cd"
      },
      "source": [
        "### Estructura *NBGrader*\n",
        "\n",
        "Una de las primeras cosas de que tenemos que aprender de *NBGrader* es que para evaluar los *notebooks*, vamos a tener 2 versiones del mismo, una de ellas es la versión del profesor (está contiene las preguntas y respuestas) y la versión del estudiante (esta contiene las preguntas sin las respuestas).\n",
        "\n",
        "Para comenzar con el desarrollo de materiales haciendo uso de *NBGrader* es necesario familiarizarse con 3 elementos básicos de la herramienta:\n",
        "\n",
        "- 1 - *Formgrader*: es un nuevo elemento en la *GUI* de *Jupyter Notebook* que nos permite generar notebooks que serán evaluados de manera automatizada.\n",
        "- 2 - *source*: es el folder donde se almacena la versión del profesor.\n",
        "- 3 - *release*: es el folder donde se almacena la versión del estudiante.\n",
        "\n",
        "Para que se genere el folder *source* (y posteriormente release) es necesario crear un *assignment*, un *assignment* es un *notebook* que queremos que sea evaluado y para crearlo es necesario seleccionar *Formgrader*.\n",
        "\n",
        "Posteriormente es necesario seleccionar *Add new asignment*\n",
        "\n",
        "Le podemos dar cualquier nombre al *asignment* aunque se recomienda un nombre que facilite identificar de qué se trata el material dentro del *asignment*. En este caso le vamos a dar el nombre *Prueba* y una vez creado el *asignment* el resto es tan sencillo como crear un *notebook* tradicional."
      ]
    },
    {
      "cell_type": "markdown",
      "id": "be2fa3b5-209d-44f7-805b-e8ffbed88252",
      "metadata": {
        "id": "be2fa3b5-209d-44f7-805b-e8ffbed88252"
      },
      "source": [
        "### Tipo de celdas *NBGrader*\n",
        "\n",
        "*NBGrader* agrega nuevos tipos de celdas (además de las ya conocidas), mediante las cuales podemos tener más control y sobretodo estas nuevas celdas son las que nos permiten automatizar la evaluación, estas son:\n",
        "\n",
        "- *readonly*: permite deshabilitar la edición de las celdas, se usa principalmente para celdas de texto.\n",
        "- *manually graded answer*: son celdas que serán evaluadas de manera manual.\n",
        "- *manually graded task*: son celdas que serán evaluadas de manera manual y que formarán parte de la evaluación total del curso.\n",
        "- *auto graded answer*: son celdas que contienen los elementos a evaluar y qué *NBGrader* identifica para eliminar el código necesario.\n",
        "- *auto graded test*: son celdas que serán evaluadas de manera AUTOMATICA y que le permiten a alumno saber si acerto o tuvo errores y que no pueden ser modificadas por el alumno.\n"
      ]
    },
    {
      "cell_type": "markdown",
      "id": "699aa914-61ee-41d7-ba30-4a4cdad0f7b4",
      "metadata": {
        "id": "699aa914-61ee-41d7-ba30-4a4cdad0f7b4"
      },
      "source": [
        "### Evaluación automatizada de celdas\n",
        "\n",
        "Ya que tenemos la estructura necesaria y acceso a todas las herramientas de evaluación lo siguiente que necesitamos es identificar el conocimiento que deseamos evaluar y cómo lo vamos a hacer.\n",
        "\n",
        "Para este ejemplo sencillo vamos a generar una celda de evaluación automatizada (*auto graded answer*) y dejaremos que *NBGrader* se encargue de la evaluación.\n",
        "\n",
        "**Importante:** *NBGrader* permite automatizar y organizar de manera más completa el proceso de evaluación del conocimiento, pero por motivos de alcance del taller no las veremos. Se recomienda revisar el video mencionado en la parte inicial para más detalle.\n",
        "\n",
        "Los siguientes pasos para la evaluación los podemos definir de la siguiente manera:\n",
        "\n",
        "- **Identificar el conocimiento a evaluar**: puede ser desde un simple cálculo numérico (cálculo de un área, operación aritmética, etc.) hasta un procedimiento más complejo como puede ser un método numérico o un algoritmo más sofisticado.\n",
        "- **Escribir el código asociado a la evaluación**: para poder evaluar el conocimiento, es necesario tener la respuesta, por lo que es necesario escribir el código completo (versión del profesor) dentro de una o más celdas a evaluar.\n",
        "- **Seleccionar la sección que debe responder el alumno**: partiendo del código escrito en el paso previo, ahora es necesario seleccionar la parte del mismo que va a ser eliminada por *NBGrader* y que debe completar el alumno.\n",
        "- **Contrastar la respuesta correcta contra la del alumno**: existen varias formas de llevar a cabo este paso, pero uno de los más sencillos es usar alguna herramienta (por ejemplo `macti_lib`).\n",
        "- **Dejar que *NBGrader* elimine las secciones**: ya que sabemos cuales son las secciones a evaluar, *NBGRader* las sustituye por un mensaje de error para que el alumno lo complete."
      ]
    },
    {
      "cell_type": "markdown",
      "id": "184a310d-d94f-43b0-846c-5624e8622808",
      "metadata": {
        "id": "184a310d-d94f-43b0-846c-5624e8622808"
      },
      "source": [
        "### **Ejemplo 1 - Evaluación automatizada**\n",
        "\n",
        "Para este ejemplo sencillo, vamos a pedirle al alumno que complete la función `area_cuadrado(lado)`, misma que va a recibir la longitud del lado como parámetro y debe devolver el área del cuadrado.\n",
        "\n",
        "Una vez que generamos un *notebook* llamado \"Evaluacion\", dentro del *assignment* \"Prueba\" dentro del mismo vamos a agregar la (o las) celda a evaluar.\n",
        "\n",
        "Lo primero que debemos notar es que la plantilla (estructura de la prueba) ya fue definida por el profesor, es decir que la definición de la función y algunos elementos del código ya fueron definidos y eso permite restringir los posibles errores o confusiones de parte del alumno.\n",
        "\n",
        "Por otro lado, la sección que debe definir el alumno se encuentra en una celda de tipo *autograded answer* y la celda que se encarga de la evaluación se encuentra en una celda de tipo *autograded test*.\n",
        "\n",
        "Además es importante notar que la sección que debe completar (y que posteriormente será eliminada por *NBGrader*) debe estar acotada por los comentarios `#BEGIN SOLUTION` y `#END SOLUTION`.\n",
        "\n",
        "Ya que tenemos la versión del profesor de este *notebook* (\"Evaluacion\") la cual contiene todos los elementos necesarios y validamos que la prueba funciona de manera correcta, lo siguiente es que *NBGrader* se encargue de generar la versión del estudiante que no contiene las respuestas.\n",
        "\n",
        "Para hacer esto es necesario volver a la sección *Formgrader* y ubicar el *assignment* en cuestión (que en este caso es \"Prueba\"), en esta parte vamos a ver un par de íconos relevantes, pero el que nos interesa en este momento es el ícono del birrete que se encuentra sobre la columna *Generate*.\n",
        "\n",
        "Al presionar este ícono *NBGrader* lleva a cabo ciertas validaciones y en caso de pasarlas se muestra un mensaje indicando que la versión del estudiante se generó de manera correcta, la cual podemos visualizar con el ícono *preview*.\n",
        "\n",
        "En caso de tener que modificar la versión del profesor podemos dar click en el ícono *Edit* y eso nos permite realizar las modificaciones necesarias.\n",
        "\n",
        "Por último es importante notar que la versión del profesor (versión completa) de este *notebook* se encuentra en la ruta *source/Prueba/Evaluacion* y la versión del estudiante se encuentra en la ruta *release/Prueba/Evaluacion*, es importante notar que ambas versiones (profesor y estudiante) de este *notebook* tienen el mismo nombre pero son versiones distintas, por lo que una vez que vayan a ser distribuidos es buena idea renombrarlos para poder identificarlos de manera más sencilla.\n"
      ]
    }
  ],
  "metadata": {
    "kernelspec": {
      "display_name": "Python 3 (ipykernel)",
      "language": "python",
      "name": "python3"
    },
    "language_info": {
      "codemirror_mode": {
        "name": "ipython",
        "version": 3
      },
      "file_extension": ".py",
      "mimetype": "text/x-python",
      "name": "python",
      "nbconvert_exporter": "python",
      "pygments_lexer": "ipython3",
      "version": "3.11.6"
    },
    "colab": {
      "provenance": [],
      "toc_visible": true
    }
  },
  "nbformat": 4,
  "nbformat_minor": 5
}